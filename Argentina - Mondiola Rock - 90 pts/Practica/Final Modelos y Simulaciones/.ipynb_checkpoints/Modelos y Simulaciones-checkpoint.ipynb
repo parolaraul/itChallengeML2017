{
 "cells": [
  {
   "cell_type": "markdown",
   "metadata": {},
   "source": [
    "# Generador Unix\n",
    "Utilizando el generador UNIX de números aleatorios, pero con los coeficientes del generador Visual Basic, programe una serie de 60 números aleatorios en hoja de cálculo, verificando que, a igual semilla corresponde igual serie.\n",
    "Utilice como “Blanco” una serie del mismo tamaño generada con una macro en Visual Basic for Apps con la misma semilla (NOTA: las series no darán los mismos valores, aunque usen la misma semilla porque los algoritmos son diferentes)\n",
    "\n",
    "\n",
    "- 1) Demuestre que con semillas aleatorias esa serie no se repite.\n",
    "- 2) Utilizando la prueba de Chi cuadrado demuestre que se trata de una serie uniforme\n",
    "- 3) Haga las dos pruebas anteriores para la serie “VBA”\n",
    "- 4) Conclusiones\n",
    "\n",
    "_Obtener conclusiones, por ejemplo, calcular el promedio y la desviación estándar de ambas\n",
    "muestras y hacer análisis de varianza para determinar si las medias son iguales o no._\n",
    "\n",
    "Datos para construir el generador: \n",
    "- m = 2^24\n",
    "- a = 1140671485 \n",
    "- b = 12820163"
   ]
  },
  {
   "cell_type": "code",
   "execution_count": 1,
   "metadata": {
    "collapsed": false
   },
   "outputs": [],
   "source": [
    "import numpy as np\n",
    "from scipy.stats import chi2\n",
    "from random import randint\n",
    "import matplotlib.pyplot as plt\n",
    "from scipy.stats import norm\n",
    "\n",
    "np.set_printoptions(formatter={'float': lambda x: \"{0:0.20f}\".format(x)})\n",
    "\n",
    "a = 1140671485\n",
    "b = 12820163\n",
    "m = 2**24\n",
    "\n",
    "def semillar(X,tantos):\n",
    "    semillas = np.random.rand(X, tantos)\n",
    "    semillas.dtype = np.float64\n",
    "    r = np.zeros((X, tantos))\n",
    "    r.dtype = np.float64\n",
    "    for j in range(0,tantos):\n",
    "        oldSeed = np.random.randint(0,m)\n",
    "        for i in range(0,X):\n",
    "            newSeed = (a*oldSeed+b) % m\n",
    "            oldSeed = newSeed\n",
    "            semillas[i,j] = newSeed\n",
    "            r[i,j] = semillas[i,j] / m\n",
    "    return r\n",
    "\n",
    "def agrupar(N,Q):\n",
    "    g = np.zeros((N,Q.shape[1]))\n",
    "    incremento = 1.0/np.float64(N)\n",
    "    for i in range(0,ensayos):\n",
    "        for j in range(0,serie):\n",
    "            aux = 0\n",
    "            for k in range(0,N):\n",
    "                aux += incremento\n",
    "                if Q[j,i] <= aux and Q[j,i] > (aux-incremento):\n",
    "                    g[k,i] += 1\n",
    "    return g\n",
    "\n",
    "def chiCuadrado(r):\n",
    "    chi = np.zeros((divIn,r.shape[1]))\n",
    "    FE = (serie/np.float64(divIn))\n",
    "    for i in range(0,r.shape[1]):\n",
    "        for j in range(0,divIn):\n",
    "            chi[j,i] = ((FE-r[j,i])**2)/FE\n",
    "    return chi.sum(0)"
   ]
  },
  {
   "cell_type": "markdown",
   "metadata": {},
   "source": [
    "# El programa"
   ]
  },
  {
   "cell_type": "code",
   "execution_count": 2,
   "metadata": {
    "collapsed": false
   },
   "outputs": [],
   "source": [
    "serie = 60\n",
    "ensayos = 5000\n",
    "resultados = semillar(serie,ensayos)\n",
    "' divIn = np.int(np.sqrt(serie).round()) '\n",
    "divIn = 10\n",
    "grupos = agrupar(divIn,resultados)"
   ]
  },
  {
   "cell_type": "markdown",
   "metadata": {},
   "source": [
    "# Pruebas\n",
    "## Medias"
   ]
  },
  {
   "cell_type": "code",
   "execution_count": 3,
   "metadata": {
    "collapsed": false,
    "scrolled": true
   },
   "outputs": [
    {
     "name": "stdout",
     "output_type": "stream",
     "text": [
      "Media: 0.499477482328\n",
      "Error: 0.00052251767238\n"
     ]
    }
   ],
   "source": [
    "av = resultados.mean(0).mean()\n",
    "print 'Media:',av\n",
    "print 'Error:', (0.5-av)"
   ]
  },
  {
   "cell_type": "markdown",
   "metadata": {},
   "source": [
    "## Evaluar Varianza y Desviacion"
   ]
  },
  {
   "cell_type": "code",
   "execution_count": 4,
   "metadata": {
    "collapsed": false
   },
   "outputs": [
    {
     "name": "stdout",
     "output_type": "stream",
     "text": [
      "Varianza media: 0.0823097661098\n",
      "Desviacion media: 0.286396815645\n"
     ]
    }
   ],
   "source": [
    "print 'Varianza media:',resultados.var(0).mean()\n",
    "print 'Desviacion media:',resultados.std(0).mean()"
   ]
  },
  {
   "cell_type": "markdown",
   "metadata": {},
   "source": [
    "## Evaluar Chi\n",
    "La prueba Chi-Cuadrada en lugar de medir la diferencia de cada punto entre la muestra y la desviación verdadera, checa la desviación del valor esperado.\n",
    "\n",
    "    n\n",
    "X2 =∑ (Oi−Ei)^2/Ei\n",
    "\n",
    "    i \n",
    "\n",
    "Donde n es el número de intervalos de clase (ejemplo: Oi es el número observado en la clase i, y Ei es el número esperado en cada clase i , y n es el número de clases. Para una distribución uniforme, Ei , el número en cada clase esta dado por;\n",
    "\n",
    "* Ei = N / n\n",
    "\n",
    "_Para clases igualmente espaciadas, donde N es el número total de observaciones. Puede ser mostrado que la distribución de la muestra Chi-Cuadrada esta aproximadamente a la distribución Chi-Cuadrada con n-1 grados de libertad._\n"
   ]
  },
  {
   "cell_type": "code",
   "execution_count": 10,
   "metadata": {
    "collapsed": false,
    "scrolled": true
   },
   "outputs": [
    {
     "name": "stdout",
     "output_type": "stream",
     "text": [
      "Chi2 Observado | Inverso de Chi2\n",
      "   9.02727    |    9.079153118 \n",
      "\n",
      "Confianza(%): 0.43\n",
      "Grados de Libertad: 9\n"
     ]
    }
   ],
   "source": [
    "p=0.43\n",
    "gradosDeLibertad = divIn-1\n",
    "print 'Chi2 Observado | Inverso de Chi2'\n",
    "print '   {0:0.05f}    |    {1:0.09f} '.format(chiCuadrado(grupos).mean(),chi2.ppf(1-p, gradosDeLibertad))\n",
    "print'\\nConfianza(%):',p\n",
    "print 'Grados de Libertad:',gradosDeLibertad"
   ]
  },
  {
   "cell_type": "markdown",
   "metadata": {},
   "source": [
    "**Debido a que X2calculada < que el valor de X2(0.05,9) de la tabla, la hipótesis Nula de que no existe diferencia entre la distribución de la muestra y la distribución uniforme se Acepta.**"
   ]
  },
  {
   "cell_type": "code",
   "execution_count": 17,
   "metadata": {
    "collapsed": false,
    "scrolled": true
   },
   "outputs": [
    {
     "data": {
      "image/png": "[encoded data removed]",
      "text/plain": [
       "<matplotlib.figure.Figure at 0x11a6fd710>"
      ]
     },
     "metadata": {},
     "output_type": "display_data"
    }
   ],
   "source": [
    "x = np.linspace(0, serie, serie)\n",
    "obtenido = resultados[:,np.random.randint(0,ensayos)]*serie\n",
    "fig,ax = plt.subplots(1,1)\n",
    "obtenido.sort()\n",
    "\n",
    "linestyles = ['--', '-.']\n",
    "deg_of_freedom = divIn-1\n",
    "comparar = [obtenido,x]\n",
    "for comp, ls in zip(comparar, linestyles):\n",
    "  ax.plot(comp, chi2.pdf(comp, deg_of_freedom), linestyle=ls, label=r'$df=%i$' % deg_of_freedom)\n",
    "\n",
    "plt.xlim(0, serie)\n",
    "plt.ylim(0, 0.15)\n",
    "\n",
    "plt.xlabel('$\\chi^2$')\n",
    "plt.ylabel(r'$f(\\chi^2)$')\n",
    "plt.title(r'$\\chi^2\\ \\mathrm{Distribution}$')\n",
    "\n",
    "plt.legend()\n",
    "plt.show()"
   ]
  },
  {
   "cell_type": "code",
   "execution_count": 12,
   "metadata": {
    "collapsed": false,
    "scrolled": false
   },
   "outputs": [
    {
     "data": {
      "image/png": "[encoded data removed]",
      "text/plain": [
       "<matplotlib.figure.Figure at 0x11a11e6d0>"
      ]
     },
     "metadata": {},
     "output_type": "display_data"
    }
   ],
   "source": [
    "import matplotlib.mlab as mlab\n",
    "import matplotlib.pyplot as plt\n",
    "\n",
    "mediaDeGrupos = grupos[:,:].mean(axis=1)\n",
    "\n",
    "plt.hist(resultados[:,np.random.randint(0,ensayos)])\n",
    "\n",
    "mm = serie*ensayos\n",
    "\n",
    "plt.plot(np.repeat(6,serie), linewidth=2)\n",
    "plt.xlabel('Cantidad')\n",
    "plt.ylabel('Grupos')\n",
    "plt.title('Histograma')\n",
    "plt.axis([0, 1, 0, 12])\n",
    "plt.grid(True)\n",
    "\n",
    "plt.show()"
   ]
  },
  {
   "cell_type": "code",
   "execution_count": 15,
   "metadata": {
    "collapsed": false
   },
   "outputs": [
    {
     "data": {
      "image/png": "[encoded data removed]",
      "text/plain": [
       "<matplotlib.figure.Figure at 0x11a383c50>"
      ]
     },
     "metadata": {},
     "output_type": "display_data"
    }
   ],
   "source": [
    "plt.plot(mediaDeGrupos,'ro')\n",
    "plt.plot(np.repeat(6,divIn), linewidth=2, color='red')\n",
    "plt.show()"
   ]
  },
  {
   "cell_type": "markdown",
   "metadata": {},
   "source": [
    "## EXPORTAR"
   ]
  },
  {
   "cell_type": "code",
   "execution_count": 10,
   "metadata": {
    "collapsed": false
   },
   "outputs": [],
   "source": [
    "import pandas as pd \n",
    "df = pd.DataFrame(resultados)\n",
    "df.to_csv(\"exportarPython.csv\",sep=';',header=None)"
   ]
  },
  {
   "cell_type": "code",
   "execution_count": null,
   "metadata": {
    "collapsed": true
   },
   "outputs": [],
   "source": []
  }
 ],
 "metadata": {
  "kernelspec": {
   "display_name": "Python 2",
   "language": "python",
   "name": "python2"
  },
  "language_info": {
   "codemirror_mode": {
    "name": "ipython",
    "version": 2
   },
   "file_extension": ".py",
   "mimetype": "text/x-python",
   "name": "python",
   "nbconvert_exporter": "python",
   "pygments_lexer": "ipython2",
   "version": "2.7.13"
  }
 },
 "nbformat": 4,
 "nbformat_minor": 2
}
