{
 "cells": [
  {
   "cell_type": "code",
   "execution_count": 1,
   "metadata": {
    "collapsed": true
   },
   "outputs": [],
   "source": [
    "import numpy as np\n",
    "import matplotlib.pyplot as plt\n",
    "import matplotlib as mpl\n",
    "import mpld3\n",
    "%matplotlib inline\n",
    "mpld3.enable_notebook()"
   ]
  },
  {
   "cell_type": "markdown",
   "metadata": {},
   "source": [
    "## Ejercicio 1"
   ]
  },
  {
   "cell_type": "markdown",
   "metadata": {},
   "source": [
    "Sobre una cinta transportadora circulan naranjas y melones. Se busca obtener un clasificador de frutas que facilite su almacenamiento. Para cada fruta, se conoce su diámetro en centímetros y la intensidad de color naranja medida (entre 0% y 100%). Se recabaron las siguientes muestras como ejemplos de cada tipo de fruta:\n",
    "\n",
    "$$\n",
    "\\begin{array}{|c|c|c|}\n",
    "\\hline Diámetro & Intensidad & Tipo \\\\\n",
    "\\hline 10 & 75\\% & Naranja \\\\\n",
    "\\hline  8 & 60\\% & Naranja \\\\\n",
    "\\hline  7 & 67\\% & Naranja \\\\\n",
    "\\hline 15 & 95\\% & Naranja \\\\\n",
    "\\hline 20 & 11\\% & Melón \\\\\n",
    "\\hline 26 & 13\\% & Melón \\\\\n",
    "\\hline 24 & 12.5\\% & Melón \\\\\n",
    "\\hline 19 & 12\\% & Melón \\\\\n",
    "\\hline \n",
    "\\end{array}\n",
    "$$\n",
    "\n",
    "Entrene un perceptrón que permita resolver el problema."
   ]
  },
  {
   "cell_type": "code",
   "execution_count": 6,
   "metadata": {
    "collapsed": false
   },
   "outputs": [
    {
     "name": "stdout",
     "output_type": "stream",
     "text": [
      "Entrenando:\n",
      "\n",
      "\n",
      "Entrenamiento finalizado en 2 iteraciones.\n",
      "W: [-36.  51.]\n",
      "b: -1.0\n",
      "T: [1 1 1 1 0 0 0 0]\n",
      "y: [1 1 1 1 0 0 0 0]\n"
     ]
    },
    {
     "data": {
      "image/png": "[encoded data removed]",
      "text/html": [
       "\n",
       "\n",
       "<style>\n",
       "\n",
       "</style>\n",
       "\n",
       "<div id=\"fig_el455344099221687635524427\"></div>\n",
       "<script>\n",
       "function mpld3_load_lib(url, callback){\n",
       "  var s = document.createElement('script');\n",
       "  s.src = url;\n",
       "  s.async = true;\n",
       "  s.onreadystatechange = s.onload = callback;\n",
       "  s.onerror = function(){console.warn(\"failed to load library \" + url);};\n",
       "  document.getElementsByTagName(\"head\")[0].appendChild(s);\n",
       "}\n",
       "\n",
       "if(typeof(mpld3) !== \"undefined\" && mpld3._mpld3IsLoaded){\n",
       "   // already loaded: just create the figure\n",
       "   !function(mpld3){\n",
       "       \n",
       "       mpld3.draw_figure(\"fig_el455344099221687635524427\", {\"width\": 480.0, \"data\": {\"data03\": [[5.1, 3.619607843137255], [27.9, 19.71372549019608]], \"data02\": [[10.0, 75.0], [8.0, 60.0], [7.0, 167.0], [15.0, 95.0]], \"data01\": [[20.0, 11.0], [26.0, 13.0], [24.0, 12.5], [19.0, 12.0]]}, \"axes\": [{\"axesbgalpha\": null, \"bbox\": [0.125, 0.125, 0.775, 0.775], \"images\": [], \"paths\": [], \"ydomain\": [-4.600000000000001, 182.6], \"markers\": [{\"yindex\": 1, \"edgecolor\": \"#000000\", \"data\": \"data01\", \"coordinates\": \"data\", \"facecolor\": \"#0000FF\", \"alpha\": 1, \"markerpath\": [[[0.0, 3.0], [0.7956093000000001, 3.0], [1.5587396123545605, 2.683901074764725], [2.121320343559643, 2.121320343559643], [2.683901074764725, 1.5587396123545605], [3.0, 0.7956093000000001], [3.0, 0.0], [3.0, -0.7956093000000001], [2.683901074764725, -1.5587396123545605], [2.121320343559643, -2.121320343559643], [1.5587396123545605, -2.683901074764725], [0.7956093000000001, -3.0], [0.0, -3.0], [-0.7956093000000001, -3.0], [-1.5587396123545605, -2.683901074764725], [-2.121320343559643, -2.121320343559643], [-2.683901074764725, -1.5587396123545605], [-3.0, -0.7956093000000001], [-3.0, 0.0], [-3.0, 0.7956093000000001], [-2.683901074764725, 1.5587396123545605], [-2.121320343559643, 2.121320343559643], [-1.5587396123545605, 2.683901074764725], [-0.7956093000000001, 3.0], [0.0, 3.0]], [\"M\", \"C\", \"C\", \"C\", \"C\", \"C\", \"C\", \"C\", \"C\", \"Z\"]], \"xindex\": 0, \"id\": \"el45534412506008pts\", \"edgewidth\": 0.5, \"zorder\": 2}, {\"yindex\": 1, \"edgecolor\": \"#000000\", \"data\": \"data02\", \"coordinates\": \"data\", \"facecolor\": \"#007F00\", \"alpha\": 1, \"markerpath\": [[[0.0, 3.0], [0.7956093000000001, 3.0], [1.5587396123545605, 2.683901074764725], [2.121320343559643, 2.121320343559643], [2.683901074764725, 1.5587396123545605], [3.0, 0.7956093000000001], [3.0, 0.0], [3.0, -0.7956093000000001], [2.683901074764725, -1.5587396123545605], [2.121320343559643, -2.121320343559643], [1.5587396123545605, -2.683901074764725], [0.7956093000000001, -3.0], [0.0, -3.0], [-0.7956093000000001, -3.0], [-1.5587396123545605, -2.683901074764725], [-2.121320343559643, -2.121320343559643], [-2.683901074764725, -1.5587396123545605], [-3.0, -0.7956093000000001], [-3.0, 0.0], [-3.0, 0.7956093000000001], [-2.683901074764725, 1.5587396123545605], [-2.121320343559643, 2.121320343559643], [-1.5587396123545605, 2.683901074764725], [-0.7956093000000001, 3.0], [0.0, 3.0]], [\"M\", \"C\", \"C\", \"C\", \"C\", \"C\", \"C\", \"C\", \"C\", \"Z\"]], \"xindex\": 0, \"id\": \"el45534412532776pts\", \"edgewidth\": 0.5, \"zorder\": 2}], \"sharey\": [], \"sharex\": [], \"xscale\": \"linear\", \"xdomain\": [5.1, 27.9], \"lines\": [{\"yindex\": 1, \"dasharray\": \"6,6\", \"color\": \"#FF0000\", \"data\": \"data03\", \"coordinates\": \"data\", \"alpha\": 1, \"linewidth\": 1.0, \"xindex\": 0, \"id\": \"el45534412505896\", \"zorder\": 2}], \"xlim\": [5.1, 27.9], \"yscale\": \"linear\", \"collections\": [], \"ylim\": [-4.600000000000001, 182.6], \"zoomable\": true, \"id\": \"el45534409971880\", \"axesbg\": \"#FFFFFF\", \"axes\": [{\"position\": \"bottom\", \"tickvalues\": null, \"tickformat\": null, \"grid\": {\"gridOn\": false}, \"scale\": \"linear\", \"fontsize\": 10.0, \"nticks\": 6}, {\"position\": \"left\", \"tickvalues\": null, \"tickformat\": null, \"grid\": {\"gridOn\": false}, \"scale\": \"linear\", \"fontsize\": 10.0, \"nticks\": 6}], \"texts\": []}], \"height\": 320.0, \"id\": \"el45534409922168\", \"plugins\": [{\"type\": \"reset\"}, {\"type\": \"zoom\", \"enabled\": false, \"button\": true}, {\"type\": \"boxzoom\", \"enabled\": false, \"button\": true}]});\n",
       "   }(mpld3);\n",
       "}else if(typeof define === \"function\" && define.amd){\n",
       "   // require.js is available: use it to load d3/mpld3\n",
       "   require.config({paths: {d3: \"https://mpld3.github.io/js/d3.v3.min\"}});\n",
       "   require([\"d3\"], function(d3){\n",
       "      window.d3 = d3;\n",
       "      mpld3_load_lib(\"https://mpld3.github.io/js/mpld3.v0.2.js\", function(){\n",
       "         \n",
       "         mpld3.draw_figure(\"fig_el455344099221687635524427\", {\"width\": 480.0, \"data\": {\"data03\": [[5.1, 3.619607843137255], [27.9, 19.71372549019608]], \"data02\": [[10.0, 75.0], [8.0, 60.0], [7.0, 167.0], [15.0, 95.0]], \"data01\": [[20.0, 11.0], [26.0, 13.0], [24.0, 12.5], [19.0, 12.0]]}, \"axes\": [{\"axesbgalpha\": null, \"bbox\": [0.125, 0.125, 0.775, 0.775], \"images\": [], \"paths\": [], \"ydomain\": [-4.600000000000001, 182.6], \"markers\": [{\"yindex\": 1, \"edgecolor\": \"#000000\", \"data\": \"data01\", \"coordinates\": \"data\", \"facecolor\": \"#0000FF\", \"alpha\": 1, \"markerpath\": [[[0.0, 3.0], [0.7956093000000001, 3.0], [1.5587396123545605, 2.683901074764725], [2.121320343559643, 2.121320343559643], [2.683901074764725, 1.5587396123545605], [3.0, 0.7956093000000001], [3.0, 0.0], [3.0, -0.7956093000000001], [2.683901074764725, -1.5587396123545605], [2.121320343559643, -2.121320343559643], [1.5587396123545605, -2.683901074764725], [0.7956093000000001, -3.0], [0.0, -3.0], [-0.7956093000000001, -3.0], [-1.5587396123545605, -2.683901074764725], [-2.121320343559643, -2.121320343559643], [-2.683901074764725, -1.5587396123545605], [-3.0, -0.7956093000000001], [-3.0, 0.0], [-3.0, 0.7956093000000001], [-2.683901074764725, 1.5587396123545605], [-2.121320343559643, 2.121320343559643], [-1.5587396123545605, 2.683901074764725], [-0.7956093000000001, 3.0], [0.0, 3.0]], [\"M\", \"C\", \"C\", \"C\", \"C\", \"C\", \"C\", \"C\", \"C\", \"Z\"]], \"xindex\": 0, \"id\": \"el45534412506008pts\", \"edgewidth\": 0.5, \"zorder\": 2}, {\"yindex\": 1, \"edgecolor\": \"#000000\", \"data\": \"data02\", \"coordinates\": \"data\", \"facecolor\": \"#007F00\", \"alpha\": 1, \"markerpath\": [[[0.0, 3.0], [0.7956093000000001, 3.0], [1.5587396123545605, 2.683901074764725], [2.121320343559643, 2.121320343559643], [2.683901074764725, 1.5587396123545605], [3.0, 0.7956093000000001], [3.0, 0.0], [3.0, -0.7956093000000001], [2.683901074764725, -1.5587396123545605], [2.121320343559643, -2.121320343559643], [1.5587396123545605, -2.683901074764725], [0.7956093000000001, -3.0], [0.0, -3.0], [-0.7956093000000001, -3.0], [-1.5587396123545605, -2.683901074764725], [-2.121320343559643, -2.121320343559643], [-2.683901074764725, -1.5587396123545605], [-3.0, -0.7956093000000001], [-3.0, 0.0], [-3.0, 0.7956093000000001], [-2.683901074764725, 1.5587396123545605], [-2.121320343559643, 2.121320343559643], [-1.5587396123545605, 2.683901074764725], [-0.7956093000000001, 3.0], [0.0, 3.0]], [\"M\", \"C\", \"C\", \"C\", \"C\", \"C\", \"C\", \"C\", \"C\", \"Z\"]], \"xindex\": 0, \"id\": \"el45534412532776pts\", \"edgewidth\": 0.5, \"zorder\": 2}], \"sharey\": [], \"sharex\": [], \"xscale\": \"linear\", \"xdomain\": [5.1, 27.9], \"lines\": [{\"yindex\": 1, \"dasharray\": \"6,6\", \"color\": \"#FF0000\", \"data\": \"data03\", \"coordinates\": \"data\", \"alpha\": 1, \"linewidth\": 1.0, \"xindex\": 0, \"id\": \"el45534412505896\", \"zorder\": 2}], \"xlim\": [5.1, 27.9], \"yscale\": \"linear\", \"collections\": [], \"ylim\": [-4.600000000000001, 182.6], \"zoomable\": true, \"id\": \"el45534409971880\", \"axesbg\": \"#FFFFFF\", \"axes\": [{\"position\": \"bottom\", \"tickvalues\": null, \"tickformat\": null, \"grid\": {\"gridOn\": false}, \"scale\": \"linear\", \"fontsize\": 10.0, \"nticks\": 6}, {\"position\": \"left\", \"tickvalues\": null, \"tickformat\": null, \"grid\": {\"gridOn\": false}, \"scale\": \"linear\", \"fontsize\": 10.0, \"nticks\": 6}], \"texts\": []}], \"height\": 320.0, \"id\": \"el45534409922168\", \"plugins\": [{\"type\": \"reset\"}, {\"type\": \"zoom\", \"enabled\": false, \"button\": true}, {\"type\": \"boxzoom\", \"enabled\": false, \"button\": true}]});\n",
       "      });\n",
       "    });\n",
       "}else{\n",
       "    // require.js not available: dynamically load d3 & mpld3\n",
       "    mpld3_load_lib(\"https://mpld3.github.io/js/d3.v3.min.js\", function(){\n",
       "         mpld3_load_lib(\"https://mpld3.github.io/js/mpld3.v0.2.js\", function(){\n",
       "                 \n",
       "                 mpld3.draw_figure(\"fig_el455344099221687635524427\", {\"width\": 480.0, \"data\": {\"data03\": [[5.1, 3.619607843137255], [27.9, 19.71372549019608]], \"data02\": [[10.0, 75.0], [8.0, 60.0], [7.0, 167.0], [15.0, 95.0]], \"data01\": [[20.0, 11.0], [26.0, 13.0], [24.0, 12.5], [19.0, 12.0]]}, \"axes\": [{\"axesbgalpha\": null, \"bbox\": [0.125, 0.125, 0.775, 0.775], \"images\": [], \"paths\": [], \"ydomain\": [-4.600000000000001, 182.6], \"markers\": [{\"yindex\": 1, \"edgecolor\": \"#000000\", \"data\": \"data01\", \"coordinates\": \"data\", \"facecolor\": \"#0000FF\", \"alpha\": 1, \"markerpath\": [[[0.0, 3.0], [0.7956093000000001, 3.0], [1.5587396123545605, 2.683901074764725], [2.121320343559643, 2.121320343559643], [2.683901074764725, 1.5587396123545605], [3.0, 0.7956093000000001], [3.0, 0.0], [3.0, -0.7956093000000001], [2.683901074764725, -1.5587396123545605], [2.121320343559643, -2.121320343559643], [1.5587396123545605, -2.683901074764725], [0.7956093000000001, -3.0], [0.0, -3.0], [-0.7956093000000001, -3.0], [-1.5587396123545605, -2.683901074764725], [-2.121320343559643, -2.121320343559643], [-2.683901074764725, -1.5587396123545605], [-3.0, -0.7956093000000001], [-3.0, 0.0], [-3.0, 0.7956093000000001], [-2.683901074764725, 1.5587396123545605], [-2.121320343559643, 2.121320343559643], [-1.5587396123545605, 2.683901074764725], [-0.7956093000000001, 3.0], [0.0, 3.0]], [\"M\", \"C\", \"C\", \"C\", \"C\", \"C\", \"C\", \"C\", \"C\", \"Z\"]], \"xindex\": 0, \"id\": \"el45534412506008pts\", \"edgewidth\": 0.5, \"zorder\": 2}, {\"yindex\": 1, \"edgecolor\": \"#000000\", \"data\": \"data02\", \"coordinates\": \"data\", \"facecolor\": \"#007F00\", \"alpha\": 1, \"markerpath\": [[[0.0, 3.0], [0.7956093000000001, 3.0], [1.5587396123545605, 2.683901074764725], [2.121320343559643, 2.121320343559643], [2.683901074764725, 1.5587396123545605], [3.0, 0.7956093000000001], [3.0, 0.0], [3.0, -0.7956093000000001], [2.683901074764725, -1.5587396123545605], [2.121320343559643, -2.121320343559643], [1.5587396123545605, -2.683901074764725], [0.7956093000000001, -3.0], [0.0, -3.0], [-0.7956093000000001, -3.0], [-1.5587396123545605, -2.683901074764725], [-2.121320343559643, -2.121320343559643], [-2.683901074764725, -1.5587396123545605], [-3.0, -0.7956093000000001], [-3.0, 0.0], [-3.0, 0.7956093000000001], [-2.683901074764725, 1.5587396123545605], [-2.121320343559643, 2.121320343559643], [-1.5587396123545605, 2.683901074764725], [-0.7956093000000001, 3.0], [0.0, 3.0]], [\"M\", \"C\", \"C\", \"C\", \"C\", \"C\", \"C\", \"C\", \"C\", \"Z\"]], \"xindex\": 0, \"id\": \"el45534412532776pts\", \"edgewidth\": 0.5, \"zorder\": 2}], \"sharey\": [], \"sharex\": [], \"xscale\": \"linear\", \"xdomain\": [5.1, 27.9], \"lines\": [{\"yindex\": 1, \"dasharray\": \"6,6\", \"color\": \"#FF0000\", \"data\": \"data03\", \"coordinates\": \"data\", \"alpha\": 1, \"linewidth\": 1.0, \"xindex\": 0, \"id\": \"el45534412505896\", \"zorder\": 2}], \"xlim\": [5.1, 27.9], \"yscale\": \"linear\", \"collections\": [], \"ylim\": [-4.600000000000001, 182.6], \"zoomable\": true, \"id\": \"el45534409971880\", \"axesbg\": \"#FFFFFF\", \"axes\": [{\"position\": \"bottom\", \"tickvalues\": null, \"tickformat\": null, \"grid\": {\"gridOn\": false}, \"scale\": \"linear\", \"fontsize\": 10.0, \"nticks\": 6}, {\"position\": \"left\", \"tickvalues\": null, \"tickformat\": null, \"grid\": {\"gridOn\": false}, \"scale\": \"linear\", \"fontsize\": 10.0, \"nticks\": 6}], \"texts\": []}], \"height\": 320.0, \"id\": \"el45534409922168\", \"plugins\": [{\"type\": \"reset\"}, {\"type\": \"zoom\", \"enabled\": false, \"button\": true}, {\"type\": \"boxzoom\", \"enabled\": false, \"button\": true}]});\n",
       "            })\n",
       "         });\n",
       "}\n",
       "</script>"
      ],
      "text/plain": [
       "<matplotlib.figure.Figure at 0x106da1278>"
      ]
     },
     "metadata": {},
     "output_type": "display_data"
    }
   ],
   "source": [
    "from cperceptron import Perceptron\n",
    "X = np.array([[10, 75], [8, 60], [7, 167], [15, 95],[20,11],[26,13],[24,12.5],[19,12]],dtype=np.float)\n",
    "T = np.array([1,1,1,1,0,0,0,0],dtype=np.int8)\n",
    "\n",
    "def progreso(perceptron, X, T, n):\n",
    "    y = perceptron.evaluar(X)\n",
    "    incorrectas = (T != y).sum()\n",
    "    print(\"Pasos: {0}\\tIncorrectas: {1}\\ny = {2}\\nt = {3}\\n\".format(n, incorrectas, y, T))\n",
    "\n",
    "\n",
    "# Crea un perceptron con tantas entradas como columnas tiene X\n",
    "p = Perceptron(X.shape[1])\n",
    "p.reiniciar()\n",
    "print(\"Entrenando:\\n\")\n",
    "# n = p.entrenar_numpy(X, T, max_pasos=50000, callback=progreso, frecuencia_callback=10000)\n",
    "n = p.entrenar(X, T, max_pasos=500, callback=progreso, frecuencia_callback=10)\n",
    "\n",
    "print(\"\\nEntrenamiento finalizado en {0} iteraciones.\".format(n))\n",
    "print(\"W:\", p.W)\n",
    "print(\"b:\", p.b)\n",
    "\n",
    "print(\"T:\", T)\n",
    "# print(\"y:\", p.evaluar_numpy(X))\n",
    "print(\"y:\", p.evaluar(X))\n",
    "\n",
    "p.visualizar(X, T)"
   ]
  },
  {
   "cell_type": "markdown",
   "metadata": {},
   "source": [
    "Utilice el perceptrón entrenado para clasificar los siguientes ejemplos, verificando que los resultados obtenidos sean los correctos:\n",
    "$$\n",
    "\\begin{array}{|c|c|c|}\n",
    "\\hline Diámetro & Intensidad & Tipo \\\\\n",
    "\\hline 12 & 80 & Naranja \\\\\n",
    "\\hline 23 & 15 & Melón \\\\\n",
    "\\hline 27 & 10 & Melón \\\\\n",
    "\\hline 11 & 80 & Naranja \\\\\n",
    "\\hline \n",
    "\\end{array}\n",
    "$$\n"
   ]
  },
  {
   "cell_type": "code",
   "execution_count": 7,
   "metadata": {
    "collapsed": false
   },
   "outputs": [
    {
     "data": {
      "text/plain": [
       "array([1, 0, 0, 1], dtype=int8)"
      ]
     },
     "execution_count": 7,
     "metadata": {},
     "output_type": "execute_result"
    }
   ],
   "source": [
    "test = np.array([[12,80],[23,15],[27,10],[11,80]],dtype=np.float)\n",
    "p.evaluar(test)"
   ]
  }
 ],
 "metadata": {
  "kernelspec": {
   "display_name": "Python 2",
   "language": "python",
   "name": "python2"
  },
  "language_info": {
   "codemirror_mode": {
    "name": "ipython",
    "version": 2
   },
   "file_extension": ".py",
   "mimetype": "text/x-python",
   "name": "python",
   "nbconvert_exporter": "python",
   "pygments_lexer": "ipython2",
   "version": "2.7.13"
  }
 },
 "nbformat": 4,
 "nbformat_minor": 0
}
