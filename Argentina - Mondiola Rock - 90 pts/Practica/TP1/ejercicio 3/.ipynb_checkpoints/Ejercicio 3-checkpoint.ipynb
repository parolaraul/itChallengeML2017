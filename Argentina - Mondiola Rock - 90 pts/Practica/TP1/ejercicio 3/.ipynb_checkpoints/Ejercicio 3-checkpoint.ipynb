{
 "cells": [
  {
   "cell_type": "markdown",
   "metadata": {},
   "source": [
    "## Ejercicio 3"
   ]
  },
  {
   "cell_type": "markdown",
   "metadata": {},
   "source": [
    "Retomando el problema de la clasificación de vinos a partir de su análisis químico, obtenga un clasificador empleando una red neuronal artificial entregada mediante el algoritmo de backpropagation.\n",
    "El archivo 'vinos.npy' contiene los datos del análisis químico de 178 vinos. Cada fila representa una muestra distinta y está formada, en primer lugar, por el número del tipo al cual pertenece el vino analizado seguido por los 13 atributos que lo caracterizan.\n",
    "\n",
    "El archivo 'vinos.entrenamiento.npy' contiene un subconjunto de las muestras, formado por el 90% de las muestras de cada tipo. Pueden usarse estos datos para el entrenamiento y el conjunto completo de las muestras para medir el desempeño del clasificador.\n",
    "Detalle la estructura de la red neuronal empleada (cantidad de entradas, de salidas y de neuronas en la capa oculta) e informe la velocidad de aprendizaje usada, la cantidad de pasos necesarios para lograr la mejor clasificación y el error cometido al final del entrenamiento. Construya la matriz de confusión producida usando todos los patrones (no solo los de entrenamiento)."
   ]
  },
  {
   "cell_type": "code",
   "execution_count": 3,
   "metadata": {
    "collapsed": false
   },
   "outputs": [
    {
     "ename": "ImportError",
     "evalue": "No module named 'cperceptron'",
     "output_type": "error",
     "traceback": [
      "\u001b[0;31m---------------------------------------------------------------------------\u001b[0m",
      "\u001b[0;31mImportError\u001b[0m                               Traceback (most recent call last)",
      "\u001b[0;32m<ipython-input-3-31afb89e3464>\u001b[0m in \u001b[0;36m<module>\u001b[0;34m()\u001b[0m\n\u001b[1;32m      5\u001b[0m \u001b[0mget_ipython\u001b[0m\u001b[0;34m(\u001b[0m\u001b[0;34m)\u001b[0m\u001b[0;34m.\u001b[0m\u001b[0mmagic\u001b[0m\u001b[0;34m(\u001b[0m\u001b[0;34m'matplotlib inline'\u001b[0m\u001b[0;34m)\u001b[0m\u001b[0;34m\u001b[0m\u001b[0m\n\u001b[1;32m      6\u001b[0m \u001b[0mmpld3\u001b[0m\u001b[0;34m.\u001b[0m\u001b[0menable_notebook\u001b[0m\u001b[0;34m(\u001b[0m\u001b[0;34m)\u001b[0m\u001b[0;34m\u001b[0m\u001b[0m\n\u001b[0;32m----> 7\u001b[0;31m \u001b[0;32mfrom\u001b[0m \u001b[0mcperceptron\u001b[0m \u001b[0;32mimport\u001b[0m \u001b[0mPerceptron\u001b[0m\u001b[0;34m\u001b[0m\u001b[0m\n\u001b[0m\u001b[1;32m      8\u001b[0m \u001b[0;32mfrom\u001b[0m \u001b[0mcbackpropagation\u001b[0m \u001b[0;32mimport\u001b[0m \u001b[0mANN\u001b[0m \u001b[0;31m#, Identidad, Sigmoide\u001b[0m\u001b[0;34m\u001b[0m\u001b[0m\n\u001b[1;32m      9\u001b[0m \u001b[0;32mimport\u001b[0m \u001b[0mpatrones\u001b[0m \u001b[0;32mas\u001b[0m \u001b[0mmagia\u001b[0m\u001b[0;34m\u001b[0m\u001b[0m\n",
      "\u001b[0;31mImportError\u001b[0m: No module named 'cperceptron'"
     ]
    }
   ],
   "source": [
    "import numpy as np\n",
    "import matplotlib.pyplot as plt\n",
    "import matplotlib as mpl\n",
    "import mpld3\n",
    "%matplotlib inline\n",
    "mpld3.enable_notebook()\n",
    "from cperceptron import Perceptron\n",
    "from cbackpropagation import ANN #, Identidad, Sigmoide\n",
    "import patrones as magia\n",
    "vinos = np.load('../vinos.npy')\n",
    "vinos_entrenamiento = np.load('../vinos.entrenamiento.npy')"
   ]
  },
  {
   "cell_type": "code",
   "execution_count": 2,
   "metadata": {
    "collapsed": true
   },
   "outputs": [],
   "source": [
    "def progreso(ann, X, T, y=None, n=-1, E=None):\n",
    "    if n % 20 == 0:\n",
    "        print(\"Pasos: {0} - Error: {1:.32f}\".format(n, E))"
   ]
  },
  {
   "cell_type": "code",
   "execution_count": 3,
   "metadata": {
    "collapsed": false
   },
   "outputs": [],
   "source": [
    "clases, patronesEnt, p = magia.generar_patrones(\n",
    "    magia.escalar(vinos_entrenamiento[:,1:]),vinos_entrenamiento[:,:1],100)\n",
    "X, T = magia.armar_patrones_y_salida_esperada(clases,patronesEnt)\n",
    "T = T.astype(np.int8)\n",
    "\n",
    "clasesTest, patronesTest, p = magia.generar_patrones(magia.escalar(vinos[:,1:]),vinos[:,:1],100)\n",
    "Xtest, Ttest = magia.armar_patrones_y_salida_esperada(clases,patronesTest)"
   ]
  },
  {
   "cell_type": "code",
   "execution_count": 26,
   "metadata": {
    "collapsed": true
   },
   "outputs": [],
   "source": [
    "# Crea la red neuronal\n",
    "ocultas = 2\n",
    "entradas = X.shape[1]\n",
    "salidas = T.shape[1]\n",
    "ann = ANN(entradas, ocultas, salidas)"
   ]
  },
  {
   "cell_type": "code",
   "execution_count": 27,
   "metadata": {
    "collapsed": false
   },
   "outputs": [
    {
     "name": "stdout",
     "output_type": "stream",
     "text": [
      "Pasos: 500 - Error: 0.00122804995440980286268428667285\n",
      "Pasos: 1000 - Error: 0.00009794449924035216609174980817\n",
      "Pasos: 1500 - Error: 0.00001047217104578914774980474139\n",
      "Pasos: 2000 - Error: 0.00000104719879765885852690324252\n",
      "Pasos: 2500 - Error: 0.00000009693975402954057926742300\n",
      "Pasos: 3000 - Error: 0.00000000990002569736457202429794\n",
      "Pasos: 3500 - Error: 0.00000000104391902304805904919125\n",
      "Pasos: 4000 - Error: 0.00000000023307107258873784050343\n",
      "Pasos: 4500 - Error: 0.00000000010627775582832967956540\n",
      "Pasos: 5000 - Error: 0.00000000007292996954566047220537\n",
      "\n",
      "Red entrenada en 5000 pasos con un error de 0.00000000007292996954566047220537\n"
     ]
    }
   ],
   "source": [
    "#Entreno\n",
    "E, n = ann.entrenar_rprop_numpy(X, T, min_error=0, max_pasos=5000, callback=progreso, frecuencia_callback=500)\n",
    "print(\"\\nRed entrenada en {0} pasos con un error de {1:.32f}\".format(n, E))"
   ]
  },
  {
   "cell_type": "markdown",
   "metadata": {},
   "source": [
    "\n",
    "### Evaluacion"
   ]
  },
  {
   "cell_type": "code",
   "execution_count": 30,
   "metadata": {
    "collapsed": false
   },
   "outputs": [
    {
     "name": "stdout",
     "output_type": "stream",
     "text": [
      "Salida de la red: \n",
      "0\n",
      "\n"
     ]
    }
   ],
   "source": [
    "y1 = ((ann.evaluar(Xtest) >=0.98).astype(np.float64) != Ttest).sum()\n",
    "print(\"Salida de la red: \\n{0}\\n\".format(y1))"
   ]
  },
  {
   "cell_type": "code",
   "execution_count": 37,
   "metadata": {
    "collapsed": false
   },
   "outputs": [
    {
     "data": {
      "text/plain": [
       "(array([[ 59.,   0.,   0.,   0.],\n",
       "        [  0.,  71.,   0.,   0.],\n",
       "        [  0.,   0.,  48.,   0.]]),\n",
       " [array([1, 0, 0]), array([0, 1, 0]), array([0, 0, 1])])"
      ]
     },
     "execution_count": 37,
     "metadata": {},
     "output_type": "execute_result"
    }
   ],
   "source": [
    "Y = (ann.evaluar(Xtest) >=0.98).astype(np.float64)\n",
    "magia.matriz_de_confusion(Ttest,Y)"
   ]
  },
  {
   "cell_type": "code",
   "execution_count": null,
   "metadata": {
    "collapsed": true
   },
   "outputs": [],
   "source": []
  }
 ],
 "metadata": {
  "kernelspec": {
   "display_name": "Python 3",
   "language": "python",
   "name": "python3"
  },
  "language_info": {
   "codemirror_mode": {
    "name": "ipython",
    "version": 3
   },
   "file_extension": ".py",
   "mimetype": "text/x-python",
   "name": "python",
   "nbconvert_exporter": "python",
   "pygments_lexer": "ipython3",
   "version": "3.4.3"
  }
 },
 "nbformat": 4,
 "nbformat_minor": 0
}
