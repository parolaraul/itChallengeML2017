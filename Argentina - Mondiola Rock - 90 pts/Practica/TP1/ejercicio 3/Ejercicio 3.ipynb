{
 "cells": [
  {
   "cell_type": "markdown",
   "metadata": {},
   "source": [
    "## Ejercicio 3"
   ]
  },
  {
   "cell_type": "markdown",
   "metadata": {},
   "source": [
    "Retomando el problema de la clasificación de vinos a partir de su análisis químico, obtenga un clasificador empleando una red neuronal artificial entregada mediante el algoritmo de backpropagation.\n",
    "El archivo 'vinos.npy' contiene los datos del análisis químico de 178 vinos. Cada fila representa una muestra distinta y está formada, en primer lugar, por el número del tipo al cual pertenece el vino analizado seguido por los 13 atributos que lo caracterizan.\n",
    "\n",
    "El archivo 'vinos.entrenamiento.npy' contiene un subconjunto de las muestras, formado por el 90% de las muestras de cada tipo. Pueden usarse estos datos para el entrenamiento y el conjunto completo de las muestras para medir el desempeño del clasificador.\n",
    "Detalle la estructura de la red neuronal empleada (cantidad de entradas, de salidas y de neuronas en la capa oculta) e informe la velocidad de aprendizaje usada, la cantidad de pasos necesarios para lograr la mejor clasificación y el error cometido al final del entrenamiento. Construya la matriz de confusión producida usando todos los patrones (no solo los de entrenamiento)."
   ]
  },
  {
   "cell_type": "code",
   "execution_count": 12,
   "metadata": {
    "collapsed": false
   },
   "outputs": [],
   "source": [
    "import numpy as np\n",
    "import matplotlib.pyplot as plt\n",
    "import matplotlib as mpl\n",
    "import mpld3\n",
    "%matplotlib inline\n",
    "mpld3.enable_notebook()\n",
    "from cbackpropagation import ANN #, Identidad, Sigmoide\n",
    "import patrones as magia\n",
    "vinos = np.load('vinos.npy')\n",
    "vinos_entrenamiento = np.load('vinos.entrenamiento.npy')"
   ]
  },
  {
   "cell_type": "code",
   "execution_count": 13,
   "metadata": {
    "collapsed": true
   },
   "outputs": [],
   "source": [
    "def progreso(ann, X, T, y=None, n=-1, E=None):\n",
    "    if n % 20 == 0:\n",
    "        print(\"Pasos: {0} - Error: {1:.32f}\".format(n, E))"
   ]
  },
  {
   "cell_type": "code",
   "execution_count": 14,
   "metadata": {
    "collapsed": false
   },
   "outputs": [],
   "source": [
    "clases, patronesEnt, p = magia.generar_patrones(\n",
    "    magia.escalar(vinos_entrenamiento[:,1:]),vinos_entrenamiento[:,:1],100)\n",
    "X, T = magia.armar_patrones_y_salida_esperada(clases,patronesEnt)\n",
    "T = T.astype(np.int8)\n",
    "\n",
    "clasesTest, patronesTest, p = magia.generar_patrones(magia.escalar(vinos[:,1:]),vinos[:,:1],100)\n",
    "Xtest, Ttest = magia.armar_patrones_y_salida_esperada(clases,patronesTest)"
   ]
  },
  {
   "cell_type": "code",
   "execution_count": 15,
   "metadata": {
    "collapsed": true
   },
   "outputs": [],
   "source": [
    "# Crea la red neuronal\n",
    "ocultas = 2\n",
    "entradas = X.shape[1]\n",
    "salidas = T.shape[1]\n",
    "ann = ANN(entradas, ocultas, salidas)"
   ]
  },
  {
   "cell_type": "code",
   "execution_count": 16,
   "metadata": {
    "collapsed": false
   },
   "outputs": [
    {
     "name": "stdout",
     "output_type": "stream",
     "text": [
      "Pasos: 500 - Error: 0.03257252361563597181648432865586\n",
      "Pasos: 1000 - Error: 0.00006487487656032718769203576636\n",
      "Pasos: 1500 - Error: 0.00000031271427664895286203198817\n",
      "Pasos: 2000 - Error: 0.00000000428101086293844207028551\n",
      "Pasos: 2500 - Error: 0.00000000020447673752089209583746\n",
      "Pasos: 3000 - Error: 0.00000000005994082166213321729097\n",
      "Pasos: 3500 - Error: 0.00000000005435966745522555891595\n",
      "Pasos: 4000 - Error: 0.00000000005434680984684192484222\n",
      "Pasos: 4500 - Error: 0.00000000005433396609072232279634\n",
      "Pasos: 5000 - Error: 0.00000000005432113617194930652567\n",
      "\n",
      "Red entrenada en 5000 pasos con un error de 0.00000000005432113617194930652567\n"
     ]
    }
   ],
   "source": [
    "#Entreno\n",
    "E, n = ann.entrenar_rprop_numpy(X, T, min_error=0, max_pasos=5000, callback=progreso, frecuencia_callback=500)\n",
    "print(\"\\nRed entrenada en {0} pasos con un error de {1:.32f}\".format(n, E))"
   ]
  },
  {
   "cell_type": "markdown",
   "metadata": {},
   "source": [
    "\n",
    "### Evaluacion"
   ]
  },
  {
   "cell_type": "code",
   "execution_count": 30,
   "metadata": {
    "collapsed": false
   },
   "outputs": [
    {
     "name": "stdout",
     "output_type": "stream",
     "text": [
      "Salida de la red: \n",
      "0\n",
      "\n"
     ]
    }
   ],
   "source": [
    "y1 = ((ann.evaluar(Xtest) >=0.98).astype(np.float64) != Ttest).sum()\n",
    "print(\"Salida de la red: \\n{0}\\n\".format(y1))"
   ]
  },
  {
   "cell_type": "code",
   "execution_count": 37,
   "metadata": {
    "collapsed": false
   },
   "outputs": [
    {
     "data": {
      "text/plain": [
       "(array([[ 59.,   0.,   0.,   0.],\n",
       "        [  0.,  71.,   0.,   0.],\n",
       "        [  0.,   0.,  48.,   0.]]),\n",
       " [array([1, 0, 0]), array([0, 1, 0]), array([0, 0, 1])])"
      ]
     },
     "execution_count": 37,
     "metadata": {},
     "output_type": "execute_result"
    }
   ],
   "source": [
    "Y = (ann.evaluar(Xtest) >=0.98).astype(np.float64)\n",
    "magia.matriz_de_confusion(Ttest,Y)"
   ]
  },
  {
   "cell_type": "code",
   "execution_count": null,
   "metadata": {
    "collapsed": true
   },
   "outputs": [],
   "source": []
  }
 ],
 "metadata": {
  "kernelspec": {
   "display_name": "Python 2",
   "language": "python",
   "name": "python2"
  },
  "language_info": {
   "codemirror_mode": {
    "name": "ipython",
    "version": 2
   },
   "file_extension": ".py",
   "mimetype": "text/x-python",
   "name": "python",
   "nbconvert_exporter": "python",
   "pygments_lexer": "ipython2",
   "version": "2.7.13"
  }
 },
 "nbformat": 4,
 "nbformat_minor": 0
}
