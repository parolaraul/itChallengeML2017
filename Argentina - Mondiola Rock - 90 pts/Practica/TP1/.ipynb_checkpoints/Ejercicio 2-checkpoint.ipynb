{
 "cells": [
  {
   "cell_type": "code",
   "execution_count": 82,
   "metadata": {
    "collapsed": true
   },
   "outputs": [],
   "source": [
    "import numpy as np\n",
    "import matplotlib.pyplot as plt\n",
    "import matplotlib as mpl\n",
    "import mpld3\n",
    "%matplotlib inline\n",
    "mpld3.enable_notebook()\n",
    "from cperceptron import Perceptron"
   ]
  },
  {
   "cell_type": "markdown",
   "metadata": {},
   "source": [
    "## Ejercicio 2"
   ]
  },
  {
   "cell_type": "markdown",
   "metadata": {},
   "source": [
    "Se ha realizado un análisis químico a tres tipos distintos de vinos producidos en una misma región de Italia. Se analizaron 59 muestras del Tipo 1, 71 muestras del Tipo 2 y 48 muestras del Tipo 3.\n",
    "\n",
    "El archivo `'vinos.npy'` permite observar los resultados de este análisis."
   ]
  },
  {
   "cell_type": "code",
   "execution_count": 83,
   "metadata": {
    "collapsed": true
   },
   "outputs": [],
   "source": [
    "vinos = np.load('vinos.npy')"
   ]
  },
  {
   "cell_type": "code",
   "execution_count": 84,
   "metadata": {
    "collapsed": true
   },
   "outputs": [],
   "source": [
    "def escalar(datos, margen_adicional=0, minimos=None, maximos=None):\n",
    "    \"\"\"\n",
    "    Recibe datos cuyos valores se encuentran en el intervalo [minimos, maximos],\n",
    "    y los escala  de forma que queden en el intervalor [0, 1].\n",
    "    Adicionalmente, puede especificarse un margen de seguridad, que amplía el\n",
    "    intervalo entre [minimos, maximos] en un porcentaje dado por margen_adicional.\n",
    "    El porcentaje debe expresarse como un valor entre 0 y 100 incluidos.\n",
    "    Si no se especifican los mínimos o los máximos, se los calcula a partir\n",
    "    del conjunto de datos suministrado.\n",
    "    Si no se especifica el margen adicional, se asume que es cero.\n",
    "    \"\"\"\n",
    "    if minimos is None:\n",
    "        minimos = datos.min(axis=0)\n",
    "    if maximos is None:\n",
    "        maximos = datos.max(axis=0)\n",
    "    delta = (maximos - minimos)\n",
    "    if margen_adicional:\n",
    "        margen = delta * margen_adicional / 100.0\n",
    "        minimos -= margen\n",
    "        maximos += margen\n",
    "        delta = (maximos - minimos)\n",
    "    return (datos - minimos) / delta\n",
    "\n",
    "def generar_patrones(X, T, porcentaje_division=90):\n",
    "    \"\"\"\n",
    "    Sepera las patrones recibidos en dos grupos: uno para entrenamiento y\n",
    "    otro para prueba.\n",
    "\n",
    "    El parámetro 'X' es un array con los datos de cada patrón.\n",
    "    El parámetro 'T' es un array que indica la clase de cada uno de\n",
    "    los patrones recibidos en 'X'.\n",
    "    El parámetro 'porcentaje_division' determina cuantos patrones se usarán\n",
    "    para entrenamiento.\n",
    "\n",
    "    La función devuelve:\n",
    "        - Un array que contiene las clases únicas encontradas.\n",
    "        - Un diccionario donde cada clase tiene asociada los patrones\n",
    "          para el entrenamiento.\n",
    "        - Un diccionario donde cada clase tiene asociada los patrones\n",
    "          para las pruebas.\n",
    "    \"\"\"\n",
    "    clases = np.unique(T)\n",
    "    patrones_entrenamiento = {}\n",
    "    patrones_prueba = {}\n",
    "    for clase in clases:\n",
    "        # Obtiene los patrones de esta clase\n",
    "        patrones_de_la_clase = X[T.flat == clase]\n",
    "\n",
    "        # Mezcla al azar los índices de los patrones\n",
    "        indices = list(range(len(patrones_de_la_clase)))\n",
    "        np.random.shuffle(indices)\n",
    "\n",
    "        # Divide los patrones en 2 grupos: entrenamiento y prueba\n",
    "        division = len(patrones_de_la_clase) * porcentaje_division // 100\n",
    "        patrones_entrenamiento[clase] = patrones_de_la_clase[indices[:division]]\n",
    "        patrones_prueba[clase] = patrones_de_la_clase[indices[division:]]\n",
    "\n",
    "    return clases, patrones_entrenamiento, patrones_prueba\n",
    "\n",
    "\n",
    "def armar_patrones_y_salida_esperada(clases, patrones):\n",
    "    \"\"\"\n",
    "    Construye los patrones y la salida esperada a partir de las clases y patrones\n",
    "    producidos por la función generar_patrones.\n",
    "\n",
    "    El parámetro 'clases' es un array que contiene las clases únicas encontradas.\n",
    "    El parámetro 'patrones' es un diccionario donde cada clase tiene asociada\n",
    "    los patrones correspondiente a esa clase.\n",
    "\n",
    "    La función devuelve:\n",
    "        - Un array X con todos los patrones.\n",
    "        - Un array T con tantas columnas como clases y tantas filas como patrones,\n",
    "          conteniendo un único 1 en la columna de la clase asociada a cada patrón.\n",
    "    \"\"\"\n",
    "    # Arma los patrones\n",
    "    X = np.vstack(patrones[c] for c in clases)\n",
    "\n",
    "    # Arma las respuestas esperadas\n",
    "    T = np.zeros((len(X), len(clases)))\n",
    "    i = 0\n",
    "    for c, f in enumerate(np.cumsum([len(patrones[c]) for c in clases])):\n",
    "        T[i:f, c] = 1\n",
    "        i = f\n",
    "\n",
    "    return X, T"
   ]
  },
  {
   "cell_type": "code",
   "execution_count": 85,
   "metadata": {
    "collapsed": false
   },
   "outputs": [],
   "source": [
    "clases, patronesEnt, patronesTest = generar_patrones(escalar(vinos[:,1:]),vinos[:,:1])"
   ]
  },
  {
   "cell_type": "code",
   "execution_count": 86,
   "metadata": {
    "collapsed": false
   },
   "outputs": [],
   "source": [
    "X, T = armar_patrones_y_salida_esperada(clases,patronesEnt)\n",
    "T = T.astype(np.int8)"
   ]
  },
  {
   "cell_type": "code",
   "execution_count": 87,
   "metadata": {
    "collapsed": true
   },
   "outputs": [],
   "source": [
    "Xtest, Ttest = armar_patrones_y_salida_esperada(clases,patronesTest)"
   ]
  },
  {
   "cell_type": "code",
   "execution_count": 95,
   "metadata": {
    "collapsed": false
   },
   "outputs": [
    {
     "name": "stdout",
     "output_type": "stream",
     "text": [
      "Entrenando P1:\n",
      "Pasos:37\n",
      "\n",
      "Entrenando P2:\n",
      "Pasos:50\n",
      "\n",
      "Entrenando P3:\n",
      "Pasos:20\n"
     ]
    }
   ],
   "source": [
    "print(\"Entrenando P1:\")\n",
    "p1 = Perceptron(X.shape[1])\n",
    "Vino1 = p1.entrenar_numpy(X, T[:,0], max_pasos=500)\n",
    "print(\"Pasos:{0}\".format(Vino1))\n",
    "print(\"\\nEntrenando P2:\")\n",
    "p2 = Perceptron(X.shape[1])\n",
    "Vino2 = p2.entrenar_numpy(X, T[:,1], max_pasos=500)\n",
    "print(\"Pasos:{0}\".format(Vino2))\n",
    "print(\"\\nEntrenando P3:\")\n",
    "p3 = Perceptron(X.shape[1])\n",
    "Vino3 = p3.entrenar_numpy(X, T[:,2], max_pasos=500)\n",
    "print(\"Pasos:{0}\".format(Vino3))"
   ]
  },
  {
   "cell_type": "markdown",
   "metadata": {},
   "source": [
    "Cada fila representa una muestra distinta y está formada, en primer lugar, por el número del tipo al cual pertenece el vino analizado seguido por los 13 atributos que lo caracterizan.\n",
    "\n",
    "Por ejemplo, la siguiente fila (vinos[80]):\n",
    "\n",
    "```python\n",
    "array([   2.  ,   12.  ,    0.92,    2.  ,   19.  ,   86.  ,    2.42,\n",
    "          2.26,    0.3 ,    1.43,    2.5 ,    1.38,    3.12,  278.  ])\n",
    "```\n",
    "\n",
    "es el resultado del análisis de un vino del Tipo 2 (1er. valor de la fila) seguido por 13 valores separados por comas que indican los niveles de las mediciones realizadas a dicho vino. \n",
    "\n",
    "\n",
    "Entrene un perceptrón para clasificar los vinos del Tipo 1 utilizando un porcentaje de las muestras existentes. Los patrones que no se utilicen en el entrenamiento serán empleados para probarlo. Realice el mismo procedimiento para los vinos del Tipo 2 y del Tipo 3.\n",
    "\n",
    "Detalle la cantidad de pasos que fueron necesarios para lograr la mejor clasificación. Pruebe variar el tamaño del conjunto de patrones de entrenado observando para cada caso la proporción de patrones correctamente clasificados por el perceptrón."
   ]
  },
  {
   "cell_type": "code",
   "execution_count": 72,
   "metadata": {
    "collapsed": false
   },
   "outputs": [
    {
     "data": {
      "text/plain": [
       "1"
      ]
     },
     "execution_count": 72,
     "metadata": {},
     "output_type": "execute_result"
    }
   ],
   "source": [
    "(p1.evaluar(Xtest) != Ttest[:,0]).sum()"
   ]
  },
  {
   "cell_type": "code",
   "execution_count": 71,
   "metadata": {
    "collapsed": false
   },
   "outputs": [
    {
     "data": {
      "text/plain": [
       "0"
      ]
     },
     "execution_count": 71,
     "metadata": {},
     "output_type": "execute_result"
    }
   ],
   "source": [
    "(p2.evaluar(Xtest) != Ttest[:,1]).sum()"
   ]
  },
  {
   "cell_type": "code",
   "execution_count": 70,
   "metadata": {
    "collapsed": false
   },
   "outputs": [
    {
     "data": {
      "text/plain": [
       "0"
      ]
     },
     "execution_count": 70,
     "metadata": {},
     "output_type": "execute_result"
    }
   ],
   "source": [
    "(p3.evaluar(Xtest) != Ttest[:,2]).sum()"
   ]
  }
 ],
 "metadata": {
  "kernelspec": {
   "display_name": "Python 3",
   "language": "python",
   "name": "python3"
  },
  "language_info": {
   "codemirror_mode": {
    "name": "ipython",
    "version": 3
   },
   "file_extension": ".py",
   "mimetype": "text/x-python",
   "name": "python",
   "nbconvert_exporter": "python",
   "pygments_lexer": "ipython3",
   "version": "3.4.3"
  }
 },
 "nbformat": 4,
 "nbformat_minor": 0
}
