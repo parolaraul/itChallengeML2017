{
 "cells": [
  {
   "cell_type": "markdown",
   "metadata": {},
   "source": [
    "# EJERCICIO 6\n",
    "Con el fin de predecir la puntuación que un catador profesional le otorgará a un determinado vino, se tomaron resultados de análisis físico-químicos de rutina realizados durante la producción de los vinos para tratar de descubrir de que manera estos factores influyen en la puntuación obtenida.\n",
    "Construir un modelo de este tipo resulta beneficioso no solo para anticipar la puntuación que un enólogo otorgará al vino sino también para poder analizar como la variación de determinadas características afectará, tanto positiva como negativamente, la calidad percibida del vino antes de que éste sea producido.\n",
    "La bodega portuguesa “Vinho Verde” ha facilitado los resultados de analizar 1599 muestras de varios tipos de vino tinto producidos por esa bodega, junto con las calificaciones que cada uno de ellos obtuvo, las cuales van de 0 a 10, siendo 0 la peor puntuación posible y 10, la mejor. De cada vino se analizaron 11 atributos diferentes (pH, densidad y grado de alcohol, para nombrar sólo algunos), siendo todos estos atributos valores reales continuos.\n",
    "Entrene una red neuronal artificial mediante backpropagation para que sea capaz de predecir cual será la puntuación que un vino obtendrá a partir de los 11 atributos analizados. Detalle la arquitectura usada y los parámetros empleados en su entrenamiento. Reserve un subconjunto razonable de los patrones disponible para evaluar el desempeño de la red luego de ser entrenada, informando el error obtenido."
   ]
  },
  {
   "cell_type": "code",
   "execution_count": null,
   "metadata": {
    "collapsed": true
   },
   "outputs": [],
   "source": []
  }
 ],
 "metadata": {
  "kernelspec": {
   "display_name": "Python 3",
   "language": "python",
   "name": "python3"
  },
  "language_info": {
   "codemirror_mode": {
    "name": "ipython",
    "version": 3
   },
   "file_extension": ".py",
   "mimetype": "text/x-python",
   "name": "python",
   "nbconvert_exporter": "python",
   "pygments_lexer": "ipython3",
   "version": "3.4.3"
  }
 },
 "nbformat": 4,
 "nbformat_minor": 0
}
