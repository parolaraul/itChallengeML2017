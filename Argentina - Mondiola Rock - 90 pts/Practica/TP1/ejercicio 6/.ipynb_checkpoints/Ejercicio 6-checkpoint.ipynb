{
 "cells": [
  {
   "cell_type": "markdown",
   "metadata": {},
   "source": [
    "# EJERCICIO 6\n",
    "Con el fin de predecir la puntuación que un catador profesional le otorgará a un determinado vino, se tomaron resultados de análisis físico-químicos de rutina realizados durante la producción de los vinos para tratar de descubrir de que manera estos factores influyen en la puntuación obtenida.\n",
    "Construir un modelo de este tipo resulta beneficioso no solo para anticipar la puntuación que un enólogo otorgará al vino sino también para poder analizar como la variación de determinadas características afectará, tanto positiva como negativamente, la calidad percibida del vino antes de que éste sea producido.\n",
    "La bodega portuguesa “Vinho Verde” ha facilitado los resultados de analizar 1599 muestras de varios tipos de vino tinto producidos por esa bodega, junto con las calificaciones que cada uno de ellos obtuvo, las cuales van de 0 a 10, siendo 0 la peor puntuación posible y 10, la mejor. De cada vino se analizaron 11 atributos diferentes (pH, densidad y grado de alcohol, para nombrar sólo algunos), siendo todos estos atributos valores reales continuos.\n",
    "Entrene una red neuronal artificial mediante backpropagation para que sea capaz de predecir cual será la puntuación que un vino obtendrá a partir de los 11 atributos analizados. Detalle la arquitectura usada y los parámetros empleados en su entrenamiento. Reserve un subconjunto razonable de los patrones disponible para evaluar el desempeño de la red luego de ser entrenada, informando el error obtenido."
   ]
  },
  {
   "cell_type": "code",
   "execution_count": 44,
   "metadata": {
    "collapsed": true
   },
   "outputs": [],
   "source": [
    "import numpy as np\n",
    "import matplotlib.pyplot as plt\n",
    "import matplotlib as mpl\n",
    "import mpld3\n",
    "%matplotlib inline\n",
    "mpld3.enable_notebook()\n",
    "from cperceptron import Perceptron\n",
    "from cbackpropagation import ANN #, Identidad, Sigmoide\n",
    "import patrones as magia\n",
    "def progreso(ann, X, T, y=None, n=-1, E=None):\n",
    "    if n % 20 == 0:\n",
    "        print(\"Pasos: {0} - Error: {1:.32f}\".format(n, E)) \n",
    "def progresoPerceptron(perceptron, X, T, n):\n",
    "    y = perceptron.evaluar(X)\n",
    "    incorrectas = (T != y).sum()\n",
    "    print(\"Pasos: {0}\\tIncorrectas: {1}\\n\".format(n, incorrectas))"
   ]
  },
  {
   "cell_type": "code",
   "execution_count": 45,
   "metadata": {
    "collapsed": true
   },
   "outputs": [],
   "source": [
    "winequality = np.load('winequality.npy')\n",
    "datos = magia.escalar(winequality[:, :-1].round(2))\n",
    "puntuacion = winequality[:, -1].reshape(-1, 1)"
   ]
  },
  {
   "cell_type": "code",
   "execution_count": 46,
   "metadata": {
    "collapsed": false
   },
   "outputs": [],
   "source": [
    "# Armo patrones manualmente\n",
    "## De entrenamiento\n",
    "X = datos[:1400,:]\n",
    "T = puntuacion[:1400,:].astype(np.float64)\n",
    "## De prueba\n",
    "Xtest = datos[-199:,:]\n",
    "Ttest = puntuacion[-199:,:].astype(np.float64)"
   ]
  },
  {
   "cell_type": "code",
   "execution_count": 47,
   "metadata": {
    "collapsed": false
   },
   "outputs": [
    {
     "data": {
      "text/plain": [
       "array([[ 5.],\n",
       "       [ 5.],\n",
       "       [ 5.],\n",
       "       ..., \n",
       "       [ 5.],\n",
       "       [ 7.],\n",
       "       [ 6.]])"
      ]
     },
     "execution_count": 47,
     "metadata": {},
     "output_type": "execute_result"
    }
   ],
   "source": [
    "T"
   ]
  },
  {
   "cell_type": "code",
   "execution_count": 48,
   "metadata": {
    "collapsed": true
   },
   "outputs": [],
   "source": [
    "# Crea la red neuronal\n",
    "ocultas = 100 #2,5,15\n",
    "entradas = X.shape[1]\n",
    "salidas = T.shape[1]\n",
    "ann = ANN(entradas, ocultas, salidas)\n",
    "ann.reiniciar()"
   ]
  },
  {
   "cell_type": "code",
   "execution_count": 49,
   "metadata": {
    "collapsed": false
   },
   "outputs": [
    {
     "name": "stdout",
     "output_type": "stream",
     "text": [
      "Pasos: 100 - Error: 0.20016769312514010037418188403535\n",
      "Pasos: 200 - Error: 0.17704690645462806131149591237772\n",
      "Pasos: 300 - Error: 0.16319194481216592329531067662174\n",
      "Pasos: 400 - Error: 0.15335436261839557881003770489770\n",
      "Pasos: 500 - Error: 0.14602834511549042662004183057434\n",
      "Pasos: 600 - Error: 0.14083396810211393224143705538154\n",
      "Pasos: 700 - Error: 0.13694371639447741606510078327119\n",
      "Pasos: 800 - Error: 0.13323045578166584079760070835619\n",
      "Pasos: 900 - Error: 0.12881673898806650369053272697784\n",
      "Pasos: 1000 - Error: 0.12582897780129881359911792060302\n",
      "Pasos: 1100 - Error: 0.12254725108254967136378610348402\n",
      "Pasos: 1200 - Error: 0.12009943775822325140456570125025\n",
      "Pasos: 1300 - Error: 0.11830215602851315570553936140641\n",
      "Pasos: 1400 - Error: 0.11697111335695288547587011862561\n",
      "Pasos: 1500 - Error: 0.11553628858124000144957932434409\n",
      "Pasos: 1600 - Error: 0.11417754965889835572223631743327\n",
      "Pasos: 1700 - Error: 0.11272306610486919342672962329743\n",
      "Pasos: 1800 - Error: 0.11159321603406914535927541010096\n",
      "Pasos: 1900 - Error: 0.11069930092218904782441768475110\n",
      "Pasos: 2000 - Error: 0.10971448348766789371300234279261\n",
      "Pasos: 2100 - Error: 0.10803785317721247005717799538616\n",
      "Pasos: 2200 - Error: 0.10668835854102683147193175727807\n",
      "Pasos: 2300 - Error: 0.10543780792382329014600372829591\n",
      "Pasos: 2400 - Error: 0.10408175033063830905444291374806\n",
      "Pasos: 2500 - Error: 0.10281305187737407869086325717944\n",
      "Pasos: 2600 - Error: 0.10054443065834699211347214031775\n",
      "Pasos: 2700 - Error: 0.09881711544369052580005785557660\n",
      "Pasos: 2800 - Error: 0.09742835306451046173403796046841\n",
      "Pasos: 2900 - Error: 0.09626255775145665938286043683547\n",
      "Pasos: 3000 - Error: 0.09534095934733730071108936954261\n",
      "Pasos: 3100 - Error: 0.09429300562059428347794209912536\n",
      "Pasos: 3200 - Error: 0.09319224338246233363403092653243\n",
      "Pasos: 3300 - Error: 0.09208536138921394331724457060773\n",
      "Pasos: 3400 - Error: 0.09093963557272570497058694627412\n",
      "Pasos: 3500 - Error: 0.08987979624869535388853591939551\n",
      "Pasos: 3600 - Error: 0.08881123641280462555069874497349\n",
      "Pasos: 3700 - Error: 0.08778624298801780689860407846936\n",
      "Pasos: 3800 - Error: 0.08695588212277548245676683791316\n",
      "Pasos: 3900 - Error: 0.08620597494274966077210109460793\n",
      "Pasos: 4000 - Error: 0.08561132941910336302537842811944\n",
      "Pasos: 4100 - Error: 0.08495845407053732867286299779153\n",
      "Pasos: 4200 - Error: 0.08445834947398540848428893923483\n",
      "Pasos: 4300 - Error: 0.08384032399882200559115830174051\n",
      "Pasos: 4400 - Error: 0.08334316623395068845958633119153\n",
      "Pasos: 4500 - Error: 0.08287283622041645425593259233210\n",
      "Pasos: 4600 - Error: 0.08217664199322359530608395061790\n",
      "Pasos: 4700 - Error: 0.08163251862168667549735090460672\n",
      "Pasos: 4800 - Error: 0.08102801002205925473553804749827\n",
      "Pasos: 4900 - Error: 0.08044813065183326061813318119675\n",
      "Pasos: 5000 - Error: 0.07990548120438545343091618633480\n",
      "\n",
      "Red entrenada en 5000 pasos con un error de 0.07990548120438545343091618633480\n"
     ]
    }
   ],
   "source": [
    "#Entreno\n",
    "E, n = ann.entrenar_rprop(X, T, min_error=0, max_pasos=5000, callback=progreso, frecuencia_callback=100)\n",
    "print(\"\\nRed entrenada en {0} pasos con un error de {1:.32f}\".format(n, E))"
   ]
  },
  {
   "cell_type": "code",
   "execution_count": 39,
   "metadata": {
    "collapsed": true
   },
   "outputs": [],
   "source": [
    "Y1 = ann.evaluar(Xtest)"
   ]
  },
  {
   "cell_type": "code",
   "execution_count": 35,
   "metadata": {
    "collapsed": true
   },
   "outputs": [
    {
     "data": {
      "text/plain": [
       "array([[ 5.,  5.],\n",
       "       [ 5.,  5.],\n",
       "       [ 7.,  6.],\n",
       "       [ 6.,  8.],\n",
       "       [ 6.,  6.],\n",
       "       [ 7.,  7.],\n",
       "       [ 7.,  6.],\n",
       "       [ 5.,  6.],\n",
       "       [ 7.,  7.],\n",
       "       [ 5.,  6.],\n",
       "       [ 5.,  6.],\n",
       "       [ 6.,  6.],\n",
       "       [ 7.,  6.],\n",
       "       [ 5.,  5.],\n",
       "       [ 6.,  5.],\n",
       "       [ 6.,  5.],\n",
       "       [ 6.,  5.],\n",
       "       [ 7.,  7.],\n",
       "       [ 5.,  5.],\n",
       "       [ 5.,  5.],\n",
       "       [ 5.,  5.],\n",
       "       [ 5.,  5.],\n",
       "       [ 6.,  6.],\n",
       "       [ 6.,  4.],\n",
       "       [ 6.,  6.],\n",
       "       [ 6.,  6.],\n",
       "       [ 6.,  6.],\n",
       "       [ 6.,  5.],\n",
       "       [ 6.,  5.],\n",
       "       [ 7.,  5.],\n",
       "       [ 6.,  5.],\n",
       "       [ 5.,  6.],\n",
       "       [ 6.,  6.],\n",
       "       [ 6.,  7.],\n",
       "       [ 6.,  6.],\n",
       "       [ 6.,  6.],\n",
       "       [ 5.,  5.],\n",
       "       [ 5.,  5.],\n",
       "       [ 4.,  5.],\n",
       "       [ 6.,  6.],\n",
       "       [ 7.,  7.],\n",
       "       [ 5.,  6.],\n",
       "       [ 5.,  5.],\n",
       "       [ 5.,  5.],\n",
       "       [ 6.,  6.],\n",
       "       [ 5.,  6.],\n",
       "       [ 5.,  5.],\n",
       "       [ 5.,  5.],\n",
       "       [ 5.,  5.],\n",
       "       [ 7.,  8.],\n",
       "       [ 7.,  7.],\n",
       "       [ 6.,  7.],\n",
       "       [ 5.,  7.],\n",
       "       [ 5.,  5.],\n",
       "       [ 6.,  6.],\n",
       "       [ 5.,  6.],\n",
       "       [ 5.,  6.],\n",
       "       [ 5.,  5.],\n",
       "       [ 6.,  5.],\n",
       "       [ 7.,  7.],\n",
       "       [ 6.,  6.],\n",
       "       [ 5.,  4.],\n",
       "       [ 6.,  6.],\n",
       "       [ 6.,  6.],\n",
       "       [ 4.,  5.],\n",
       "       [ 4.,  5.],\n",
       "       [ 5.,  7.],\n",
       "       [ 5.,  4.],\n",
       "       [ 5.,  7.],\n",
       "       [ 5.,  3.],\n",
       "       [ 5.,  5.],\n",
       "       [ 5.,  5.],\n",
       "       [ 7.,  6.],\n",
       "       [ 5.,  5.],\n",
       "       [ 6.,  5.],\n",
       "       [ 8.,  7.],\n",
       "       [ 6.,  5.],\n",
       "       [ 8.,  7.],\n",
       "       [ 5.,  3.],\n",
       "       [ 7.,  5.],\n",
       "       [ 5.,  4.],\n",
       "       [ 7.,  5.],\n",
       "       [ 5.,  4.],\n",
       "       [ 6.,  5.],\n",
       "       [ 5.,  4.],\n",
       "       [ 5.,  5.],\n",
       "       [ 5.,  5.],\n",
       "       [ 6.,  5.],\n",
       "       [ 5.,  5.],\n",
       "       [ 5.,  6.],\n",
       "       [ 7.,  6.],\n",
       "       [ 5.,  5.],\n",
       "       [ 5.,  5.],\n",
       "       [ 5.,  5.],\n",
       "       [ 6.,  7.],\n",
       "       [ 7.,  6.],\n",
       "       [ 5.,  5.],\n",
       "       [ 5.,  6.],\n",
       "       [ 4.,  6.],\n",
       "       [ 5.,  6.],\n",
       "       [ 6.,  5.],\n",
       "       [ 5.,  5.],\n",
       "       [ 5.,  5.],\n",
       "       [ 6.,  6.],\n",
       "       [ 6.,  6.],\n",
       "       [ 5.,  3.],\n",
       "       [ 5.,  6.],\n",
       "       [ 6.,  6.],\n",
       "       [ 7.,  6.],\n",
       "       [ 7.,  5.],\n",
       "       [ 6.,  6.],\n",
       "       [ 5.,  5.],\n",
       "       [ 5.,  6.],\n",
       "       [ 6.,  6.],\n",
       "       [ 4.,  6.],\n",
       "       [ 4.,  6.],\n",
       "       [ 6.,  5.],\n",
       "       [ 5.,  6.],\n",
       "       [ 6.,  5.],\n",
       "       [ 5.,  5.],\n",
       "       [ 5.,  6.],\n",
       "       [ 5.,  4.],\n",
       "       [ 6.,  5.],\n",
       "       [ 6.,  5.],\n",
       "       [ 6.,  6.],\n",
       "       [ 6.,  5.],\n",
       "       [ 5.,  6.],\n",
       "       [ 6.,  6.],\n",
       "       [ 6.,  6.],\n",
       "       [ 5.,  6.],\n",
       "       [ 6.,  6.],\n",
       "       [ 5.,  5.],\n",
       "       [ 6.,  6.],\n",
       "       [ 5.,  5.],\n",
       "       [ 6.,  7.],\n",
       "       [ 6.,  6.],\n",
       "       [ 6.,  6.],\n",
       "       [ 5.,  6.],\n",
       "       [ 6.,  5.],\n",
       "       [ 5.,  5.],\n",
       "       [ 5.,  6.],\n",
       "       [ 7.,  7.],\n",
       "       [ 5.,  6.],\n",
       "       [ 5.,  6.],\n",
       "       [ 7.,  7.],\n",
       "       [ 6.,  6.],\n",
       "       [ 6.,  5.],\n",
       "       [ 5.,  5.],\n",
       "       [ 5.,  5.],\n",
       "       [ 7.,  8.],\n",
       "       [ 5.,  5.],\n",
       "       [ 5.,  5.],\n",
       "       [ 6.,  6.],\n",
       "       [ 5.,  5.],\n",
       "       [ 6.,  6.],\n",
       "       [ 6.,  7.],\n",
       "       [ 5.,  5.],\n",
       "       [ 6.,  6.],\n",
       "       [ 5.,  5.],\n",
       "       [ 5.,  5.],\n",
       "       [ 5.,  5.],\n",
       "       [ 5.,  5.],\n",
       "       [ 5.,  5.],\n",
       "       [ 5.,  5.],\n",
       "       [ 5.,  5.],\n",
       "       [ 5.,  6.],\n",
       "       [ 7.,  6.],\n",
       "       [ 5.,  5.],\n",
       "       [ 5.,  5.],\n",
       "       [ 6.,  6.],\n",
       "       [ 6.,  6.],\n",
       "       [ 6.,  6.],\n",
       "       [ 5.,  5.],\n",
       "       [ 6.,  6.],\n",
       "       [ 5.,  6.],\n",
       "       [ 6.,  6.],\n",
       "       [ 6.,  6.],\n",
       "       [ 6.,  6.],\n",
       "       [ 6.,  6.],\n",
       "       [ 6.,  5.],\n",
       "       [ 6.,  6.],\n",
       "       [ 6.,  5.],\n",
       "       [ 5.,  5.],\n",
       "       [ 6.,  5.],\n",
       "       [ 7.,  7.],\n",
       "       [ 7.,  6.],\n",
       "       [ 6.,  6.],\n",
       "       [ 6.,  6.],\n",
       "       [ 7.,  6.],\n",
       "       [ 6.,  5.],\n",
       "       [ 6.,  6.],\n",
       "       [ 6.,  6.],\n",
       "       [ 6.,  6.],\n",
       "       [ 5.,  6.],\n",
       "       [ 5.,  5.],\n",
       "       [ 5.,  6.],\n",
       "       [ 6.,  6.],\n",
       "       [ 5.,  5.],\n",
       "       [ 7.,  6.]])"
      ]
     },
     "execution_count": 35,
     "metadata": {},
     "output_type": "execute_result"
    }
   ],
   "source": [
    "np.hstack((Y1.round(),Ttest))"
   ]
  },
  {
   "cell_type": "code",
   "execution_count": 40,
   "metadata": {
    "collapsed": false
   },
   "outputs": [
    {
     "name": "stdout",
     "output_type": "stream",
     "text": [
      "Errores de la red: \n",
      "93 \n",
      "\n"
     ]
    }
   ],
   "source": [
    "#Evaluo\n",
    "Y = (Y1.round() != Ttest ).sum()\n",
    "print(\"Errores de la red: \\n{0} \\n\".format(Y))"
   ]
  },
  {
   "cell_type": "code",
   "execution_count": null,
   "metadata": {
    "collapsed": false
   },
   "outputs": [],
   "source": [
    "Y = ann.evaluar(Xtest)\n",
    "magia.matriz_de_confusion(Ttest,Y,1)"
   ]
  },
  {
   "cell_type": "code",
   "execution_count": null,
   "metadata": {
    "collapsed": true
   },
   "outputs": [],
   "source": []
  }
 ],
 "metadata": {
  "kernelspec": {
   "display_name": "Python 3",
   "language": "python",
   "name": "python3"
  },
  "language_info": {
   "codemirror_mode": {
    "name": "ipython",
    "version": 3
   },
   "file_extension": ".py",
   "mimetype": "text/x-python",
   "name": "python",
   "nbconvert_exporter": "python",
   "pygments_lexer": "ipython3",
   "version": "3.4.3"
  }
 },
 "nbformat": 4,
 "nbformat_minor": 0
}
