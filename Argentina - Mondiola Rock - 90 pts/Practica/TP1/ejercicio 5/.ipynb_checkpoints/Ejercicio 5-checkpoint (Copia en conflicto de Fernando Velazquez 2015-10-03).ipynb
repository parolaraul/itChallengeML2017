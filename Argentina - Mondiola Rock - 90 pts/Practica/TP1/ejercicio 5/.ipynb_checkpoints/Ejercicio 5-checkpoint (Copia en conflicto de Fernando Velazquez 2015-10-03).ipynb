{
 "cells": [
  {
   "cell_type": "markdown",
   "metadata": {},
   "source": [
    "# EJERCICIO 5\n",
    "El hormigón es el material más importante en lo que a la ingeniería civil concierne. La resistencia a compresión del hormigón resulta de fundamental interés ya que permite asegurar cuanta carga podrá soportar una mezcla de hormigón particular. La resistencia a compresión depende de la edad del hormigón y de la mezcla de materiales usados para producirlo. La resistencia a compresión del hormigón se obtiene en ensayos de rotura a compresión de probetas cilíndricas normalizadas realizados a los 28 días de edad y fabricadas con las mismas amasadas puestas en obra.\n",
    "Para tratar de modelar la resistencia a compresión del hormigón a partir de la mezcla que lo constituye y la edad del mismo, se realizaron sucesivas pruebas en laboratorio con distintas proporciones y en diferentes estadías.\n",
    "En total se usaron 1030 muestras, sabiendo su edad (en días) y analizando que cantidad de siete componentes diferentes (cemento, agua, cenizas volante, etc.) las constituye, siendo todos estos atributos valores reales continuos. Para cada una de las muestras se obtuvo su resistencia a compresión.\n",
    "Entrene una red neuronal artificial para tratar de predecir cual será la resistencia a compresión de una muestra de hormigón a partir de su composición, conociendo su edad y que cantidad de cada uno de los siete materiales analizados la constituye. Utilice todas las muestras para el entrenamiento. Detalle la arquitectura empleada y los valores de los parámetros usados. Documente todos los intentos realizados. Informe los mejores resultados obtenidos."
   ]
  },
  {
   "cell_type": "code",
   "execution_count": null,
   "metadata": {
    "collapsed": true
   },
   "outputs": [],
   "source": []
  }
 ],
 "metadata": {
  "kernelspec": {
   "display_name": "Python 3",
   "language": "python",
   "name": "python3"
  },
  "language_info": {
   "codemirror_mode": {
    "name": "ipython",
    "version": 3
   },
   "file_extension": ".py",
   "mimetype": "text/x-python",
   "name": "python",
   "nbconvert_exporter": "python",
   "pygments_lexer": "ipython3",
   "version": "3.4.3"
  }
 },
 "nbformat": 4,
 "nbformat_minor": 0
}
