{
 "cells": [
  {
   "cell_type": "markdown",
   "metadata": {},
   "source": [
    "# EJERCICIO 5\n",
    "El hormigón es el material más importante en lo que a la ingeniería civil concierne. La resistencia a compresión del hormigón resulta de fundamental interés ya que permite asegurar cuanta carga podrá soportar una mezcla de hormigón particular. La resistencia a compresión depende de la edad del hormigón y de la mezcla de materiales usados para producirlo. La resistencia a compresión del hormigón se obtiene en ensayos de rotura a compresión de probetas cilíndricas normalizadas realizados a los 28 días de edad y fabricadas con las mismas amasadas puestas en obra.\n",
    "Para tratar de modelar la resistencia a compresión del hormigón a partir de la mezcla que lo constituye y la edad del mismo, se realizaron sucesivas pruebas en laboratorio con distintas proporciones y en diferentes estadías.\n",
    "En total se usaron 1030 muestras, sabiendo su edad (en días) y analizando que cantidad de siete componentes diferentes (cemento, agua, cenizas volante, etc.) las constituye, siendo todos estos atributos valores reales continuos. Para cada una de las muestras se obtuvo su resistencia a compresión.\n",
    "Entrene una red neuronal artificial para tratar de predecir cual será la resistencia a compresión de una muestra de hormigón a partir de su composición, conociendo su edad y que cantidad de cada uno de los siete materiales analizados la constituye. Utilice todas las muestras para el entrenamiento. Detalle la arquitectura empleada y los valores de los parámetros usados. Documente todos los intentos realizados. Informe los mejores resultados obtenidos."
   ]
  },
  {
   "cell_type": "code",
   "execution_count": 1,
   "metadata": {
    "collapsed": false
   },
   "outputs": [],
   "source": [
    "import numpy as np\n",
    "import matplotlib.pyplot as plt\n",
    "import matplotlib as mpl\n",
    "import mpld3\n",
    "%matplotlib inline\n",
    "mpld3.enable_notebook()\n",
    "from cperceptron import Perceptron\n",
    "from cbackpropagation import ANN #, Identidad, Sigmoide\n",
    "import patrones as magia\n",
    "def progreso(ann, X, T, y=None, n=-1, E=None):\n",
    "    if n % 20 == 0:\n",
    "        print(\"Pasos: {0} - Error: {1:.32f}\".format(n, E)) \n",
    "def progresoPerceptron(perceptron, X, T, n):\n",
    "    y = perceptron.evaluar(X)\n",
    "    incorrectas = (T != y).sum()\n",
    "    print(\"Pasos: {0}\\tIncorrectas: {1}\\n\".format(n, incorrectas))"
   ]
  },
  {
   "cell_type": "code",
   "execution_count": 2,
   "metadata": {
    "collapsed": true
   },
   "outputs": [],
   "source": [
    "hormigon = np.load('hormigon.npy')\n",
    "datos = magia.escalar(hormigon[:, :-1])\n",
    "resistencia = hormigon[:, -1].reshape(-1, 1).astype(np.int8)"
   ]
  },
  {
   "cell_type": "code",
   "execution_count": null,
   "metadata": {
    "collapsed": false
   },
   "outputs": [],
   "source": [
    "#Armo Patrones \n",
    "#clases, patronesEnt, patronesTest = magia.generar_patrones(magia.escalar(datos),resistencia,90)\n",
    "#X, T = magia.armar_patrones_y_salida_esperada(clases,patronesEnt)\n",
    "#T = T.astype(np.int8)\n",
    "#Xtest, Ttest = magia.armar_patrones_y_salida_esperada(clases,patronesTest)"
   ]
  },
  {
   "cell_type": "code",
   "execution_count": 3,
   "metadata": {
    "collapsed": false
   },
   "outputs": [],
   "source": [
    "# Armo patrones manualmente\n",
    "## De entrenamiento\n",
    "X = datos[:900,:]\n",
    "T = resistencia[:900,:].astype(np.float64)\n",
    "\n",
    "## De prueba\n",
    "Xtest = datos[-130:,:]\n",
    "Ttest = resistencia[-130:,:].astype(np.float64)"
   ]
  },
  {
   "cell_type": "code",
   "execution_count": 4,
   "metadata": {
    "collapsed": false
   },
   "outputs": [],
   "source": [
    "# Crea la red neuronal\n",
    "ocultas = 100 #3,4,10,80,50,20,150,200!,25,1000,100!!!\n",
    "entradas = X.shape[1]\n",
    "salidas = T.shape[1]\n",
    "ann = ANN(entradas, ocultas, salidas)\n",
    "ann.reiniciar()"
   ]
  },
  {
   "cell_type": "code",
   "execution_count": 5,
   "metadata": {
    "collapsed": false,
    "scrolled": true
   },
   "outputs": [
    {
     "name": "stdout",
     "output_type": "stream",
     "text": [
      "Pasos: 5000 - Error: 1.52351712605770894803924875304801\n",
      "Pasos: 10000 - Error: 1.20871923539981351858330071991077\n",
      "Pasos: 15000 - Error: 1.07006960907589432352438052475918\n",
      "Pasos: 20000 - Error: 0.98858086621176322061899099935545\n",
      "Pasos: 25000 - Error: 0.93154951937103724901589885121211\n",
      "Pasos: 30000 - Error: 0.89250529662512045891986645074212\n",
      "Pasos: 35000 - Error: 0.86615103838635665312040146091022\n",
      "Pasos: 40000 - Error: 0.84638341705698283412573346140562\n",
      "Pasos: 45000 - Error: 0.83069284761421779972323520269128\n",
      "Pasos: 50000 - Error: 0.81801151937228988586525701975916\n",
      "Pasos: 55000 - Error: 0.80669845699578635045412511317409\n",
      "Pasos: 60000 - Error: 0.79694481644584680424259204301052\n",
      "Pasos: 65000 - Error: 0.78680694082813362744133200976648\n",
      "Pasos: 70000 - Error: 0.77854270131054015280369640095159\n",
      "Pasos: 75000 - Error: 0.77142524592618177958769365432090\n",
      "Pasos: 80000 - Error: 0.76445052910129540624240007673507\n",
      "Pasos: 85000 - Error: 0.75839635462497922979707709600916\n",
      "Pasos: 90000 - Error: 0.75285835508547749306273999536643\n",
      "Pasos: 95000 - Error: 0.74758955227344059402128095825901\n",
      "Pasos: 100000 - Error: 0.74269849719207992055913791773492\n",
      "\n",
      "Red entrenada en 100000 pasos con un error de 0.74269849719207992055913791773492\n"
     ]
    }
   ],
   "source": [
    "#Entreno\n",
    "E, n = ann.entrenar_rprop(X, T, min_error=0.5, max_pasos=100000,\n",
    "                                callback=progreso, frecuencia_callback=5000)\n",
    "print(\"\\nRed entrenada en {0} pasos con un error de {1:.32f}\".format(n, E))"
   ]
  },
  {
   "cell_type": "code",
   "execution_count": 8,
   "metadata": {
    "collapsed": false,
    "scrolled": true
   },
   "outputs": [
    {
     "name": "stdout",
     "output_type": "stream",
     "text": [
      "Errores de la red: \n",
      "73.07692307692308\n",
      "\n"
     ]
    }
   ],
   "source": [
    "#Evaluo\n",
    "Y1 = ann.evaluar(Xtest)\n",
    "Y = ((Y1.round() != Ttest ).sum()*100)/130\n",
    "print(\"Errores de la red: \\n{0}\\n\".format(Y))"
   ]
  },
  {
   "cell_type": "code",
   "execution_count": 11,
   "metadata": {
    "collapsed": false
   },
   "outputs": [
    {
     "data": {
      "text/plain": [
       "(array([ 15.]), array([ 11.57266434]))"
      ]
     },
     "execution_count": 11,
     "metadata": {},
     "output_type": "execute_result"
    }
   ],
   "source": [
    "nn = 99\n",
    "Ttest[nn],Y1[nn]"
   ]
  },
  {
   "cell_type": "code",
   "execution_count": 10,
   "metadata": {
    "collapsed": true
   },
   "outputs": [],
   "source": [
    "#ann.guardar('neuronaE0.7')"
   ]
  },
  {
   "cell_type": "code",
   "execution_count": null,
   "metadata": {
    "collapsed": true
   },
   "outputs": [],
   "source": []
  }
 ],
 "metadata": {
  "kernelspec": {
   "display_name": "Python 3",
   "language": "python",
   "name": "python3"
  },
  "language_info": {
   "codemirror_mode": {
    "name": "ipython",
    "version": 3
   },
   "file_extension": ".py",
   "mimetype": "text/x-python",
   "name": "python",
   "nbconvert_exporter": "python",
   "pygments_lexer": "ipython3",
   "version": "3.4.3"
  }
 },
 "nbformat": 4,
 "nbformat_minor": 0
}
