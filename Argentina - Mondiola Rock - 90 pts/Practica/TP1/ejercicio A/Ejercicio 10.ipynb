{
 "cells": [
  {
   "cell_type": "markdown",
   "metadata": {},
   "source": [
    "# EJERCICIO 10\n",
    "La base de datos de dígitos manuscritos MNIST es un buen ejemplo de un conjunto de datos del mundo real que no requiere que uno se preocupe por el prepocesamiento de los mismos para comenzar a trabajar en su clasificación.\n",
    "Esta base de datos cuenta con un conjunto de dígitos manuscritos producidos por una gran cantidad de personas diferentes. Estos dígitos han sido escaneados a partir de documentos impresos, y los dígitos han sido centrados y escalados a un tamaño de 28x28 pixeles usando 256 tonos de grises, de forma de hacerlos comparables entre ellos. Para este ejercicio, se cuenta con un subconjunto de la base de datos original, compuesto por 5000 patrones de entrenamiento y 1000 patrones independientes para validar la clasificación.\n",
    "Ejemplos de dígitos a reconocer\n",
    "Entrene una red neuronal artificial mediante backpropagation para que sea capaz de identificar cada uno de los dígitos manuscritos. Detalle la arquitectura usada y los parámetros empleados en su entrenamiento. Informe la matriz de confusión una vez realizado el entrenamiento y muestre ejemplos de imágenes a las que no se pudo reconocer y ejemplos donde la identificación fue incorrecta, ya sea porque se identificó el dígito equivocado (era un 4 y se reconoció un 7) o la red respondió reconociendo más de un único dígito (por ejemplo, era un 3 y se reconoció tanto al un 3 como a un 8)."
   ]
  },
  {
   "cell_type": "code",
   "execution_count": 1,
   "metadata": {
    "collapsed": true
   },
   "outputs": [],
   "source": [
    "import numpy as np\n",
    "import matplotlib.pyplot as plt\n",
    "%matplotlib inline\n",
    "from cbackpropagation import ANN #, Identidad, Sigmoide\n",
    "import patrones as magia\n",
    "def progreso(ann, X, T, y=None, n=-1, E=None):\n",
    "    if n % 20 == 0:\n",
    "        print(\"Pasos: {0} - Error: {1:.32f}\".format(n, E)) "
   ]
  },
  {
   "cell_type": "code",
   "execution_count": 2,
   "metadata": {
    "collapsed": true
   },
   "outputs": [],
   "source": [
    "datos = np.load('mnistabridged.npz')\n",
    "train_data = datos['train_data']\n",
    "train_labels = datos['train_labels']\n",
    "test_data = datos['test_data']\n",
    "test_labels = datos['test_labels']\n",
    "\n",
    "# Escalado al intervalo [0, 1]\n",
    "X = train_data / 255.0  # Patrones de entrenamiento\n",
    "X2 = test_data / 255.0  # Patrones de prueba\n",
    "\n",
    "# Construcción de las respuestas esperadas a partir del valor del dígito\n",
    "clases = np.unique(train_labels)\n",
    "\n",
    "t = np.zeros((len(train_labels), len(clases))) \n",
    "t2 = np.zeros((len(test_labels), len(clases)))\n",
    "for n, clase in enumerate(clases):\n",
    "    t[train_labels.flat == clase, n] = 1\n",
    "    t2[test_labels.flat == clase, n] = 1\n",
    "\n",
    "# t tiene las respuestas esperadas para el entrenamiento\n",
    "# t2 tiene las respuestas esperadas para las pruebas"
   ]
  },
  {
   "cell_type": "code",
   "execution_count": 3,
   "metadata": {
    "collapsed": false
   },
   "outputs": [],
   "source": [
    "# Crea la red neuronal\n",
    "ocultas = 50 #50(0.02),50a1000veces(0.005)\n",
    "entradas = X.shape[1]\n",
    "salidas = t.shape[1]\n",
    "ann = ANN(entradas, ocultas, salidas)\n",
    "ann.reiniciar()"
   ]
  },
  {
   "cell_type": "code",
   "execution_count": 5,
   "metadata": {
    "collapsed": false
   },
   "outputs": [],
   "source": [
    "ann = ann.cargar('neuronaEntrenada.npz')"
   ]
  },
  {
   "cell_type": "code",
   "execution_count": null,
   "metadata": {
    "collapsed": false
   },
   "outputs": [],
   "source": [
    "#Entreno\n",
    "E, n = ann.entrenar_rprop(X, t, min_error=0, max_pasos=1000, callback=progreso, frecuencia_callback=100)\n",
    "print(\"\\nRed entrenada en {0} pasos con un error de {1:.32f}\".format(n, E))"
   ]
  },
  {
   "cell_type": "code",
   "execution_count": 125,
   "metadata": {
    "collapsed": false
   },
   "outputs": [
    {
     "data": {
      "text/plain": [
       "(array([ 0.,  0.,  0.,  0.,  0.,  0.,  0.,  0.,  0.,  0.], dtype=float32),\n",
       " array([ 0.,  0.,  1.,  0.,  0.,  0.,  0.,  0.,  0.,  0.]))"
      ]
     },
     "execution_count": 125,
     "metadata": {},
     "output_type": "execute_result"
    }
   ],
   "source": [
    "x = 1\n",
    "Y[x],t2[x]"
   ]
  },
  {
   "cell_type": "code",
   "execution_count": 134,
   "metadata": {
    "collapsed": false
   },
   "outputs": [
    {
     "data": {
      "text/plain": [
       "169"
      ]
     },
     "execution_count": 134,
     "metadata": {},
     "output_type": "execute_result"
    }
   ],
   "source": [
    "np.all(Y == [ 0.,  0.,  0.,  0.,  0.,  0.,  0.,  0.,  0.,  0.],axis=1).sum()"
   ]
  },
  {
   "cell_type": "code",
   "execution_count": 133,
   "metadata": {
    "collapsed": false
   },
   "outputs": [
    {
     "data": {
      "text/plain": [
       "array([[  77.,    0.,    0.,    0.,    0.,    0.,    0.,    0.,    0.,\n",
       "           0.,    8.],\n",
       "       [   1.,  117.,    0.,    1.,    1.,    0.,    0.,    0.,    0.,\n",
       "           0.,    6.],\n",
       "       [   0.,    0.,   59.,    2.,    0.,    1.,    0.,    2.,    3.,\n",
       "           0.,   49.],\n",
       "       [   1.,    0.,    1.,   79.,    0.,    3.,    0.,    0.,    1.,\n",
       "           0.,   22.],\n",
       "       [   1.,    0.,    0.,    0.,   88.,    1.,    1.,    0.,    0.,\n",
       "           3.,   16.],\n",
       "       [   0.,    0.,    0.,    2.,    0.,   56.,    1.,    0.,    3.,\n",
       "           0.,   25.],\n",
       "       [   2.,    0.,    0.,    0.,    1.,    2.,   65.,    0.,    0.,\n",
       "           0.,   17.],\n",
       "       [   0.,    0.,    0.,    1.,    0.,    0.,    0.,   74.,    0.,\n",
       "           2.,   22.],\n",
       "       [   0.,    0.,    0.,    1.,    2.,    0.,    0.,    0.,   60.,\n",
       "           1.,   25.],\n",
       "       [   0.,    0.,    0.,    0.,    1.,    1.,    0.,    1.,    1.,\n",
       "          69.,   21.]])"
      ]
     },
     "execution_count": 133,
     "metadata": {},
     "output_type": "execute_result"
    }
   ],
   "source": [
    "#Evaluo\n",
    "Y = (ann.evaluar(X2) >= 0.7).astype(np.float32)\n",
    "magia.matriz_de_confusion(t2,Y,1)[0]"
   ]
  },
  {
   "cell_type": "code",
   "execution_count": 136,
   "metadata": {
    "collapsed": false
   },
   "outputs": [
    {
     "data": {
      "image/png": "[encoded data removed]",
      "text/plain": [
       "<matplotlib.figure.Figure at 0x1092b7080>"
      ]
     },
     "metadata": {},
     "output_type": "display_data"
    },
    {
     "data": {
      "image/png": "[encoded data removed]",
      "text/plain": [
       "<matplotlib.figure.Figure at 0x10890bf98>"
      ]
     },
     "metadata": {},
     "output_type": "display_data"
    }
   ],
   "source": [
    "# Nueva figura: Muestra el primer patrón de entrenamiento\n",
    "plt.figure()\n",
    "plt.gray() # Para ver las imágenes en escala de grises\n",
    "plt.imshow(train_data[0].reshape(28, 28))\n",
    "plt.title('Digito: {0}'.format(train_labels[0]))\n",
    "# Nueva figura: Muestra el primer patrón de pruebas\n",
    "plt.figure()\n",
    "plt.imshow(test_data[1].reshape(28, 28))\n",
    "plt.title('Digito: {0}'.format(test_labels[1]))\n",
    "# Muestra todas las figuras creadas y espera\n",
    "plt.show()"
   ]
  },
  {
   "cell_type": "code",
   "execution_count": null,
   "metadata": {
    "collapsed": true
   },
   "outputs": [],
   "source": [
    "ann.guardar('neuronaEntrenada')"
   ]
  },
  {
   "cell_type": "markdown",
   "metadata": {
    "collapsed": true
   },
   "source": [
    "Errores encontrados"
   ]
  },
  {
   "cell_type": "code",
   "execution_count": 135,
   "metadata": {
    "collapsed": false
   },
   "outputs": [
    {
     "data": {
      "image/png": "[encoded data removed]",
      "text/plain": [
       "<matplotlib.figure.Figure at 0x108afc4a8>"
      ]
     },
     "metadata": {},
     "output_type": "display_data"
    }
   ],
   "source": [
    "# Nueva figura: Muestra el patrón de pruebas erroneo\n",
    "plt.figure()\n",
    "plt.imshow(X2[882].reshape(28, 28))\n",
    "plt.title('Digito: {0}'.format(test_labels[1]))\n",
    "# Muestra todas las figuras creadas y espera\n",
    "plt.show()"
   ]
  },
  {
   "cell_type": "code",
   "execution_count": 116,
   "metadata": {
    "collapsed": false
   },
   "outputs": [
    {
     "data": {
      "text/plain": [
       "array([ 0.,  0.,  0.,  0.,  0.,  0.,  0.,  1.,  0.,  0.], dtype=float32)"
      ]
     },
     "execution_count": 116,
     "metadata": {},
     "output_type": "execute_result"
    }
   ],
   "source": [
    "(magia.escalar(ann.evaluar(X2)[882]) >= 0.9).astype(np.float32)"
   ]
  },
  {
   "cell_type": "code",
   "execution_count": null,
   "metadata": {
    "collapsed": true
   },
   "outputs": [],
   "source": []
  }
 ],
 "metadata": {
  "kernelspec": {
   "display_name": "Python 3",
   "language": "python",
   "name": "python3"
  },
  "language_info": {
   "codemirror_mode": {
    "name": "ipython",
    "version": 3
   },
   "file_extension": ".py",
   "mimetype": "text/x-python",
   "name": "python",
   "nbconvert_exporter": "python",
   "pygments_lexer": "ipython3",
   "version": "3.4.3"
  }
 },
 "nbformat": 4,
 "nbformat_minor": 0
}
