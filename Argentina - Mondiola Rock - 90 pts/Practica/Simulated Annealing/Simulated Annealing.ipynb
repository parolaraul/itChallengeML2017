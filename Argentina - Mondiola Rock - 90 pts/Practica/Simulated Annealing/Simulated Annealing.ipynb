{
 "metadata": {
  "name": "",
  "signature": "sha256:b60cfbc204f78523b69d513f84bd9d023ac6c9f5a570d0b777de0fbd6899f967"
 },
 "nbformat": 3,
 "nbformat_minor": 0,
 "worksheets": [
  {
   "cells": [
    {
     "cell_type": "heading",
     "level": 1,
     "metadata": {},
     "source": [
      "Simulated Annealing"
     ]
    },
    {
     "cell_type": "code",
     "collapsed": false,
     "input": [
      "%matplotlib inline"
     ],
     "language": "python",
     "metadata": {},
     "outputs": [],
     "prompt_number": 1
    },
    {
     "cell_type": "code",
     "collapsed": false,
     "input": [
      "import numpy as np\n",
      "import matplotlib.pyplot as plt\n",
      "import random"
     ],
     "language": "python",
     "metadata": {},
     "outputs": [],
     "prompt_number": 3
    },
    {
     "cell_type": "heading",
     "level": 1,
     "metadata": {},
     "source": [
      "Definici\u00f3n del problema"
     ]
    },
    {
     "cell_type": "markdown",
     "metadata": {},
     "source": [
      "El objetivo de este ejemplo es encontrar el m\u00e1ximo de la funci\u00f3n $f(x) = x \\, \\sin(4x \\, - \\, 2$), evaluada dentro del intervalo $[-2, 3]$. Supongamos que los n\u00fameros con los que vamos a trabajar los queremos representar con una presici\u00f3n de dos d\u00edgitos decimales (es decir, no habr\u00e1n valores representables entre 0 y 0.01, por ejemplo).\n",
      "\n",
      "Para comenzar, definimos la funci\u00f3n en cuesti\u00f3n:"
     ]
    },
    {
     "cell_type": "code",
     "collapsed": false,
     "input": [
      "maximo = 3\n",
      "minimo = -2\n",
      "prec = 0.01\n",
      "\n",
      "def func(x):\n",
      "    return x * np.sin(4 * x - 2)"
     ],
     "language": "python",
     "metadata": {},
     "outputs": [],
     "prompt_number": 4
    },
    {
     "cell_type": "markdown",
     "metadata": {},
     "source": [
      "En este caso, que es un problema ficticio, podemos graficar la funci\u00f3n y observar donde se encuentra el m\u00e1ximo.\n",
      "\n",
      "O mejor, aplicando an\u00e1lisis matem\u00e1tico, podemos calcular la derivada de la funci\u00f3n y calcular sus ceros, para luego ver cual de ellos es el m\u00e1ximo global.\n",
      "\n",
      "$\\frac{df(x)}{dx} = \\frac{d \\left( x\\,\\sin(4x\\,-\\,2) \\right)}{dx} = 4x\\,\\cos(2\\,-\\,4x)\\,-\\,\\sin(2\\,-\\,4x) = 0$\n",
      "\n",
      "Esto permite estimar el m\u00e1ximo en $ x \\approx 2.48852668729269 $"
     ]
    },
    {
     "cell_type": "code",
     "collapsed": false,
     "input": [
      "X = np.arange(minimo, maximo, prec)\n",
      "plt.plot(X, func(X))\n",
      "\n",
      "maximo_x = 2.48852668729269\n",
      "plt.plot(maximo_x, func(maximo_x), 'or')"
     ],
     "language": "python",
     "metadata": {},
     "outputs": [
      {
       "metadata": {},
       "output_type": "pyout",
       "prompt_number": 5,
       "text": [
        "[<matplotlib.lines.Line2D at 0xb0ab656c>]"
       ]
      },
      {
       "metadata": {},
       "output_type": "display_data",
       "png": "[encoded data removed]",
       "text": [
        "<matplotlib.figure.Figure at 0xb0bea58c>"
       ]
      }
     ],
     "prompt_number": 5
    },
    {
     "cell_type": "heading",
     "level": 1,
     "metadata": {},
     "source": [
      "Implementaci\u00f3n del Algoritmo"
     ]
    },
    {
     "cell_type": "markdown",
     "metadata": {},
     "source": [
      "Al igual que con *Hill Climbing*, si se quiere utilizar a *Simulated Annealing* como heur\u00edstica de b\u00fasqueda, debemos definir estas tres cuestiones:\n",
      "\n",
      "1. C\u00f3mo se van a representar las potenciales soluciones al problema y de que manera se podr\u00e1n generar soluciones al azar.\n",
      "\n",
      "2. C\u00f3mo calificar una soluciones potencial, para comparar dos soluciones representadas y poder determinar cual de las dos es mejor que la otra intentando resolver el problema (aunque ninguna de las dos realmente lo resuelva).\n",
      "\n",
      "3. C\u00f3mo generar a partir de una soluci\u00f3n dada un conjunto de nuevas soluciones vecinas a esta, lo que implica definir adem\u00e1s una m\u00e9trica de distancia entre soluciones.\n",
      " \n",
      "El algoritmo puede implementarse de la siguiente forma:"
     ]
    },
    {
     "cell_type": "code",
     "collapsed": false,
     "input": [
      "def simulated_annealing(solucion_inicial, evaluacion, obtener_vecinos,\n",
      "                        T_max, T_min, reduccion):\n",
      "    \"\"\"\n",
      "    Simulated Annealing.\n",
      "    \"\"\"\n",
      "    from random import random\n",
      "\n",
      "    solucion_mejor = solucion_actual = solucion_inicial\n",
      "    evaluacion_mejor = evaluacion_actual = evaluacion(solucion_actual)\n",
      "    soluciones_evaluadas = 1\n",
      "\n",
      "    T = T_max\n",
      "    while T >= T_min:\n",
      "        vecinos = obtener_vecinos(solucion_actual)\n",
      "        for vecino in vecinos:\n",
      "            evaluacion_vecino = evaluacion(vecino)\n",
      "            soluciones_evaluadas += 1\n",
      "            \n",
      "            if (evaluacion_vecino > evaluacion_actual or\n",
      "                random() < np.exp((evaluacion_vecino - evaluacion_actual) / T)):\n",
      "                solucion_actual = vecino\n",
      "                evaluacion_actual = evaluacion_vecino\n",
      "                if evaluacion_mejor < evaluacion_actual:\n",
      "                    solucion_mejor = solucion_actual\n",
      "                    evaluacion_mejor = evaluacion_actual\n",
      "\n",
      "        T = reduccion * T\n",
      "\n",
      "    return solucion_mejor, soluciones_evaluadas"
     ],
     "language": "python",
     "metadata": {},
     "outputs": [],
     "prompt_number": 6
    },
    {
     "cell_type": "heading",
     "level": 1,
     "metadata": {},
     "source": [
      "Representaci\u00f3n y generaci\u00f3n de potenciales soluciones"
     ]
    },
    {
     "cell_type": "markdown",
     "metadata": {},
     "source": [
      "Si a las soluciones se las representan como valores en punto flotante, puede generarse una soluci\u00f3n al azar usando la funci\u00f3n `random()` y escalando el valor al intervalo de trabajo, redondeando con `round()` a la cantidad de decimales que define la precisi\u00f3n."
     ]
    },
    {
     "cell_type": "code",
     "collapsed": false,
     "input": [
      "def nueva():\n",
      "    return round(minimo + random.random() * (maximo - minimo), 2)"
     ],
     "language": "python",
     "metadata": {},
     "outputs": [],
     "prompt_number": 7
    },
    {
     "cell_type": "code",
     "collapsed": false,
     "input": [
      "print(nueva(), nueva(), nueva(), nueva(), nueva(), nueva(), sep='    ')"
     ],
     "language": "python",
     "metadata": {},
     "outputs": [
      {
       "output_type": "stream",
       "stream": "stdout",
       "text": [
        "-1.27    2.51    1.64    1.07    2.21    1.2\n"
       ]
      }
     ],
     "prompt_number": 11
    },
    {
     "cell_type": "heading",
     "level": 1,
     "metadata": {},
     "source": [
      "Evaluaci\u00f3n de las soluciones"
     ]
    },
    {
     "cell_type": "markdown",
     "metadata": {},
     "source": [
      "Para evaluar una soluci\u00f3n, podemos usar directamente la funci\u00f3n que queremos maximizar ya que si la calificaci\u00f3n de un punto ser\u00e1 el valor de la funci\u00f3n evaluada en ese punto, cuanto mayor sea mejor ser\u00e1 resolviendo el problema."
     ]
    },
    {
     "cell_type": "code",
     "collapsed": false,
     "input": [
      "def evaluacion(x):\n",
      "    return func(x)"
     ],
     "language": "python",
     "metadata": {},
     "outputs": [],
     "prompt_number": 12
    },
    {
     "cell_type": "heading",
     "level": 1,
     "metadata": {},
     "source": [
      "Generaci\u00f3n de soluciones vecinas"
     ]
    },
    {
     "cell_type": "markdown",
     "metadata": {},
     "source": [
      "Para generar soluciones dentro de la vecindad de una soluci\u00f3n dada, simplemente generamos 4 nuevas soluciones: $[ x-0.03, x-0.01, x+0.01, x+0.03]$. Estas cuatro soluciones tienen la particularidad que se encuentran dentro del entorno $(x \\pm 0.05)$ y son valores representados con la precisi\u00f3n deseada.\n",
      "\n",
      "Es importante tomar la precauci\u00f3n de no generar soluciones fuera del rango permitido. Por ejemplo, si $x=3$, no deber\u00edan generarse soluciones mayores que x pues se encontrar\u00edan fuera del rango fijado para el problema."
     ]
    },
    {
     "cell_type": "code",
     "collapsed": false,
     "input": [
      "def vecinos(x):\n",
      "    v = []\n",
      "    d = -0.03\n",
      "    for i in range(4):\n",
      "        n = x + d\n",
      "        if n >= minimo and n <= maximo:\n",
      "            v.append(n)\n",
      "        d += 0.02\n",
      "    return v"
     ],
     "language": "python",
     "metadata": {},
     "outputs": [],
     "prompt_number": 13
    },
    {
     "cell_type": "code",
     "collapsed": false,
     "input": [
      "print(vecinos(0.5), vecinos(1), vecinos(minimo), vecinos(maximo), sep=\"\\n\")"
     ],
     "language": "python",
     "metadata": {},
     "outputs": [
      {
       "output_type": "stream",
       "stream": "stdout",
       "text": [
        "[0.47, 0.49, 0.51, 0.53]\n",
        "[0.97, 0.99, 1.01, 1.03]\n",
        "[-1.99, -1.97]\n",
        "[2.97, 2.99]\n"
       ]
      }
     ],
     "prompt_number": 14
    },
    {
     "cell_type": "heading",
     "level": 1,
     "metadata": {},
     "source": [
      "Par\u00e1metros del algoritmo"
     ]
    },
    {
     "cell_type": "markdown",
     "metadata": {},
     "source": [
      "Para determinar la temperatura inicial (`T_max`) o la temperatura final (`T_min`), debemos preguntarnos:\n",
      "\n",
      "\u00bfCon qu\u00e9 probabilidad $prob$ quiero que se elijan soluciones peores que la actual en $E = eval(vecino) - eval(actual)$?\n",
      "\n",
      "Sabiendo que $prob = e^{\\frac{eval(vecino) - eval(actual)}{t}}$, obtenemos que $T = \\frac{eval(vecino) - eval(actual)}{ln(prob)}$.\n",
      "\n",
      "As\u00ed, si se quiere que inicialmente no se acepten soluciones peores que la actual en $0.5$, usando como $prob = 0.01$, se obtiene:"
     ]
    },
    {
     "cell_type": "code",
     "collapsed": false,
     "input": [
      "dif  = 0.5\n",
      "prob = 0.01\n",
      "\n",
      "T_max = -dif / np.log(prob)\n",
      "T_max"
     ],
     "language": "python",
     "metadata": {},
     "outputs": [
      {
       "metadata": {},
       "output_type": "pyout",
       "prompt_number": 15,
       "text": [
        "0.10857362047581297"
       ]
      }
     ],
     "prompt_number": 15
    },
    {
     "cell_type": "markdown",
     "metadata": {},
     "source": [
      "Graficando la curva de probabilidad de aceptraci\u00f3n para `T_max`:"
     ]
    },
    {
     "cell_type": "code",
     "collapsed": false,
     "input": [
      "X = np.linspace(-2*dif, 0, 100)\n",
      "plt.plot(X, np.exp(X / T_max), -dif, prob, '+r');"
     ],
     "language": "python",
     "metadata": {},
     "outputs": [
      {
       "metadata": {},
       "output_type": "display_data",
       "png": "[encoded data removed]",
       "text": [
        "<matplotlib.figure.Figure at 0xb0aca3ac>"
       ]
      }
     ],
     "prompt_number": 16
    },
    {
     "cell_type": "markdown",
     "metadata": {},
     "source": [
      "De la misma forma, si al final de la ejecuci\u00f3n no se quieren soluciones peores que la actual en $0.01$, usando como $prob = 0.01$, se obtiene:"
     ]
    },
    {
     "cell_type": "code",
     "collapsed": false,
     "input": [
      "dif  = 0.01\n",
      "prob = 0.01\n",
      "\n",
      "T_min = -dif / np.log(prob)\n",
      "T_min"
     ],
     "language": "python",
     "metadata": {},
     "outputs": [
      {
       "metadata": {},
       "output_type": "pyout",
       "prompt_number": 17,
       "text": [
        "0.0021714724095162593"
       ]
      }
     ],
     "prompt_number": 17
    },
    {
     "cell_type": "code",
     "collapsed": false,
     "input": [
      "X = np.linspace(-2*dif, 0, 100)\n",
      "plt.plot(X, np.exp(X / T_min), -dif, prob, '+r');"
     ],
     "language": "python",
     "metadata": {},
     "outputs": [
      {
       "metadata": {},
       "output_type": "display_data",
       "png": "[encoded data removed]",
       "text": [
        "<matplotlib.figure.Figure at 0xb0b1888c>"
       ]
      }
     ],
     "prompt_number": 18
    },
    {
     "cell_type": "markdown",
     "metadata": {},
     "source": [
      "El factor de reducci\u00f3n estar\u00e1 asociado a la cantidad de pasos que queremos realizar para ir desde `T_max` hasta `T_min`. El algoritmo funcionar\u00e1 reduciendo la temperatura actual multiplic\u00e1ndola por el factor de reducci\u00f3n: $T_{(i)} = r \\cdot T_{(i-1)}$\n",
      "\n",
      "Partiendo con $T = T_{max}$ y reduciendo la temperatura de la forma indicada, $T < T_{min}$ cuando $T_{max} \\cdot  r \\cdot  r \\cdot \\, ... \\, \\cdot  r < T_{min}$, o sea,  $T_{max} \\cdot  r ^ N < T_{min}$.\n",
      "\n",
      "As\u00ed, para determinar el factor de reducci\u00f3n $r$ a partir de la cantidad de reducciones $N$ que se quiera hacer, simplemente puede calcularse:\n",
      "\n",
      "$T_{max} \\cdot  r ^ N = T_{min}\n",
      "\\quad \\Rightarrow \\quad\n",
      "r ^ N = \\frac{T_{min}}{T_{max}}\n",
      "\\quad \\Rightarrow \\quad\n",
      "\\log {r ^ N} = \\log {\\frac{T_{min}}{T_{max}}}\n",
      "\\quad \\Rightarrow \\quad\n",
      "N \\cdot \\log r = \\log {\\frac{T_{min}}{T_{max}}}\n",
      "\\quad \\Rightarrow \\quad\n",
      "\\log r = \\frac {\\log {\\frac{T_{min}}{T_{max}}}} {N}\n",
      "\\quad \\Rightarrow \\quad\n",
      "r = e ^ {\\left ( {\\frac {\\log {\\frac{T_{min}}{T_{max}}}} {N}} \\right ) }$\n",
      "\n",
      "Si $N = 30$, el factor de reducci\u00f3n $r$ a usar ser\u00eda:"
     ]
    },
    {
     "cell_type": "code",
     "collapsed": false,
     "input": [
      "N = 30\n",
      "reduccion = np.exp(np.log(T_min / T_max) / N)\n",
      "reduccion"
     ],
     "language": "python",
     "metadata": {},
     "outputs": [
      {
       "metadata": {},
       "output_type": "pyout",
       "prompt_number": 19,
       "text": [
        "0.8777435898906345"
       ]
      }
     ],
     "prompt_number": 19
    },
    {
     "cell_type": "markdown",
     "metadata": {},
     "source": [
      "Podemos comprobar que eso es efectivamente as\u00ed:"
     ]
    },
    {
     "cell_type": "code",
     "collapsed": false,
     "input": [
      "i = 0\n",
      "T = T_max\n",
      "while T >= T_min:\n",
      "    print(\"Iteraci\u00f3n\", i, \"- Temperatura:\", T)\n",
      "    T = reduccion * T\n",
      "    i += 1"
     ],
     "language": "python",
     "metadata": {},
     "outputs": [
      {
       "output_type": "stream",
       "stream": "stdout",
       "text": [
        "Iteraci\u00f3n 0 - Temperatura: 0.108573620476\n",
        "Iteraci\u00f3n 1 - Temperatura: 0.0952997994039\n",
        "Iteraci\u00f3n 2 - Temperatura: 0.0836487880446\n",
        "Iteraci\u00f3n 3 - Temperatura: 0.0734221875083\n",
        "Iteraci\u00f3n 4 - Temperatura: 0.0644458544411\n",
        "Iteraci\u00f3n 5 - Temperatura: 0.0565669356307\n",
        "Iteraci\u00f3n 6 - Temperatura: 0.0496512651496\n",
        "Iteraci\u00f3n 7 - Temperatura: 0.043581079715\n",
        "Iteraci\u00f3n 8 - Temperatura: 0.0382530133604\n",
        "Iteraci\u00f3n 9 - Temperatura: 0.0335763372711\n",
        "Iteraci\u00f3n 10 - Temperatura: 0.0294714148117\n",
        "Iteraci\u00f3n 11 - Temperatura: 0.025868345436\n",
        "Iteraci\u00f3n 12 - Temperatura: 0.0227057743875\n",
        "Iteraci\u00f3n 13 - Temperatura: 0.0199298479221\n",
        "Iteraci\u00f3n 14 - Temperatura: 0.0174932962612\n",
        "Iteraci\u00f3n 15 - Temperatura: 0.0153546286593\n",
        "Iteraci\u00f3n 16 - Temperatura: 0.0134774268808\n",
        "Iteraci\u00f3n 17 - Temperatura: 0.0118297250529\n",
        "Iteraci\u00f3n 18 - Temperatura: 0.0103834653353\n",
        "Iteraci\u00f3n 19 - Temperatura: 0.00911402013894\n",
        "Iteraci\u00f3n 20 - Temperatura: 0.00799977275509\n",
        "Iteraci\u00f3n 21 - Temperatura: 0.00702174925636\n",
        "Iteraci\u00f3n 22 - Temperatura: 0.00616329539959\n",
        "Iteraci\u00f3n 23 - Temperatura: 0.00540979302959\n",
        "Iteraci\u00f3n 24 - Temperatura: 0.00474841115436\n",
        "Iteraci\u00f3n 25 - Temperatura: 0.0041678874529\n",
        "Iteraci\u00f3n 26 - Temperatura: 0.00365833649517\n",
        "Iteraci\u00f3n 27 - Temperatura: 0.0032110814083\n",
        "Iteraci\u00f3n 28 - Temperatura: 0.00281850612275\n",
        "Iteraci\u00f3n 29 - Temperatura: 0.00247392568231\n",
        "Iteraci\u00f3n 30 - Temperatura: 0.00217147240952\n"
       ]
      }
     ],
     "prompt_number": 20
    },
    {
     "cell_type": "heading",
     "level": 1,
     "metadata": {},
     "source": [
      "Obteniendo resultados"
     ]
    },
    {
     "cell_type": "markdown",
     "metadata": {},
     "source": [
      "Finalmente, podemos invocar al algoritmo generando una soluci\u00f3n inicial al azar y pasando la funci\u00f3n de evaluaci\u00f3n y la funci\u00f3n generadora de vecinos:"
     ]
    },
    {
     "cell_type": "code",
     "collapsed": false,
     "input": [
      "inicial = nueva()\n",
      "mejor, evaluaciones = simulated_annealing(inicial, evaluacion, vecinos,\n",
      "                                          T_max=T_max, \n",
      "                                          T_min=T_min, \n",
      "                                          reduccion=reduccion)"
     ],
     "language": "python",
     "metadata": {},
     "outputs": [],
     "prompt_number": 21
    },
    {
     "cell_type": "markdown",
     "metadata": {},
     "source": [
      "Podemos ver el resultado de la ejecuci\u00f3n junto con la cantidad de soluciones que tuvieron que evaluarse para conseguirla:"
     ]
    },
    {
     "cell_type": "code",
     "collapsed": false,
     "input": [
      "X = np.arange(minimo, maximo, prec)\n",
      "\n",
      "plt.plot(X, func(X),\n",
      "         maximo_x, func(maximo_x), 'or',  # Punto rojo: M\u00e1ximo de la funci\u00f3n\n",
      "         inicial, func(inicial), 'oy',    # Punto amarillo: Soluci\u00f3n inicial\n",
      "         mejor, func(mejor), 'ob')        # Punto azul: Mejor soluci\u00f3n encontrada\n",
      "\n",
      "print(\"Cantidad de soluciones evaluadas:\", evaluaciones)\n",
      "print(\"Soluci\u00f3n inicial:\", inicial)\n",
      "print(\"Soluci\u00f3n obtenida:\", mejor)\n",
      "print(\"Valor de func para esa soluci\u00f3n:\", func(mejor))"
     ],
     "language": "python",
     "metadata": {},
     "outputs": [
      {
       "output_type": "stream",
       "stream": "stdout",
       "text": [
        "Cantidad de soluciones evaluadas: 125\n",
        "Soluci\u00f3n inicial: 0.4\n",
        "Soluci\u00f3n obtenida: 0.9600000000000005\n",
        "Valor de func para esa soluci\u00f3n: 0.925423676306\n"
       ]
      },
      {
       "metadata": {},
       "output_type": "display_data",
       "png": "[encoded data removed]",
       "text": [
        "<matplotlib.figure.Figure at 0xb0a768ac>"
       ]
      }
     ],
     "prompt_number": 22
    },
    {
     "cell_type": "markdown",
     "metadata": {},
     "source": [
      "Podemos interactuar con el algoritmo observando todas las soluciones que gener\u00f3 a lo largo de su ejecuci\u00f3n. Para ello, modificamos el algoritmo para que las devuelva:"
     ]
    },
    {
     "cell_type": "code",
     "collapsed": false,
     "input": [
      "def simulated_annealing(solucion_inicial, evaluacion, obtener_vecinos,\n",
      "                        T_max, T_min, reduccion):\n",
      "    \"\"\"\n",
      "    Simulated Annealing.\n",
      "    \"\"\"\n",
      "    from random import random\n",
      "\n",
      "    soluciones = [solucion_inicial]\n",
      "    solucion_mejor = solucion_actual = solucion_inicial\n",
      "    evaluacion_mejor = evaluacion_actual = evaluacion(solucion_actual)\n",
      "    soluciones_evaluadas = 1\n",
      "\n",
      "    T = T_max\n",
      "    while T >= T_min:\n",
      "        vecinos = obtener_vecinos(solucion_actual)\n",
      "        for vecino in vecinos:\n",
      "            evaluacion_vecino = evaluacion(vecino)\n",
      "            soluciones_evaluadas += 1\n",
      "            \n",
      "            if (evaluacion_vecino > evaluacion_actual or\n",
      "                random() < np.exp((evaluacion_vecino - evaluacion_actual) / T)):\n",
      "                solucion_actual = vecino\n",
      "                evaluacion_actual = evaluacion_vecino\n",
      "                soluciones.append(vecino)\n",
      "                if evaluacion_mejor < evaluacion_actual:\n",
      "                    solucion_mejor = solucion_actual\n",
      "                    evaluacion_mejor = evaluacion_actual\n",
      "\n",
      "        T = reduccion * T\n",
      "\n",
      "    return solucion_mejor, soluciones_evaluadas, soluciones"
     ],
     "language": "python",
     "metadata": {},
     "outputs": [],
     "prompt_number": 23
    },
    {
     "cell_type": "code",
     "collapsed": true,
     "input": [
      "from IPython.html.widgets import interact, IntSliderWidget"
     ],
     "language": "python",
     "metadata": {},
     "outputs": [],
     "prompt_number": 24
    },
    {
     "cell_type": "markdown",
     "metadata": {},
     "source": [
      "El siguiente c\u00f3digo ejecuta el algorimo modificado y grafica en forma interactiva cada una de las soluciones elegidas (en color verde) comenzando a partir de la soluci\u00f3n inicial (color amarillo). Tambi\u00e9n indica el m\u00e1ximo de la funci\u00f3n (color rojo) y la mejor soluci\u00f3n encontrada durante la ejecuci\u00f3n (color azul):"
     ]
    },
    {
     "cell_type": "code",
     "collapsed": false,
     "input": [
      "# Usando una soluci\u00f3n inicial fija, puede verse como cambia el comportamiento del algoritmo.\n",
      "inicial = 1.6\n",
      "\n",
      "mejor, evaluaciones, soluciones = simulated_annealing(inicial, evaluacion, vecinos,\n",
      "                                          T_max=T_max, T_min=T_min, reduccion=reduccion)\n",
      "\n",
      "X = np.arange(minimo, maximo, prec)\n",
      "puntos = np.array(soluciones)\n",
      "\n",
      "def p(t):\n",
      "    plt.plot(X, func(X),\n",
      "         maximo_x, func(maximo_x), 'or',    # Punto rojo: M\u00e1ximo de la funci\u00f3n\n",
      "         inicial, func(inicial), 'oy',      # Punto amarillo: Soluci\u00f3n inicial\n",
      "         puntos[t], func(puntos[t]), 'og',  # Punto verde: Soluci\u00f3n intermedia\n",
      "         mejor, func(mejor), 'ob')          # Punto azul: Mejor soluci\u00f3n hallada\n",
      "    plt.show()\n",
      "    \n",
      "i = interact(p, t=IntSliderWidget(min=0, max=len(soluciones)-1, step=1, value=0))\n",
      "\n",
      "print(\"Cantidad de soluciones evaluadas:\", evaluaciones)"
     ],
     "language": "python",
     "metadata": {},
     "outputs": [
      {
       "metadata": {},
       "output_type": "display_data",
       "png": "[encoded data removed]",
       "text": [
        "<matplotlib.figure.Figure at 0xb0a2e5cc>"
       ]
      }
     ],
     "prompt_number": 25
    },
    {
     "cell_type": "code",
     "collapsed": false,
     "input": [],
     "language": "python",
     "metadata": {},
     "outputs": []
    }
   ],
   "metadata": {}
  }
 ]
}