{
 "cells": [
  {
   "cell_type": "markdown",
   "metadata": {},
   "source": [
    "# Ejercicio 3\n",
    "Intente resolver el problema de las N-Reinas usando Hill Climbing y un Algoritmo Evolutivo.\n",
    "\n",
    "a) Proponga una representación adecuada para las soluciones.\n",
    "\n",
    "b) Proponga una función de evaluación que le permita cali car que tan buena es una solución.\n",
    "\n",
    "c) De na de que manera se obtendrán las soluciones vecinas para Hill Climbing y que operadores van a usarse con el Algoritmo Evolutivo.\n",
    "\n",
    "d) Implemente y pruebe lo de nido en los puntos anteriores para el caso donde N=16. Evalúe los resultados obtenidos. Detalle todos los parámetros usados. Justifique."
   ]
  },
  {
   "cell_type": "code",
   "execution_count": 1,
   "metadata": {
    "collapsed": false
   },
   "outputs": [],
   "source": [
    "import numpy as np\n",
    "import matplotlib.pyplot as plt\n",
    "from matplotlib import pylab\n",
    "import mpld3\n",
    "\n",
    "%matplotlib inline\n",
    "mpld3.enable_notebook()\n",
    "\n",
    "from busqueda_local import hill_climb\n",
    "from deap import base, creator, tools, algorithms"
   ]
  },
  {
   "cell_type": "code",
   "execution_count": 2,
   "metadata": {
    "collapsed": false
   },
   "outputs": [],
   "source": [
    "# -*- coding: utf-8 -*-\n",
    "\"\"\"\n",
    "Ejercicio 3: N-reinas\n",
    "\"\"\"\n",
    "\n",
    "QUEENS = 16\n",
    "\n",
    "def amenaza(fila_1, col_1, fila_2, col_2):\n",
    "    \"Determina a partir de sus posiciones si dos reinas se están amenazando.\"\n",
    "    return ( (fila_1 == fila_2) or (col_1 == col_2) or\n",
    "             (abs(fila_1 - fila_2) == abs(col_1 - col_2)) )\n",
    "\n",
    "\"\"\"\n",
    "Para la cantidad máxima de amenazas, si la reina A amenaza a la reina B, la\n",
    "reina B también amenaza a la reina A pero sólo se contabiliza como una amenaza.\n",
    "\"\"\"\n",
    "MAX_AMENAZAS = (QUEENS * (QUEENS-1)) / 2\n"
   ]
  },
  {
   "cell_type": "markdown",
   "metadata": {},
   "source": [
    "# Hill Climbing\n",
    "## Evaluacion"
   ]
  },
  {
   "cell_type": "code",
   "execution_count": 3,
   "metadata": {
    "collapsed": true
   },
   "outputs": [],
   "source": [
    "def evaluacion(x):\n",
    "    t=0\n",
    "    for i in range(0,x.size-1):\n",
    "        for j in range(i+1,x.size):\n",
    "            if amenaza(i,x[i],j,x[j]):\n",
    "                t+=1\n",
    "    return -t"
   ]
  },
  {
   "cell_type": "markdown",
   "metadata": {},
   "source": [
    "## Vecinos"
   ]
  },
  {
   "cell_type": "code",
   "execution_count": 4,
   "metadata": {
    "collapsed": true
   },
   "outputs": [],
   "source": [
    "def invertirPos(x,pos1,pos2):\n",
    "    aaa=x[pos1]\n",
    "    x[pos1]=x[pos2]\n",
    "    x[pos2]=aaa\n",
    "    return x\n",
    "\n",
    "def vecinos(x):\n",
    "    v = []\n",
    "    pos=np.random.randint(0,x.size,3)\n",
    "    while pos[0]==pos[1] & pos[1]==pos[2]:\n",
    "        pos=np.random.randint(0,x.size,3)\n",
    "    v.append(invertirPos(x,pos[0],pos[1]))\n",
    "    v.append(invertirPos(x,pos[0],pos[2]))\n",
    "    v.append(invertirPos(x,pos[1],pos[2]))\n",
    "    return v"
   ]
  },
  {
   "cell_type": "markdown",
   "metadata": {},
   "source": [
    "## Nuevos"
   ]
  },
  {
   "cell_type": "code",
   "execution_count": 5,
   "metadata": {
    "collapsed": false
   },
   "outputs": [],
   "source": [
    "def nuevos(q):\n",
    "    a=np.arange(q)\n",
    "    np.random.shuffle(a)\n",
    "    return a"
   ]
  },
  {
   "cell_type": "markdown",
   "metadata": {},
   "source": [
    "## Busco"
   ]
  },
  {
   "cell_type": "code",
   "execution_count": 6,
   "metadata": {
    "collapsed": false
   },
   "outputs": [],
   "source": [
    "def buscar(i,reinas):\n",
    "    mejor = nuevos(reinas)\n",
    "    for j in range(i):\n",
    "        mejor, evaluaciones = hill_climb(mejor, evaluacion, vecinos)\n",
    "        print(\"\\nEvaluacion mejor\",evaluacion(mejor))\n",
    "        print(\"Evaluaciones:\",evaluaciones)\n",
    "        if evaluacion(mejor)==0:\n",
    "            print(\"Ganadora:\",mejor)\n",
    "            tablero=np.empty((reinas,reinas),np.str_)\n",
    "            for i in range(reinas):\n",
    "                tablero[i,mejor[i]]='X'\n",
    "            print(tablero)\n",
    "    return"
   ]
  },
  {
   "cell_type": "code",
   "execution_count": 7,
   "metadata": {
    "collapsed": true
   },
   "outputs": [],
   "source": [
    "def buscarMejor(reinas):\n",
    "    mejor = nuevos(reinas)\n",
    "    while evaluacion(mejor)!=0:\n",
    "        mejor, evaluaciones = hill_climb(mejor, evaluacion, vecinos)\n",
    "    print(\"Evaluaciones:\",evaluaciones)\n",
    "    print(\"Ganadora:\",mejor)\n",
    "    tablero=np.empty((reinas,reinas),np.str_)\n",
    "    for i in range(reinas):\n",
    "        tablero[i,mejor[i]]='X'\n",
    "    print(tablero)\n",
    "    return mejor"
   ]
  },
  {
   "cell_type": "code",
   "execution_count": 8,
   "metadata": {
    "collapsed": false
   },
   "outputs": [
    {
     "name": "stdout",
     "output_type": "stream",
     "text": [
      "Evaluaciones: 10\n",
      "Ganadora: [5 2 0 7 4 1 3 6]\n",
      "[['' '' '' '' '' 'X' '' '']\n",
      " ['' '' 'X' '' '' '' '' '']\n",
      " ['X' '' '' '' '' '' '' '']\n",
      " ['' '' '' '' '' '' '' 'X']\n",
      " ['' '' '' '' 'X' '' '' '']\n",
      " ['' 'X' '' '' '' '' '' '']\n",
      " ['' '' '' 'X' '' '' '' '']\n",
      " ['' '' '' '' '' '' 'X' '']]\n"
     ]
    },
    {
     "data": {
      "text/plain": [
       "array([5, 2, 0, 7, 4, 1, 3, 6])"
      ]
     },
     "execution_count": 8,
     "metadata": {},
     "output_type": "execute_result"
    }
   ],
   "source": [
    "buscarMejor(8)"
   ]
  },
  {
   "cell_type": "markdown",
   "metadata": {},
   "source": [
    "# Algoritmo Evolutivo"
   ]
  },
  {
   "cell_type": "code",
   "execution_count": 157,
   "metadata": {
    "collapsed": true
   },
   "outputs": [],
   "source": [
    "QUEENS=16"
   ]
  },
  {
   "cell_type": "markdown",
   "metadata": {},
   "source": [
    "## Defino Fitness Esperado"
   ]
  },
  {
   "cell_type": "code",
   "execution_count": 159,
   "metadata": {
    "collapsed": true
   },
   "outputs": [],
   "source": [
    "creator.create(\"FitnessMax\", base.Fitness, weights=(-1,))\n",
    "creator.create(\"Individual\", list, fitness=creator.FitnessMax)"
   ]
  },
  {
   "cell_type": "markdown",
   "metadata": {},
   "source": [
    "## Defino ADN del Individuo"
   ]
  },
  {
   "cell_type": "code",
   "execution_count": 160,
   "metadata": {
    "collapsed": false
   },
   "outputs": [],
   "source": [
    "toolbox = base.Toolbox()\n",
    "toolbox.register(\"cromo_gen\", nuevos, QUEENS)\n",
    "toolbox.register(\"individual\", tools.initIterate, creator.Individual, toolbox.cromo_gen)\n",
    "toolbox.register(\"population\", tools.initRepeat, list, toolbox.individual)"
   ]
  },
  {
   "cell_type": "code",
   "execution_count": 161,
   "metadata": {
    "collapsed": false
   },
   "outputs": [
    {
     "name": "stdout",
     "output_type": "stream",
     "text": [
      "bit is of type <class 'numpy.ndarray'> and has value\n",
      "[ 2 10 12 14  4  7 13  9  6  3 11  0 15  1  5  8]\n",
      "ind is of type <class 'deap.creator.Individual'> and contains 16 bits\n",
      "[13, 8, 2, 10, 14, 5, 11, 12, 1, 6, 9, 4, 3, 15, 0, 7]\n",
      "pop is of type <class 'list'> and contains 3 individuals\n",
      "[[12, 10, 4, 5, 0, 2, 14, 13, 11, 8, 9, 6, 3, 7, 15, 1], [9, 7, 0, 5, 14, 6, 12, 13, 4, 2, 10, 8, 3, 1, 15, 11], [12, 11, 7, 0, 3, 8, 5, 1, 10, 9, 15, 6, 4, 14, 2, 13]]\n"
     ]
    }
   ],
   "source": [
    "bit = toolbox.cromo_gen()\n",
    "ind = toolbox.individual()\n",
    "pop = toolbox.population(n=3)\n",
    "\n",
    "print(\"bit is of type %s and has value\\n%s\" % (type(bit), bit))\n",
    "print(\"ind is of type %s and contains %d bits\\n%s\" % (type(ind), len(ind), ind))\n",
    "print(\"pop is of type %s and contains %d individuals\\n%s\" % (type(pop), len(pop), pop))"
   ]
  },
  {
   "cell_type": "markdown",
   "metadata": {},
   "source": [
    "## Defino Evaluacion, Seleccion y Mutacion"
   ]
  },
  {
   "cell_type": "code",
   "execution_count": 162,
   "metadata": {
    "collapsed": true
   },
   "outputs": [],
   "source": [
    "def evaluarADN(x):\n",
    "    t=0\n",
    "    pos=x\n",
    "    for i in range(0,QUEENS-1):\n",
    "        for j in range(i+1,QUEENS):\n",
    "            if amenaza(i,pos[i],j,pos[j]):\n",
    "                t+=1\n",
    "    return [t]"
   ]
  },
  {
   "cell_type": "code",
   "execution_count": 163,
   "metadata": {
    "collapsed": true
   },
   "outputs": [],
   "source": [
    "toolbox.register(\"evaluate\", evaluarADN)\n",
    "toolbox.register(\"mate\", tools.cxOrdered)\n",
    "toolbox.register(\"mutate\", tools.mutShuffleIndexes, indpb=0.20)\n",
    "toolbox.register(\"select\", tools.selTournament, tournsize=3)"
   ]
  },
  {
   "cell_type": "markdown",
   "metadata": {},
   "source": [
    "### Pruebo evaluacion"
   ]
  },
  {
   "cell_type": "code",
   "execution_count": 164,
   "metadata": {
    "collapsed": false
   },
   "outputs": [
    {
     "name": "stdout",
     "output_type": "stream",
     "text": [
      "[1, 4, 2, 0, 9, 7, 15, 8, 6, 12, 11, 14, 5, 13, 3, 10]\n"
     ]
    },
    {
     "data": {
      "text/plain": [
       "[12]"
      ]
     },
     "execution_count": 164,
     "metadata": {},
     "output_type": "execute_result"
    }
   ],
   "source": [
    "ind = toolbox.individual()\n",
    "print(ind)\n",
    "toolbox.evaluate(ind)"
   ]
  },
  {
   "cell_type": "markdown",
   "metadata": {},
   "source": [
    "### Pruebo mutacion"
   ]
  },
  {
   "cell_type": "code",
   "execution_count": 165,
   "metadata": {
    "collapsed": false
   },
   "outputs": [
    {
     "name": "stdout",
     "output_type": "stream",
     "text": [
      "[0, 3, 7, 2, 14, 9, 15, 5, 8, 13, 11, 12, 6, 10, 4, 1]\n",
      "[6, 5, 11, 2, 14, 9, 15, 3, 13, 8, 7, 4, 0, 10, 12, 1]\n"
     ]
    }
   ],
   "source": [
    "ind = toolbox.individual()\n",
    "print(ind)\n",
    "toolbox.mutate(ind)\n",
    "print(ind)"
   ]
  },
  {
   "cell_type": "markdown",
   "metadata": {},
   "source": [
    "### Pruebo emparejar"
   ]
  },
  {
   "cell_type": "code",
   "execution_count": 166,
   "metadata": {
    "collapsed": false
   },
   "outputs": [
    {
     "name": "stdout",
     "output_type": "stream",
     "text": [
      "[6, 9, 13, 14, 5, 0, 12, 7, 4, 10, 2, 15, 3, 11, 8, 1]\n",
      "[2, 11, 0, 15, 3, 6, 1, 10, 8, 13, 9, 4, 7, 14, 12, 5]\n"
     ]
    },
    {
     "data": {
      "text/plain": [
       "([14, 5, 0, 12, 2, 15, 3, 10, 8, 13, 9, 4, 7, 11, 1, 6],\n",
       " [11, 0, 6, 1, 8, 13, 9, 7, 4, 10, 2, 15, 3, 14, 12, 5])"
      ]
     },
     "execution_count": 166,
     "metadata": {},
     "output_type": "execute_result"
    }
   ],
   "source": [
    "ind = toolbox.individual()\n",
    "print(ind)\n",
    "ind2 = toolbox.individual()\n",
    "print(ind2)\n",
    "toolbox.mate(ind,ind2)"
   ]
  },
  {
   "cell_type": "markdown",
   "metadata": {},
   "source": [
    "### Pruebo seleccion"
   ]
  },
  {
   "cell_type": "code",
   "execution_count": 167,
   "metadata": {
    "collapsed": false
   },
   "outputs": [
    {
     "data": {
      "text/plain": [
       "[11]"
      ]
     },
     "execution_count": 167,
     "metadata": {},
     "output_type": "execute_result"
    }
   ],
   "source": [
    "popu = toolbox.population(n=50)\n",
    "jeje=toolbox.select(popu,1)\n",
    "evaluarADN(jeje[0])"
   ]
  },
  {
   "cell_type": "markdown",
   "metadata": {},
   "source": [
    "# Busco"
   ]
  },
  {
   "cell_type": "code",
   "execution_count": 172,
   "metadata": {
    "collapsed": false
   },
   "outputs": [],
   "source": [
    "def main():    \n",
    "    pop = toolbox.population(n=1000)\n",
    "    hof = tools.HallOfFame(1)\n",
    "    stats = tools.Statistics(lambda ind: ind.fitness.values)\n",
    "    stats.register(\"avg\", np.mean)\n",
    "    stats.register(\"min\", np.min)\n",
    "    stats.register(\"max\", np.max)\n",
    "    \n",
    "    pop, logbook = algorithms.eaSimple(pop, toolbox, cxpb=0.5, mutpb=0.2, ngen=10, stats=stats, halloffame=hof, verbose=True)\n",
    "    \n",
    "    return pop, logbook, hof"
   ]
  },
  {
   "cell_type": "code",
   "execution_count": 173,
   "metadata": {
    "collapsed": false
   },
   "outputs": [
    {
     "name": "stdout",
     "output_type": "stream",
     "text": [
      "gen\tnevals\tavg   \tmin\tmax\n",
      "0  \t1000  \t10.301\t1  \t29 \n",
      "1  \t592   \t8.783 \t1  \t19 \n",
      "2  \t594   \t7.998 \t-0 \t22 \n",
      "3  \t604   \t7.469 \t-0 \t24 \n",
      "4  \t606   \t7.086 \t-0 \t19 \n",
      "5  \t603   \t6.871 \t-0 \t20 \n",
      "6  \t618   \t6.704 \t-0 \t18 \n",
      "7  \t622   \t6.425 \t-0 \t17 \n",
      "8  \t560   \t6.004 \t-0 \t21 \n",
      "9  \t620   \t6.088 \t-0 \t21 \n",
      "10 \t601   \t5.922 \t-0 \t18 \n",
      "Best individual is: [1, 12, 0, 7, 11, 4, 14, 9, 13, 5, 2, 6, 15, 10, 8, 3]\n",
      "with fitness: (-0.0,)\n"
     ]
    },
    {
     "data": {
      "image/png": "[encoded data removed]",
      "text/html": [
       "\n",
       "\n",
       "<style>\n",
       "\n",
       "</style>\n",
       "\n",
       "<div id=\"fig_el229154394029744259257725\"></div>\n",
       "<script>\n",
       "function mpld3_load_lib(url, callback){\n",
       "  var s = document.createElement('script');\n",
       "  s.src = url;\n",
       "  s.async = true;\n",
       "  s.onreadystatechange = s.onload = callback;\n",
       "  s.onerror = function(){console.warn(\"failed to load library \" + url);};\n",
       "  document.getElementsByTagName(\"head\")[0].appendChild(s);\n",
       "}\n",
       "\n",
       "if(typeof(mpld3) !== \"undefined\" && mpld3._mpld3IsLoaded){\n",
       "   // already loaded: just create the figure\n",
       "   !function(mpld3){\n",
       "       \n",
       "       mpld3.draw_figure(\"fig_el229154394029744259257725\", {\"height\": 320.0, \"data\": {\"data03\": [[0.6773493503584229, 0.02688172043010756], [0.9820788530465949, 0.02688172043010756], [0.9820788530465949, 0.28091397849462363], [0.6773493503584229, 0.28091397849462363]], \"data01\": [[0.0, 10.301, 1.0, 29.0], [1.0, 8.783, 1.0, 19.0], [2.0, 7.998, -0.0, 22.0], [3.0, 7.469, -0.0, 24.0], [4.0, 7.086, -0.0, 19.0], [5.0, 6.871, -0.0, 20.0], [6.0, 6.704, -0.0, 18.0], [7.0, 6.425, -0.0, 17.0], [8.0, 6.004, -0.0, 21.0], [9.0, 6.088, -0.0, 21.0], [10.0, 5.922, -0.0, 18.0]], \"data02\": [[0.7024389560931898, 0.23790322580645168, 0.15860215053763443, 0.07930107526881723], [0.7526181675627239, 0.23790322580645168, 0.15860215053763443, 0.07930107526881723]]}, \"id\": \"el229154394029744\", \"width\": 480.0, \"plugins\": [{\"type\": \"reset\"}, {\"enabled\": false, \"type\": \"zoom\", \"button\": true}, {\"enabled\": false, \"type\": \"boxzoom\", \"button\": true}], \"axes\": [{\"yscale\": \"linear\", \"axesbg\": \"#FFFFFF\", \"ylim\": [0.0, 30.0], \"xlim\": [0.0, 10.0], \"sharey\": [], \"bbox\": [0.125, 0.125, 0.775, 0.775], \"xdomain\": [0.0, 10.0], \"sharex\": [], \"images\": [], \"zoomable\": true, \"markers\": [], \"collections\": [], \"paths\": [{\"data\": \"data03\", \"pathcodes\": [\"M\", \"L\", \"L\", \"L\", \"Z\"], \"xindex\": 0, \"id\": \"el229154401080248\", \"edgecolor\": \"#000000\", \"edgewidth\": 1.0, \"yindex\": 1, \"coordinates\": \"axes\", \"zorder\": 1000001.0, \"facecolor\": \"#FFFFFF\", \"alpha\": 1, \"dasharray\": \"10,0\"}], \"xscale\": \"linear\", \"id\": \"el229154392315872\", \"lines\": [{\"zorder\": 2, \"yindex\": 1, \"data\": \"data01\", \"coordinates\": \"data\", \"id\": \"el229154398433336\", \"linewidth\": 1.0, \"color\": \"#0000FF\", \"xindex\": 0, \"alpha\": 1, \"dasharray\": \"10,0\"}, {\"zorder\": 2, \"yindex\": 2, \"data\": \"data01\", \"coordinates\": \"data\", \"id\": \"el229154398434008\", \"linewidth\": 1.0, \"color\": \"#007F00\", \"xindex\": 0, \"alpha\": 1, \"dasharray\": \"10,0\"}, {\"zorder\": 2, \"yindex\": 3, \"data\": \"data01\", \"coordinates\": \"data\", \"id\": \"el229154393820624\", \"linewidth\": 1.0, \"color\": \"#FF0000\", \"xindex\": 0, \"alpha\": 1, \"dasharray\": \"10,0\"}, {\"zorder\": 1000002.0, \"yindex\": 1, \"data\": \"data02\", \"coordinates\": \"axes\", \"id\": \"el229154398539272\", \"linewidth\": 1.0, \"color\": \"#0000FF\", \"xindex\": 0, \"alpha\": 1, \"dasharray\": \"10,0\"}, {\"zorder\": 1000002.0, \"yindex\": 2, \"data\": \"data02\", \"coordinates\": \"axes\", \"id\": \"el229154393869944\", \"linewidth\": 1.0, \"color\": \"#007F00\", \"xindex\": 0, \"alpha\": 1, \"dasharray\": \"10,0\"}, {\"zorder\": 1000002.0, \"yindex\": 3, \"data\": \"data02\", \"coordinates\": \"axes\", \"id\": \"el229154398389512\", \"linewidth\": 1.0, \"color\": \"#FF0000\", \"xindex\": 0, \"alpha\": 1, \"dasharray\": \"10,0\"}], \"ydomain\": [0.0, 30.0], \"texts\": [{\"id\": \"el229154392298984\", \"position\": [0.5, -0.08064516129032258], \"alpha\": 1, \"fontsize\": 10.0, \"rotation\": -0.0, \"text\": \"Generation\", \"coordinates\": \"axes\", \"zorder\": 3, \"h_anchor\": \"middle\", \"color\": \"#000000\", \"v_baseline\": \"hanging\"}, {\"id\": \"el229154362916696\", \"position\": [-0.060819892473118295, 0.5], \"alpha\": 1, \"fontsize\": 10.0, \"rotation\": -90.0, \"text\": \"Fitness\", \"coordinates\": \"axes\", \"zorder\": 3, \"h_anchor\": \"middle\", \"color\": \"#000000\", \"v_baseline\": \"auto\"}, {\"id\": \"el229154398387720\", \"position\": [-0.16129032258064518, -0.16129032258064516], \"alpha\": 1, \"fontsize\": 10.0, \"rotation\": -0.0, \"text\": \"None\", \"coordinates\": \"axes\", \"zorder\": 1000003.0, \"h_anchor\": \"start\", \"color\": \"#000000\", \"v_baseline\": \"auto\"}, {\"id\": \"el229154393855576\", \"position\": [0.792044690860215, 0.2190860215053764], \"alpha\": 1, \"fontsize\": 12.0, \"rotation\": -0.0, \"text\": \"average\", \"coordinates\": \"axes\", \"zorder\": 1000003.0, \"h_anchor\": \"start\", \"color\": \"#000000\", \"v_baseline\": \"auto\"}, {\"id\": \"el229154401041984\", \"position\": [0.792044690860215, 0.13978494623655915], \"alpha\": 1, \"fontsize\": 12.0, \"rotation\": -0.0, \"text\": \"minimum\", \"coordinates\": \"axes\", \"zorder\": 1000003.0, \"h_anchor\": \"start\", \"color\": \"#000000\", \"v_baseline\": \"auto\"}, {\"id\": \"el229154398254344\", \"position\": [0.792044690860215, 0.060483870967741965], \"alpha\": 1, \"fontsize\": 12.0, \"rotation\": -0.0, \"text\": \"maximum\", \"coordinates\": \"axes\", \"zorder\": 1000003.0, \"h_anchor\": \"start\", \"color\": \"#000000\", \"v_baseline\": \"auto\"}], \"axes\": [{\"fontsize\": 10.0, \"position\": \"bottom\", \"tickvalues\": null, \"nticks\": 6, \"grid\": {\"gridOn\": false}, \"scale\": \"linear\", \"tickformat\": null}, {\"fontsize\": 10.0, \"position\": \"left\", \"tickvalues\": null, \"nticks\": 7, \"grid\": {\"gridOn\": false}, \"scale\": \"linear\", \"tickformat\": null}], \"axesbgalpha\": null}]});\n",
       "   }(mpld3);\n",
       "}else if(typeof define === \"function\" && define.amd){\n",
       "   // require.js is available: use it to load d3/mpld3\n",
       "   require.config({paths: {d3: \"https://mpld3.github.io/js/d3.v3.min\"}});\n",
       "   require([\"d3\"], function(d3){\n",
       "      window.d3 = d3;\n",
       "      mpld3_load_lib(\"https://mpld3.github.io/js/mpld3.v0.2.js\", function(){\n",
       "         \n",
       "         mpld3.draw_figure(\"fig_el229154394029744259257725\", {\"height\": 320.0, \"data\": {\"data03\": [[0.6773493503584229, 0.02688172043010756], [0.9820788530465949, 0.02688172043010756], [0.9820788530465949, 0.28091397849462363], [0.6773493503584229, 0.28091397849462363]], \"data01\": [[0.0, 10.301, 1.0, 29.0], [1.0, 8.783, 1.0, 19.0], [2.0, 7.998, -0.0, 22.0], [3.0, 7.469, -0.0, 24.0], [4.0, 7.086, -0.0, 19.0], [5.0, 6.871, -0.0, 20.0], [6.0, 6.704, -0.0, 18.0], [7.0, 6.425, -0.0, 17.0], [8.0, 6.004, -0.0, 21.0], [9.0, 6.088, -0.0, 21.0], [10.0, 5.922, -0.0, 18.0]], \"data02\": [[0.7024389560931898, 0.23790322580645168, 0.15860215053763443, 0.07930107526881723], [0.7526181675627239, 0.23790322580645168, 0.15860215053763443, 0.07930107526881723]]}, \"id\": \"el229154394029744\", \"width\": 480.0, \"plugins\": [{\"type\": \"reset\"}, {\"enabled\": false, \"type\": \"zoom\", \"button\": true}, {\"enabled\": false, \"type\": \"boxzoom\", \"button\": true}], \"axes\": [{\"yscale\": \"linear\", \"axesbg\": \"#FFFFFF\", \"ylim\": [0.0, 30.0], \"xlim\": [0.0, 10.0], \"sharey\": [], \"bbox\": [0.125, 0.125, 0.775, 0.775], \"xdomain\": [0.0, 10.0], \"sharex\": [], \"images\": [], \"zoomable\": true, \"markers\": [], \"collections\": [], \"paths\": [{\"data\": \"data03\", \"pathcodes\": [\"M\", \"L\", \"L\", \"L\", \"Z\"], \"xindex\": 0, \"id\": \"el229154401080248\", \"edgecolor\": \"#000000\", \"edgewidth\": 1.0, \"yindex\": 1, \"coordinates\": \"axes\", \"zorder\": 1000001.0, \"facecolor\": \"#FFFFFF\", \"alpha\": 1, \"dasharray\": \"10,0\"}], \"xscale\": \"linear\", \"id\": \"el229154392315872\", \"lines\": [{\"zorder\": 2, \"yindex\": 1, \"data\": \"data01\", \"coordinates\": \"data\", \"id\": \"el229154398433336\", \"linewidth\": 1.0, \"color\": \"#0000FF\", \"xindex\": 0, \"alpha\": 1, \"dasharray\": \"10,0\"}, {\"zorder\": 2, \"yindex\": 2, \"data\": \"data01\", \"coordinates\": \"data\", \"id\": \"el229154398434008\", \"linewidth\": 1.0, \"color\": \"#007F00\", \"xindex\": 0, \"alpha\": 1, \"dasharray\": \"10,0\"}, {\"zorder\": 2, \"yindex\": 3, \"data\": \"data01\", \"coordinates\": \"data\", \"id\": \"el229154393820624\", \"linewidth\": 1.0, \"color\": \"#FF0000\", \"xindex\": 0, \"alpha\": 1, \"dasharray\": \"10,0\"}, {\"zorder\": 1000002.0, \"yindex\": 1, \"data\": \"data02\", \"coordinates\": \"axes\", \"id\": \"el229154398539272\", \"linewidth\": 1.0, \"color\": \"#0000FF\", \"xindex\": 0, \"alpha\": 1, \"dasharray\": \"10,0\"}, {\"zorder\": 1000002.0, \"yindex\": 2, \"data\": \"data02\", \"coordinates\": \"axes\", \"id\": \"el229154393869944\", \"linewidth\": 1.0, \"color\": \"#007F00\", \"xindex\": 0, \"alpha\": 1, \"dasharray\": \"10,0\"}, {\"zorder\": 1000002.0, \"yindex\": 3, \"data\": \"data02\", \"coordinates\": \"axes\", \"id\": \"el229154398389512\", \"linewidth\": 1.0, \"color\": \"#FF0000\", \"xindex\": 0, \"alpha\": 1, \"dasharray\": \"10,0\"}], \"ydomain\": [0.0, 30.0], \"texts\": [{\"id\": \"el229154392298984\", \"position\": [0.5, -0.08064516129032258], \"alpha\": 1, \"fontsize\": 10.0, \"rotation\": -0.0, \"text\": \"Generation\", \"coordinates\": \"axes\", \"zorder\": 3, \"h_anchor\": \"middle\", \"color\": \"#000000\", \"v_baseline\": \"hanging\"}, {\"id\": \"el229154362916696\", \"position\": [-0.060819892473118295, 0.5], \"alpha\": 1, \"fontsize\": 10.0, \"rotation\": -90.0, \"text\": \"Fitness\", \"coordinates\": \"axes\", \"zorder\": 3, \"h_anchor\": \"middle\", \"color\": \"#000000\", \"v_baseline\": \"auto\"}, {\"id\": \"el229154398387720\", \"position\": [-0.16129032258064518, -0.16129032258064516], \"alpha\": 1, \"fontsize\": 10.0, \"rotation\": -0.0, \"text\": \"None\", \"coordinates\": \"axes\", \"zorder\": 1000003.0, \"h_anchor\": \"start\", \"color\": \"#000000\", \"v_baseline\": \"auto\"}, {\"id\": \"el229154393855576\", \"position\": [0.792044690860215, 0.2190860215053764], \"alpha\": 1, \"fontsize\": 12.0, \"rotation\": -0.0, \"text\": \"average\", \"coordinates\": \"axes\", \"zorder\": 1000003.0, \"h_anchor\": \"start\", \"color\": \"#000000\", \"v_baseline\": \"auto\"}, {\"id\": \"el229154401041984\", \"position\": [0.792044690860215, 0.13978494623655915], \"alpha\": 1, \"fontsize\": 12.0, \"rotation\": -0.0, \"text\": \"minimum\", \"coordinates\": \"axes\", \"zorder\": 1000003.0, \"h_anchor\": \"start\", \"color\": \"#000000\", \"v_baseline\": \"auto\"}, {\"id\": \"el229154398254344\", \"position\": [0.792044690860215, 0.060483870967741965], \"alpha\": 1, \"fontsize\": 12.0, \"rotation\": -0.0, \"text\": \"maximum\", \"coordinates\": \"axes\", \"zorder\": 1000003.0, \"h_anchor\": \"start\", \"color\": \"#000000\", \"v_baseline\": \"auto\"}], \"axes\": [{\"fontsize\": 10.0, \"position\": \"bottom\", \"tickvalues\": null, \"nticks\": 6, \"grid\": {\"gridOn\": false}, \"scale\": \"linear\", \"tickformat\": null}, {\"fontsize\": 10.0, \"position\": \"left\", \"tickvalues\": null, \"nticks\": 7, \"grid\": {\"gridOn\": false}, \"scale\": \"linear\", \"tickformat\": null}], \"axesbgalpha\": null}]});\n",
       "      });\n",
       "    });\n",
       "}else{\n",
       "    // require.js not available: dynamically load d3 & mpld3\n",
       "    mpld3_load_lib(\"https://mpld3.github.io/js/d3.v3.min.js\", function(){\n",
       "         mpld3_load_lib(\"https://mpld3.github.io/js/mpld3.v0.2.js\", function(){\n",
       "                 \n",
       "                 mpld3.draw_figure(\"fig_el229154394029744259257725\", {\"height\": 320.0, \"data\": {\"data03\": [[0.6773493503584229, 0.02688172043010756], [0.9820788530465949, 0.02688172043010756], [0.9820788530465949, 0.28091397849462363], [0.6773493503584229, 0.28091397849462363]], \"data01\": [[0.0, 10.301, 1.0, 29.0], [1.0, 8.783, 1.0, 19.0], [2.0, 7.998, -0.0, 22.0], [3.0, 7.469, -0.0, 24.0], [4.0, 7.086, -0.0, 19.0], [5.0, 6.871, -0.0, 20.0], [6.0, 6.704, -0.0, 18.0], [7.0, 6.425, -0.0, 17.0], [8.0, 6.004, -0.0, 21.0], [9.0, 6.088, -0.0, 21.0], [10.0, 5.922, -0.0, 18.0]], \"data02\": [[0.7024389560931898, 0.23790322580645168, 0.15860215053763443, 0.07930107526881723], [0.7526181675627239, 0.23790322580645168, 0.15860215053763443, 0.07930107526881723]]}, \"id\": \"el229154394029744\", \"width\": 480.0, \"plugins\": [{\"type\": \"reset\"}, {\"enabled\": false, \"type\": \"zoom\", \"button\": true}, {\"enabled\": false, \"type\": \"boxzoom\", \"button\": true}], \"axes\": [{\"yscale\": \"linear\", \"axesbg\": \"#FFFFFF\", \"ylim\": [0.0, 30.0], \"xlim\": [0.0, 10.0], \"sharey\": [], \"bbox\": [0.125, 0.125, 0.775, 0.775], \"xdomain\": [0.0, 10.0], \"sharex\": [], \"images\": [], \"zoomable\": true, \"markers\": [], \"collections\": [], \"paths\": [{\"data\": \"data03\", \"pathcodes\": [\"M\", \"L\", \"L\", \"L\", \"Z\"], \"xindex\": 0, \"id\": \"el229154401080248\", \"edgecolor\": \"#000000\", \"edgewidth\": 1.0, \"yindex\": 1, \"coordinates\": \"axes\", \"zorder\": 1000001.0, \"facecolor\": \"#FFFFFF\", \"alpha\": 1, \"dasharray\": \"10,0\"}], \"xscale\": \"linear\", \"id\": \"el229154392315872\", \"lines\": [{\"zorder\": 2, \"yindex\": 1, \"data\": \"data01\", \"coordinates\": \"data\", \"id\": \"el229154398433336\", \"linewidth\": 1.0, \"color\": \"#0000FF\", \"xindex\": 0, \"alpha\": 1, \"dasharray\": \"10,0\"}, {\"zorder\": 2, \"yindex\": 2, \"data\": \"data01\", \"coordinates\": \"data\", \"id\": \"el229154398434008\", \"linewidth\": 1.0, \"color\": \"#007F00\", \"xindex\": 0, \"alpha\": 1, \"dasharray\": \"10,0\"}, {\"zorder\": 2, \"yindex\": 3, \"data\": \"data01\", \"coordinates\": \"data\", \"id\": \"el229154393820624\", \"linewidth\": 1.0, \"color\": \"#FF0000\", \"xindex\": 0, \"alpha\": 1, \"dasharray\": \"10,0\"}, {\"zorder\": 1000002.0, \"yindex\": 1, \"data\": \"data02\", \"coordinates\": \"axes\", \"id\": \"el229154398539272\", \"linewidth\": 1.0, \"color\": \"#0000FF\", \"xindex\": 0, \"alpha\": 1, \"dasharray\": \"10,0\"}, {\"zorder\": 1000002.0, \"yindex\": 2, \"data\": \"data02\", \"coordinates\": \"axes\", \"id\": \"el229154393869944\", \"linewidth\": 1.0, \"color\": \"#007F00\", \"xindex\": 0, \"alpha\": 1, \"dasharray\": \"10,0\"}, {\"zorder\": 1000002.0, \"yindex\": 3, \"data\": \"data02\", \"coordinates\": \"axes\", \"id\": \"el229154398389512\", \"linewidth\": 1.0, \"color\": \"#FF0000\", \"xindex\": 0, \"alpha\": 1, \"dasharray\": \"10,0\"}], \"ydomain\": [0.0, 30.0], \"texts\": [{\"id\": \"el229154392298984\", \"position\": [0.5, -0.08064516129032258], \"alpha\": 1, \"fontsize\": 10.0, \"rotation\": -0.0, \"text\": \"Generation\", \"coordinates\": \"axes\", \"zorder\": 3, \"h_anchor\": \"middle\", \"color\": \"#000000\", \"v_baseline\": \"hanging\"}, {\"id\": \"el229154362916696\", \"position\": [-0.060819892473118295, 0.5], \"alpha\": 1, \"fontsize\": 10.0, \"rotation\": -90.0, \"text\": \"Fitness\", \"coordinates\": \"axes\", \"zorder\": 3, \"h_anchor\": \"middle\", \"color\": \"#000000\", \"v_baseline\": \"auto\"}, {\"id\": \"el229154398387720\", \"position\": [-0.16129032258064518, -0.16129032258064516], \"alpha\": 1, \"fontsize\": 10.0, \"rotation\": -0.0, \"text\": \"None\", \"coordinates\": \"axes\", \"zorder\": 1000003.0, \"h_anchor\": \"start\", \"color\": \"#000000\", \"v_baseline\": \"auto\"}, {\"id\": \"el229154393855576\", \"position\": [0.792044690860215, 0.2190860215053764], \"alpha\": 1, \"fontsize\": 12.0, \"rotation\": -0.0, \"text\": \"average\", \"coordinates\": \"axes\", \"zorder\": 1000003.0, \"h_anchor\": \"start\", \"color\": \"#000000\", \"v_baseline\": \"auto\"}, {\"id\": \"el229154401041984\", \"position\": [0.792044690860215, 0.13978494623655915], \"alpha\": 1, \"fontsize\": 12.0, \"rotation\": -0.0, \"text\": \"minimum\", \"coordinates\": \"axes\", \"zorder\": 1000003.0, \"h_anchor\": \"start\", \"color\": \"#000000\", \"v_baseline\": \"auto\"}, {\"id\": \"el229154398254344\", \"position\": [0.792044690860215, 0.060483870967741965], \"alpha\": 1, \"fontsize\": 12.0, \"rotation\": -0.0, \"text\": \"maximum\", \"coordinates\": \"axes\", \"zorder\": 1000003.0, \"h_anchor\": \"start\", \"color\": \"#000000\", \"v_baseline\": \"auto\"}], \"axes\": [{\"fontsize\": 10.0, \"position\": \"bottom\", \"tickvalues\": null, \"nticks\": 6, \"grid\": {\"gridOn\": false}, \"scale\": \"linear\", \"tickformat\": null}, {\"fontsize\": 10.0, \"position\": \"left\", \"tickvalues\": null, \"nticks\": 7, \"grid\": {\"gridOn\": false}, \"scale\": \"linear\", \"tickformat\": null}], \"axesbgalpha\": null}]});\n",
       "            })\n",
       "         });\n",
       "}\n",
       "</script>"
      ],
      "text/plain": [
       "<matplotlib.figure.Figure at 0x105e792b0>"
      ]
     },
     "metadata": {},
     "output_type": "display_data"
    }
   ],
   "source": [
    "if __name__ == \"__main__\":\n",
    "    pop, log, hof = main()\n",
    "    print(\"Best individual is: %s\\nwith fitness: %s\" % (hof[0], hof[0].fitness))\n",
    "    gen, avg, min_, max_ = log.select(\"gen\", \"avg\", \"min\", \"max\")\n",
    "    plt.plot(gen, avg, label=\"average\")\n",
    "    plt.plot(gen, min_, label=\"minimum\")\n",
    "    plt.plot(gen, max_, label=\"maximum\")\n",
    "    plt.xlabel(\"Generation\")\n",
    "    plt.ylabel(\"Fitness\")\n",
    "    plt.legend(loc=\"lower right\")"
   ]
  },
  {
   "cell_type": "code",
   "execution_count": null,
   "metadata": {
    "collapsed": true
   },
   "outputs": [],
   "source": [
    "tablero16=[1, 12, 0, 7, 11, 4, 14, 9, 13, 5, 2, 6, 15, 10, 8, 3]\n",
    "tablero=np.empty((reinas,reinas),np.str_)\n",
    "    for i in range(reinas):\n",
    "        tablero[i,mejor[i]]='X'\n",
    "    print(tablero)"
   ]
  }
 ],
 "metadata": {
  "kernelspec": {
   "display_name": "Python 2",
   "language": "python",
   "name": "python2"
  },
  "language_info": {
   "codemirror_mode": {
    "name": "ipython",
    "version": 2
   },
   "file_extension": ".py",
   "mimetype": "text/x-python",
   "name": "python",
   "nbconvert_exporter": "python",
   "pygments_lexer": "ipython2",
   "version": "2.7.13"
  }
 },
 "nbformat": 4,
 "nbformat_minor": 0
}
