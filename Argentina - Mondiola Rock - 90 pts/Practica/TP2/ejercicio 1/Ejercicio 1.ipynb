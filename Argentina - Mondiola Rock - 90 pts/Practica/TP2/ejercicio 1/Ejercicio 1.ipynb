{
 "cells": [
  {
   "cell_type": "markdown",
   "metadata": {},
   "source": [
    "# Ejercicio 1\n",
    "Considerando el problema 3-SAT para la expresión lógica contenida en el archivo 'uf20.py', definida con 20 variables y 91 cláusulas que se sabe que es satisfacible, se intenta resolverlo usando Hill Climbing. Se pide que:\n",
    "1. Proponga una representación para las posibles soluciones y determine el tamaño del espacio de búsqueda asociado a esa representación.\n",
    "2. Proponga una función de evaluación.\n",
    "3. De na la manera en que se obtienen las soluciones vecinas a la solución actual.\n",
    "Intente resolverlo ahora empleando un Algoritmo Evolutivo. Se pide que:\n",
    "4. Proponga una representación para las posibles soluciones y una función de evaluación. Describa las diferencias, si las hay, con las propuestas anteriormente.\n",
    "5. Defina que operadores van a usarse durante el proceso evolutivo.\n",
    "\n",
    "Implemente y pruebe lo de nido en los puntos anteriores. Evalúe los resultados obtenidos.\n",
    "Indique los valores de los parámetros usados durante la ejecución de ambos algoritmos."
   ]
  },
  {
   "cell_type": "code",
   "execution_count": 1,
   "metadata": {
    "collapsed": false
   },
   "outputs": [],
   "source": [
    "import numpy as np\n",
    "import matplotlib.pyplot as plt\n",
    "from matplotlib import pylab\n",
    "import mpld3\n",
    "\n",
    "%matplotlib inline\n",
    "mpld3.enable_notebook()\n",
    "\n",
    "from uf20 import f_1\n",
    "from busqueda_local import hill_climb\n",
    "from deap import base, creator, tools, algorithms"
   ]
  },
  {
   "cell_type": "markdown",
   "metadata": {},
   "source": [
    "# Hill Climbing\n",
    "## Evaluacion"
   ]
  },
  {
   "cell_type": "code",
   "execution_count": 2,
   "metadata": {
    "collapsed": true
   },
   "outputs": [],
   "source": [
    "def evaluacion(x):\n",
    "    return f_1(*x).count(True)"
   ]
  },
  {
   "cell_type": "markdown",
   "metadata": {},
   "source": [
    "## Vecinos"
   ]
  },
  {
   "cell_type": "code",
   "execution_count": 3,
   "metadata": {
    "collapsed": true
   },
   "outputs": [],
   "source": [
    "def vecinos(x):\n",
    "    v = []\n",
    "    for i in range(5):\n",
    "        pos = np.random.randint(0,19)\n",
    "        x[pos] = not x[pos]\n",
    "        v.append(x)\n",
    "    return v"
   ]
  },
  {
   "cell_type": "markdown",
   "metadata": {},
   "source": [
    "## Nuevos"
   ]
  },
  {
   "cell_type": "code",
   "execution_count": 5,
   "metadata": {
    "collapsed": false
   },
   "outputs": [],
   "source": [
    "def nuevos():\n",
    "    return np.random.random(20)<0.5"
   ]
  },
  {
   "cell_type": "markdown",
   "metadata": {},
   "source": [
    "## Busco"
   ]
  },
  {
   "cell_type": "code",
   "execution_count": 6,
   "metadata": {
    "collapsed": false
   },
   "outputs": [],
   "source": [
    "def buscar(i):\n",
    "    mejor = nuevos()\n",
    "    for j in range(i):\n",
    "        print(\"\\nEvaluacion mejor\",evaluacion(mejor))\n",
    "        mejor, evaluaciones = hill_climb(mejor, evaluacion, vecinos)\n",
    "    return"
   ]
  },
  {
   "cell_type": "code",
   "execution_count": 7,
   "metadata": {
    "collapsed": false
   },
   "outputs": [
    {
     "name": "stdout",
     "output_type": "stream",
     "text": [
      "\n",
      "Evaluacion mejor 86\n",
      "\n",
      "Evaluacion mejor 83\n",
      "\n",
      "Evaluacion mejor 77\n",
      "\n",
      "Evaluacion mejor 74\n",
      "\n",
      "Evaluacion mejor 78\n"
     ]
    }
   ],
   "source": [
    "buscar(5)"
   ]
  },
  {
   "cell_type": "markdown",
   "metadata": {},
   "source": [
    "# Algoritmo Evolutivo"
   ]
  },
  {
   "cell_type": "markdown",
   "metadata": {},
   "source": [
    "## Funcion para crear individuos"
   ]
  },
  {
   "cell_type": "code",
   "execution_count": 8,
   "metadata": {
    "collapsed": false
   },
   "outputs": [],
   "source": [
    "def nuevoGEN():\n",
    "    return np.random.random()<0.5"
   ]
  },
  {
   "cell_type": "markdown",
   "metadata": {},
   "source": [
    "## Funcion Evaluacion"
   ]
  },
  {
   "cell_type": "code",
   "execution_count": 9,
   "metadata": {
    "collapsed": true
   },
   "outputs": [],
   "source": [
    "def evaluarADN(x):\n",
    "        return [f_1(*x).count(True)]"
   ]
  },
  {
   "cell_type": "markdown",
   "metadata": {},
   "source": [
    "## Defino Fitness Esperado"
   ]
  },
  {
   "cell_type": "code",
   "execution_count": 21,
   "metadata": {
    "collapsed": true
   },
   "outputs": [],
   "source": [
    "creator.create(\"FitnessMax\", base.Fitness, weights=(d,))\n",
    "creator.create(\"Individual\", list, fitness=creator.FitnessMax)"
   ]
  },
  {
   "cell_type": "markdown",
   "metadata": {},
   "source": [
    "## Defino ADN del Individuo"
   ]
  },
  {
   "cell_type": "code",
   "execution_count": 22,
   "metadata": {
    "collapsed": false
   },
   "outputs": [],
   "source": [
    "toolbox = base.Toolbox()\n",
    "toolbox.register(\"individual\", tools.initRepeat, creator.Individual, nuevoGEN, n=20)\n",
    "toolbox.register(\"population\", tools.initRepeat, list, toolbox.individual)"
   ]
  },
  {
   "cell_type": "markdown",
   "metadata": {},
   "source": [
    "## Defino Evaluacion, Seleccion y Mutacion"
   ]
  },
  {
   "cell_type": "code",
   "execution_count": 23,
   "metadata": {
    "collapsed": true
   },
   "outputs": [],
   "source": [
    "toolbox.register(\"evaluate\", evaluarADN)\n",
    "toolbox.register(\"mate\", tools.cxTwoPoint)\n",
    "toolbox.register(\"mutate\", tools.mutFlipBit, indpb=0.10)\n",
    "toolbox.register(\"select\", tools.selTournament, tournsize=3)"
   ]
  },
  {
   "cell_type": "code",
   "execution_count": 29,
   "metadata": {
    "collapsed": true
   },
   "outputs": [],
   "source": [
    "def main():    \n",
    "    pop = toolbox.population(n=50)\n",
    "    hof = tools.HallOfFame(1)\n",
    "    stats = tools.Statistics(lambda ind: ind.fitness.values)\n",
    "    stats.register(\"avg\", np.mean)\n",
    "    stats.register(\"min\", np.min)\n",
    "    stats.register(\"max\", np.max)\n",
    "    pop, logbook = algorithms.eaSimple(pop, toolbox, cxpb=0.5, mutpb=0.2, ngen=10, stats=stats, halloffame=hof, verbose=True)\n",
    "    return pop, logbook, hof"
   ]
  },
  {
   "cell_type": "code",
   "execution_count": 30,
   "metadata": {
    "collapsed": false
   },
   "outputs": [
    {
     "name": "stdout",
     "output_type": "stream",
     "text": [
      "gen\tnevals\tavg  \tmin\tmax\n",
      "0  \t50    \t79.58\t72 \t86 \n",
      "1  \t33    \t81.7 \t76 \t88 \n",
      "2  \t32    \t83.96\t78 \t89 \n",
      "3  \t36    \t85.6 \t79 \t89 \n",
      "4  \t27    \t87.14\t82 \t89 \n",
      "5  \t27    \t87.66\t82 \t89 \n",
      "6  \t22    \t87.96\t78 \t89 \n",
      "7  \t25    \t88.3 \t82 \t89 \n",
      "8  \t27    \t88.66\t84 \t90 \n",
      "9  \t27    \t88.52\t84 \t90 \n",
      "10 \t35    \t88.66\t83 \t91 \n",
      "Best individual is: [True, False, False, True, False, False, False, True, False, True, False, False, True, True, True, False, True, False, False, True]\n",
      "with fitness: (91.0,)\n"
     ]
    },
    {
     "data": {
      "image/png": "[encoded data removed]",
      "text/html": [
       "\n",
       "\n",
       "<style>\n",
       "\n",
       "</style>\n",
       "\n",
       "<div id=\"fig_el1468043961554563184119596\"></div>\n",
       "<script>\n",
       "function mpld3_load_lib(url, callback){\n",
       "  var s = document.createElement('script');\n",
       "  s.src = url;\n",
       "  s.async = true;\n",
       "  s.onreadystatechange = s.onload = callback;\n",
       "  s.onerror = function(){console.warn(\"failed to load library \" + url);};\n",
       "  document.getElementsByTagName(\"head\")[0].appendChild(s);\n",
       "}\n",
       "\n",
       "if(typeof(mpld3) !== \"undefined\" && mpld3._mpld3IsLoaded){\n",
       "   // already loaded: just create the figure\n",
       "   !function(mpld3){\n",
       "       \n",
       "       mpld3.draw_figure(\"fig_el1468043961554563184119596\", {\"axes\": [{\"bbox\": [0.125, 0.125, 0.775, 0.775], \"zoomable\": true, \"xlim\": [0.0, 10.0], \"sharex\": [], \"axes\": [{\"tickformat\": null, \"grid\": {\"gridOn\": false}, \"nticks\": 6, \"tickvalues\": null, \"fontsize\": 10.0, \"scale\": \"linear\", \"position\": \"bottom\"}, {\"tickformat\": null, \"grid\": {\"gridOn\": false}, \"nticks\": 6, \"tickvalues\": null, \"fontsize\": 10.0, \"scale\": \"linear\", \"position\": \"left\"}], \"images\": [], \"texts\": [{\"color\": \"#000000\", \"text\": \"Generation\", \"rotation\": -0.0, \"fontsize\": 10.0, \"id\": \"el146804396173408\", \"zorder\": 3, \"coordinates\": \"axes\", \"alpha\": 1, \"h_anchor\": \"middle\", \"position\": [0.5, -0.08064516129032258], \"v_baseline\": \"hanging\"}, {\"color\": \"#000000\", \"text\": \"Fitness\", \"rotation\": -90.0, \"fontsize\": 10.0, \"id\": \"el146804397420160\", \"zorder\": 3, \"coordinates\": \"axes\", \"alpha\": 1, \"h_anchor\": \"middle\", \"position\": [-0.06098790322580647, 0.5], \"v_baseline\": \"auto\"}, {\"color\": \"#000000\", \"text\": \"None\", \"rotation\": -0.0, \"fontsize\": 10.0, \"id\": \"el146804398840464\", \"zorder\": 1000003.0, \"coordinates\": \"axes\", \"alpha\": 1, \"h_anchor\": \"start\", \"position\": [-0.16129032258064518, -0.16129032258064516], \"v_baseline\": \"auto\"}, {\"color\": \"#000000\", \"text\": \"average\", \"rotation\": -0.0, \"fontsize\": 12.0, \"id\": \"el146804398817576\", \"zorder\": 1000003.0, \"coordinates\": \"axes\", \"alpha\": 1, \"h_anchor\": \"start\", \"position\": [0.792044690860215, 0.2190860215053764], \"v_baseline\": \"auto\"}, {\"color\": \"#000000\", \"text\": \"minimum\", \"rotation\": -0.0, \"fontsize\": 12.0, \"id\": \"el146804398819704\", \"zorder\": 1000003.0, \"coordinates\": \"axes\", \"alpha\": 1, \"h_anchor\": \"start\", \"position\": [0.792044690860215, 0.13978494623655915], \"v_baseline\": \"auto\"}, {\"color\": \"#000000\", \"text\": \"maximum\", \"rotation\": -0.0, \"fontsize\": 12.0, \"id\": \"el146804398838224\", \"zorder\": 1000003.0, \"coordinates\": \"axes\", \"alpha\": 1, \"h_anchor\": \"start\", \"position\": [0.792044690860215, 0.060483870967741965], \"v_baseline\": \"auto\"}], \"markers\": [], \"ylim\": [70.0, 95.0], \"xdomain\": [0.0, 10.0], \"paths\": [{\"id\": \"el146804398780144\", \"pathcodes\": [\"M\", \"L\", \"L\", \"L\", \"Z\"], \"edgecolor\": \"#000000\", \"coordinates\": \"axes\", \"facecolor\": \"#FFFFFF\", \"zorder\": 1000001.0, \"xindex\": 0, \"alpha\": 1, \"yindex\": 1, \"dasharray\": \"10,0\", \"data\": \"data03\", \"edgewidth\": 1.0}], \"collections\": [], \"axesbgalpha\": null, \"id\": \"el146804396131384\", \"lines\": [{\"color\": \"#0000FF\", \"zorder\": 2, \"xindex\": 0, \"alpha\": 1, \"id\": \"el146804397624568\", \"dasharray\": \"10,0\", \"yindex\": 1, \"linewidth\": 1.0, \"data\": \"data01\", \"coordinates\": \"data\"}, {\"color\": \"#007F00\", \"zorder\": 2, \"xindex\": 0, \"alpha\": 1, \"id\": \"el146804397625240\", \"dasharray\": \"10,0\", \"yindex\": 2, \"linewidth\": 1.0, \"data\": \"data01\", \"coordinates\": \"data\"}, {\"color\": \"#FF0000\", \"zorder\": 2, \"xindex\": 0, \"alpha\": 1, \"id\": \"el146804398777680\", \"dasharray\": \"10,0\", \"yindex\": 3, \"linewidth\": 1.0, \"data\": \"data01\", \"coordinates\": \"data\"}, {\"color\": \"#0000FF\", \"zorder\": 1000002.0, \"xindex\": 0, \"alpha\": 1, \"id\": \"el146804398818416\", \"dasharray\": \"10,0\", \"yindex\": 1, \"linewidth\": 1.0, \"data\": \"data02\", \"coordinates\": \"axes\"}, {\"color\": \"#007F00\", \"zorder\": 1000002.0, \"xindex\": 0, \"alpha\": 1, \"id\": \"el146804398820488\", \"dasharray\": \"10,0\", \"yindex\": 2, \"linewidth\": 1.0, \"data\": \"data02\", \"coordinates\": \"axes\"}, {\"color\": \"#FF0000\", \"zorder\": 1000002.0, \"xindex\": 0, \"alpha\": 1, \"id\": \"el146804398839008\", \"dasharray\": \"10,0\", \"yindex\": 3, \"linewidth\": 1.0, \"data\": \"data02\", \"coordinates\": \"axes\"}], \"xscale\": \"linear\", \"ydomain\": [70.0, 95.0], \"yscale\": \"linear\", \"sharey\": [], \"axesbg\": \"#FFFFFF\"}], \"width\": 480.0, \"id\": \"el146804396155456\", \"data\": {\"data03\": [[0.6773493503584229, 0.02688172043010756], [0.9820788530465949, 0.02688172043010756], [0.9820788530465949, 0.28091397849462363], [0.6773493503584229, 0.28091397849462363]], \"data01\": [[0.0, 79.58, 72.0, 86.0], [1.0, 81.7, 76.0, 88.0], [2.0, 83.96, 78.0, 89.0], [3.0, 85.6, 79.0, 89.0], [4.0, 87.14, 82.0, 89.0], [5.0, 87.66, 82.0, 89.0], [6.0, 87.96, 78.0, 89.0], [7.0, 88.3, 82.0, 89.0], [8.0, 88.66, 84.0, 90.0], [9.0, 88.52, 84.0, 90.0], [10.0, 88.66, 83.0, 91.0]], \"data02\": [[0.7024389560931898, 0.23790322580645168, 0.15860215053763443, 0.07930107526881723], [0.7526181675627239, 0.23790322580645168, 0.15860215053763443, 0.07930107526881723]]}, \"plugins\": [{\"type\": \"reset\"}, {\"type\": \"zoom\", \"enabled\": false, \"button\": true}, {\"type\": \"boxzoom\", \"enabled\": false, \"button\": true}], \"height\": 320.0});\n",
       "   }(mpld3);\n",
       "}else if(typeof define === \"function\" && define.amd){\n",
       "   // require.js is available: use it to load d3/mpld3\n",
       "   require.config({paths: {d3: \"https://mpld3.github.io/js/d3.v3.min\"}});\n",
       "   require([\"d3\"], function(d3){\n",
       "      window.d3 = d3;\n",
       "      mpld3_load_lib(\"https://mpld3.github.io/js/mpld3.v0.2.js\", function(){\n",
       "         \n",
       "         mpld3.draw_figure(\"fig_el1468043961554563184119596\", {\"axes\": [{\"bbox\": [0.125, 0.125, 0.775, 0.775], \"zoomable\": true, \"xlim\": [0.0, 10.0], \"sharex\": [], \"axes\": [{\"tickformat\": null, \"grid\": {\"gridOn\": false}, \"nticks\": 6, \"tickvalues\": null, \"fontsize\": 10.0, \"scale\": \"linear\", \"position\": \"bottom\"}, {\"tickformat\": null, \"grid\": {\"gridOn\": false}, \"nticks\": 6, \"tickvalues\": null, \"fontsize\": 10.0, \"scale\": \"linear\", \"position\": \"left\"}], \"images\": [], \"texts\": [{\"color\": \"#000000\", \"text\": \"Generation\", \"rotation\": -0.0, \"fontsize\": 10.0, \"id\": \"el146804396173408\", \"zorder\": 3, \"coordinates\": \"axes\", \"alpha\": 1, \"h_anchor\": \"middle\", \"position\": [0.5, -0.08064516129032258], \"v_baseline\": \"hanging\"}, {\"color\": \"#000000\", \"text\": \"Fitness\", \"rotation\": -90.0, \"fontsize\": 10.0, \"id\": \"el146804397420160\", \"zorder\": 3, \"coordinates\": \"axes\", \"alpha\": 1, \"h_anchor\": \"middle\", \"position\": [-0.06098790322580647, 0.5], \"v_baseline\": \"auto\"}, {\"color\": \"#000000\", \"text\": \"None\", \"rotation\": -0.0, \"fontsize\": 10.0, \"id\": \"el146804398840464\", \"zorder\": 1000003.0, \"coordinates\": \"axes\", \"alpha\": 1, \"h_anchor\": \"start\", \"position\": [-0.16129032258064518, -0.16129032258064516], \"v_baseline\": \"auto\"}, {\"color\": \"#000000\", \"text\": \"average\", \"rotation\": -0.0, \"fontsize\": 12.0, \"id\": \"el146804398817576\", \"zorder\": 1000003.0, \"coordinates\": \"axes\", \"alpha\": 1, \"h_anchor\": \"start\", \"position\": [0.792044690860215, 0.2190860215053764], \"v_baseline\": \"auto\"}, {\"color\": \"#000000\", \"text\": \"minimum\", \"rotation\": -0.0, \"fontsize\": 12.0, \"id\": \"el146804398819704\", \"zorder\": 1000003.0, \"coordinates\": \"axes\", \"alpha\": 1, \"h_anchor\": \"start\", \"position\": [0.792044690860215, 0.13978494623655915], \"v_baseline\": \"auto\"}, {\"color\": \"#000000\", \"text\": \"maximum\", \"rotation\": -0.0, \"fontsize\": 12.0, \"id\": \"el146804398838224\", \"zorder\": 1000003.0, \"coordinates\": \"axes\", \"alpha\": 1, \"h_anchor\": \"start\", \"position\": [0.792044690860215, 0.060483870967741965], \"v_baseline\": \"auto\"}], \"markers\": [], \"ylim\": [70.0, 95.0], \"xdomain\": [0.0, 10.0], \"paths\": [{\"id\": \"el146804398780144\", \"pathcodes\": [\"M\", \"L\", \"L\", \"L\", \"Z\"], \"edgecolor\": \"#000000\", \"coordinates\": \"axes\", \"facecolor\": \"#FFFFFF\", \"zorder\": 1000001.0, \"xindex\": 0, \"alpha\": 1, \"yindex\": 1, \"dasharray\": \"10,0\", \"data\": \"data03\", \"edgewidth\": 1.0}], \"collections\": [], \"axesbgalpha\": null, \"id\": \"el146804396131384\", \"lines\": [{\"color\": \"#0000FF\", \"zorder\": 2, \"xindex\": 0, \"alpha\": 1, \"id\": \"el146804397624568\", \"dasharray\": \"10,0\", \"yindex\": 1, \"linewidth\": 1.0, \"data\": \"data01\", \"coordinates\": \"data\"}, {\"color\": \"#007F00\", \"zorder\": 2, \"xindex\": 0, \"alpha\": 1, \"id\": \"el146804397625240\", \"dasharray\": \"10,0\", \"yindex\": 2, \"linewidth\": 1.0, \"data\": \"data01\", \"coordinates\": \"data\"}, {\"color\": \"#FF0000\", \"zorder\": 2, \"xindex\": 0, \"alpha\": 1, \"id\": \"el146804398777680\", \"dasharray\": \"10,0\", \"yindex\": 3, \"linewidth\": 1.0, \"data\": \"data01\", \"coordinates\": \"data\"}, {\"color\": \"#0000FF\", \"zorder\": 1000002.0, \"xindex\": 0, \"alpha\": 1, \"id\": \"el146804398818416\", \"dasharray\": \"10,0\", \"yindex\": 1, \"linewidth\": 1.0, \"data\": \"data02\", \"coordinates\": \"axes\"}, {\"color\": \"#007F00\", \"zorder\": 1000002.0, \"xindex\": 0, \"alpha\": 1, \"id\": \"el146804398820488\", \"dasharray\": \"10,0\", \"yindex\": 2, \"linewidth\": 1.0, \"data\": \"data02\", \"coordinates\": \"axes\"}, {\"color\": \"#FF0000\", \"zorder\": 1000002.0, \"xindex\": 0, \"alpha\": 1, \"id\": \"el146804398839008\", \"dasharray\": \"10,0\", \"yindex\": 3, \"linewidth\": 1.0, \"data\": \"data02\", \"coordinates\": \"axes\"}], \"xscale\": \"linear\", \"ydomain\": [70.0, 95.0], \"yscale\": \"linear\", \"sharey\": [], \"axesbg\": \"#FFFFFF\"}], \"width\": 480.0, \"id\": \"el146804396155456\", \"data\": {\"data03\": [[0.6773493503584229, 0.02688172043010756], [0.9820788530465949, 0.02688172043010756], [0.9820788530465949, 0.28091397849462363], [0.6773493503584229, 0.28091397849462363]], \"data01\": [[0.0, 79.58, 72.0, 86.0], [1.0, 81.7, 76.0, 88.0], [2.0, 83.96, 78.0, 89.0], [3.0, 85.6, 79.0, 89.0], [4.0, 87.14, 82.0, 89.0], [5.0, 87.66, 82.0, 89.0], [6.0, 87.96, 78.0, 89.0], [7.0, 88.3, 82.0, 89.0], [8.0, 88.66, 84.0, 90.0], [9.0, 88.52, 84.0, 90.0], [10.0, 88.66, 83.0, 91.0]], \"data02\": [[0.7024389560931898, 0.23790322580645168, 0.15860215053763443, 0.07930107526881723], [0.7526181675627239, 0.23790322580645168, 0.15860215053763443, 0.07930107526881723]]}, \"plugins\": [{\"type\": \"reset\"}, {\"type\": \"zoom\", \"enabled\": false, \"button\": true}, {\"type\": \"boxzoom\", \"enabled\": false, \"button\": true}], \"height\": 320.0});\n",
       "      });\n",
       "    });\n",
       "}else{\n",
       "    // require.js not available: dynamically load d3 & mpld3\n",
       "    mpld3_load_lib(\"https://mpld3.github.io/js/d3.v3.min.js\", function(){\n",
       "         mpld3_load_lib(\"https://mpld3.github.io/js/mpld3.v0.2.js\", function(){\n",
       "                 \n",
       "                 mpld3.draw_figure(\"fig_el1468043961554563184119596\", {\"axes\": [{\"bbox\": [0.125, 0.125, 0.775, 0.775], \"zoomable\": true, \"xlim\": [0.0, 10.0], \"sharex\": [], \"axes\": [{\"tickformat\": null, \"grid\": {\"gridOn\": false}, \"nticks\": 6, \"tickvalues\": null, \"fontsize\": 10.0, \"scale\": \"linear\", \"position\": \"bottom\"}, {\"tickformat\": null, \"grid\": {\"gridOn\": false}, \"nticks\": 6, \"tickvalues\": null, \"fontsize\": 10.0, \"scale\": \"linear\", \"position\": \"left\"}], \"images\": [], \"texts\": [{\"color\": \"#000000\", \"text\": \"Generation\", \"rotation\": -0.0, \"fontsize\": 10.0, \"id\": \"el146804396173408\", \"zorder\": 3, \"coordinates\": \"axes\", \"alpha\": 1, \"h_anchor\": \"middle\", \"position\": [0.5, -0.08064516129032258], \"v_baseline\": \"hanging\"}, {\"color\": \"#000000\", \"text\": \"Fitness\", \"rotation\": -90.0, \"fontsize\": 10.0, \"id\": \"el146804397420160\", \"zorder\": 3, \"coordinates\": \"axes\", \"alpha\": 1, \"h_anchor\": \"middle\", \"position\": [-0.06098790322580647, 0.5], \"v_baseline\": \"auto\"}, {\"color\": \"#000000\", \"text\": \"None\", \"rotation\": -0.0, \"fontsize\": 10.0, \"id\": \"el146804398840464\", \"zorder\": 1000003.0, \"coordinates\": \"axes\", \"alpha\": 1, \"h_anchor\": \"start\", \"position\": [-0.16129032258064518, -0.16129032258064516], \"v_baseline\": \"auto\"}, {\"color\": \"#000000\", \"text\": \"average\", \"rotation\": -0.0, \"fontsize\": 12.0, \"id\": \"el146804398817576\", \"zorder\": 1000003.0, \"coordinates\": \"axes\", \"alpha\": 1, \"h_anchor\": \"start\", \"position\": [0.792044690860215, 0.2190860215053764], \"v_baseline\": \"auto\"}, {\"color\": \"#000000\", \"text\": \"minimum\", \"rotation\": -0.0, \"fontsize\": 12.0, \"id\": \"el146804398819704\", \"zorder\": 1000003.0, \"coordinates\": \"axes\", \"alpha\": 1, \"h_anchor\": \"start\", \"position\": [0.792044690860215, 0.13978494623655915], \"v_baseline\": \"auto\"}, {\"color\": \"#000000\", \"text\": \"maximum\", \"rotation\": -0.0, \"fontsize\": 12.0, \"id\": \"el146804398838224\", \"zorder\": 1000003.0, \"coordinates\": \"axes\", \"alpha\": 1, \"h_anchor\": \"start\", \"position\": [0.792044690860215, 0.060483870967741965], \"v_baseline\": \"auto\"}], \"markers\": [], \"ylim\": [70.0, 95.0], \"xdomain\": [0.0, 10.0], \"paths\": [{\"id\": \"el146804398780144\", \"pathcodes\": [\"M\", \"L\", \"L\", \"L\", \"Z\"], \"edgecolor\": \"#000000\", \"coordinates\": \"axes\", \"facecolor\": \"#FFFFFF\", \"zorder\": 1000001.0, \"xindex\": 0, \"alpha\": 1, \"yindex\": 1, \"dasharray\": \"10,0\", \"data\": \"data03\", \"edgewidth\": 1.0}], \"collections\": [], \"axesbgalpha\": null, \"id\": \"el146804396131384\", \"lines\": [{\"color\": \"#0000FF\", \"zorder\": 2, \"xindex\": 0, \"alpha\": 1, \"id\": \"el146804397624568\", \"dasharray\": \"10,0\", \"yindex\": 1, \"linewidth\": 1.0, \"data\": \"data01\", \"coordinates\": \"data\"}, {\"color\": \"#007F00\", \"zorder\": 2, \"xindex\": 0, \"alpha\": 1, \"id\": \"el146804397625240\", \"dasharray\": \"10,0\", \"yindex\": 2, \"linewidth\": 1.0, \"data\": \"data01\", \"coordinates\": \"data\"}, {\"color\": \"#FF0000\", \"zorder\": 2, \"xindex\": 0, \"alpha\": 1, \"id\": \"el146804398777680\", \"dasharray\": \"10,0\", \"yindex\": 3, \"linewidth\": 1.0, \"data\": \"data01\", \"coordinates\": \"data\"}, {\"color\": \"#0000FF\", \"zorder\": 1000002.0, \"xindex\": 0, \"alpha\": 1, \"id\": \"el146804398818416\", \"dasharray\": \"10,0\", \"yindex\": 1, \"linewidth\": 1.0, \"data\": \"data02\", \"coordinates\": \"axes\"}, {\"color\": \"#007F00\", \"zorder\": 1000002.0, \"xindex\": 0, \"alpha\": 1, \"id\": \"el146804398820488\", \"dasharray\": \"10,0\", \"yindex\": 2, \"linewidth\": 1.0, \"data\": \"data02\", \"coordinates\": \"axes\"}, {\"color\": \"#FF0000\", \"zorder\": 1000002.0, \"xindex\": 0, \"alpha\": 1, \"id\": \"el146804398839008\", \"dasharray\": \"10,0\", \"yindex\": 3, \"linewidth\": 1.0, \"data\": \"data02\", \"coordinates\": \"axes\"}], \"xscale\": \"linear\", \"ydomain\": [70.0, 95.0], \"yscale\": \"linear\", \"sharey\": [], \"axesbg\": \"#FFFFFF\"}], \"width\": 480.0, \"id\": \"el146804396155456\", \"data\": {\"data03\": [[0.6773493503584229, 0.02688172043010756], [0.9820788530465949, 0.02688172043010756], [0.9820788530465949, 0.28091397849462363], [0.6773493503584229, 0.28091397849462363]], \"data01\": [[0.0, 79.58, 72.0, 86.0], [1.0, 81.7, 76.0, 88.0], [2.0, 83.96, 78.0, 89.0], [3.0, 85.6, 79.0, 89.0], [4.0, 87.14, 82.0, 89.0], [5.0, 87.66, 82.0, 89.0], [6.0, 87.96, 78.0, 89.0], [7.0, 88.3, 82.0, 89.0], [8.0, 88.66, 84.0, 90.0], [9.0, 88.52, 84.0, 90.0], [10.0, 88.66, 83.0, 91.0]], \"data02\": [[0.7024389560931898, 0.23790322580645168, 0.15860215053763443, 0.07930107526881723], [0.7526181675627239, 0.23790322580645168, 0.15860215053763443, 0.07930107526881723]]}, \"plugins\": [{\"type\": \"reset\"}, {\"type\": \"zoom\", \"enabled\": false, \"button\": true}, {\"type\": \"boxzoom\", \"enabled\": false, \"button\": true}], \"height\": 320.0});\n",
       "            })\n",
       "         });\n",
       "}\n",
       "</script>"
      ],
      "text/plain": [
       "<matplotlib.figure.Figure at 0x106080240>"
      ]
     },
     "metadata": {},
     "output_type": "display_data"
    }
   ],
   "source": [
    "if __name__ == \"__main__\":\n",
    "    pop, log, hof = main()\n",
    "    print(\"Best individual is: %s\\nwith fitness: %s\" % (hof[0], hof[0].fitness))\n",
    "    gen, avg, min_, max_ = log.select(\"gen\", \"avg\", \"min\", \"max\")\n",
    "    plt.plot(gen, avg, label=\"average\")\n",
    "    plt.plot(gen, min_, label=\"minimum\")\n",
    "    plt.plot(gen, max_, label=\"maximum\")\n",
    "    plt.xlabel(\"Generation\")\n",
    "    plt.ylabel(\"Fitness\")\n",
    "    plt.legend(loc=\"lower right\")"
   ]
  },
  {
   "cell_type": "code",
   "execution_count": null,
   "metadata": {
    "collapsed": true
   },
   "outputs": [],
   "source": []
  }
 ],
 "metadata": {
  "kernelspec": {
   "display_name": "Python 3",
   "language": "python",
   "name": "python3"
  },
  "language_info": {
   "codemirror_mode": {
    "name": "ipython",
    "version": 3
   },
   "file_extension": ".py",
   "mimetype": "text/x-python",
   "name": "python",
   "nbconvert_exporter": "python",
   "pygments_lexer": "ipython3",
   "version": "3.4.3"
  }
 },
 "nbformat": 4,
 "nbformat_minor": 0
}
