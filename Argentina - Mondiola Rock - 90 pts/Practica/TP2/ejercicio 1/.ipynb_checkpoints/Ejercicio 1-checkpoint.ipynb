{
 "cells": [
  {
   "cell_type": "markdown",
   "metadata": {},
   "source": [
    "# Ejercicio 1\n",
    "Considerando el problema 3-SAT para la expresión lógica contenida en el archivo 'uf20.py', definida con 20 variables y 91 cláusulas que se sabe que es satisfacible, se intenta resolverlo usando Hill Climbing. Se pide que:\n",
    "1. Proponga una representación para las posibles soluciones y determine el tamaño del espacio de búsqueda asociado a esa representación.\n",
    "2. Proponga una función de evaluación.\n",
    "3. De na la manera en que se obtienen las soluciones vecinas a la solución actual.\n",
    "Intente resolverlo ahora empleando un Algoritmo Evolutivo. Se pide que:\n",
    "4. Proponga una representación para las posibles soluciones y una función de evaluación. Describa las diferencias, si las hay, con las propuestas anteriormente.\n",
    "5. Defina que operadores van a usarse durante el proceso evolutivo.\n",
    "\n",
    "Implemente y pruebe lo de nido en los puntos anteriores. Evalúe los resultados obtenidos.\n",
    "Indique los valores de los parámetros usados durante la ejecución de ambos algoritmos."
   ]
  },
  {
   "cell_type": "code",
   "execution_count": 100,
   "metadata": {
    "collapsed": false
   },
   "outputs": [],
   "source": [
    "import numpy as np\n",
    "import matplotlib.pyplot as plt\n",
    "from matplotlib import pylab\n",
    "import mpld3\n",
    "\n",
    "%matplotlib inline\n",
    "mpld3.enable_notebook()\n",
    "\n",
    "from uf20 import f_1\n",
    "from busqueda_local import hill_climb\n",
    "from deap import base, creator, tools, algorithms"
   ]
  },
  {
   "cell_type": "markdown",
   "metadata": {},
   "source": [
    "# Hill Climbing\n",
    "## Evaluacion"
   ]
  },
  {
   "cell_type": "code",
   "execution_count": 2,
   "metadata": {
    "collapsed": true
   },
   "outputs": [],
   "source": [
    "def evaluacion(x):\n",
    "    return f_1(*x).count(True)"
   ]
  },
  {
   "cell_type": "markdown",
   "metadata": {},
   "source": [
    "## Vecinos"
   ]
  },
  {
   "cell_type": "code",
   "execution_count": 14,
   "metadata": {
    "collapsed": true
   },
   "outputs": [],
   "source": [
    "def vecinos(x):\n",
    "    v = []\n",
    "    for i in range(5):\n",
    "        pos = np.random.randint(0,19)\n",
    "        x[pos] = not x[pos]\n",
    "        v.append(x)\n",
    "    return v"
   ]
  },
  {
   "cell_type": "markdown",
   "metadata": {},
   "source": [
    "## Nuevos"
   ]
  },
  {
   "cell_type": "code",
   "execution_count": 4,
   "metadata": {
    "collapsed": false
   },
   "outputs": [],
   "source": [
    "def nuevos():\n",
    "    return np.random.random(20)<0.5"
   ]
  },
  {
   "cell_type": "markdown",
   "metadata": {},
   "source": [
    "## Busco"
   ]
  },
  {
   "cell_type": "code",
   "execution_count": 37,
   "metadata": {
    "collapsed": false
   },
   "outputs": [],
   "source": [
    "def buscar(i):\n",
    "    mejor = nuevos()\n",
    "    for j in range(i):\n",
    "        print(\"\\nEvaluacion mejor\",evaluacion(mejor))\n",
    "        mejor, evaluaciones = hill_climb(mejor, evaluacion, vecinos)\n",
    "    return"
   ]
  },
  {
   "cell_type": "code",
   "execution_count": 38,
   "metadata": {
    "collapsed": false
   },
   "outputs": [
    {
     "name": "stdout",
     "output_type": "stream",
     "text": [
      "\n",
      "Evaluacion mejor 81\n",
      "\n",
      "Evaluacion mejor 85\n",
      "\n",
      "Evaluacion mejor 78\n",
      "\n",
      "Evaluacion mejor 78\n",
      "\n",
      "Evaluacion mejor 83\n"
     ]
    }
   ],
   "source": [
    "buscar(5)"
   ]
  },
  {
   "cell_type": "markdown",
   "metadata": {},
   "source": [
    "# Algoritmo Evolutivo"
   ]
  },
  {
   "cell_type": "markdown",
   "metadata": {},
   "source": [
    "## Funcion para crear individuos"
   ]
  },
  {
   "cell_type": "code",
   "execution_count": 47,
   "metadata": {
    "collapsed": false
   },
   "outputs": [],
   "source": [
    "def nuevoGEN():\n",
    "    return np.random.random()<0.5"
   ]
  },
  {
   "cell_type": "markdown",
   "metadata": {},
   "source": [
    "## Funcion Evaluacion"
   ]
  },
  {
   "cell_type": "code",
   "execution_count": null,
   "metadata": {
    "collapsed": true
   },
   "outputs": [],
   "source": [
    "def evaluarADN(x):\n",
    "        return [f_1(*x).count(True)]"
   ]
  },
  {
   "cell_type": "markdown",
   "metadata": {},
   "source": [
    "## Defino Fitness Esperado"
   ]
  },
  {
   "cell_type": "code",
   "execution_count": null,
   "metadata": {
    "collapsed": true
   },
   "outputs": [],
   "source": [
    "creator.create(\"FitnessMax\", base.Fitness, weights=(91,))\n",
    "creator.create(\"Individual\", list, fitness=creator.FitnessMax)"
   ]
  },
  {
   "cell_type": "markdown",
   "metadata": {},
   "source": [
    "## Defino ADN del Individuo"
   ]
  },
  {
   "cell_type": "code",
   "execution_count": 57,
   "metadata": {
    "collapsed": true
   },
   "outputs": [],
   "source": [
    "toolbox = base.Toolbox()\n",
    "toolbox.register(\"individual\", tools.initRepeat, creator.Individual, gen, n=20)\n",
    "toolbox.register(\"population\", tools.initRepeat, list, toolbox.individual)"
   ]
  },
  {
   "cell_type": "markdown",
   "metadata": {},
   "source": [
    "## Defino Evaluacion, Seleccion y Mutacion"
   ]
  },
  {
   "cell_type": "code",
   "execution_count": 97,
   "metadata": {
    "collapsed": true
   },
   "outputs": [],
   "source": [
    "toolbox.register(\"evaluate\", evaluarADN)\n",
    "toolbox.register(\"mate\", tools.cxTwoPoint)\n",
    "toolbox.register(\"mutate\", tools.mutFlipBit, indpb=0.10)\n",
    "toolbox.register(\"select\", tools.selTournament, tournsize=3)"
   ]
  },
  {
   "cell_type": "code",
   "execution_count": 98,
   "metadata": {
    "collapsed": true
   },
   "outputs": [],
   "source": [
    "def main():    \n",
    "    pop = toolbox.population(n=50)\n",
    "    hof = tools.HallOfFame(1)\n",
    "    stats = tools.Statistics(lambda ind: ind.fitness.values)\n",
    "    stats.register(\"avg\", np.mean)\n",
    "    stats.register(\"min\", np.min)\n",
    "    stats.register(\"max\", np.max)\n",
    "    pop, logbook = algorithms.eaSimple(pop, toolbox, cxpb=0.5, mutpb=0.2, ngen=10, stats=stats, halloffame=hof, verbose=True)\n",
    "    return pop, logbook, hof"
   ]
  },
  {
   "cell_type": "code",
   "execution_count": 102,
   "metadata": {
    "collapsed": false
   },
   "outputs": [
    {
     "name": "stdout",
     "output_type": "stream",
     "text": [
      "gen\tnevals\tavg  \tmin\tmax\n",
      "0  \t50    \t79.24\t72 \t87 \n",
      "1  \t31    \t81.74\t72 \t88 \n",
      "2  \t25    \t83.94\t81 \t88 \n",
      "3  \t28    \t85.24\t78 \t88 \n",
      "4  \t37    \t86.2 \t79 \t88 \n",
      "5  \t33    \t86.2 \t73 \t89 \n",
      "6  \t34    \t86.4 \t79 \t89 \n",
      "7  \t32    \t86.8 \t80 \t90 \n",
      "8  \t27    \t87.32\t81 \t90 \n",
      "9  \t31    \t88.04\t83 \t90 \n",
      "10 \t30    \t87.8 \t78 \t90 \n",
      "Best individual is: [False, True, True, True, False, False, False, True, True, True, True, False, False, True, False, False, True, True, True, True]\n",
      "with fitness: (90.0,)\n"
     ]
    },
    {
     "data": {
      "image/png": "[encoded data removed]",
      "text/html": [
       "\n",
       "\n",
       "<style>\n",
       "\n",
       "</style>\n",
       "\n",
       "<div id=\"fig_el866443927106082748315320\"></div>\n",
       "<script>\n",
       "function mpld3_load_lib(url, callback){\n",
       "  var s = document.createElement('script');\n",
       "  s.src = url;\n",
       "  s.async = true;\n",
       "  s.onreadystatechange = s.onload = callback;\n",
       "  s.onerror = function(){console.warn(\"failed to load library \" + url);};\n",
       "  document.getElementsByTagName(\"head\")[0].appendChild(s);\n",
       "}\n",
       "\n",
       "if(typeof(mpld3) !== \"undefined\" && mpld3._mpld3IsLoaded){\n",
       "   // already loaded: just create the figure\n",
       "   !function(mpld3){\n",
       "       \n",
       "       mpld3.draw_figure(\"fig_el866443927106082748315320\", {\"plugins\": [{\"type\": \"reset\"}, {\"type\": \"zoom\", \"enabled\": false, \"button\": true}, {\"type\": \"boxzoom\", \"enabled\": false, \"button\": true}], \"id\": \"el86644392710608\", \"height\": 320.0, \"axes\": [{\"markers\": [], \"sharey\": [], \"yscale\": \"linear\", \"xlim\": [0.0, 10.0], \"axesbgalpha\": null, \"id\": \"el86644395197944\", \"sharex\": [], \"axesbg\": \"#FFFFFF\", \"ylim\": [72.0, 90.0], \"xdomain\": [0.0, 10.0], \"paths\": [{\"edgewidth\": 1.0, \"alpha\": 1, \"pathcodes\": [\"M\", \"L\", \"L\", \"L\", \"Z\"], \"zorder\": 1000001.0, \"dasharray\": \"10,0\", \"coordinates\": \"axes\", \"xindex\": 0, \"edgecolor\": \"#000000\", \"yindex\": 1, \"id\": \"el86644396736352\", \"facecolor\": \"#FFFFFF\", \"data\": \"data03\"}], \"images\": [], \"collections\": [], \"ydomain\": [72.0, 90.0], \"bbox\": [0.125, 0.125, 0.775, 0.775], \"zoomable\": true, \"texts\": [{\"rotation\": -0.0, \"zorder\": 3, \"color\": \"#000000\", \"h_anchor\": \"middle\", \"coordinates\": \"axes\", \"text\": \"Generation\", \"position\": [0.5, -0.08064516129032258], \"fontsize\": 10.0, \"alpha\": 1, \"id\": \"el86644393501136\", \"v_baseline\": \"hanging\"}, {\"rotation\": -90.0, \"zorder\": 3, \"color\": \"#000000\", \"h_anchor\": \"middle\", \"coordinates\": \"axes\", \"text\": \"Fitness\", \"position\": [-0.061407930107526904, 0.5], \"fontsize\": 10.0, \"alpha\": 1, \"id\": \"el86644395891008\", \"v_baseline\": \"auto\"}, {\"rotation\": -0.0, \"zorder\": 1000003.0, \"color\": \"#000000\", \"h_anchor\": \"start\", \"coordinates\": \"axes\", \"text\": \"None\", \"position\": [-0.16129032258064518, -0.16129032258064516], \"fontsize\": 10.0, \"alpha\": 1, \"id\": \"el86644396800880\", \"v_baseline\": \"auto\"}, {\"rotation\": -0.0, \"zorder\": 1000003.0, \"color\": \"#000000\", \"h_anchor\": \"start\", \"coordinates\": \"axes\", \"text\": \"average\", \"position\": [0.792044690860215, 0.2190860215053764], \"fontsize\": 12.0, \"alpha\": 1, \"id\": \"el86644396769856\", \"v_baseline\": \"auto\"}, {\"rotation\": -0.0, \"zorder\": 1000003.0, \"color\": \"#000000\", \"h_anchor\": \"start\", \"coordinates\": \"axes\", \"text\": \"minimum\", \"position\": [0.792044690860215, 0.13978494623655915], \"fontsize\": 12.0, \"alpha\": 1, \"id\": \"el86644396771928\", \"v_baseline\": \"auto\"}, {\"rotation\": -0.0, \"zorder\": 1000003.0, \"color\": \"#000000\", \"h_anchor\": \"start\", \"coordinates\": \"axes\", \"text\": \"maximum\", \"position\": [0.792044690860215, 0.060483870967741965], \"fontsize\": 12.0, \"alpha\": 1, \"id\": \"el86644396798640\", \"v_baseline\": \"auto\"}], \"axes\": [{\"tickformat\": null, \"scale\": \"linear\", \"grid\": {\"gridOn\": false}, \"nticks\": 6, \"tickvalues\": null, \"position\": \"bottom\", \"fontsize\": 10.0}, {\"tickformat\": null, \"scale\": \"linear\", \"grid\": {\"gridOn\": false}, \"nticks\": 10, \"tickvalues\": null, \"position\": \"left\", \"fontsize\": 10.0}], \"lines\": [{\"yindex\": 1, \"id\": \"el86644396703248\", \"alpha\": 1, \"zorder\": 2, \"color\": \"#0000FF\", \"data\": \"data01\", \"coordinates\": \"data\", \"xindex\": 0, \"dasharray\": \"10,0\", \"linewidth\": 1.0}, {\"yindex\": 2, \"id\": \"el86644396732656\", \"alpha\": 1, \"zorder\": 2, \"color\": \"#007F00\", \"data\": \"data01\", \"coordinates\": \"data\", \"xindex\": 0, \"dasharray\": \"10,0\", \"linewidth\": 1.0}, {\"yindex\": 3, \"id\": \"el86644396734056\", \"alpha\": 1, \"zorder\": 2, \"color\": \"#FF0000\", \"data\": \"data01\", \"coordinates\": \"data\", \"xindex\": 0, \"dasharray\": \"10,0\", \"linewidth\": 1.0}, {\"yindex\": 1, \"id\": \"el86644396770640\", \"alpha\": 1, \"zorder\": 1000002.0, \"color\": \"#0000FF\", \"data\": \"data02\", \"coordinates\": \"axes\", \"xindex\": 0, \"dasharray\": \"10,0\", \"linewidth\": 1.0}, {\"yindex\": 2, \"id\": \"el86644396772712\", \"alpha\": 1, \"zorder\": 1000002.0, \"color\": \"#007F00\", \"data\": \"data02\", \"coordinates\": \"axes\", \"xindex\": 0, \"dasharray\": \"10,0\", \"linewidth\": 1.0}, {\"yindex\": 3, \"id\": \"el86644396799424\", \"alpha\": 1, \"zorder\": 1000002.0, \"color\": \"#FF0000\", \"data\": \"data02\", \"coordinates\": \"axes\", \"xindex\": 0, \"dasharray\": \"10,0\", \"linewidth\": 1.0}], \"xscale\": \"linear\"}], \"width\": 480.0, \"data\": {\"data02\": [[0.7024389560931898, 0.23790322580645168, 0.15860215053763443, 0.07930107526881723], [0.7526181675627239, 0.23790322580645168, 0.15860215053763443, 0.07930107526881723]], \"data01\": [[0.0, 79.24, 72.0, 87.0], [1.0, 81.74, 72.0, 88.0], [2.0, 83.94, 81.0, 88.0], [3.0, 85.24, 78.0, 88.0], [4.0, 86.2, 79.0, 88.0], [5.0, 86.2, 73.0, 89.0], [6.0, 86.4, 79.0, 89.0], [7.0, 86.8, 80.0, 90.0], [8.0, 87.32, 81.0, 90.0], [9.0, 88.04, 83.0, 90.0], [10.0, 87.8, 78.0, 90.0]], \"data03\": [[0.6773493503584229, 0.02688172043010756], [0.9820788530465949, 0.02688172043010756], [0.9820788530465949, 0.28091397849462363], [0.6773493503584229, 0.28091397849462363]]}});\n",
       "   }(mpld3);\n",
       "}else if(typeof define === \"function\" && define.amd){\n",
       "   // require.js is available: use it to load d3/mpld3\n",
       "   require.config({paths: {d3: \"https://mpld3.github.io/js/d3.v3.min\"}});\n",
       "   require([\"d3\"], function(d3){\n",
       "      window.d3 = d3;\n",
       "      mpld3_load_lib(\"https://mpld3.github.io/js/mpld3.v0.2.js\", function(){\n",
       "         \n",
       "         mpld3.draw_figure(\"fig_el866443927106082748315320\", {\"plugins\": [{\"type\": \"reset\"}, {\"type\": \"zoom\", \"enabled\": false, \"button\": true}, {\"type\": \"boxzoom\", \"enabled\": false, \"button\": true}], \"id\": \"el86644392710608\", \"height\": 320.0, \"axes\": [{\"markers\": [], \"sharey\": [], \"yscale\": \"linear\", \"xlim\": [0.0, 10.0], \"axesbgalpha\": null, \"id\": \"el86644395197944\", \"sharex\": [], \"axesbg\": \"#FFFFFF\", \"ylim\": [72.0, 90.0], \"xdomain\": [0.0, 10.0], \"paths\": [{\"edgewidth\": 1.0, \"alpha\": 1, \"pathcodes\": [\"M\", \"L\", \"L\", \"L\", \"Z\"], \"zorder\": 1000001.0, \"dasharray\": \"10,0\", \"coordinates\": \"axes\", \"xindex\": 0, \"edgecolor\": \"#000000\", \"yindex\": 1, \"id\": \"el86644396736352\", \"facecolor\": \"#FFFFFF\", \"data\": \"data03\"}], \"images\": [], \"collections\": [], \"ydomain\": [72.0, 90.0], \"bbox\": [0.125, 0.125, 0.775, 0.775], \"zoomable\": true, \"texts\": [{\"rotation\": -0.0, \"zorder\": 3, \"color\": \"#000000\", \"h_anchor\": \"middle\", \"coordinates\": \"axes\", \"text\": \"Generation\", \"position\": [0.5, -0.08064516129032258], \"fontsize\": 10.0, \"alpha\": 1, \"id\": \"el86644393501136\", \"v_baseline\": \"hanging\"}, {\"rotation\": -90.0, \"zorder\": 3, \"color\": \"#000000\", \"h_anchor\": \"middle\", \"coordinates\": \"axes\", \"text\": \"Fitness\", \"position\": [-0.061407930107526904, 0.5], \"fontsize\": 10.0, \"alpha\": 1, \"id\": \"el86644395891008\", \"v_baseline\": \"auto\"}, {\"rotation\": -0.0, \"zorder\": 1000003.0, \"color\": \"#000000\", \"h_anchor\": \"start\", \"coordinates\": \"axes\", \"text\": \"None\", \"position\": [-0.16129032258064518, -0.16129032258064516], \"fontsize\": 10.0, \"alpha\": 1, \"id\": \"el86644396800880\", \"v_baseline\": \"auto\"}, {\"rotation\": -0.0, \"zorder\": 1000003.0, \"color\": \"#000000\", \"h_anchor\": \"start\", \"coordinates\": \"axes\", \"text\": \"average\", \"position\": [0.792044690860215, 0.2190860215053764], \"fontsize\": 12.0, \"alpha\": 1, \"id\": \"el86644396769856\", \"v_baseline\": \"auto\"}, {\"rotation\": -0.0, \"zorder\": 1000003.0, \"color\": \"#000000\", \"h_anchor\": \"start\", \"coordinates\": \"axes\", \"text\": \"minimum\", \"position\": [0.792044690860215, 0.13978494623655915], \"fontsize\": 12.0, \"alpha\": 1, \"id\": \"el86644396771928\", \"v_baseline\": \"auto\"}, {\"rotation\": -0.0, \"zorder\": 1000003.0, \"color\": \"#000000\", \"h_anchor\": \"start\", \"coordinates\": \"axes\", \"text\": \"maximum\", \"position\": [0.792044690860215, 0.060483870967741965], \"fontsize\": 12.0, \"alpha\": 1, \"id\": \"el86644396798640\", \"v_baseline\": \"auto\"}], \"axes\": [{\"tickformat\": null, \"scale\": \"linear\", \"grid\": {\"gridOn\": false}, \"nticks\": 6, \"tickvalues\": null, \"position\": \"bottom\", \"fontsize\": 10.0}, {\"tickformat\": null, \"scale\": \"linear\", \"grid\": {\"gridOn\": false}, \"nticks\": 10, \"tickvalues\": null, \"position\": \"left\", \"fontsize\": 10.0}], \"lines\": [{\"yindex\": 1, \"id\": \"el86644396703248\", \"alpha\": 1, \"zorder\": 2, \"color\": \"#0000FF\", \"data\": \"data01\", \"coordinates\": \"data\", \"xindex\": 0, \"dasharray\": \"10,0\", \"linewidth\": 1.0}, {\"yindex\": 2, \"id\": \"el86644396732656\", \"alpha\": 1, \"zorder\": 2, \"color\": \"#007F00\", \"data\": \"data01\", \"coordinates\": \"data\", \"xindex\": 0, \"dasharray\": \"10,0\", \"linewidth\": 1.0}, {\"yindex\": 3, \"id\": \"el86644396734056\", \"alpha\": 1, \"zorder\": 2, \"color\": \"#FF0000\", \"data\": \"data01\", \"coordinates\": \"data\", \"xindex\": 0, \"dasharray\": \"10,0\", \"linewidth\": 1.0}, {\"yindex\": 1, \"id\": \"el86644396770640\", \"alpha\": 1, \"zorder\": 1000002.0, \"color\": \"#0000FF\", \"data\": \"data02\", \"coordinates\": \"axes\", \"xindex\": 0, \"dasharray\": \"10,0\", \"linewidth\": 1.0}, {\"yindex\": 2, \"id\": \"el86644396772712\", \"alpha\": 1, \"zorder\": 1000002.0, \"color\": \"#007F00\", \"data\": \"data02\", \"coordinates\": \"axes\", \"xindex\": 0, \"dasharray\": \"10,0\", \"linewidth\": 1.0}, {\"yindex\": 3, \"id\": \"el86644396799424\", \"alpha\": 1, \"zorder\": 1000002.0, \"color\": \"#FF0000\", \"data\": \"data02\", \"coordinates\": \"axes\", \"xindex\": 0, \"dasharray\": \"10,0\", \"linewidth\": 1.0}], \"xscale\": \"linear\"}], \"width\": 480.0, \"data\": {\"data02\": [[0.7024389560931898, 0.23790322580645168, 0.15860215053763443, 0.07930107526881723], [0.7526181675627239, 0.23790322580645168, 0.15860215053763443, 0.07930107526881723]], \"data01\": [[0.0, 79.24, 72.0, 87.0], [1.0, 81.74, 72.0, 88.0], [2.0, 83.94, 81.0, 88.0], [3.0, 85.24, 78.0, 88.0], [4.0, 86.2, 79.0, 88.0], [5.0, 86.2, 73.0, 89.0], [6.0, 86.4, 79.0, 89.0], [7.0, 86.8, 80.0, 90.0], [8.0, 87.32, 81.0, 90.0], [9.0, 88.04, 83.0, 90.0], [10.0, 87.8, 78.0, 90.0]], \"data03\": [[0.6773493503584229, 0.02688172043010756], [0.9820788530465949, 0.02688172043010756], [0.9820788530465949, 0.28091397849462363], [0.6773493503584229, 0.28091397849462363]]}});\n",
       "      });\n",
       "    });\n",
       "}else{\n",
       "    // require.js not available: dynamically load d3 & mpld3\n",
       "    mpld3_load_lib(\"https://mpld3.github.io/js/d3.v3.min.js\", function(){\n",
       "         mpld3_load_lib(\"https://mpld3.github.io/js/mpld3.v0.2.js\", function(){\n",
       "                 \n",
       "                 mpld3.draw_figure(\"fig_el866443927106082748315320\", {\"plugins\": [{\"type\": \"reset\"}, {\"type\": \"zoom\", \"enabled\": false, \"button\": true}, {\"type\": \"boxzoom\", \"enabled\": false, \"button\": true}], \"id\": \"el86644392710608\", \"height\": 320.0, \"axes\": [{\"markers\": [], \"sharey\": [], \"yscale\": \"linear\", \"xlim\": [0.0, 10.0], \"axesbgalpha\": null, \"id\": \"el86644395197944\", \"sharex\": [], \"axesbg\": \"#FFFFFF\", \"ylim\": [72.0, 90.0], \"xdomain\": [0.0, 10.0], \"paths\": [{\"edgewidth\": 1.0, \"alpha\": 1, \"pathcodes\": [\"M\", \"L\", \"L\", \"L\", \"Z\"], \"zorder\": 1000001.0, \"dasharray\": \"10,0\", \"coordinates\": \"axes\", \"xindex\": 0, \"edgecolor\": \"#000000\", \"yindex\": 1, \"id\": \"el86644396736352\", \"facecolor\": \"#FFFFFF\", \"data\": \"data03\"}], \"images\": [], \"collections\": [], \"ydomain\": [72.0, 90.0], \"bbox\": [0.125, 0.125, 0.775, 0.775], \"zoomable\": true, \"texts\": [{\"rotation\": -0.0, \"zorder\": 3, \"color\": \"#000000\", \"h_anchor\": \"middle\", \"coordinates\": \"axes\", \"text\": \"Generation\", \"position\": [0.5, -0.08064516129032258], \"fontsize\": 10.0, \"alpha\": 1, \"id\": \"el86644393501136\", \"v_baseline\": \"hanging\"}, {\"rotation\": -90.0, \"zorder\": 3, \"color\": \"#000000\", \"h_anchor\": \"middle\", \"coordinates\": \"axes\", \"text\": \"Fitness\", \"position\": [-0.061407930107526904, 0.5], \"fontsize\": 10.0, \"alpha\": 1, \"id\": \"el86644395891008\", \"v_baseline\": \"auto\"}, {\"rotation\": -0.0, \"zorder\": 1000003.0, \"color\": \"#000000\", \"h_anchor\": \"start\", \"coordinates\": \"axes\", \"text\": \"None\", \"position\": [-0.16129032258064518, -0.16129032258064516], \"fontsize\": 10.0, \"alpha\": 1, \"id\": \"el86644396800880\", \"v_baseline\": \"auto\"}, {\"rotation\": -0.0, \"zorder\": 1000003.0, \"color\": \"#000000\", \"h_anchor\": \"start\", \"coordinates\": \"axes\", \"text\": \"average\", \"position\": [0.792044690860215, 0.2190860215053764], \"fontsize\": 12.0, \"alpha\": 1, \"id\": \"el86644396769856\", \"v_baseline\": \"auto\"}, {\"rotation\": -0.0, \"zorder\": 1000003.0, \"color\": \"#000000\", \"h_anchor\": \"start\", \"coordinates\": \"axes\", \"text\": \"minimum\", \"position\": [0.792044690860215, 0.13978494623655915], \"fontsize\": 12.0, \"alpha\": 1, \"id\": \"el86644396771928\", \"v_baseline\": \"auto\"}, {\"rotation\": -0.0, \"zorder\": 1000003.0, \"color\": \"#000000\", \"h_anchor\": \"start\", \"coordinates\": \"axes\", \"text\": \"maximum\", \"position\": [0.792044690860215, 0.060483870967741965], \"fontsize\": 12.0, \"alpha\": 1, \"id\": \"el86644396798640\", \"v_baseline\": \"auto\"}], \"axes\": [{\"tickformat\": null, \"scale\": \"linear\", \"grid\": {\"gridOn\": false}, \"nticks\": 6, \"tickvalues\": null, \"position\": \"bottom\", \"fontsize\": 10.0}, {\"tickformat\": null, \"scale\": \"linear\", \"grid\": {\"gridOn\": false}, \"nticks\": 10, \"tickvalues\": null, \"position\": \"left\", \"fontsize\": 10.0}], \"lines\": [{\"yindex\": 1, \"id\": \"el86644396703248\", \"alpha\": 1, \"zorder\": 2, \"color\": \"#0000FF\", \"data\": \"data01\", \"coordinates\": \"data\", \"xindex\": 0, \"dasharray\": \"10,0\", \"linewidth\": 1.0}, {\"yindex\": 2, \"id\": \"el86644396732656\", \"alpha\": 1, \"zorder\": 2, \"color\": \"#007F00\", \"data\": \"data01\", \"coordinates\": \"data\", \"xindex\": 0, \"dasharray\": \"10,0\", \"linewidth\": 1.0}, {\"yindex\": 3, \"id\": \"el86644396734056\", \"alpha\": 1, \"zorder\": 2, \"color\": \"#FF0000\", \"data\": \"data01\", \"coordinates\": \"data\", \"xindex\": 0, \"dasharray\": \"10,0\", \"linewidth\": 1.0}, {\"yindex\": 1, \"id\": \"el86644396770640\", \"alpha\": 1, \"zorder\": 1000002.0, \"color\": \"#0000FF\", \"data\": \"data02\", \"coordinates\": \"axes\", \"xindex\": 0, \"dasharray\": \"10,0\", \"linewidth\": 1.0}, {\"yindex\": 2, \"id\": \"el86644396772712\", \"alpha\": 1, \"zorder\": 1000002.0, \"color\": \"#007F00\", \"data\": \"data02\", \"coordinates\": \"axes\", \"xindex\": 0, \"dasharray\": \"10,0\", \"linewidth\": 1.0}, {\"yindex\": 3, \"id\": \"el86644396799424\", \"alpha\": 1, \"zorder\": 1000002.0, \"color\": \"#FF0000\", \"data\": \"data02\", \"coordinates\": \"axes\", \"xindex\": 0, \"dasharray\": \"10,0\", \"linewidth\": 1.0}], \"xscale\": \"linear\"}], \"width\": 480.0, \"data\": {\"data02\": [[0.7024389560931898, 0.23790322580645168, 0.15860215053763443, 0.07930107526881723], [0.7526181675627239, 0.23790322580645168, 0.15860215053763443, 0.07930107526881723]], \"data01\": [[0.0, 79.24, 72.0, 87.0], [1.0, 81.74, 72.0, 88.0], [2.0, 83.94, 81.0, 88.0], [3.0, 85.24, 78.0, 88.0], [4.0, 86.2, 79.0, 88.0], [5.0, 86.2, 73.0, 89.0], [6.0, 86.4, 79.0, 89.0], [7.0, 86.8, 80.0, 90.0], [8.0, 87.32, 81.0, 90.0], [9.0, 88.04, 83.0, 90.0], [10.0, 87.8, 78.0, 90.0]], \"data03\": [[0.6773493503584229, 0.02688172043010756], [0.9820788530465949, 0.02688172043010756], [0.9820788530465949, 0.28091397849462363], [0.6773493503584229, 0.28091397849462363]]}});\n",
       "            })\n",
       "         });\n",
       "}\n",
       "</script>"
      ],
      "text/plain": [
       "<matplotlib.figure.Figure at 0x105d371d0>"
      ]
     },
     "metadata": {},
     "output_type": "display_data"
    }
   ],
   "source": [
    "if __name__ == \"__main__\":\n",
    "    pop, log, hof = main()\n",
    "    print(\"Best individual is: %s\\nwith fitness: %s\" % (hof[0], hof[0].fitness))\n",
    "    gen, avg, min_, max_ = log.select(\"gen\", \"avg\", \"min\", \"max\")\n",
    "    plt.plot(gen, avg, label=\"average\")\n",
    "    plt.plot(gen, min_, label=\"minimum\")\n",
    "    plt.plot(gen, max_, label=\"maximum\")\n",
    "    plt.xlabel(\"Generation\")\n",
    "    plt.ylabel(\"Fitness\")\n",
    "    plt.legend(loc=\"lower right\")"
   ]
  },
  {
   "cell_type": "code",
   "execution_count": null,
   "metadata": {
    "collapsed": true
   },
   "outputs": [],
   "source": []
  }
 ],
 "metadata": {
  "kernelspec": {
   "display_name": "Python 3",
   "language": "python",
   "name": "python3"
  },
  "language_info": {
   "codemirror_mode": {
    "name": "ipython",
    "version": 3
   },
   "file_extension": ".py",
   "mimetype": "text/x-python",
   "name": "python",
   "nbconvert_exporter": "python",
   "pygments_lexer": "ipython3",
   "version": "3.4.3"
  }
 },
 "nbformat": 4,
 "nbformat_minor": 0
}
