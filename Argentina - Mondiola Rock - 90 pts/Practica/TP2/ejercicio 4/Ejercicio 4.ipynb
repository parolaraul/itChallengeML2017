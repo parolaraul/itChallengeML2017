{
 "cells": [
  {
   "cell_type": "markdown",
   "metadata": {},
   "source": [
    "# Ejercicio 4\n",
    "Intente resolver dos casos diferentes del problema TSP usando Simulated Annealing y un Algoritmo Evolutivo. El primer problema es de 29 ciudades y el segundo, de 101 ciudades.\n",
    "Las ubicaciones de las ciudades se encuentran dentro de una matriz contenida en el archivo con extensión 'cities.npy' mientras que los costos de ir de una ciudad a otra están contenidos en otra matriz almacenada en el archivo con extensión 'distances.npy'. Para ambos casos, se conocen las soluciones óptimas, las cuales se encuentran en los archivos con extensión 'opt.tour.npy'.\n",
    " \n",
    "Se pide que:\n",
    "\n",
    "a) Proponga una representación adecuada para las soluciones.\n",
    "\n",
    "b) Proponga una función de evaluación que le permita cali car que tan buena es una solución.\n",
    "\n",
    "c) De na como se generarán las soluciones vecinas al usar Simulated Annealing y cuales serán los operadores empleados en el Algoritmo Evolutivo.\n",
    "\n",
    "d) Implemente y pruebe lo de nido en los puntos anteriores. Evalúe los resultados obtenidos. Detalle todos los parámetros usados durante la ejecución de ambos algoritmos. Justi que."
   ]
  },
  {
   "cell_type": "code",
   "execution_count": 10,
   "metadata": {
    "collapsed": false
   },
   "outputs": [],
   "source": [
    "import numpy as np\n",
    "import matplotlib.pyplot as plt\n",
    "\n",
    "\n",
    "#from matplotlib import pylab\n",
    "#import mpld3\n",
    "\n",
    "%matplotlib  inline\n",
    "#mpld3.enable_notebook()\n",
    "\n",
    "from busqueda_local import hill_climb\n",
    "from busqueda_local import simulated_annealing\n",
    "from deap import base, creator, tools, algorithms"
   ]
  },
  {
   "cell_type": "code",
   "execution_count": 11,
   "metadata": {
    "collapsed": true
   },
   "outputs": [],
   "source": [
    "# -*- coding: utf-8 -*-\n",
    "\"\"\"\n",
    "Ejercicio 4: Problema del Viajante.\n",
    "\"\"\"\n",
    "\n",
    "CIUDADES = np.load('bayg29.cities.npy')\n",
    "DISTANCIAS = np.load('bayg29.distances.npy')\n",
    "RECORRIDO_OPTIMO = np.load('bayg29.opt.tour.npy')  # Distancia mínima: 1610\n",
    "\n",
    "#CIUDADES = np.load('eil101.cities.npy')\n",
    "#DISTANCIAS = np.load('eil101.distances.npy')\n",
    "#RECORRIDO_OPTIMO = np.load('eil101.opt.tour.npy')  # Distancia mínima: 629\n",
    "\n",
    "def distancia_recorrido(recorrido):\n",
    "    \"\"\" Devuelve el largo total del recorrido. \"\"\"\n",
    "    largo = 0\n",
    "    ciudad_anterior = recorrido[-1]\n",
    "    for ciudad in recorrido:\n",
    "        largo += DISTANCIAS[ciudad_anterior, ciudad]\n",
    "        ciudad_anterior = ciudad\n",
    "    return largo\n",
    "\n",
    "\n",
    "def mostrar_recorrido(recorrido):\n",
    "    r = recorrido + [recorrido[0]]\n",
    "    plt.figure(1)\n",
    "    plt.clf()\n",
    "    plt.plot(CIUDADES[0], CIUDADES[1], 'o')\n",
    "    plt.plot(CIUDADES[0, r], CIUDADES[1, r], 'r')\n",
    "    plt.show()\n",
    "\n"
   ]
  },
  {
   "cell_type": "code",
   "execution_count": 28,
   "metadata": {
    "collapsed": true
   },
   "outputs": [],
   "source": [
    "CIUDADES = 1047\n",
    "gananciaPorH = 9\n",
    "costoPorKm = 2500"
   ]
  },
  {
   "cell_type": "markdown",
   "metadata": {},
   "source": [
    "# Simulated Annealing\n",
    "## Nuevos"
   ]
  },
  {
   "cell_type": "code",
   "execution_count": 12,
   "metadata": {
    "collapsed": true
   },
   "outputs": [],
   "source": [
    "def nuevos():\n",
    "    a=np.arange(CIUDADES.shape[1])\n",
    "    np.random.shuffle(a)\n",
    "    return a"
   ]
  },
  {
   "cell_type": "code",
   "execution_count": 13,
   "metadata": {
    "collapsed": false
   },
   "outputs": [
    {
     "data": {
      "text/plain": [
       "(29, 29)"
      ]
     },
     "execution_count": 13,
     "metadata": {},
     "output_type": "execute_result"
    }
   ],
   "source": [
    "DISTANCIAS.shape"
   ]
  },
  {
   "cell_type": "code",
   "execution_count": 14,
   "metadata": {
    "collapsed": false
   },
   "outputs": [
    {
     "data": {
      "text/plain": [
       "array([ 4, 26, 10,  0, 20,  3,  5, 17, 14, 19, 15, 18, 22, 27, 16, 28, 11,\n",
       "       25, 13, 24,  8, 23,  2,  7,  9, 21,  1,  6, 12])"
      ]
     },
     "execution_count": 14,
     "metadata": {},
     "output_type": "execute_result"
    }
   ],
   "source": [
    "nuevos()"
   ]
  },
  {
   "cell_type": "markdown",
   "metadata": {},
   "source": [
    "## Evaluacion"
   ]
  },
  {
   "cell_type": "code",
   "execution_count": 15,
   "metadata": {
    "collapsed": true
   },
   "outputs": [],
   "source": [
    "def evaluacion(x):\n",
    "    return -distancia_recorrido(x)"
   ]
  },
  {
   "cell_type": "markdown",
   "metadata": {},
   "source": [
    "## Vecinos"
   ]
  },
  {
   "cell_type": "code",
   "execution_count": 16,
   "metadata": {
    "collapsed": false
   },
   "outputs": [],
   "source": [
    "def invertirPos(x,pos1,pos2):\n",
    "    aaa=x[pos1]\n",
    "    x[pos1]=x[pos2]\n",
    "    x[pos2]=aaa\n",
    "    return x\n",
    "\n",
    "def vecinos(x):\n",
    "    v = []\n",
    "    pos=np.random.randint(0,x.size,3)\n",
    "    while pos[0]==pos[1] & pos[1]==pos[2]:\n",
    "        pos=np.random.randint(0,x.size,3)\n",
    "    v.append(invertirPos(x,pos[0],pos[1]))\n",
    "#    v.append(invertirPos(x,pos[0],pos[2]))\n",
    "#    v.append(invertirPos(x,pos[1],pos[2]))\n",
    "    return v"
   ]
  },
  {
   "cell_type": "markdown",
   "metadata": {},
   "source": [
    "## Defino Temperaturas"
   ]
  },
  {
   "cell_type": "code",
   "execution_count": 17,
   "metadata": {
    "collapsed": false
   },
   "outputs": [],
   "source": [
    "# Probabilidad prob de elejir soluciones peores con diferencia mayor a dif al inicio\n",
    "dif  = 0.5\n",
    "prob = 0.03\n",
    "T_max = -dif / np.log(prob)\n",
    "# Probabilidad prob de elejir soluciones peores con diferencia mayor a dif al final\n",
    "dif  = 0.05\n",
    "prob = 0.03\n",
    "T_min = -dif / np.log(prob)\n",
    "# Factor de reduccion de acuerdo a las iteraciones deseadas\n",
    "N = 30\n",
    "reduccion = np.exp(np.log(T_min / T_max) / N)"
   ]
  },
  {
   "cell_type": "markdown",
   "metadata": {},
   "source": [
    "## Busco"
   ]
  },
  {
   "cell_type": "code",
   "execution_count": 18,
   "metadata": {
    "collapsed": false
   },
   "outputs": [],
   "source": [
    "def buscar(i):\n",
    "    mejor = nuevos()\n",
    "    e=0\n",
    "    for j in range(i):\n",
    "        mejor, evaluaciones = simulated_annealing(mejor, evaluacion, vecinos,\n",
    "                                          T_max=T_max, \n",
    "                                          T_min=T_min, \n",
    "                                          reduccion=reduccion)\n",
    "        e+=evaluaciones\n",
    "    print(\"Cantidad de soluciones evaluadas:\", evaluaciones)\n",
    "    print(\"Valor de func para esa solución:\", evaluacion(RECORRIDO_OPTIMO)-evaluacion(mejor))\n",
    "    return"
   ]
  },
  {
   "cell_type": "code",
   "execution_count": 19,
   "metadata": {
    "collapsed": false
   },
   "outputs": [
    {
     "name": "stdout",
     "output_type": "stream",
     "text": [
      "('Cantidad de soluciones evaluadas:', 31)\n",
      "('Valor de func para esa soluci\\xc3\\xb3n:', 3503)\n"
     ]
    }
   ],
   "source": [
    "buscar(50)"
   ]
  },
  {
   "cell_type": "markdown",
   "metadata": {},
   "source": [
    "# Algoritmo Evolutivo"
   ]
  },
  {
   "cell_type": "markdown",
   "metadata": {},
   "source": [
    "## Defino Fitness Esperado"
   ]
  },
  {
   "cell_type": "code",
   "execution_count": 20,
   "metadata": {
    "collapsed": true
   },
   "outputs": [],
   "source": [
    "creator.create(\"Fitness\", base.Fitness, weights=(evaluacion(RECORRIDO_OPTIMO),))\n",
    "creator.create(\"Individual\", list, fitness=creator.Fitness)"
   ]
  },
  {
   "cell_type": "markdown",
   "metadata": {},
   "source": [
    "## Defino ADN del Individuo"
   ]
  },
  {
   "cell_type": "code",
   "execution_count": 21,
   "metadata": {
    "collapsed": true
   },
   "outputs": [],
   "source": [
    "def nuevoCamino():\n",
    "    a=np.arange(CIUDADES.shape[1])\n",
    "    np.random.shuffle(a)\n",
    "    return a"
   ]
  },
  {
   "cell_type": "code",
   "execution_count": 22,
   "metadata": {
    "collapsed": true
   },
   "outputs": [],
   "source": [
    "toolbox = base.Toolbox()\n",
    "toolbox.register(\"individual\", tools.initIterate, creator.Individual, nuevoCamino)\n",
    "toolbox.register(\"population\", tools.initRepeat, list, toolbox.individual)"
   ]
  },
  {
   "cell_type": "markdown",
   "metadata": {},
   "source": [
    "## Defino Evaluacion, Seleccion y Mutacion"
   ]
  },
  {
   "cell_type": "code",
   "execution_count": 23,
   "metadata": {
    "collapsed": true
   },
   "outputs": [],
   "source": [
    "def evaluarADN(x):\n",
    "    return [distancia_recorrido(x)]"
   ]
  },
  {
   "cell_type": "code",
   "execution_count": 24,
   "metadata": {
    "collapsed": true
   },
   "outputs": [],
   "source": [
    "toolbox.register(\"evaluate\", evaluarADN)\n",
    "toolbox.register(\"mate\", tools.cxOrdered)\n",
    "toolbox.register(\"mutate\", tools.mutShuffleIndexes, indpb=0.40)\n",
    "toolbox.register(\"select\", tools.selTournament, tournsize=5)"
   ]
  },
  {
   "cell_type": "code",
   "execution_count": 25,
   "metadata": {
    "collapsed": true
   },
   "outputs": [],
   "source": [
    "def main():    \n",
    "    pop = toolbox.population(n=1000)\n",
    "    hof = tools.HallOfFame(1)\n",
    "    stats = tools.Statistics(lambda ind: ind.fitness.values)\n",
    "    stats.register(\"avg\", np.mean)\n",
    "    stats.register(\"min\", np.min)\n",
    "    stats.register(\"max\", np.max)\n",
    "    pop, logbook = algorithms.eaSimple(pop, toolbox, cxpb=0.5, mutpb=0.2, ngen=100, stats=stats, halloffame=hof, verbose=True)\n",
    "    return pop, logbook, hof"
   ]
  },
  {
   "cell_type": "code",
   "execution_count": 26,
   "metadata": {
    "collapsed": false
   },
   "outputs": [
    {
     "name": "stdout",
     "output_type": "stream",
     "text": [
      "gen\tnevals\tavg    \tmin \tmax \n",
      "0  \t1000  \t4737.53\t3538\t5818\n",
      "1  \t599   \t4426.27\t3308\t5612\n",
      "2  \t567   \t4225.22\t3308\t5608\n",
      "3  \t617   \t4094.49\t3242\t5465\n",
      "4  \t579   \t3967.8 \t3090\t5550\n",
      "5  \t600   \t3862.32\t3090\t5387\n",
      "6  \t588   \t3739.9 \t2999\t5287\n",
      "7  \t610   \t3713.65\t2772\t5528\n",
      "8  \t579   \t3609.35\t2772\t5829\n",
      "9  \t625   \t3553.56\t2756\t5411\n",
      "10 \t582   \t3439.52\t2757\t5373\n",
      "11 \t609   \t3403.18\t2655\t5515\n",
      "12 \t594   \t3339.86\t2578\t5477\n",
      "13 \t578   \t3261.94\t2473\t5447\n",
      "14 \t626   \t3233.12\t2482\t5466\n",
      "15 \t610   \t3139.14\t2463\t5440\n",
      "16 \t613   \t3087.06\t2398\t5372\n",
      "17 \t623   \t3104.08\t2398\t5336\n",
      "18 \t576   \t3012.58\t2365\t5568\n",
      "19 \t591   \t3018.59\t2327\t5342\n",
      "20 \t590   \t2909.13\t2261\t5641\n",
      "21 \t589   \t2898.82\t2121\t5330\n",
      "22 \t605   \t2895.34\t2121\t5512\n",
      "23 \t579   \t2795.97\t2121\t5230\n",
      "24 \t575   \t2806.81\t2101\t5464\n",
      "25 \t606   \t2800.28\t2101\t5554\n",
      "26 \t602   \t2762.62\t2066\t5621\n",
      "27 \t590   \t2746.3 \t2034\t5596\n",
      "28 \t567   \t2679.7 \t1995\t5341\n",
      "29 \t605   \t2653.47\t1952\t5414\n",
      "30 \t605   \t2655.26\t1894\t5407\n",
      "31 \t599   \t2620.95\t1894\t5473\n",
      "32 \t603   \t2485.16\t1894\t5547\n",
      "33 \t586   \t2486.66\t1832\t5526\n",
      "34 \t612   \t2474.03\t1832\t5540\n",
      "35 \t583   \t2453.19\t1832\t5367\n",
      "36 \t621   \t2464.76\t1832\t5425\n",
      "37 \t640   \t2447.15\t1832\t5565\n",
      "38 \t625   \t2444.22\t1822\t5476\n",
      "39 \t571   \t2359.26\t1822\t5711\n",
      "40 \t577   \t2299.11\t1822\t5415\n",
      "41 \t621   \t2338.23\t1822\t5337\n",
      "42 \t614   \t2323.68\t1822\t5312\n",
      "43 \t571   \t2218.68\t1822\t5314\n",
      "44 \t586   \t2309.36\t1822\t5208\n",
      "45 \t572   \t2322.95\t1822\t5576\n",
      "46 \t612   \t2373.02\t1822\t5359\n",
      "47 \t565   \t2291.09\t1822\t5604\n",
      "48 \t634   \t2294.98\t1822\t5438\n",
      "49 \t633   \t2373.33\t1822\t5673\n",
      "50 \t602   \t2277.64\t1822\t5336\n",
      "51 \t613   \t2302.44\t1822\t5499\n",
      "52 \t577   \t2336.38\t1822\t5714\n",
      "53 \t589   \t2326.83\t1822\t5223\n",
      "54 \t631   \t2281.5 \t1822\t5433\n",
      "55 \t603   \t2336.86\t1822\t5240\n",
      "56 \t640   \t2372.37\t1822\t5657\n",
      "57 \t595   \t2256.04\t1822\t5342\n",
      "58 \t641   \t2333.02\t1822\t5317\n",
      "59 \t594   \t2287.35\t1822\t5305\n",
      "60 \t583   \t2313.65\t1822\t5566\n",
      "61 \t571   \t2331.7 \t1822\t5561\n",
      "62 \t607   \t2291.84\t1822\t5527\n",
      "63 \t592   \t2329.64\t1822\t5284\n",
      "64 \t577   \t2276.8 \t1822\t5424\n",
      "65 \t576   \t2285.34\t1822\t5382\n",
      "66 \t595   \t2289.49\t1822\t5553\n",
      "67 \t650   \t2314.01\t1822\t5582\n",
      "68 \t580   \t2277.68\t1822\t5338\n",
      "69 \t600   \t2291.05\t1822\t5560\n",
      "70 \t595   \t2321.45\t1822\t5520\n",
      "71 \t619   \t2353.61\t1822\t5733\n",
      "72 \t600   \t2280.56\t1822\t5270\n",
      "73 \t623   \t2379.96\t1822\t5538\n",
      "74 \t573   \t2302.33\t1822\t5331\n",
      "75 \t569   \t2322.69\t1822\t5428\n",
      "76 \t616   \t2334.09\t1822\t5397\n",
      "77 \t587   \t2322.54\t1822\t5381\n",
      "78 \t586   \t2282.94\t1822\t5384\n",
      "79 \t639   \t2304.09\t1822\t5324\n",
      "80 \t599   \t2331.07\t1822\t5532\n",
      "81 \t605   \t2318.7 \t1822\t5392\n",
      "82 \t633   \t2320.42\t1822\t5628\n",
      "83 \t611   \t2312.84\t1822\t5309\n",
      "84 \t580   \t2297.82\t1822\t5323\n",
      "85 \t562   \t2280.9 \t1822\t5408\n",
      "86 \t646   \t2346.94\t1822\t5449\n",
      "87 \t628   \t2389.5 \t1822\t5440\n",
      "88 \t589   \t2304.98\t1822\t5304\n",
      "89 \t586   \t2314.38\t1822\t5480\n",
      "90 \t617   \t2317.25\t1822\t5517\n",
      "91 \t609   \t2335.64\t1822\t5490\n",
      "92 \t617   \t2311.11\t1822\t5471\n",
      "93 \t632   \t2320.23\t1822\t5422\n",
      "94 \t589   \t2342.64\t1822\t5391\n",
      "95 \t590   \t2372.5 \t1822\t5256\n",
      "96 \t614   \t2336.56\t1822\t5367\n",
      "97 \t575   \t2327.95\t1822\t5519\n",
      "98 \t637   \t2338.87\t1822\t5377\n",
      "99 \t589   \t2295.94\t1822\t5482\n",
      "100\t568   \t2285.58\t1822\t5409\n",
      "Best individual is: [1, 20, 12, 0, 11, 25, 2, 28, 4, 8, 5, 27, 7, 23, 15, 26, 22, 6, 24, 18, 14, 10, 21, 16, 17, 13, 3, 9, 19]\n",
      "with fitness: (1822.0,)\n"
     ]
    },
    {
     "data": {
      "image/png": "[encoded data removed]",
      "text/plain": [
       "<matplotlib.figure.Figure at 0x108e422d0>"
      ]
     },
     "metadata": {},
     "output_type": "display_data"
    }
   ],
   "source": [
    "if __name__ == \"__main__\":\n",
    "    pop, log, hof = main()\n",
    "    print(\"Best individual is: %s\\nwith fitness: %s\" % (hof[0], hof[0].fitness))\n",
    "    gen, avg, min_, max_ = log.select(\"gen\", \"avg\", \"min\", \"max\")\n",
    "    plt.plot(gen, avg, label=\"average\")\n",
    "    plt.plot(gen, min_, label=\"minimum\")\n",
    "    plt.plot(gen, max_, label=\"maximum\")\n",
    "    plt.xlabel(\"Generation\")\n",
    "    plt.ylabel(\"Fitness\")\n",
    "    plt.legend(loc=\"lower right\")"
   ]
  },
  {
   "cell_type": "code",
   "execution_count": 27,
   "metadata": {
    "collapsed": false
   },
   "outputs": [
    {
     "name": "stdout",
     "output_type": "stream",
     "text": [
      "('MEJOR RECORRIDO:', -1610)\n"
     ]
    },
    {
     "data": {
      "image/png": "[encoded data removed]",
      "text/plain": [
       "<matplotlib.figure.Figure at 0x108f8a8d0>"
      ]
     },
     "metadata": {},
     "output_type": "display_data"
    }
   ],
   "source": [
    "print(\"MEJOR RECORRIDO:\",evaluacion(RECORRIDO_OPTIMO))\n",
    "mostrar_recorrido(RECORRIDO_OPTIMO)"
   ]
  },
  {
   "cell_type": "code",
   "execution_count": null,
   "metadata": {
    "collapsed": true
   },
   "outputs": [],
   "source": []
  }
 ],
 "metadata": {
  "kernelspec": {
   "display_name": "Python 2",
   "language": "python",
   "name": "python2"
  },
  "language_info": {
   "codemirror_mode": {
    "name": "ipython",
    "version": 2
   },
   "file_extension": ".py",
   "mimetype": "text/x-python",
   "name": "python",
   "nbconvert_exporter": "python",
   "pygments_lexer": "ipython2",
   "version": "2.7.13"
  }
 },
 "nbformat": 4,
 "nbformat_minor": 0
}
