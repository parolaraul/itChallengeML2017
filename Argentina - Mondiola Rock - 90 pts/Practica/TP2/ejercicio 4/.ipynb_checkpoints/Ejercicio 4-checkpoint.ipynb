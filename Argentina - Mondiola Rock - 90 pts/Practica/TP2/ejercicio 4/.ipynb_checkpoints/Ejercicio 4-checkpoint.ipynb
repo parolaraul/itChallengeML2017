{
 "cells": [
  {
   "cell_type": "markdown",
   "metadata": {},
   "source": [
    "# Ejercicio 4\n",
    "Intente resolver dos casos diferentes del problema TSP usando Simulated Annealing y un Algoritmo Evolutivo. El primer problema es de 29 ciudades y el segundo, de 101 ciudades.\n",
    "Las ubicaciones de las ciudades se encuentran dentro de una matriz contenida en el archivo con extensión 'cities.npy' mientras que los costos de ir de una ciudad a otra están contenidos en otra matriz almacenada en el archivo con extensión 'distances.npy'. Para ambos casos, se conocen las soluciones óptimas, las cuales se encuentran en los archivos con extensión 'opt.tour.npy'.\n",
    " \n",
    "Se pide que:\n",
    "\n",
    "a) Proponga una representación adecuada para las soluciones.\n",
    "\n",
    "b) Proponga una función de evaluación que le permita cali car que tan buena es una solución.\n",
    "\n",
    "c) De na como se generarán las soluciones vecinas al usar Simulated Annealing y cuales serán los operadores empleados en el Algoritmo Evolutivo.\n",
    "\n",
    "d) Implemente y pruebe lo de nido en los puntos anteriores. Evalúe los resultados obtenidos. Detalle todos los parámetros usados durante la ejecución de ambos algoritmos. Justi que."
   ]
  },
  {
   "cell_type": "code",
   "execution_count": 1,
   "metadata": {
    "collapsed": false
   },
   "outputs": [],
   "source": [
    "import numpy as np\n",
    "import matplotlib.pyplot as plt\n",
    "\n",
    "\n",
    "#from matplotlib import pylab\n",
    "#import mpld3\n",
    "\n",
    "%matplotlib  inline\n",
    "#mpld3.enable_notebook()\n",
    "\n",
    "from busqueda_local import hill_climb\n",
    "from busqueda_local import simulated_annealing\n",
    "from deap import base, creator, tools, algorithms"
   ]
  },
  {
   "cell_type": "code",
   "execution_count": 2,
   "metadata": {
    "collapsed": true
   },
   "outputs": [],
   "source": [
    "# -*- coding: utf-8 -*-\n",
    "\"\"\"\n",
    "Ejercicio 4: Problema del Viajante.\n",
    "\"\"\"\n",
    "\n",
    "CIUDADES = np.load('bayg29.cities.npy')\n",
    "DISTANCIAS = np.load('bayg29.distances.npy')\n",
    "RECORRIDO_OPTIMO = np.load('bayg29.opt.tour.npy')  # Distancia mínima: 1610\n",
    "\n",
    "#CIUDADES = np.load('eil101.cities.npy')\n",
    "#DISTANCIAS = np.load('eil101.distances.npy')\n",
    "#RECORRIDO_OPTIMO = np.load('eil101.opt.tour.npy')  # Distancia mínima: 629\n",
    "\n",
    "def distancia_recorrido(recorrido):\n",
    "    \"\"\" Devuelve el largo total del recorrido. \"\"\"\n",
    "    largo = 0\n",
    "    ciudad_anterior = recorrido[-1]\n",
    "    for ciudad in recorrido:\n",
    "        largo += DISTANCIAS[ciudad_anterior, ciudad]\n",
    "        ciudad_anterior = ciudad\n",
    "    return largo\n",
    "\n",
    "\n",
    "def mostrar_recorrido(recorrido):\n",
    "    r = recorrido + [recorrido[0]]\n",
    "    plt.figure(1)\n",
    "    plt.clf()\n",
    "    plt.plot(CIUDADES[0], CIUDADES[1], 'o')\n",
    "    plt.plot(CIUDADES[0, r], CIUDADES[1, r], 'r')\n",
    "    plt.show()\n",
    "\n"
   ]
  },
  {
   "cell_type": "markdown",
   "metadata": {},
   "source": [
    "# Simulated Annealing\n",
    "## Nuevos"
   ]
  },
  {
   "cell_type": "code",
   "execution_count": 3,
   "metadata": {
    "collapsed": true
   },
   "outputs": [],
   "source": [
    "def nuevos():\n",
    "    a=np.arange(CIUDADES.shape[1])\n",
    "    np.random.shuffle(a)\n",
    "    return a"
   ]
  },
  {
   "cell_type": "code",
   "execution_count": 4,
   "metadata": {
    "collapsed": false
   },
   "outputs": [
    {
     "data": {
      "text/plain": [
       "array([19, 23, 17,  8, 27, 11, 21, 28,  7,  0,  3, 14, 26, 12,  5, 10, 20,\n",
       "        9,  2, 18, 22,  4,  6, 25,  1, 16, 13, 15, 24])"
      ]
     },
     "execution_count": 4,
     "metadata": {},
     "output_type": "execute_result"
    }
   ],
   "source": [
    "nuevos()"
   ]
  },
  {
   "cell_type": "markdown",
   "metadata": {},
   "source": [
    "## Evaluacion"
   ]
  },
  {
   "cell_type": "code",
   "execution_count": 5,
   "metadata": {
    "collapsed": true
   },
   "outputs": [],
   "source": [
    "def evaluacion(x):\n",
    "    return -distancia_recorrido(x)"
   ]
  },
  {
   "cell_type": "markdown",
   "metadata": {},
   "source": [
    "## Vecinos"
   ]
  },
  {
   "cell_type": "code",
   "execution_count": 11,
   "metadata": {
    "collapsed": false
   },
   "outputs": [],
   "source": [
    "def invertirPos(x,pos1,pos2):\n",
    "    aaa=x[pos1]\n",
    "    x[pos1]=x[pos2]\n",
    "    x[pos2]=aaa\n",
    "    return x\n",
    "\n",
    "def vecinos(x):\n",
    "    v = []\n",
    "    pos=np.random.randint(0,x.size,3)\n",
    "    while pos[0]==pos[1] & pos[1]==pos[2]:\n",
    "        pos=np.random.randint(0,x.size,3)\n",
    "    v.append(invertirPos(x,pos[0],pos[1]))\n",
    "#    v.append(invertirPos(x,pos[0],pos[2]))\n",
    "#    v.append(invertirPos(x,pos[1],pos[2]))\n",
    "    return v"
   ]
  },
  {
   "cell_type": "markdown",
   "metadata": {},
   "source": [
    "## Defino Temperaturas"
   ]
  },
  {
   "cell_type": "code",
   "execution_count": 206,
   "metadata": {
    "collapsed": false
   },
   "outputs": [],
   "source": [
    "# Probabilidad prob de elejir soluciones peores con diferencia mayor a dif al inicio\n",
    "dif  = 0.5\n",
    "prob = 0.03\n",
    "T_max = -dif / np.log(prob)\n",
    "# Probabilidad prob de elejir soluciones peores con diferencia mayor a dif al final\n",
    "dif  = 0.05\n",
    "prob = 0.03\n",
    "T_min = -dif / np.log(prob)\n",
    "# Factor de reduccion de acuerdo a las iteraciones deseadas\n",
    "N = 30\n",
    "reduccion = np.exp(np.log(T_min / T_max) / N)"
   ]
  },
  {
   "cell_type": "markdown",
   "metadata": {},
   "source": [
    "## Busco"
   ]
  },
  {
   "cell_type": "code",
   "execution_count": 207,
   "metadata": {
    "collapsed": false
   },
   "outputs": [],
   "source": [
    "def buscar(i):\n",
    "    mejor = nuevos()\n",
    "    e=0\n",
    "    for j in range(i):\n",
    "        mejor, evaluaciones = simulated_annealing(mejor, evaluacion, vecinos,\n",
    "                                          T_max=T_max, \n",
    "                                          T_min=T_min, \n",
    "                                          reduccion=reduccion)\n",
    "        e+=evaluaciones\n",
    "    print(\"Cantidad de soluciones evaluadas:\", evaluaciones)\n",
    "    print(\"Valor de func para esa solución:\", evaluacion(RECORRIDO_OPTIMO)-evaluacion(mejor))\n",
    "    return"
   ]
  },
  {
   "cell_type": "code",
   "execution_count": 221,
   "metadata": {
    "collapsed": false
   },
   "outputs": [
    {
     "name": "stdout",
     "output_type": "stream",
     "text": [
      "Cantidad de soluciones evaluadas: 31\n",
      "Valor de func para esa solución: 2510\n"
     ]
    }
   ],
   "source": [
    "buscar(50)"
   ]
  },
  {
   "cell_type": "markdown",
   "metadata": {},
   "source": [
    "# Algoritmo Evolutivo"
   ]
  },
  {
   "cell_type": "markdown",
   "metadata": {},
   "source": [
    "## Defino Fitness Esperado"
   ]
  },
  {
   "cell_type": "code",
   "execution_count": 161,
   "metadata": {
    "collapsed": true
   },
   "outputs": [],
   "source": [
    "creator.create(\"Fitness\", base.Fitness, weights=(evaluacion(RECORRIDO_OPTIMO),))\n",
    "creator.create(\"Individual\", list, fitness=creator.Fitness)"
   ]
  },
  {
   "cell_type": "markdown",
   "metadata": {},
   "source": [
    "## Defino ADN del Individuo"
   ]
  },
  {
   "cell_type": "code",
   "execution_count": 162,
   "metadata": {
    "collapsed": true
   },
   "outputs": [],
   "source": [
    "def nuevoCamino():\n",
    "    a=np.arange(CIUDADES.shape[1])\n",
    "    np.random.shuffle(a)\n",
    "    return a"
   ]
  },
  {
   "cell_type": "code",
   "execution_count": 163,
   "metadata": {
    "collapsed": true
   },
   "outputs": [],
   "source": [
    "toolbox = base.Toolbox()\n",
    "toolbox.register(\"individual\", tools.initIterate, creator.Individual, nuevoCamino)\n",
    "toolbox.register(\"population\", tools.initRepeat, list, toolbox.individual)"
   ]
  },
  {
   "cell_type": "markdown",
   "metadata": {},
   "source": [
    "## Defino Evaluacion, Seleccion y Mutacion"
   ]
  },
  {
   "cell_type": "code",
   "execution_count": 172,
   "metadata": {
    "collapsed": true
   },
   "outputs": [],
   "source": [
    "def evaluarADN(x):\n",
    "    return [distancia_recorrido(x)]"
   ]
  },
  {
   "cell_type": "code",
   "execution_count": 203,
   "metadata": {
    "collapsed": true
   },
   "outputs": [],
   "source": [
    "toolbox.register(\"evaluate\", evaluarADN)\n",
    "toolbox.register(\"mate\", tools.cxOrdered)\n",
    "toolbox.register(\"mutate\", tools.mutShuffleIndexes, indpb=0.40)\n",
    "toolbox.register(\"select\", tools.selTournament, tournsize=5)"
   ]
  },
  {
   "cell_type": "code",
   "execution_count": 222,
   "metadata": {
    "collapsed": true
   },
   "outputs": [],
   "source": [
    "def main():    \n",
    "    pop = toolbox.population(n=1000)\n",
    "    hof = tools.HallOfFame(1)\n",
    "    stats = tools.Statistics(lambda ind: ind.fitness.values)\n",
    "    stats.register(\"avg\", np.mean)\n",
    "    stats.register(\"min\", np.min)\n",
    "    stats.register(\"max\", np.max)\n",
    "    pop, logbook = algorithms.eaSimple(pop, toolbox, cxpb=0.5, mutpb=0.2, ngen=100, stats=stats, halloffame=hof, verbose=True)\n",
    "    return pop, logbook, hof"
   ]
  },
  {
   "cell_type": "code",
   "execution_count": 223,
   "metadata": {
    "collapsed": false
   },
   "outputs": [
    {
     "name": "stdout",
     "output_type": "stream",
     "text": [
      "gen\tnevals\tavg    \tmin \tmax \n",
      "0  \t1000  \t4743.35\t3683\t5851\n",
      "1  \t577   \t4447.83\t3683\t5519\n",
      "2  \t623   \t4281.15\t3435\t5497\n",
      "3  \t587   \t4137.92\t3277\t5622\n",
      "4  \t594   \t4020.11\t3080\t5521\n",
      "5  \t591   \t3896.23\t2981\t5562\n",
      "6  \t590   \t3802.55\t2981\t5512\n",
      "7  \t597   \t3666.23\t2851\t5447\n",
      "8  \t618   \t3582.07\t2746\t5332\n",
      "9  \t582   \t3483.24\t2737\t5431\n",
      "10 \t604   \t3417.56\t2665\t5191\n",
      "11 \t555   \t3332.88\t2665\t5491\n",
      "12 \t606   \t3276.84\t2524\t5732\n",
      "13 \t605   \t3222.89\t2344\t5581\n",
      "14 \t602   \t3166.4 \t2308\t5441\n",
      "15 \t586   \t3077.42\t2308\t5479\n",
      "16 \t627   \t3101.03\t2282\t5390\n",
      "17 \t603   \t3022.18\t2281\t5435\n",
      "18 \t596   \t2980.55\t2249\t5607\n",
      "19 \t612   \t2925.27\t2249\t5493\n",
      "20 \t580   \t2837.64\t2095\t5543\n",
      "21 \t611   \t2817.09\t2095\t5400\n",
      "22 \t574   \t2812.67\t2095\t5716\n",
      "23 \t634   \t2769.21\t2095\t5253\n",
      "24 \t555   \t2705.35\t2095\t5432\n",
      "25 \t609   \t2733.17\t2087\t5482\n",
      "26 \t598   \t2698.38\t2075\t5307\n",
      "27 \t614   \t2685.21\t2058\t5284\n",
      "28 \t648   \t2713.14\t2011\t5342\n",
      "29 \t576   \t2643.86\t2011\t5482\n",
      "30 \t606   \t2648.7 \t1952\t5560\n",
      "31 \t597   \t2651.74\t1952\t5448\n",
      "32 \t605   \t2606.66\t1952\t5681\n",
      "33 \t582   \t2530.55\t1909\t5470\n",
      "34 \t554   \t2536.6 \t1902\t5322\n",
      "35 \t579   \t2509.37\t1873\t5443\n",
      "36 \t573   \t2474.72\t1873\t5575\n",
      "37 \t623   \t2493.12\t1873\t5678\n",
      "38 \t593   \t2460.21\t1873\t5750\n",
      "39 \t640   \t2481.24\t1814\t5577\n",
      "40 \t609   \t2411.7 \t1814\t5513\n",
      "41 \t609   \t2413.14\t1791\t5631\n",
      "42 \t591   \t2387.71\t1713\t5533\n",
      "43 \t632   \t2428.78\t1713\t5302\n",
      "44 \t611   \t2385.76\t1694\t5537\n",
      "45 \t613   \t2319.97\t1694\t5576\n",
      "46 \t571   \t2274.22\t1694\t5402\n",
      "47 \t597   \t2278.3 \t1677\t5208\n",
      "48 \t603   \t2206.88\t1677\t5414\n",
      "49 \t595   \t2201.88\t1677\t5464\n",
      "50 \t620   \t2216.22\t1677\t5200\n",
      "51 \t598   \t2204.48\t1677\t5290\n",
      "52 \t616   \t2248.89\t1677\t5370\n",
      "53 \t582   \t2230.63\t1677\t5403\n",
      "54 \t618   \t2197.74\t1677\t5495\n",
      "55 \t636   \t2202.98\t1677\t5348\n",
      "56 \t624   \t2194.89\t1677\t5414\n",
      "57 \t604   \t2193.3 \t1677\t5172\n",
      "58 \t563   \t2155.55\t1677\t5444\n",
      "59 \t617   \t2193.27\t1677\t5503\n",
      "60 \t569   \t2155.33\t1677\t5521\n",
      "61 \t607   \t2173.98\t1677\t5392\n",
      "62 \t624   \t2211.87\t1677\t5449\n",
      "63 \t601   \t2237.46\t1677\t5452\n",
      "64 \t634   \t2211.07\t1677\t5301\n",
      "65 \t586   \t2158.07\t1677\t5454\n",
      "66 \t559   \t2185.74\t1677\t5623\n",
      "67 \t597   \t2134.99\t1677\t5301\n",
      "68 \t593   \t2191.06\t1677\t5267\n",
      "69 \t581   \t2229.61\t1677\t5223\n",
      "70 \t606   \t2206.36\t1677\t5269\n",
      "71 \t613   \t2198.16\t1677\t5438\n",
      "72 \t576   \t2187.78\t1677\t5829\n",
      "73 \t609   \t2216.81\t1677\t5369\n",
      "74 \t571   \t2182.67\t1677\t5299\n",
      "75 \t611   \t2206.46\t1677\t5505\n",
      "76 \t596   \t2157.42\t1677\t5373\n",
      "77 \t620   \t2234.5 \t1677\t5318\n",
      "78 \t628   \t2247.39\t1677\t5440\n",
      "79 \t621   \t2247.14\t1677\t5442\n",
      "80 \t595   \t2160.84\t1677\t5187\n",
      "81 \t628   \t2216.32\t1677\t5542\n",
      "82 \t604   \t2111.09\t1677\t5374\n",
      "83 \t602   \t2183.3 \t1677\t5403\n",
      "84 \t616   \t2145.1 \t1677\t5494\n",
      "85 \t596   \t2126.18\t1677\t5235\n",
      "86 \t598   \t2152.67\t1677\t5469\n",
      "87 \t594   \t2190.38\t1677\t5510\n",
      "88 \t629   \t2226.02\t1677\t5464\n",
      "89 \t620   \t2250.26\t1677\t5325\n",
      "90 \t579   \t2156.51\t1677\t5351\n",
      "91 \t643   \t2229.48\t1677\t5522\n",
      "92 \t595   \t2169.76\t1677\t5479\n",
      "93 \t577   \t2139.02\t1677\t5393\n",
      "94 \t591   \t2216.12\t1677\t5403\n",
      "95 \t634   \t2172.82\t1677\t5143\n",
      "96 \t575   \t2185.89\t1677\t5298\n",
      "97 \t591   \t2198.32\t1677\t5323\n",
      "98 \t602   \t2217.29\t1677\t5320\n",
      "99 \t628   \t2182.19\t1677\t5144\n",
      "100\t588   \t2174.19\t1677\t5582\n",
      "Best individual is: [23, 7, 26, 22, 6, 24, 18, 3, 14, 17, 13, 16, 21, 10, 15, 12, 9, 19, 1, 20, 28, 2, 25, 4, 8, 11, 5, 27, 0]\n",
      "with fitness: (1677.0,)\n"
     ]
    },
    {
     "data": {
      "image/png": "[encoded data removed]",
      "text/plain": [
       "<matplotlib.figure.Figure at 0x105b5aba8>"
      ]
     },
     "metadata": {},
     "output_type": "display_data"
    }
   ],
   "source": [
    "if __name__ == \"__main__\":\n",
    "    pop, log, hof = main()\n",
    "    print(\"Best individual is: %s\\nwith fitness: %s\" % (hof[0], hof[0].fitness))\n",
    "    gen, avg, min_, max_ = log.select(\"gen\", \"avg\", \"min\", \"max\")\n",
    "    plt.plot(gen, avg, label=\"average\")\n",
    "    plt.plot(gen, min_, label=\"minimum\")\n",
    "    plt.plot(gen, max_, label=\"maximum\")\n",
    "    plt.xlabel(\"Generation\")\n",
    "    plt.ylabel(\"Fitness\")\n",
    "    plt.legend(loc=\"lower right\")\n",
    "    mostrar_recorrido(hof[0])"
   ]
  },
  {
   "cell_type": "code",
   "execution_count": 225,
   "metadata": {
    "collapsed": false
   },
   "outputs": [
    {
     "name": "stdout",
     "output_type": "stream",
     "text": [
      "MEJOR RECORRIDO: -1610\n"
     ]
    },
    {
     "data": {
      "image/png": "[encoded data removed]",
      "text/plain": [
       "<matplotlib.figure.Figure at 0x105e005c0>"
      ]
     },
     "metadata": {},
     "output_type": "display_data"
    }
   ],
   "source": [
    "print(\"MEJOR RECORRIDO:\",evaluacion(RECORRIDO_OPTIMO))\n",
    "mostrar_recorrido(RECORRIDO_OPTIMO)"
   ]
  },
  {
   "cell_type": "code",
   "execution_count": null,
   "metadata": {
    "collapsed": true
   },
   "outputs": [],
   "source": []
  }
 ],
 "metadata": {
  "kernelspec": {
   "display_name": "Python 3",
   "language": "python",
   "name": "python3"
  },
  "language_info": {
   "codemirror_mode": {
    "name": "ipython",
    "version": 3
   },
   "file_extension": ".py",
   "mimetype": "text/x-python",
   "name": "python",
   "nbconvert_exporter": "python",
   "pygments_lexer": "ipython3",
   "version": "3.4.3"
  }
 },
 "nbformat": 4,
 "nbformat_minor": 0
}
