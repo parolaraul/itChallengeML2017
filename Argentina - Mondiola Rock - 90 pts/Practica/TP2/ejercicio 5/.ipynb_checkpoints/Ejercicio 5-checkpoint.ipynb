{
 "cells": [
  {
   "cell_type": "markdown",
   "metadata": {},
   "source": [
    "# Ejercicio 5\n",
    "Implemente un Algoritmo Evolutivo que, dadas las siguientes funciones, busque cumplir con el objetivo propuesto para cada una de ellas.\n",
    "\n",
    "a) Para f 1(x , y)=0.5 x2+y2−x y−2 x−6 y , con −5⩽x⩽5, −10⩽y⩽10 , buscar donde se encuentra el mínimo de esta función.\n",
    "\n",
    "b) Para f 2(x)=∑|xi|(i+1) , con x=(x1, x2,..., xn) y n=4 , buscar x tal que f 2(x)=0 , i=1\n",
    "\n",
    "sabiendo que −1⩽x1⩽1 , −0,8⩽x2⩽1,2 , −0,5⩽x3⩽0,75 y −1,4⩽x4⩽0,5 .\n",
    "\n",
    "En cada uno de los puntos, detalle:\n",
    "\n",
    "i. El tipo y forma del cromosoma.\n",
    "\n",
    "ii. Los operadores genéticos usados.\n",
    "\n",
    "iii. Los parámetros empleados para la ejecución del algoritmo.\n",
    "\n",
    "Para asegurarse de haber obtenido resultados consistentes, realice 10 ejecuciones independientes e informe los mejores resultados encontrados en cada ejecución junto con su  tness y la cantidad de generaciones que se necesitaron para obtenerlos."
   ]
  },
  {
   "cell_type": "code",
   "execution_count": 1,
   "metadata": {
    "collapsed": true
   },
   "outputs": [],
   "source": [
    "import numpy as np\n",
    "import matplotlib.pyplot as plt\n",
    "from matplotlib import pylab\n",
    "import mpld3\n",
    "\n",
    "%matplotlib inline\n",
    "mpld3.enable_notebook()\n",
    "\n",
    "from busqueda_local import hill_climb\n",
    "from deap import base, creator, tools, algorithms"
   ]
  },
  {
   "cell_type": "code",
   "execution_count": 133,
   "metadata": {
    "collapsed": true
   },
   "outputs": [],
   "source": [
    "# -*- coding: utf-8 -*-\n",
    "\"\"\"\n",
    "Ejercicio 5: Optimización numérica\n",
    "\"\"\"\n",
    "\n",
    "def F_1(x, y):\n",
    "    return 0.5 * x ** 2 + y ** 2 - x * y - 2 * x - 6 * y\n",
    "\n",
    "\n",
    "def F_2(x):\n",
    "    return sum(abs(x) ** (2, 3, 4, 5))\n",
    "\n",
    "def F_2_byUli(x):\n",
    "    tot=0\n",
    "    for i in range(4):\n",
    "        aux = abs(x[i])\n",
    "        tot+= aux ** (i+1)\n",
    "    return tot\n"
   ]
  },
  {
   "cell_type": "markdown",
   "metadata": {},
   "source": [
    "# Parte a)"
   ]
  },
  {
   "cell_type": "markdown",
   "metadata": {},
   "source": [
    "## Fitness"
   ]
  },
  {
   "cell_type": "code",
   "execution_count": 49,
   "metadata": {
    "collapsed": true
   },
   "outputs": [],
   "source": [
    "creator.create(\"Fitness\", base.Fitness, weights=(-9999,))\n",
    "creator.create(\"Individual\", list, fitness=creator.Fitness)"
   ]
  },
  {
   "cell_type": "markdown",
   "metadata": {},
   "source": [
    "## Individuo"
   ]
  },
  {
   "cell_type": "code",
   "execution_count": 50,
   "metadata": {
    "collapsed": false
   },
   "outputs": [],
   "source": [
    "def nuevoPar():\n",
    "    x=round(-5 + np.random.random() * (5 - -5), 2)\n",
    "    y=round(-10 + np.random.random() * (10 - -10), 2)\n",
    "    return [x,y]"
   ]
  },
  {
   "cell_type": "code",
   "execution_count": 51,
   "metadata": {
    "collapsed": true
   },
   "outputs": [],
   "source": [
    "toolbox = base.Toolbox()\n",
    "toolbox.register(\"individual\", tools.initIterate, creator.Individual, nuevoPar)\n",
    "toolbox.register(\"population\", tools.initRepeat, list, toolbox.individual)"
   ]
  },
  {
   "cell_type": "markdown",
   "metadata": {},
   "source": [
    "## Evaluacion, cruza, mutacion y seleccion"
   ]
  },
  {
   "cell_type": "code",
   "execution_count": 66,
   "metadata": {
    "collapsed": true
   },
   "outputs": [],
   "source": [
    "def evaluarADN(x):\n",
    "    return [F_1(*x)]"
   ]
  },
  {
   "cell_type": "code",
   "execution_count": 67,
   "metadata": {
    "collapsed": false
   },
   "outputs": [],
   "source": [
    "toolbox.register(\"evaluate\", evaluarADN)\n",
    "toolbox.register(\"mate\", tools.cxOnePoint)\n",
    "toolbox.register(\"mutate\", tools.mutShuffleIndexes, indpb=0.50)\n",
    "toolbox.register(\"select\", tools.selTournament, tournsize=5)"
   ]
  },
  {
   "cell_type": "markdown",
   "metadata": {},
   "source": [
    "## Dios juega a los dados"
   ]
  },
  {
   "cell_type": "code",
   "execution_count": 76,
   "metadata": {
    "collapsed": true
   },
   "outputs": [],
   "source": [
    "def main():    \n",
    "    GENERACIONES=50\n",
    "    pop = toolbox.population(n=1000)\n",
    "    hof = tools.HallOfFame(1)\n",
    "    stats = tools.Statistics(lambda ind: ind.fitness.values)\n",
    "    stats.register(\"avg\", np.mean)\n",
    "    stats.register(\"min\", np.min)\n",
    "    stats.register(\"max\", np.max)\n",
    "    pop, logbook = algorithms.eaSimple(pop, toolbox, cxpb=0.5, mutpb=0.2, ngen=GENERACIONES, stats=stats, halloffame=hof, verbose=True)\n",
    "    return pop, logbook, hof"
   ]
  },
  {
   "cell_type": "code",
   "execution_count": 78,
   "metadata": {
    "collapsed": false
   },
   "outputs": [
    {
     "name": "stdout",
     "output_type": "stream",
     "text": [
      "gen\tnevals\tavg    \tmin     \tmax    \n",
      "0  \t1000  \t39.0414\t-27.4136\t207.112\n",
      "1  \t594   \t-6.82866\t-29.0125\t65.5209\n",
      "2  \t581   \t-22.2494\t-31.4908\t0.82965\n",
      "3  \t623   \t-26.8123\t-33.064 \t-16.3531\n",
      "4  \t582   \t-28.3588\t-33.5095\t-13.0432\n",
      "5  \t621   \t-29.5864\t-33.64  \t-17.2712\n",
      "6  \t590   \t-30.5926\t-33.64  \t-18.224 \n",
      "7  \t582   \t-31.6412\t-33.64  \t-19.2548\n",
      "8  \t576   \t-32.4357\t-33.64  \t-21.4052\n",
      "9  \t589   \t-32.8954\t-33.64  \t-24.2572\n",
      "10 \t595   \t-32.9385\t-33.64  \t-25.3388\n",
      "11 \t598   \t-32.823 \t-33.64  \t-25.932 \n",
      "12 \t524   \t-32.8615\t-33.64  \t-25.932 \n",
      "13 \t603   \t-32.7844\t-33.64  \t-25.932 \n",
      "14 \t581   \t-32.769 \t-33.64  \t-25.932 \n",
      "15 \t611   \t-32.9386\t-33.64  \t-25.932 \n",
      "16 \t612   \t-32.7921\t-33.64  \t-25.932 \n",
      "17 \t617   \t-32.7767\t-33.64  \t-25.932 \n",
      "18 \t612   \t-32.7382\t-33.64  \t-25.932 \n",
      "19 \t628   \t-32.8615\t-33.64  \t-25.932 \n",
      "20 \t592   \t-32.8923\t-33.64  \t-25.932 \n",
      "21 \t627   \t-33.0388\t-33.64  \t-25.932 \n",
      "22 \t613   \t-32.8075\t-33.64  \t-25.932 \n",
      "23 \t617   \t-32.8923\t-33.64  \t-25.932 \n",
      "24 \t628   \t-32.8692\t-33.64  \t-25.932 \n",
      "25 \t599   \t-32.8307\t-33.64  \t-25.932 \n",
      "26 \t613   \t-32.715 \t-33.64  \t-25.932 \n",
      "27 \t564   \t-32.8615\t-33.64  \t-25.932 \n",
      "28 \t603   \t-32.9   \t-33.64  \t-25.932 \n",
      "29 \t623   \t-32.8461\t-33.64  \t-25.932 \n",
      "30 \t619   \t-32.8152\t-33.64  \t-25.932 \n",
      "31 \t592   \t-32.9771\t-33.64  \t-25.932 \n",
      "32 \t579   \t-32.8538\t-33.64  \t-25.932 \n",
      "33 \t578   \t-32.9463\t-33.64  \t-25.932 \n",
      "34 \t557   \t-32.9   \t-33.64  \t-25.932 \n",
      "35 \t580   \t-32.9386\t-33.64  \t-25.932 \n",
      "36 \t601   \t-32.8384\t-33.64  \t-25.932 \n",
      "37 \t604   \t-32.9   \t-33.64  \t-25.932 \n",
      "38 \t606   \t-32.9386\t-33.64  \t-25.932 \n",
      "39 \t625   \t-32.8846\t-33.64  \t-25.932 \n",
      "40 \t615   \t-33.0002\t-33.64  \t-25.932 \n",
      "41 \t597   \t-32.8075\t-33.64  \t-25.932 \n",
      "42 \t585   \t-32.8692\t-33.64  \t-25.932 \n",
      "43 \t585   \t-32.8615\t-33.64  \t-25.932 \n",
      "44 \t552   \t-32.8692\t-33.64  \t-25.932 \n",
      "45 \t595   \t-32.8307\t-33.64  \t-25.932 \n",
      "46 \t622   \t-32.8615\t-33.64  \t-25.932 \n",
      "47 \t617   \t-32.9154\t-33.64  \t-25.932 \n",
      "48 \t630   \t-32.8384\t-33.64  \t-25.932 \n",
      "49 \t603   \t-32.8075\t-33.64  \t-25.932 \n",
      "50 \t594   \t-32.7921\t-33.64  \t-25.932 \n",
      "Best individual is: [9.04, 7.16]\n",
      "with fitness: (-33.64000000000001,)\n"
     ]
    },
    {
     "data": {
      "image/png": "[encoded data removed]",
      "text/html": [
       "\n",
       "\n",
       "<style>\n",
       "\n",
       "</style>\n",
       "\n",
       "<div id=\"fig_el1959843955737128942538655\"></div>\n",
       "<script>\n",
       "function mpld3_load_lib(url, callback){\n",
       "  var s = document.createElement('script');\n",
       "  s.src = url;\n",
       "  s.async = true;\n",
       "  s.onreadystatechange = s.onload = callback;\n",
       "  s.onerror = function(){console.warn(\"failed to load library \" + url);};\n",
       "  document.getElementsByTagName(\"head\")[0].appendChild(s);\n",
       "}\n",
       "\n",
       "if(typeof(mpld3) !== \"undefined\" && mpld3._mpld3IsLoaded){\n",
       "   // already loaded: just create the figure\n",
       "   !function(mpld3){\n",
       "       \n",
       "       mpld3.draw_figure(\"fig_el1959843955737128942538655\", {\"height\": 320.0, \"width\": 480.0, \"plugins\": [{\"type\": \"reset\"}, {\"type\": \"zoom\", \"enabled\": false, \"button\": true}, {\"type\": \"boxzoom\", \"enabled\": false, \"button\": true}], \"id\": \"el195984395573712\", \"axes\": [{\"images\": [], \"id\": \"el195984395575336\", \"sharey\": [], \"axesbg\": \"#FFFFFF\", \"xscale\": \"linear\", \"paths\": [{\"zorder\": 1000001.0, \"pathcodes\": [\"M\", \"L\", \"L\", \"L\", \"Z\"], \"edgewidth\": 1.0, \"xindex\": 0, \"yindex\": 1, \"facecolor\": \"#FFFFFF\", \"data\": \"data03\", \"dasharray\": \"10,0\", \"coordinates\": \"axes\", \"edgecolor\": \"#000000\", \"alpha\": 1, \"id\": \"el195984396878480\"}], \"axes\": [{\"position\": \"bottom\", \"fontsize\": 10.0, \"grid\": {\"gridOn\": false}, \"tickformat\": null, \"nticks\": 6, \"tickvalues\": null, \"scale\": \"linear\"}, {\"position\": \"left\", \"fontsize\": 10.0, \"grid\": {\"gridOn\": false}, \"tickformat\": null, \"nticks\": 7, \"tickvalues\": null, \"scale\": \"linear\"}], \"zoomable\": true, \"xlim\": [0.0, 50.0], \"texts\": [{\"zorder\": 3, \"v_baseline\": \"hanging\", \"fontsize\": 10.0, \"id\": \"el195984392344320\", \"color\": \"#000000\", \"text\": \"Generation\", \"position\": [0.5, -0.08064516129032258], \"rotation\": -0.0, \"coordinates\": \"axes\", \"h_anchor\": \"middle\", \"alpha\": 1}, {\"zorder\": 3, \"v_baseline\": \"auto\", \"fontsize\": 10.0, \"id\": \"el195984394789688\", \"color\": \"#000000\", \"text\": \"Fitness\", \"position\": [-0.08509744623655915, 0.5], \"rotation\": -90.0, \"coordinates\": \"axes\", \"h_anchor\": \"middle\", \"alpha\": 1}, {\"zorder\": 1000003.0, \"v_baseline\": \"auto\", \"fontsize\": 10.0, \"id\": \"el195984395470632\", \"color\": \"#000000\", \"text\": \"None\", \"position\": [-0.16129032258064518, -0.16129032258064516], \"rotation\": -0.0, \"coordinates\": \"axes\", \"h_anchor\": \"start\", \"alpha\": 1}, {\"zorder\": 1000003.0, \"v_baseline\": \"auto\", \"fontsize\": 12.0, \"id\": \"el195984393280512\", \"color\": \"#000000\", \"text\": \"average\", \"position\": [0.792044690860215, 0.2190860215053764], \"rotation\": -0.0, \"coordinates\": \"axes\", \"h_anchor\": \"start\", \"alpha\": 1}, {\"zorder\": 1000003.0, \"v_baseline\": \"auto\", \"fontsize\": 12.0, \"id\": \"el195984393830328\", \"color\": \"#000000\", \"text\": \"minimum\", \"position\": [0.792044690860215, 0.13978494623655915], \"rotation\": -0.0, \"coordinates\": \"axes\", \"h_anchor\": \"start\", \"alpha\": 1}, {\"zorder\": 1000003.0, \"v_baseline\": \"auto\", \"fontsize\": 12.0, \"id\": \"el195984397795816\", \"color\": \"#000000\", \"text\": \"maximum\", \"position\": [0.792044690860215, 0.060483870967741965], \"rotation\": -0.0, \"coordinates\": \"axes\", \"h_anchor\": \"start\", \"alpha\": 1}], \"yscale\": \"linear\", \"xdomain\": [0.0, 50.0], \"markers\": [], \"lines\": [{\"zorder\": 2, \"yindex\": 1, \"id\": \"el195984395353144\", \"color\": \"#0000FF\", \"linewidth\": 1.0, \"coordinates\": \"data\", \"dasharray\": \"10,0\", \"xindex\": 0, \"alpha\": 1, \"data\": \"data01\"}, {\"zorder\": 2, \"yindex\": 2, \"id\": \"el195984394621304\", \"color\": \"#007F00\", \"linewidth\": 1.0, \"coordinates\": \"data\", \"dasharray\": \"10,0\", \"xindex\": 0, \"alpha\": 1, \"data\": \"data01\"}, {\"zorder\": 2, \"yindex\": 3, \"id\": \"el195984394619960\", \"color\": \"#FF0000\", \"linewidth\": 1.0, \"coordinates\": \"data\", \"dasharray\": \"10,0\", \"xindex\": 0, \"alpha\": 1, \"data\": \"data01\"}, {\"zorder\": 1000002.0, \"yindex\": 1, \"id\": \"el195984393281856\", \"color\": \"#0000FF\", \"linewidth\": 1.0, \"coordinates\": \"axes\", \"dasharray\": \"10,0\", \"xindex\": 0, \"alpha\": 1, \"data\": \"data02\"}, {\"zorder\": 1000002.0, \"yindex\": 2, \"id\": \"el195984397797272\", \"color\": \"#007F00\", \"linewidth\": 1.0, \"coordinates\": \"axes\", \"dasharray\": \"10,0\", \"xindex\": 0, \"alpha\": 1, \"data\": \"data02\"}, {\"zorder\": 1000002.0, \"yindex\": 3, \"id\": \"el195984397796432\", \"color\": \"#FF0000\", \"linewidth\": 1.0, \"coordinates\": \"axes\", \"dasharray\": \"10,0\", \"xindex\": 0, \"alpha\": 1, \"data\": \"data02\"}], \"sharex\": [], \"collections\": [], \"axesbgalpha\": null, \"ydomain\": [-50.0, 250.0], \"ylim\": [-50.0, 250.0], \"bbox\": [0.125, 0.125, 0.775, 0.775]}], \"data\": {\"data03\": [[0.6773493503584229, 0.02688172043010756], [0.9820788530465949, 0.02688172043010756], [0.9820788530465949, 0.28091397849462363], [0.6773493503584229, 0.28091397849462363]], \"data01\": [[0.0, 39.04138559999999, -27.41355, 207.11249999999998], [1.0, -6.82865755, -29.012549999999997, 65.5209], [2.0, -22.2494125, -31.490799999999997, 0.8296500000000009], [3.0, -26.812280849999997, -33.06400000000001, -16.35315], [4.0, -28.35880495, -33.5095, -13.043150000000011], [5.0, -29.5864365, -33.64000000000001, -17.271150000000006], [6.0, -30.592597899999998, -33.64000000000001, -18.22400000000001], [7.0, -31.6412437, -33.64000000000001, -19.254750000000016], [8.0, -32.43569315, -33.64000000000001, -21.405150000000006], [9.0, -32.895434800000004, -33.64000000000001, -24.25715000000001], [10.0, -32.938508750000004, -33.64000000000001, -25.338750000000008], [11.0, -32.82295200000001, -33.64000000000001, -25.93200000000001], [12.0, -32.861492, -33.64000000000001, -25.93200000000001], [13.0, -32.784412, -33.64000000000001, -25.93200000000001], [14.0, -32.768996, -33.64000000000001, -25.93200000000001], [15.0, -32.938572, -33.64000000000001, -25.93200000000001], [16.0, -32.792120000000004, -33.64000000000001, -25.93200000000001], [17.0, -32.776704, -33.64000000000001, -25.93200000000001], [18.0, -32.738164, -33.64000000000001, -25.93200000000001], [19.0, -32.861492, -33.64000000000001, -25.93200000000001], [20.0, -32.892324, -33.64000000000001, -25.93200000000001], [21.0, -33.038776, -33.64000000000001, -25.93200000000001], [22.0, -32.807536, -33.64000000000001, -25.93200000000001], [23.0, -32.892324, -33.64000000000001, -25.93200000000001], [24.0, -32.869200000000006, -33.64000000000001, -25.93200000000001], [25.0, -32.83066, -33.64000000000001, -25.93200000000001], [26.0, -32.71504, -33.64000000000001, -25.93200000000001], [27.0, -32.861492, -33.64000000000001, -25.93200000000001], [28.0, -32.900032, -33.64000000000001, -25.93200000000001], [29.0, -32.846076000000004, -33.64000000000001, -25.93200000000001], [30.0, -32.81524400000001, -33.64000000000001, -25.93200000000001], [31.0, -32.97711199999999, -33.64000000000001, -25.93200000000001], [32.0, -32.853784, -33.64000000000001, -25.93200000000001], [33.0, -32.94628, -33.64000000000001, -25.93200000000001], [34.0, -32.900031999999996, -33.64000000000001, -25.93200000000001], [35.0, -32.938572, -33.64000000000001, -25.93200000000001], [36.0, -32.838368, -33.64000000000001, -25.93200000000001], [37.0, -32.900032, -33.64000000000001, -25.93200000000001], [38.0, -32.938572, -33.64000000000001, -25.93200000000001], [39.0, -32.884616, -33.64000000000001, -25.93200000000001], [40.0, -33.000236, -33.64000000000001, -25.93200000000001], [41.0, -32.807536, -33.64000000000001, -25.93200000000001], [42.0, -32.8692, -33.64000000000001, -25.93200000000001], [43.0, -32.861492, -33.64000000000001, -25.93200000000001], [44.0, -32.869200000000006, -33.64000000000001, -25.93200000000001], [45.0, -32.83066, -33.64000000000001, -25.93200000000001], [46.0, -32.861492, -33.64000000000001, -25.93200000000001], [47.0, -32.915448000000005, -33.64000000000001, -25.93200000000001], [48.0, -32.838368, -33.64000000000001, -25.93200000000001], [49.0, -32.807536, -33.64000000000001, -25.93200000000001], [50.0, -32.792120000000004, -33.64000000000001, -25.93200000000001]], \"data02\": [[0.7024389560931898, 0.23790322580645168, 0.15860215053763443, 0.07930107526881723], [0.7526181675627239, 0.23790322580645168, 0.15860215053763443, 0.07930107526881723]]}});\n",
       "   }(mpld3);\n",
       "}else if(typeof define === \"function\" && define.amd){\n",
       "   // require.js is available: use it to load d3/mpld3\n",
       "   require.config({paths: {d3: \"https://mpld3.github.io/js/d3.v3.min\"}});\n",
       "   require([\"d3\"], function(d3){\n",
       "      window.d3 = d3;\n",
       "      mpld3_load_lib(\"https://mpld3.github.io/js/mpld3.v0.2.js\", function(){\n",
       "         \n",
       "         mpld3.draw_figure(\"fig_el1959843955737128942538655\", {\"height\": 320.0, \"width\": 480.0, \"plugins\": [{\"type\": \"reset\"}, {\"type\": \"zoom\", \"enabled\": false, \"button\": true}, {\"type\": \"boxzoom\", \"enabled\": false, \"button\": true}], \"id\": \"el195984395573712\", \"axes\": [{\"images\": [], \"id\": \"el195984395575336\", \"sharey\": [], \"axesbg\": \"#FFFFFF\", \"xscale\": \"linear\", \"paths\": [{\"zorder\": 1000001.0, \"pathcodes\": [\"M\", \"L\", \"L\", \"L\", \"Z\"], \"edgewidth\": 1.0, \"xindex\": 0, \"yindex\": 1, \"facecolor\": \"#FFFFFF\", \"data\": \"data03\", \"dasharray\": \"10,0\", \"coordinates\": \"axes\", \"edgecolor\": \"#000000\", \"alpha\": 1, \"id\": \"el195984396878480\"}], \"axes\": [{\"position\": \"bottom\", \"fontsize\": 10.0, \"grid\": {\"gridOn\": false}, \"tickformat\": null, \"nticks\": 6, \"tickvalues\": null, \"scale\": \"linear\"}, {\"position\": \"left\", \"fontsize\": 10.0, \"grid\": {\"gridOn\": false}, \"tickformat\": null, \"nticks\": 7, \"tickvalues\": null, \"scale\": \"linear\"}], \"zoomable\": true, \"xlim\": [0.0, 50.0], \"texts\": [{\"zorder\": 3, \"v_baseline\": \"hanging\", \"fontsize\": 10.0, \"id\": \"el195984392344320\", \"color\": \"#000000\", \"text\": \"Generation\", \"position\": [0.5, -0.08064516129032258], \"rotation\": -0.0, \"coordinates\": \"axes\", \"h_anchor\": \"middle\", \"alpha\": 1}, {\"zorder\": 3, \"v_baseline\": \"auto\", \"fontsize\": 10.0, \"id\": \"el195984394789688\", \"color\": \"#000000\", \"text\": \"Fitness\", \"position\": [-0.08509744623655915, 0.5], \"rotation\": -90.0, \"coordinates\": \"axes\", \"h_anchor\": \"middle\", \"alpha\": 1}, {\"zorder\": 1000003.0, \"v_baseline\": \"auto\", \"fontsize\": 10.0, \"id\": \"el195984395470632\", \"color\": \"#000000\", \"text\": \"None\", \"position\": [-0.16129032258064518, -0.16129032258064516], \"rotation\": -0.0, \"coordinates\": \"axes\", \"h_anchor\": \"start\", \"alpha\": 1}, {\"zorder\": 1000003.0, \"v_baseline\": \"auto\", \"fontsize\": 12.0, \"id\": \"el195984393280512\", \"color\": \"#000000\", \"text\": \"average\", \"position\": [0.792044690860215, 0.2190860215053764], \"rotation\": -0.0, \"coordinates\": \"axes\", \"h_anchor\": \"start\", \"alpha\": 1}, {\"zorder\": 1000003.0, \"v_baseline\": \"auto\", \"fontsize\": 12.0, \"id\": \"el195984393830328\", \"color\": \"#000000\", \"text\": \"minimum\", \"position\": [0.792044690860215, 0.13978494623655915], \"rotation\": -0.0, \"coordinates\": \"axes\", \"h_anchor\": \"start\", \"alpha\": 1}, {\"zorder\": 1000003.0, \"v_baseline\": \"auto\", \"fontsize\": 12.0, \"id\": \"el195984397795816\", \"color\": \"#000000\", \"text\": \"maximum\", \"position\": [0.792044690860215, 0.060483870967741965], \"rotation\": -0.0, \"coordinates\": \"axes\", \"h_anchor\": \"start\", \"alpha\": 1}], \"yscale\": \"linear\", \"xdomain\": [0.0, 50.0], \"markers\": [], \"lines\": [{\"zorder\": 2, \"yindex\": 1, \"id\": \"el195984395353144\", \"color\": \"#0000FF\", \"linewidth\": 1.0, \"coordinates\": \"data\", \"dasharray\": \"10,0\", \"xindex\": 0, \"alpha\": 1, \"data\": \"data01\"}, {\"zorder\": 2, \"yindex\": 2, \"id\": \"el195984394621304\", \"color\": \"#007F00\", \"linewidth\": 1.0, \"coordinates\": \"data\", \"dasharray\": \"10,0\", \"xindex\": 0, \"alpha\": 1, \"data\": \"data01\"}, {\"zorder\": 2, \"yindex\": 3, \"id\": \"el195984394619960\", \"color\": \"#FF0000\", \"linewidth\": 1.0, \"coordinates\": \"data\", \"dasharray\": \"10,0\", \"xindex\": 0, \"alpha\": 1, \"data\": \"data01\"}, {\"zorder\": 1000002.0, \"yindex\": 1, \"id\": \"el195984393281856\", \"color\": \"#0000FF\", \"linewidth\": 1.0, \"coordinates\": \"axes\", \"dasharray\": \"10,0\", \"xindex\": 0, \"alpha\": 1, \"data\": \"data02\"}, {\"zorder\": 1000002.0, \"yindex\": 2, \"id\": \"el195984397797272\", \"color\": \"#007F00\", \"linewidth\": 1.0, \"coordinates\": \"axes\", \"dasharray\": \"10,0\", \"xindex\": 0, \"alpha\": 1, \"data\": \"data02\"}, {\"zorder\": 1000002.0, \"yindex\": 3, \"id\": \"el195984397796432\", \"color\": \"#FF0000\", \"linewidth\": 1.0, \"coordinates\": \"axes\", \"dasharray\": \"10,0\", \"xindex\": 0, \"alpha\": 1, \"data\": \"data02\"}], \"sharex\": [], \"collections\": [], \"axesbgalpha\": null, \"ydomain\": [-50.0, 250.0], \"ylim\": [-50.0, 250.0], \"bbox\": [0.125, 0.125, 0.775, 0.775]}], \"data\": {\"data03\": [[0.6773493503584229, 0.02688172043010756], [0.9820788530465949, 0.02688172043010756], [0.9820788530465949, 0.28091397849462363], [0.6773493503584229, 0.28091397849462363]], \"data01\": [[0.0, 39.04138559999999, -27.41355, 207.11249999999998], [1.0, -6.82865755, -29.012549999999997, 65.5209], [2.0, -22.2494125, -31.490799999999997, 0.8296500000000009], [3.0, -26.812280849999997, -33.06400000000001, -16.35315], [4.0, -28.35880495, -33.5095, -13.043150000000011], [5.0, -29.5864365, -33.64000000000001, -17.271150000000006], [6.0, -30.592597899999998, -33.64000000000001, -18.22400000000001], [7.0, -31.6412437, -33.64000000000001, -19.254750000000016], [8.0, -32.43569315, -33.64000000000001, -21.405150000000006], [9.0, -32.895434800000004, -33.64000000000001, -24.25715000000001], [10.0, -32.938508750000004, -33.64000000000001, -25.338750000000008], [11.0, -32.82295200000001, -33.64000000000001, -25.93200000000001], [12.0, -32.861492, -33.64000000000001, -25.93200000000001], [13.0, -32.784412, -33.64000000000001, -25.93200000000001], [14.0, -32.768996, -33.64000000000001, -25.93200000000001], [15.0, -32.938572, -33.64000000000001, -25.93200000000001], [16.0, -32.792120000000004, -33.64000000000001, -25.93200000000001], [17.0, -32.776704, -33.64000000000001, -25.93200000000001], [18.0, -32.738164, -33.64000000000001, -25.93200000000001], [19.0, -32.861492, -33.64000000000001, -25.93200000000001], [20.0, -32.892324, -33.64000000000001, -25.93200000000001], [21.0, -33.038776, -33.64000000000001, -25.93200000000001], [22.0, -32.807536, -33.64000000000001, -25.93200000000001], [23.0, -32.892324, -33.64000000000001, -25.93200000000001], [24.0, -32.869200000000006, -33.64000000000001, -25.93200000000001], [25.0, -32.83066, -33.64000000000001, -25.93200000000001], [26.0, -32.71504, -33.64000000000001, -25.93200000000001], [27.0, -32.861492, -33.64000000000001, -25.93200000000001], [28.0, -32.900032, -33.64000000000001, -25.93200000000001], [29.0, -32.846076000000004, -33.64000000000001, -25.93200000000001], [30.0, -32.81524400000001, -33.64000000000001, -25.93200000000001], [31.0, -32.97711199999999, -33.64000000000001, -25.93200000000001], [32.0, -32.853784, -33.64000000000001, -25.93200000000001], [33.0, -32.94628, -33.64000000000001, -25.93200000000001], [34.0, -32.900031999999996, -33.64000000000001, -25.93200000000001], [35.0, -32.938572, -33.64000000000001, -25.93200000000001], [36.0, -32.838368, -33.64000000000001, -25.93200000000001], [37.0, -32.900032, -33.64000000000001, -25.93200000000001], [38.0, -32.938572, -33.64000000000001, -25.93200000000001], [39.0, -32.884616, -33.64000000000001, -25.93200000000001], [40.0, -33.000236, -33.64000000000001, -25.93200000000001], [41.0, -32.807536, -33.64000000000001, -25.93200000000001], [42.0, -32.8692, -33.64000000000001, -25.93200000000001], [43.0, -32.861492, -33.64000000000001, -25.93200000000001], [44.0, -32.869200000000006, -33.64000000000001, -25.93200000000001], [45.0, -32.83066, -33.64000000000001, -25.93200000000001], [46.0, -32.861492, -33.64000000000001, -25.93200000000001], [47.0, -32.915448000000005, -33.64000000000001, -25.93200000000001], [48.0, -32.838368, -33.64000000000001, -25.93200000000001], [49.0, -32.807536, -33.64000000000001, -25.93200000000001], [50.0, -32.792120000000004, -33.64000000000001, -25.93200000000001]], \"data02\": [[0.7024389560931898, 0.23790322580645168, 0.15860215053763443, 0.07930107526881723], [0.7526181675627239, 0.23790322580645168, 0.15860215053763443, 0.07930107526881723]]}});\n",
       "      });\n",
       "    });\n",
       "}else{\n",
       "    // require.js not available: dynamically load d3 & mpld3\n",
       "    mpld3_load_lib(\"https://mpld3.github.io/js/d3.v3.min.js\", function(){\n",
       "         mpld3_load_lib(\"https://mpld3.github.io/js/mpld3.v0.2.js\", function(){\n",
       "                 \n",
       "                 mpld3.draw_figure(\"fig_el1959843955737128942538655\", {\"height\": 320.0, \"width\": 480.0, \"plugins\": [{\"type\": \"reset\"}, {\"type\": \"zoom\", \"enabled\": false, \"button\": true}, {\"type\": \"boxzoom\", \"enabled\": false, \"button\": true}], \"id\": \"el195984395573712\", \"axes\": [{\"images\": [], \"id\": \"el195984395575336\", \"sharey\": [], \"axesbg\": \"#FFFFFF\", \"xscale\": \"linear\", \"paths\": [{\"zorder\": 1000001.0, \"pathcodes\": [\"M\", \"L\", \"L\", \"L\", \"Z\"], \"edgewidth\": 1.0, \"xindex\": 0, \"yindex\": 1, \"facecolor\": \"#FFFFFF\", \"data\": \"data03\", \"dasharray\": \"10,0\", \"coordinates\": \"axes\", \"edgecolor\": \"#000000\", \"alpha\": 1, \"id\": \"el195984396878480\"}], \"axes\": [{\"position\": \"bottom\", \"fontsize\": 10.0, \"grid\": {\"gridOn\": false}, \"tickformat\": null, \"nticks\": 6, \"tickvalues\": null, \"scale\": \"linear\"}, {\"position\": \"left\", \"fontsize\": 10.0, \"grid\": {\"gridOn\": false}, \"tickformat\": null, \"nticks\": 7, \"tickvalues\": null, \"scale\": \"linear\"}], \"zoomable\": true, \"xlim\": [0.0, 50.0], \"texts\": [{\"zorder\": 3, \"v_baseline\": \"hanging\", \"fontsize\": 10.0, \"id\": \"el195984392344320\", \"color\": \"#000000\", \"text\": \"Generation\", \"position\": [0.5, -0.08064516129032258], \"rotation\": -0.0, \"coordinates\": \"axes\", \"h_anchor\": \"middle\", \"alpha\": 1}, {\"zorder\": 3, \"v_baseline\": \"auto\", \"fontsize\": 10.0, \"id\": \"el195984394789688\", \"color\": \"#000000\", \"text\": \"Fitness\", \"position\": [-0.08509744623655915, 0.5], \"rotation\": -90.0, \"coordinates\": \"axes\", \"h_anchor\": \"middle\", \"alpha\": 1}, {\"zorder\": 1000003.0, \"v_baseline\": \"auto\", \"fontsize\": 10.0, \"id\": \"el195984395470632\", \"color\": \"#000000\", \"text\": \"None\", \"position\": [-0.16129032258064518, -0.16129032258064516], \"rotation\": -0.0, \"coordinates\": \"axes\", \"h_anchor\": \"start\", \"alpha\": 1}, {\"zorder\": 1000003.0, \"v_baseline\": \"auto\", \"fontsize\": 12.0, \"id\": \"el195984393280512\", \"color\": \"#000000\", \"text\": \"average\", \"position\": [0.792044690860215, 0.2190860215053764], \"rotation\": -0.0, \"coordinates\": \"axes\", \"h_anchor\": \"start\", \"alpha\": 1}, {\"zorder\": 1000003.0, \"v_baseline\": \"auto\", \"fontsize\": 12.0, \"id\": \"el195984393830328\", \"color\": \"#000000\", \"text\": \"minimum\", \"position\": [0.792044690860215, 0.13978494623655915], \"rotation\": -0.0, \"coordinates\": \"axes\", \"h_anchor\": \"start\", \"alpha\": 1}, {\"zorder\": 1000003.0, \"v_baseline\": \"auto\", \"fontsize\": 12.0, \"id\": \"el195984397795816\", \"color\": \"#000000\", \"text\": \"maximum\", \"position\": [0.792044690860215, 0.060483870967741965], \"rotation\": -0.0, \"coordinates\": \"axes\", \"h_anchor\": \"start\", \"alpha\": 1}], \"yscale\": \"linear\", \"xdomain\": [0.0, 50.0], \"markers\": [], \"lines\": [{\"zorder\": 2, \"yindex\": 1, \"id\": \"el195984395353144\", \"color\": \"#0000FF\", \"linewidth\": 1.0, \"coordinates\": \"data\", \"dasharray\": \"10,0\", \"xindex\": 0, \"alpha\": 1, \"data\": \"data01\"}, {\"zorder\": 2, \"yindex\": 2, \"id\": \"el195984394621304\", \"color\": \"#007F00\", \"linewidth\": 1.0, \"coordinates\": \"data\", \"dasharray\": \"10,0\", \"xindex\": 0, \"alpha\": 1, \"data\": \"data01\"}, {\"zorder\": 2, \"yindex\": 3, \"id\": \"el195984394619960\", \"color\": \"#FF0000\", \"linewidth\": 1.0, \"coordinates\": \"data\", \"dasharray\": \"10,0\", \"xindex\": 0, \"alpha\": 1, \"data\": \"data01\"}, {\"zorder\": 1000002.0, \"yindex\": 1, \"id\": \"el195984393281856\", \"color\": \"#0000FF\", \"linewidth\": 1.0, \"coordinates\": \"axes\", \"dasharray\": \"10,0\", \"xindex\": 0, \"alpha\": 1, \"data\": \"data02\"}, {\"zorder\": 1000002.0, \"yindex\": 2, \"id\": \"el195984397797272\", \"color\": \"#007F00\", \"linewidth\": 1.0, \"coordinates\": \"axes\", \"dasharray\": \"10,0\", \"xindex\": 0, \"alpha\": 1, \"data\": \"data02\"}, {\"zorder\": 1000002.0, \"yindex\": 3, \"id\": \"el195984397796432\", \"color\": \"#FF0000\", \"linewidth\": 1.0, \"coordinates\": \"axes\", \"dasharray\": \"10,0\", \"xindex\": 0, \"alpha\": 1, \"data\": \"data02\"}], \"sharex\": [], \"collections\": [], \"axesbgalpha\": null, \"ydomain\": [-50.0, 250.0], \"ylim\": [-50.0, 250.0], \"bbox\": [0.125, 0.125, 0.775, 0.775]}], \"data\": {\"data03\": [[0.6773493503584229, 0.02688172043010756], [0.9820788530465949, 0.02688172043010756], [0.9820788530465949, 0.28091397849462363], [0.6773493503584229, 0.28091397849462363]], \"data01\": [[0.0, 39.04138559999999, -27.41355, 207.11249999999998], [1.0, -6.82865755, -29.012549999999997, 65.5209], [2.0, -22.2494125, -31.490799999999997, 0.8296500000000009], [3.0, -26.812280849999997, -33.06400000000001, -16.35315], [4.0, -28.35880495, -33.5095, -13.043150000000011], [5.0, -29.5864365, -33.64000000000001, -17.271150000000006], [6.0, -30.592597899999998, -33.64000000000001, -18.22400000000001], [7.0, -31.6412437, -33.64000000000001, -19.254750000000016], [8.0, -32.43569315, -33.64000000000001, -21.405150000000006], [9.0, -32.895434800000004, -33.64000000000001, -24.25715000000001], [10.0, -32.938508750000004, -33.64000000000001, -25.338750000000008], [11.0, -32.82295200000001, -33.64000000000001, -25.93200000000001], [12.0, -32.861492, -33.64000000000001, -25.93200000000001], [13.0, -32.784412, -33.64000000000001, -25.93200000000001], [14.0, -32.768996, -33.64000000000001, -25.93200000000001], [15.0, -32.938572, -33.64000000000001, -25.93200000000001], [16.0, -32.792120000000004, -33.64000000000001, -25.93200000000001], [17.0, -32.776704, -33.64000000000001, -25.93200000000001], [18.0, -32.738164, -33.64000000000001, -25.93200000000001], [19.0, -32.861492, -33.64000000000001, -25.93200000000001], [20.0, -32.892324, -33.64000000000001, -25.93200000000001], [21.0, -33.038776, -33.64000000000001, -25.93200000000001], [22.0, -32.807536, -33.64000000000001, -25.93200000000001], [23.0, -32.892324, -33.64000000000001, -25.93200000000001], [24.0, -32.869200000000006, -33.64000000000001, -25.93200000000001], [25.0, -32.83066, -33.64000000000001, -25.93200000000001], [26.0, -32.71504, -33.64000000000001, -25.93200000000001], [27.0, -32.861492, -33.64000000000001, -25.93200000000001], [28.0, -32.900032, -33.64000000000001, -25.93200000000001], [29.0, -32.846076000000004, -33.64000000000001, -25.93200000000001], [30.0, -32.81524400000001, -33.64000000000001, -25.93200000000001], [31.0, -32.97711199999999, -33.64000000000001, -25.93200000000001], [32.0, -32.853784, -33.64000000000001, -25.93200000000001], [33.0, -32.94628, -33.64000000000001, -25.93200000000001], [34.0, -32.900031999999996, -33.64000000000001, -25.93200000000001], [35.0, -32.938572, -33.64000000000001, -25.93200000000001], [36.0, -32.838368, -33.64000000000001, -25.93200000000001], [37.0, -32.900032, -33.64000000000001, -25.93200000000001], [38.0, -32.938572, -33.64000000000001, -25.93200000000001], [39.0, -32.884616, -33.64000000000001, -25.93200000000001], [40.0, -33.000236, -33.64000000000001, -25.93200000000001], [41.0, -32.807536, -33.64000000000001, -25.93200000000001], [42.0, -32.8692, -33.64000000000001, -25.93200000000001], [43.0, -32.861492, -33.64000000000001, -25.93200000000001], [44.0, -32.869200000000006, -33.64000000000001, -25.93200000000001], [45.0, -32.83066, -33.64000000000001, -25.93200000000001], [46.0, -32.861492, -33.64000000000001, -25.93200000000001], [47.0, -32.915448000000005, -33.64000000000001, -25.93200000000001], [48.0, -32.838368, -33.64000000000001, -25.93200000000001], [49.0, -32.807536, -33.64000000000001, -25.93200000000001], [50.0, -32.792120000000004, -33.64000000000001, -25.93200000000001]], \"data02\": [[0.7024389560931898, 0.23790322580645168, 0.15860215053763443, 0.07930107526881723], [0.7526181675627239, 0.23790322580645168, 0.15860215053763443, 0.07930107526881723]]}});\n",
       "            })\n",
       "         });\n",
       "}\n",
       "</script>"
      ],
      "text/plain": [
       "<matplotlib.figure.Figure at 0x105ff21d0>"
      ]
     },
     "metadata": {},
     "output_type": "display_data"
    }
   ],
   "source": [
    "if __name__ == \"__main__\":\n",
    "    pop, log, hof = main()\n",
    "    print(\"Best individual is: %s\\nwith fitness: %s\" % (hof[0], hof[0].fitness))\n",
    "    gen, avg, min_, max_ = log.select(\"gen\", \"avg\", \"min\", \"max\")\n",
    "    plt.plot(gen, avg, label=\"average\")\n",
    "    plt.plot(gen, min_, label=\"minimum\")\n",
    "    plt.plot(gen, max_, label=\"maximum\")\n",
    "    plt.xlabel(\"Generation\")\n",
    "    plt.ylabel(\"Fitness\")\n",
    "    plt.legend(loc=\"lower right\")"
   ]
  },
  {
   "cell_type": "markdown",
   "metadata": {},
   "source": [
    "# Parte B)"
   ]
  },
  {
   "cell_type": "code",
   "execution_count": 168,
   "metadata": {
    "collapsed": true
   },
   "outputs": [],
   "source": [
    "creator.create(\"Fitness\", base.Fitness, weights=(-0.01,))\n",
    "creator.create(\"Individual\", list, fitness=creator.Fitness)"
   ]
  },
  {
   "cell_type": "code",
   "execution_count": 169,
   "metadata": {
    "collapsed": true
   },
   "outputs": [],
   "source": [
    "def nuevoGEN():\n",
    "    v=[]\n",
    "    v.append(round(-1 + np.random.random() * (1 - -1), 3))\n",
    "    v.append(round(-0.8 + np.random.random() * (1.2 - -0.8), 3))\n",
    "    v.append(round(-0.5 + np.random.random() * (0.75 - -0.5), 3))\n",
    "    v.append(round(-1.4 + np.random.random() * (0.5 - -1.4), 3))\n",
    "    return v"
   ]
  },
  {
   "cell_type": "code",
   "execution_count": 170,
   "metadata": {
    "collapsed": true
   },
   "outputs": [],
   "source": [
    "toolbox = base.Toolbox()\n",
    "toolbox.register(\"individual\", tools.initIterate, creator.Individual, nuevoGEN)\n",
    "toolbox.register(\"population\", tools.initRepeat, list, toolbox.individual)"
   ]
  },
  {
   "cell_type": "code",
   "execution_count": 171,
   "metadata": {
    "collapsed": true
   },
   "outputs": [],
   "source": [
    "def evaluarADN2(x):\n",
    "    return [F_2_byUli(x)]"
   ]
  },
  {
   "cell_type": "code",
   "execution_count": 175,
   "metadata": {
    "collapsed": true
   },
   "outputs": [],
   "source": [
    "toolbox.register(\"evaluate\", evaluarADN2)\n",
    "toolbox.register(\"mate\", tools.cxTwoPoints)\n",
    "toolbox.register(\"mutate\", tools.mutGaussian, indpb=0.50, mu=0.01, sigma=0.3)\n",
    "toolbox.register(\"select\", tools.selRoulette)"
   ]
  },
  {
   "cell_type": "code",
   "execution_count": 176,
   "metadata": {
    "collapsed": true
   },
   "outputs": [],
   "source": [
    "def main():    \n",
    "    GENERACIONES=30\n",
    "    pop = toolbox.population(n=1000)\n",
    "    hof = tools.HallOfFame(1)\n",
    "    stats = tools.Statistics(lambda ind: ind.fitness.values)\n",
    "    stats.register(\"avg\", np.mean)\n",
    "    stats.register(\"min\", np.min)\n",
    "    stats.register(\"max\", np.max)\n",
    "    pop, logbook = algorithms.eaSimple(pop, toolbox, cxpb=0.5, mutpb=0.2, ngen=GENERACIONES, stats=stats, halloffame=hof, verbose=True)\n",
    "    return pop, logbook, hof"
   ]
  },
  {
   "cell_type": "code",
   "execution_count": 177,
   "metadata": {
    "collapsed": false
   },
   "outputs": [
    {
     "name": "stdout",
     "output_type": "stream",
     "text": [
      "gen\tnevals\tavg    \tmin      \tmax    \n",
      "0  \t1000  \t1.55163\t0.0425916\t5.48049\n",
      "1  \t578   \t2.38975\t0.108416 \t10.6747\n",
      "2  \t606   \t3.28829\t0.236651 \t20.9651\n",
      "3  \t593   \t4.65749\t0.356628 \t36.1476\n",
      "4  \t592   \t6.88799\t0.0915341\t36.1617\n",
      "5  \t600   \t11.2602\t0.680685 \t66.5065\n",
      "6  \t584   \t18.0339\t0.88226  \t77.6408\n",
      "7  \t579   \t25.5408\t0.546278 \t93.0546\n",
      "8  \t625   \t34.5356\t2.95758  \t133.755\n",
      "9  \t600   \t45.3223\t2.83968  \t182.325\n",
      "10 \t604   \t56.6823\t7.77125  \t236.458\n",
      "11 \t563   \t68.8073\t7.77125  \t360.977\n",
      "12 \t572   \t87.3246\t10.6781  \t446.618\n",
      "13 \t552   \t123.651\t13.5088  \t446.618\n",
      "14 \t585   \t175.862\t26.4574  \t818.181\n",
      "15 \t594   \t242.459\t34.3739  \t1255.43\n",
      "16 \t570   \t319.012\t23.7568  \t1493.31\n",
      "17 \t565   \t398.953\t55.9434  \t1747.23\n",
      "18 \t597   \t517.594\t55.9434  \t1772.97\n",
      "19 \t633   \t695.033\t88.6434  \t2179.26\n",
      "20 \t589   \t895.103\t124.4    \t2618.66\n",
      "21 \t655   \t1082.88\t172.218  \t3317   \n",
      "22 \t613   \t1231.03\t237.161  \t3317   \n",
      "23 \t612   \t1392.45\t374.345  \t3317.22\n",
      "24 \t646   \t1517.5 \t371.788  \t4435.23\n",
      "25 \t604   \t1727.24\t379.61   \t5099.5 \n",
      "26 \t607   \t1927.44\t391.779  \t5099.5 \n",
      "27 \t611   \t2162.41\t712.309  \t6162.56\n",
      "28 \t602   \t2497.46\t913.063  \t6167.23\n",
      "29 \t584   \t2892.9 \t701.432  \t6167.23\n",
      "30 \t637   \t3253.02\t415.149  \t7238.87\n",
      "Best individual is: [-0.02, -0.062, -0.139, 0.356]\n",
      "with fitness: (0.042591632696,)\n"
     ]
    },
    {
     "name": "stderr",
     "output_type": "stream",
     "text": [
      "/Users/raulparola/anaconda/lib/python3.4/site-packages/deap/tools/crossover.py:61: FutureWarning: tools.cxTwoPoints has been renamed. Use cxTwoPoint instead.\n",
      "  FutureWarning)\n"
     ]
    },
    {
     "data": {
      "image/png": "[encoded data removed]",
      "text/html": [
       "\n",
       "\n",
       "<style>\n",
       "\n",
       "</style>\n",
       "\n",
       "<div id=\"fig_el195984395387088686310997\"></div>\n",
       "<script>\n",
       "function mpld3_load_lib(url, callback){\n",
       "  var s = document.createElement('script');\n",
       "  s.src = url;\n",
       "  s.async = true;\n",
       "  s.onreadystatechange = s.onload = callback;\n",
       "  s.onerror = function(){console.warn(\"failed to load library \" + url);};\n",
       "  document.getElementsByTagName(\"head\")[0].appendChild(s);\n",
       "}\n",
       "\n",
       "if(typeof(mpld3) !== \"undefined\" && mpld3._mpld3IsLoaded){\n",
       "   // already loaded: just create the figure\n",
       "   !function(mpld3){\n",
       "       \n",
       "       mpld3.draw_figure(\"fig_el195984395387088686310997\", {\"height\": 320.0, \"width\": 480.0, \"plugins\": [{\"type\": \"reset\"}, {\"type\": \"zoom\", \"enabled\": false, \"button\": true}, {\"type\": \"boxzoom\", \"enabled\": false, \"button\": true}], \"id\": \"el195984395387088\", \"axes\": [{\"images\": [], \"id\": \"el195984395384904\", \"sharey\": [], \"axesbg\": \"#FFFFFF\", \"xscale\": \"linear\", \"paths\": [{\"zorder\": 1000001.0, \"pathcodes\": [\"M\", \"L\", \"L\", \"L\", \"Z\"], \"edgewidth\": 1.0, \"xindex\": 0, \"yindex\": 1, \"facecolor\": \"#FFFFFF\", \"data\": \"data03\", \"dasharray\": \"10,0\", \"coordinates\": \"axes\", \"edgecolor\": \"#000000\", \"alpha\": 1, \"id\": \"el195984397746160\"}], \"axes\": [{\"position\": \"bottom\", \"fontsize\": 10.0, \"grid\": {\"gridOn\": false}, \"tickformat\": null, \"nticks\": 7, \"tickvalues\": null, \"scale\": \"linear\"}, {\"position\": \"left\", \"fontsize\": 10.0, \"grid\": {\"gridOn\": false}, \"tickformat\": null, \"nticks\": 9, \"tickvalues\": null, \"scale\": \"linear\"}], \"zoomable\": true, \"xlim\": [0.0, 30.0], \"texts\": [{\"zorder\": 3, \"v_baseline\": \"hanging\", \"fontsize\": 10.0, \"id\": \"el195984396880224\", \"color\": \"#000000\", \"text\": \"Generation\", \"position\": [0.5, -0.08064516129032258], \"rotation\": -0.0, \"coordinates\": \"axes\", \"h_anchor\": \"middle\", \"alpha\": 1}, {\"zorder\": 3, \"v_baseline\": \"auto\", \"fontsize\": 10.0, \"id\": \"el195984396788536\", \"color\": \"#000000\", \"text\": \"Fitness\", \"position\": [-0.09979838709677422, 0.5], \"rotation\": -90.0, \"coordinates\": \"axes\", \"h_anchor\": \"middle\", \"alpha\": 1}, {\"zorder\": 1000003.0, \"v_baseline\": \"auto\", \"fontsize\": 10.0, \"id\": \"el195984397756368\", \"color\": \"#000000\", \"text\": \"None\", \"position\": [-0.16129032258064518, -0.16129032258064516], \"rotation\": -0.0, \"coordinates\": \"axes\", \"h_anchor\": \"start\", \"alpha\": 1}, {\"zorder\": 1000003.0, \"v_baseline\": \"auto\", \"fontsize\": 12.0, \"id\": \"el195984397748296\", \"color\": \"#000000\", \"text\": \"average\", \"position\": [0.792044690860215, 0.2190860215053764], \"rotation\": -0.0, \"coordinates\": \"axes\", \"h_anchor\": \"start\", \"alpha\": 1}, {\"zorder\": 1000003.0, \"v_baseline\": \"auto\", \"fontsize\": 12.0, \"id\": \"el195984397948544\", \"color\": \"#000000\", \"text\": \"minimum\", \"position\": [0.792044690860215, 0.13978494623655915], \"rotation\": -0.0, \"coordinates\": \"axes\", \"h_anchor\": \"start\", \"alpha\": 1}, {\"zorder\": 1000003.0, \"v_baseline\": \"auto\", \"fontsize\": 12.0, \"id\": \"el195984393399464\", \"color\": \"#000000\", \"text\": \"maximum\", \"position\": [0.792044690860215, 0.060483870967741965], \"rotation\": -0.0, \"coordinates\": \"axes\", \"h_anchor\": \"start\", \"alpha\": 1}], \"yscale\": \"linear\", \"xdomain\": [0.0, 30.0], \"markers\": [], \"lines\": [{\"zorder\": 2, \"yindex\": 1, \"id\": \"el195984397783864\", \"color\": \"#0000FF\", \"linewidth\": 1.0, \"coordinates\": \"data\", \"dasharray\": \"10,0\", \"xindex\": 0, \"alpha\": 1, \"data\": \"data01\"}, {\"zorder\": 2, \"yindex\": 2, \"id\": \"el195984397781176\", \"color\": \"#007F00\", \"linewidth\": 1.0, \"coordinates\": \"data\", \"dasharray\": \"10,0\", \"xindex\": 0, \"alpha\": 1, \"data\": \"data01\"}, {\"zorder\": 2, \"yindex\": 3, \"id\": \"el195984397782408\", \"color\": \"#FF0000\", \"linewidth\": 1.0, \"coordinates\": \"data\", \"dasharray\": \"10,0\", \"xindex\": 0, \"alpha\": 1, \"data\": \"data01\"}, {\"zorder\": 1000002.0, \"yindex\": 1, \"id\": \"el195984395813520\", \"color\": \"#0000FF\", \"linewidth\": 1.0, \"coordinates\": \"axes\", \"dasharray\": \"10,0\", \"xindex\": 0, \"alpha\": 1, \"data\": \"data02\"}, {\"zorder\": 1000002.0, \"yindex\": 2, \"id\": \"el195984397948824\", \"color\": \"#007F00\", \"linewidth\": 1.0, \"coordinates\": \"axes\", \"dasharray\": \"10,0\", \"xindex\": 0, \"alpha\": 1, \"data\": \"data02\"}, {\"zorder\": 1000002.0, \"yindex\": 3, \"id\": \"el195984393399688\", \"color\": \"#FF0000\", \"linewidth\": 1.0, \"coordinates\": \"axes\", \"dasharray\": \"10,0\", \"xindex\": 0, \"alpha\": 1, \"data\": \"data02\"}], \"sharex\": [], \"collections\": [], \"axesbgalpha\": null, \"ydomain\": [0.0, 8000.0], \"ylim\": [0.0, 8000.0], \"bbox\": [0.125, 0.125, 0.775, 0.775]}], \"data\": {\"data03\": [[0.6773493503584229, 0.02688172043010756], [0.9820788530465949, 0.02688172043010756], [0.9820788530465949, 0.28091397849462363], [0.6773493503584229, 0.28091397849462363]], \"data01\": [[0.0, 1.5516344181831578, 0.042591632696, 5.480491268041], [1.0, 2.389754691620442, 0.108415729976, 10.674669008996235], [2.0, 3.288291115902139, 0.236651337416, 20.96505705419159], [3.0, 4.657490211368313, 0.35662799533315076, 36.14756560869347], [4.0, 6.887989330788469, 0.09153409855958634, 36.16169760351466], [5.0, 11.260198010229054, 0.6806849705007304, 66.50654210522087], [6.0, 18.033904208606806, 0.8822601092420697, 77.64083601863554], [7.0, 25.540780192422492, 0.5462780804843212, 93.05455192551479], [8.0, 34.53562404704205, 2.957577563697086, 133.755133354125], [9.0, 45.3223326642968, 2.8396804611463016, 182.3245843182005], [10.0, 56.682317720934684, 7.771251931701705, 236.45808356395418], [11.0, 68.80726390350674, 7.771251931701705, 360.9770180784291], [12.0, 87.324645380828, 10.678070663380643, 446.61826175191226], [13.0, 123.65107894120882, 13.508803267196594, 446.61826175191226], [14.0, 175.86156777955463, 26.457426334082722, 818.1806160609955], [15.0, 242.45914196857132, 34.373945709796836, 1255.4336147093459], [16.0, 319.01211035496533, 23.756775415943498, 1493.3138658653686], [17.0, 398.9529563268521, 55.943448949797876, 1747.2259144227185], [18.0, 517.5944986512401, 55.943448949797876, 1772.9738418797442], [19.0, 695.0333518737359, 88.64339638653335, 2179.2559513167757], [20.0, 895.1034000481974, 124.39993357682124, 2618.655505369895], [21.0, 1082.8751192607385, 172.21758938726578, 3317.0047530809925], [22.0, 1231.0255181563232, 237.16134811497332, 3317.0047530809925], [23.0, 1392.4472117961873, 374.34515127976437, 3317.2234586791446], [24.0, 1517.496206800906, 371.7880610882459, 4435.234630847265], [25.0, 1727.235528924913, 379.6096398459846, 5099.499297282264], [26.0, 1927.4410200887169, 391.77890571965537, 5099.499297282264], [27.0, 2162.4125939719293, 712.3087564021537, 6162.558593783354], [28.0, 2497.4560982792646, 913.0626859633851, 6167.226300782214], [29.0, 2892.896824896153, 701.4322892448217, 6167.226300782214], [30.0, 3253.0242521220675, 415.1485271378334, 7238.870818718482]], \"data02\": [[0.7024389560931898, 0.23790322580645168, 0.15860215053763443, 0.07930107526881723], [0.7526181675627239, 0.23790322580645168, 0.15860215053763443, 0.07930107526881723]]}});\n",
       "   }(mpld3);\n",
       "}else if(typeof define === \"function\" && define.amd){\n",
       "   // require.js is available: use it to load d3/mpld3\n",
       "   require.config({paths: {d3: \"https://mpld3.github.io/js/d3.v3.min\"}});\n",
       "   require([\"d3\"], function(d3){\n",
       "      window.d3 = d3;\n",
       "      mpld3_load_lib(\"https://mpld3.github.io/js/mpld3.v0.2.js\", function(){\n",
       "         \n",
       "         mpld3.draw_figure(\"fig_el195984395387088686310997\", {\"height\": 320.0, \"width\": 480.0, \"plugins\": [{\"type\": \"reset\"}, {\"type\": \"zoom\", \"enabled\": false, \"button\": true}, {\"type\": \"boxzoom\", \"enabled\": false, \"button\": true}], \"id\": \"el195984395387088\", \"axes\": [{\"images\": [], \"id\": \"el195984395384904\", \"sharey\": [], \"axesbg\": \"#FFFFFF\", \"xscale\": \"linear\", \"paths\": [{\"zorder\": 1000001.0, \"pathcodes\": [\"M\", \"L\", \"L\", \"L\", \"Z\"], \"edgewidth\": 1.0, \"xindex\": 0, \"yindex\": 1, \"facecolor\": \"#FFFFFF\", \"data\": \"data03\", \"dasharray\": \"10,0\", \"coordinates\": \"axes\", \"edgecolor\": \"#000000\", \"alpha\": 1, \"id\": \"el195984397746160\"}], \"axes\": [{\"position\": \"bottom\", \"fontsize\": 10.0, \"grid\": {\"gridOn\": false}, \"tickformat\": null, \"nticks\": 7, \"tickvalues\": null, \"scale\": \"linear\"}, {\"position\": \"left\", \"fontsize\": 10.0, \"grid\": {\"gridOn\": false}, \"tickformat\": null, \"nticks\": 9, \"tickvalues\": null, \"scale\": \"linear\"}], \"zoomable\": true, \"xlim\": [0.0, 30.0], \"texts\": [{\"zorder\": 3, \"v_baseline\": \"hanging\", \"fontsize\": 10.0, \"id\": \"el195984396880224\", \"color\": \"#000000\", \"text\": \"Generation\", \"position\": [0.5, -0.08064516129032258], \"rotation\": -0.0, \"coordinates\": \"axes\", \"h_anchor\": \"middle\", \"alpha\": 1}, {\"zorder\": 3, \"v_baseline\": \"auto\", \"fontsize\": 10.0, \"id\": \"el195984396788536\", \"color\": \"#000000\", \"text\": \"Fitness\", \"position\": [-0.09979838709677422, 0.5], \"rotation\": -90.0, \"coordinates\": \"axes\", \"h_anchor\": \"middle\", \"alpha\": 1}, {\"zorder\": 1000003.0, \"v_baseline\": \"auto\", \"fontsize\": 10.0, \"id\": \"el195984397756368\", \"color\": \"#000000\", \"text\": \"None\", \"position\": [-0.16129032258064518, -0.16129032258064516], \"rotation\": -0.0, \"coordinates\": \"axes\", \"h_anchor\": \"start\", \"alpha\": 1}, {\"zorder\": 1000003.0, \"v_baseline\": \"auto\", \"fontsize\": 12.0, \"id\": \"el195984397748296\", \"color\": \"#000000\", \"text\": \"average\", \"position\": [0.792044690860215, 0.2190860215053764], \"rotation\": -0.0, \"coordinates\": \"axes\", \"h_anchor\": \"start\", \"alpha\": 1}, {\"zorder\": 1000003.0, \"v_baseline\": \"auto\", \"fontsize\": 12.0, \"id\": \"el195984397948544\", \"color\": \"#000000\", \"text\": \"minimum\", \"position\": [0.792044690860215, 0.13978494623655915], \"rotation\": -0.0, \"coordinates\": \"axes\", \"h_anchor\": \"start\", \"alpha\": 1}, {\"zorder\": 1000003.0, \"v_baseline\": \"auto\", \"fontsize\": 12.0, \"id\": \"el195984393399464\", \"color\": \"#000000\", \"text\": \"maximum\", \"position\": [0.792044690860215, 0.060483870967741965], \"rotation\": -0.0, \"coordinates\": \"axes\", \"h_anchor\": \"start\", \"alpha\": 1}], \"yscale\": \"linear\", \"xdomain\": [0.0, 30.0], \"markers\": [], \"lines\": [{\"zorder\": 2, \"yindex\": 1, \"id\": \"el195984397783864\", \"color\": \"#0000FF\", \"linewidth\": 1.0, \"coordinates\": \"data\", \"dasharray\": \"10,0\", \"xindex\": 0, \"alpha\": 1, \"data\": \"data01\"}, {\"zorder\": 2, \"yindex\": 2, \"id\": \"el195984397781176\", \"color\": \"#007F00\", \"linewidth\": 1.0, \"coordinates\": \"data\", \"dasharray\": \"10,0\", \"xindex\": 0, \"alpha\": 1, \"data\": \"data01\"}, {\"zorder\": 2, \"yindex\": 3, \"id\": \"el195984397782408\", \"color\": \"#FF0000\", \"linewidth\": 1.0, \"coordinates\": \"data\", \"dasharray\": \"10,0\", \"xindex\": 0, \"alpha\": 1, \"data\": \"data01\"}, {\"zorder\": 1000002.0, \"yindex\": 1, \"id\": \"el195984395813520\", \"color\": \"#0000FF\", \"linewidth\": 1.0, \"coordinates\": \"axes\", \"dasharray\": \"10,0\", \"xindex\": 0, \"alpha\": 1, \"data\": \"data02\"}, {\"zorder\": 1000002.0, \"yindex\": 2, \"id\": \"el195984397948824\", \"color\": \"#007F00\", \"linewidth\": 1.0, \"coordinates\": \"axes\", \"dasharray\": \"10,0\", \"xindex\": 0, \"alpha\": 1, \"data\": \"data02\"}, {\"zorder\": 1000002.0, \"yindex\": 3, \"id\": \"el195984393399688\", \"color\": \"#FF0000\", \"linewidth\": 1.0, \"coordinates\": \"axes\", \"dasharray\": \"10,0\", \"xindex\": 0, \"alpha\": 1, \"data\": \"data02\"}], \"sharex\": [], \"collections\": [], \"axesbgalpha\": null, \"ydomain\": [0.0, 8000.0], \"ylim\": [0.0, 8000.0], \"bbox\": [0.125, 0.125, 0.775, 0.775]}], \"data\": {\"data03\": [[0.6773493503584229, 0.02688172043010756], [0.9820788530465949, 0.02688172043010756], [0.9820788530465949, 0.28091397849462363], [0.6773493503584229, 0.28091397849462363]], \"data01\": [[0.0, 1.5516344181831578, 0.042591632696, 5.480491268041], [1.0, 2.389754691620442, 0.108415729976, 10.674669008996235], [2.0, 3.288291115902139, 0.236651337416, 20.96505705419159], [3.0, 4.657490211368313, 0.35662799533315076, 36.14756560869347], [4.0, 6.887989330788469, 0.09153409855958634, 36.16169760351466], [5.0, 11.260198010229054, 0.6806849705007304, 66.50654210522087], [6.0, 18.033904208606806, 0.8822601092420697, 77.64083601863554], [7.0, 25.540780192422492, 0.5462780804843212, 93.05455192551479], [8.0, 34.53562404704205, 2.957577563697086, 133.755133354125], [9.0, 45.3223326642968, 2.8396804611463016, 182.3245843182005], [10.0, 56.682317720934684, 7.771251931701705, 236.45808356395418], [11.0, 68.80726390350674, 7.771251931701705, 360.9770180784291], [12.0, 87.324645380828, 10.678070663380643, 446.61826175191226], [13.0, 123.65107894120882, 13.508803267196594, 446.61826175191226], [14.0, 175.86156777955463, 26.457426334082722, 818.1806160609955], [15.0, 242.45914196857132, 34.373945709796836, 1255.4336147093459], [16.0, 319.01211035496533, 23.756775415943498, 1493.3138658653686], [17.0, 398.9529563268521, 55.943448949797876, 1747.2259144227185], [18.0, 517.5944986512401, 55.943448949797876, 1772.9738418797442], [19.0, 695.0333518737359, 88.64339638653335, 2179.2559513167757], [20.0, 895.1034000481974, 124.39993357682124, 2618.655505369895], [21.0, 1082.8751192607385, 172.21758938726578, 3317.0047530809925], [22.0, 1231.0255181563232, 237.16134811497332, 3317.0047530809925], [23.0, 1392.4472117961873, 374.34515127976437, 3317.2234586791446], [24.0, 1517.496206800906, 371.7880610882459, 4435.234630847265], [25.0, 1727.235528924913, 379.6096398459846, 5099.499297282264], [26.0, 1927.4410200887169, 391.77890571965537, 5099.499297282264], [27.0, 2162.4125939719293, 712.3087564021537, 6162.558593783354], [28.0, 2497.4560982792646, 913.0626859633851, 6167.226300782214], [29.0, 2892.896824896153, 701.4322892448217, 6167.226300782214], [30.0, 3253.0242521220675, 415.1485271378334, 7238.870818718482]], \"data02\": [[0.7024389560931898, 0.23790322580645168, 0.15860215053763443, 0.07930107526881723], [0.7526181675627239, 0.23790322580645168, 0.15860215053763443, 0.07930107526881723]]}});\n",
       "      });\n",
       "    });\n",
       "}else{\n",
       "    // require.js not available: dynamically load d3 & mpld3\n",
       "    mpld3_load_lib(\"https://mpld3.github.io/js/d3.v3.min.js\", function(){\n",
       "         mpld3_load_lib(\"https://mpld3.github.io/js/mpld3.v0.2.js\", function(){\n",
       "                 \n",
       "                 mpld3.draw_figure(\"fig_el195984395387088686310997\", {\"height\": 320.0, \"width\": 480.0, \"plugins\": [{\"type\": \"reset\"}, {\"type\": \"zoom\", \"enabled\": false, \"button\": true}, {\"type\": \"boxzoom\", \"enabled\": false, \"button\": true}], \"id\": \"el195984395387088\", \"axes\": [{\"images\": [], \"id\": \"el195984395384904\", \"sharey\": [], \"axesbg\": \"#FFFFFF\", \"xscale\": \"linear\", \"paths\": [{\"zorder\": 1000001.0, \"pathcodes\": [\"M\", \"L\", \"L\", \"L\", \"Z\"], \"edgewidth\": 1.0, \"xindex\": 0, \"yindex\": 1, \"facecolor\": \"#FFFFFF\", \"data\": \"data03\", \"dasharray\": \"10,0\", \"coordinates\": \"axes\", \"edgecolor\": \"#000000\", \"alpha\": 1, \"id\": \"el195984397746160\"}], \"axes\": [{\"position\": \"bottom\", \"fontsize\": 10.0, \"grid\": {\"gridOn\": false}, \"tickformat\": null, \"nticks\": 7, \"tickvalues\": null, \"scale\": \"linear\"}, {\"position\": \"left\", \"fontsize\": 10.0, \"grid\": {\"gridOn\": false}, \"tickformat\": null, \"nticks\": 9, \"tickvalues\": null, \"scale\": \"linear\"}], \"zoomable\": true, \"xlim\": [0.0, 30.0], \"texts\": [{\"zorder\": 3, \"v_baseline\": \"hanging\", \"fontsize\": 10.0, \"id\": \"el195984396880224\", \"color\": \"#000000\", \"text\": \"Generation\", \"position\": [0.5, -0.08064516129032258], \"rotation\": -0.0, \"coordinates\": \"axes\", \"h_anchor\": \"middle\", \"alpha\": 1}, {\"zorder\": 3, \"v_baseline\": \"auto\", \"fontsize\": 10.0, \"id\": \"el195984396788536\", \"color\": \"#000000\", \"text\": \"Fitness\", \"position\": [-0.09979838709677422, 0.5], \"rotation\": -90.0, \"coordinates\": \"axes\", \"h_anchor\": \"middle\", \"alpha\": 1}, {\"zorder\": 1000003.0, \"v_baseline\": \"auto\", \"fontsize\": 10.0, \"id\": \"el195984397756368\", \"color\": \"#000000\", \"text\": \"None\", \"position\": [-0.16129032258064518, -0.16129032258064516], \"rotation\": -0.0, \"coordinates\": \"axes\", \"h_anchor\": \"start\", \"alpha\": 1}, {\"zorder\": 1000003.0, \"v_baseline\": \"auto\", \"fontsize\": 12.0, \"id\": \"el195984397748296\", \"color\": \"#000000\", \"text\": \"average\", \"position\": [0.792044690860215, 0.2190860215053764], \"rotation\": -0.0, \"coordinates\": \"axes\", \"h_anchor\": \"start\", \"alpha\": 1}, {\"zorder\": 1000003.0, \"v_baseline\": \"auto\", \"fontsize\": 12.0, \"id\": \"el195984397948544\", \"color\": \"#000000\", \"text\": \"minimum\", \"position\": [0.792044690860215, 0.13978494623655915], \"rotation\": -0.0, \"coordinates\": \"axes\", \"h_anchor\": \"start\", \"alpha\": 1}, {\"zorder\": 1000003.0, \"v_baseline\": \"auto\", \"fontsize\": 12.0, \"id\": \"el195984393399464\", \"color\": \"#000000\", \"text\": \"maximum\", \"position\": [0.792044690860215, 0.060483870967741965], \"rotation\": -0.0, \"coordinates\": \"axes\", \"h_anchor\": \"start\", \"alpha\": 1}], \"yscale\": \"linear\", \"xdomain\": [0.0, 30.0], \"markers\": [], \"lines\": [{\"zorder\": 2, \"yindex\": 1, \"id\": \"el195984397783864\", \"color\": \"#0000FF\", \"linewidth\": 1.0, \"coordinates\": \"data\", \"dasharray\": \"10,0\", \"xindex\": 0, \"alpha\": 1, \"data\": \"data01\"}, {\"zorder\": 2, \"yindex\": 2, \"id\": \"el195984397781176\", \"color\": \"#007F00\", \"linewidth\": 1.0, \"coordinates\": \"data\", \"dasharray\": \"10,0\", \"xindex\": 0, \"alpha\": 1, \"data\": \"data01\"}, {\"zorder\": 2, \"yindex\": 3, \"id\": \"el195984397782408\", \"color\": \"#FF0000\", \"linewidth\": 1.0, \"coordinates\": \"data\", \"dasharray\": \"10,0\", \"xindex\": 0, \"alpha\": 1, \"data\": \"data01\"}, {\"zorder\": 1000002.0, \"yindex\": 1, \"id\": \"el195984395813520\", \"color\": \"#0000FF\", \"linewidth\": 1.0, \"coordinates\": \"axes\", \"dasharray\": \"10,0\", \"xindex\": 0, \"alpha\": 1, \"data\": \"data02\"}, {\"zorder\": 1000002.0, \"yindex\": 2, \"id\": \"el195984397948824\", \"color\": \"#007F00\", \"linewidth\": 1.0, \"coordinates\": \"axes\", \"dasharray\": \"10,0\", \"xindex\": 0, \"alpha\": 1, \"data\": \"data02\"}, {\"zorder\": 1000002.0, \"yindex\": 3, \"id\": \"el195984393399688\", \"color\": \"#FF0000\", \"linewidth\": 1.0, \"coordinates\": \"axes\", \"dasharray\": \"10,0\", \"xindex\": 0, \"alpha\": 1, \"data\": \"data02\"}], \"sharex\": [], \"collections\": [], \"axesbgalpha\": null, \"ydomain\": [0.0, 8000.0], \"ylim\": [0.0, 8000.0], \"bbox\": [0.125, 0.125, 0.775, 0.775]}], \"data\": {\"data03\": [[0.6773493503584229, 0.02688172043010756], [0.9820788530465949, 0.02688172043010756], [0.9820788530465949, 0.28091397849462363], [0.6773493503584229, 0.28091397849462363]], \"data01\": [[0.0, 1.5516344181831578, 0.042591632696, 5.480491268041], [1.0, 2.389754691620442, 0.108415729976, 10.674669008996235], [2.0, 3.288291115902139, 0.236651337416, 20.96505705419159], [3.0, 4.657490211368313, 0.35662799533315076, 36.14756560869347], [4.0, 6.887989330788469, 0.09153409855958634, 36.16169760351466], [5.0, 11.260198010229054, 0.6806849705007304, 66.50654210522087], [6.0, 18.033904208606806, 0.8822601092420697, 77.64083601863554], [7.0, 25.540780192422492, 0.5462780804843212, 93.05455192551479], [8.0, 34.53562404704205, 2.957577563697086, 133.755133354125], [9.0, 45.3223326642968, 2.8396804611463016, 182.3245843182005], [10.0, 56.682317720934684, 7.771251931701705, 236.45808356395418], [11.0, 68.80726390350674, 7.771251931701705, 360.9770180784291], [12.0, 87.324645380828, 10.678070663380643, 446.61826175191226], [13.0, 123.65107894120882, 13.508803267196594, 446.61826175191226], [14.0, 175.86156777955463, 26.457426334082722, 818.1806160609955], [15.0, 242.45914196857132, 34.373945709796836, 1255.4336147093459], [16.0, 319.01211035496533, 23.756775415943498, 1493.3138658653686], [17.0, 398.9529563268521, 55.943448949797876, 1747.2259144227185], [18.0, 517.5944986512401, 55.943448949797876, 1772.9738418797442], [19.0, 695.0333518737359, 88.64339638653335, 2179.2559513167757], [20.0, 895.1034000481974, 124.39993357682124, 2618.655505369895], [21.0, 1082.8751192607385, 172.21758938726578, 3317.0047530809925], [22.0, 1231.0255181563232, 237.16134811497332, 3317.0047530809925], [23.0, 1392.4472117961873, 374.34515127976437, 3317.2234586791446], [24.0, 1517.496206800906, 371.7880610882459, 4435.234630847265], [25.0, 1727.235528924913, 379.6096398459846, 5099.499297282264], [26.0, 1927.4410200887169, 391.77890571965537, 5099.499297282264], [27.0, 2162.4125939719293, 712.3087564021537, 6162.558593783354], [28.0, 2497.4560982792646, 913.0626859633851, 6167.226300782214], [29.0, 2892.896824896153, 701.4322892448217, 6167.226300782214], [30.0, 3253.0242521220675, 415.1485271378334, 7238.870818718482]], \"data02\": [[0.7024389560931898, 0.23790322580645168, 0.15860215053763443, 0.07930107526881723], [0.7526181675627239, 0.23790322580645168, 0.15860215053763443, 0.07930107526881723]]}});\n",
       "            })\n",
       "         });\n",
       "}\n",
       "</script>"
      ],
      "text/plain": [
       "<matplotlib.figure.Figure at 0x105fc48d0>"
      ]
     },
     "metadata": {},
     "output_type": "display_data"
    }
   ],
   "source": [
    "if __name__ == \"__main__\":\n",
    "    pop, log, hof = main()\n",
    "    print(\"Best individual is: %s\\nwith fitness: %s\" % (hof[0], hof[0].fitness))\n",
    "    gen, avg, min_, max_ = log.select(\"gen\", \"avg\", \"min\", \"max\")\n",
    "    plt.plot(gen, avg, label=\"average\")\n",
    "    plt.plot(gen, min_, label=\"minimum\")\n",
    "    plt.plot(gen, max_, label=\"maximum\")\n",
    "    plt.xlabel(\"Generation\")\n",
    "    plt.ylabel(\"Fitness\")\n",
    "    plt.legend(loc=\"lower right\")"
   ]
  },
  {
   "cell_type": "code",
   "execution_count": null,
   "metadata": {
    "collapsed": true
   },
   "outputs": [],
   "source": []
  },
  {
   "cell_type": "code",
   "execution_count": null,
   "metadata": {
    "collapsed": true
   },
   "outputs": [],
   "source": []
  }
 ],
 "metadata": {
  "kernelspec": {
   "display_name": "Python 3",
   "language": "python",
   "name": "python3"
  },
  "language_info": {
   "codemirror_mode": {
    "name": "ipython",
    "version": 3
   },
   "file_extension": ".py",
   "mimetype": "text/x-python",
   "name": "python",
   "nbconvert_exporter": "python",
   "pygments_lexer": "ipython3",
   "version": "3.4.3"
  }
 },
 "nbformat": 4,
 "nbformat_minor": 0
}
