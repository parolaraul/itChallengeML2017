{
 "cells": [
  {
   "cell_type": "markdown",
   "metadata": {},
   "source": [
    "# Ejercicio 2\n",
    "Intente resolver un problema de optimización numérica usando Simulated Annealing y un Algoritmo Evolutivo. La función a minimizar es la llamada Rastrigin y su defnición es:\n",
    "\n",
    "a) Proponga una representación adecuada para las soluciones al problema cuando N=10, sabiendo que el rango de las variables va de -5 a 5 y se requiere trabajar al menos con 2 dígitos decimales de precisión.\n",
    "\n",
    "b) Proponga una función de evaluación que le permita calificar que tan buena es una solución.\n",
    "\n",
    "c) Para Simulated Annealing defina como y cuantas soluciones vecinas se van a generar en cada paso de la búsqueda mientras que para el Algoritmo Evolutivo de na que operadores van a usarse durante el proceso evolutivo.\n",
    "\n",
    "d) Implemente y pruebe lo de nido en los puntos anteriores. Evalúe los resultados obtenidos."
   ]
  },
  {
   "cell_type": "code",
   "execution_count": 1,
   "metadata": {
    "collapsed": false
   },
   "outputs": [],
   "source": [
    "import numpy as np\n",
    "import matplotlib.pyplot as plt\n",
    "from matplotlib import pylab\n",
    "import mpld3\n",
    "\n",
    "%matplotlib inline\n",
    "mpld3.enable_notebook()\n",
    "\n",
    "from busqueda_local import hill_climb\n",
    "from busqueda_local import simulated_annealing\n",
    "from deap import base, creator, tools, algorithms"
   ]
  },
  {
   "cell_type": "code",
   "execution_count": 10,
   "metadata": {
    "collapsed": true
   },
   "outputs": [],
   "source": [
    "# -*- coding: utf-8 -*-\n",
    "\"\"\"\n",
    "Ejercicio 2: Optimización numérica\n",
    "\"\"\"\n",
    "from math import cos, pi\n",
    "\n",
    "# Esta es la función Rastrigin\n",
    "def rastrigin(vect):\n",
    "    total = 0\n",
    "    for x in vect:\n",
    "        total += x ** 2 - 10 * cos(2 * pi * x)\n",
    "    return (10 * len(vect)) + total"
   ]
  },
  {
   "cell_type": "markdown",
   "metadata": {},
   "source": [
    "# Simulated Annealing\n",
    "## Nuevos"
   ]
  },
  {
   "cell_type": "code",
   "execution_count": 11,
   "metadata": {
    "collapsed": true
   },
   "outputs": [],
   "source": [
    "def nuevos():\n",
    "    minimo = -5\n",
    "    maximo = 5\n",
    "    N = 10\n",
    "    x = []\n",
    "    for i in range(N):\n",
    "        x.append(round(minimo + np.random.random() * (maximo - minimo), 2))\n",
    "    return x"
   ]
  },
  {
   "cell_type": "markdown",
   "metadata": {},
   "source": [
    "## Evaluacion"
   ]
  },
  {
   "cell_type": "code",
   "execution_count": 12,
   "metadata": {
    "collapsed": true
   },
   "outputs": [],
   "source": [
    "def evaluacion(x):\n",
    "    return rastrigin(x)"
   ]
  },
  {
   "cell_type": "markdown",
   "metadata": {},
   "source": [
    "## Vecinos"
   ]
  },
  {
   "cell_type": "code",
   "execution_count": 13,
   "metadata": {
    "collapsed": true
   },
   "outputs": [],
   "source": [
    "def vecinos(x):\n",
    "    v = []\n",
    "    d = -0.03\n",
    "    minimo = -5\n",
    "    maximo = 5\n",
    "    for i in range(4):\n",
    "        pos = np.random.randint(0,9)\n",
    "        n = x[pos] + d\n",
    "        if n >= minimo and n <= maximo:\n",
    "            x[pos] = n\n",
    "        d += 0.02\n",
    "        v.append(x)\n",
    "    return v"
   ]
  },
  {
   "cell_type": "markdown",
   "metadata": {},
   "source": [
    "## Defino Temperaturas"
   ]
  },
  {
   "cell_type": "code",
   "execution_count": 14,
   "metadata": {
    "collapsed": false
   },
   "outputs": [],
   "source": [
    "# Probabilidad prob de elejir soluciones peores con diferencia mayor a dif al inicio\n",
    "dif  = 0.5\n",
    "prob = 0.01\n",
    "T_max = -dif / np.log(prob)\n",
    "# Probabilidad prob de elejir soluciones peores con diferencia mayor a dif al final\n",
    "dif  = 0.01\n",
    "prob = 0.01\n",
    "T_min = -dif / np.log(prob)\n",
    "# Factor de reduccion de acuerdo a las iteraciones deseadas\n",
    "N = 30\n",
    "reduccion = np.exp(np.log(T_min / T_max) / N)"
   ]
  },
  {
   "cell_type": "markdown",
   "metadata": {},
   "source": [
    "## Busco"
   ]
  },
  {
   "cell_type": "code",
   "execution_count": 17,
   "metadata": {
    "collapsed": false
   },
   "outputs": [],
   "source": [
    "def buscar(i):\n",
    "    mejor = nuevos()\n",
    "    e=0\n",
    "    for j in range(i):\n",
    "        mejor, evaluaciones = simulated_annealing(mejor, evaluacion, vecinos,\n",
    "                                          T_max=T_max, \n",
    "                                          T_min=T_min, \n",
    "                                          reduccion=reduccion)\n",
    "        e+=evaluaciones\n",
    "    print(\"Cantidad de soluciones evaluadas:\", e)\n",
    "    print(\"Valor de func para esa solución:\", evaluacion(mejor))\n",
    "    return"
   ]
  },
  {
   "cell_type": "code",
   "execution_count": 18,
   "metadata": {
    "collapsed": false
   },
   "outputs": [
    {
     "name": "stdout",
     "output_type": "stream",
     "text": [
      "Cantidad de soluciones evaluadas: 625\n",
      "Valor de func para esa solución: 172.80991313320763\n"
     ]
    }
   ],
   "source": [
    "buscar(5)"
   ]
  },
  {
   "cell_type": "markdown",
   "metadata": {},
   "source": [
    "# Algoritmo Evolutivo"
   ]
  },
  {
   "cell_type": "markdown",
   "metadata": {},
   "source": [
    "## Defino Fitness Esperado"
   ]
  },
  {
   "cell_type": "code",
   "execution_count": 19,
   "metadata": {
    "collapsed": true
   },
   "outputs": [],
   "source": [
    "creator.create(\"FitnessMax\", base.Fitness, weights=(-9999,))\n",
    "creator.create(\"Individual\", list, fitness=creator.FitnessMax)"
   ]
  },
  {
   "cell_type": "markdown",
   "metadata": {},
   "source": [
    "## Defino ADN del Individuo"
   ]
  },
  {
   "cell_type": "code",
   "execution_count": 27,
   "metadata": {
    "collapsed": true
   },
   "outputs": [],
   "source": [
    "def gen():\n",
    "    return round(-5 + np.random.random() * (5 - -5), 2)"
   ]
  },
  {
   "cell_type": "code",
   "execution_count": 30,
   "metadata": {
    "collapsed": false
   },
   "outputs": [
    {
     "data": {
      "text/plain": [
       "-0.88"
      ]
     },
     "execution_count": 30,
     "metadata": {},
     "output_type": "execute_result"
    }
   ],
   "source": [
    "gen()"
   ]
  },
  {
   "cell_type": "code",
   "execution_count": 32,
   "metadata": {
    "collapsed": false
   },
   "outputs": [],
   "source": [
    "toolbox = base.Toolbox()\n",
    "toolbox.register(\"individual\", tools.initRepeat, creator.Individual, gen, n=10)\n",
    "toolbox.register(\"population\", tools.initRepeat, list, toolbox.individual)"
   ]
  },
  {
   "cell_type": "code",
   "execution_count": 33,
   "metadata": {
    "collapsed": false
   },
   "outputs": [
    {
     "data": {
      "text/plain": [
       "[4.81, -2.8, -2.96, 3.16, -4.48, -3.42, -0.43, 4.63, -0.88, -1.78]"
      ]
     },
     "execution_count": 33,
     "metadata": {},
     "output_type": "execute_result"
    }
   ],
   "source": [
    "ind = toolbox.individual()\n",
    "ind"
   ]
  },
  {
   "cell_type": "markdown",
   "metadata": {},
   "source": [
    "## Defino Evaluacion, Seleccion y Mutacion"
   ]
  },
  {
   "cell_type": "code",
   "execution_count": 34,
   "metadata": {
    "collapsed": true
   },
   "outputs": [],
   "source": [
    "def evaluarADN(x):\n",
    "        return [rastrigin(x)]"
   ]
  },
  {
   "cell_type": "code",
   "execution_count": 35,
   "metadata": {
    "collapsed": false
   },
   "outputs": [],
   "source": [
    "toolbox.register(\"evaluate\", evaluarADN)\n",
    "toolbox.register(\"mate\", tools.cxTwoPoint)\n",
    "toolbox.register(\"mutate\", tools.mutFlipBit, indpb=0.20)\n",
    "toolbox.register(\"select\", tools.selTournament, tournsize=3)"
   ]
  },
  {
   "cell_type": "code",
   "execution_count": 38,
   "metadata": {
    "collapsed": true
   },
   "outputs": [],
   "source": [
    "def main():    \n",
    "    pop = toolbox.population(n=50)\n",
    "    hof = tools.HallOfFame(1)\n",
    "    stats = tools.Statistics(lambda ind: ind.fitness.values)\n",
    "    stats.register(\"avg\", np.mean)\n",
    "    stats.register(\"min\", np.min)\n",
    "    stats.register(\"max\", np.max)\n",
    "    pop, logbook = algorithms.eaSimple(pop, toolbox, cxpb=0.5, mutpb=0.2, ngen=50, stats=stats, halloffame=hof, verbose=True)\n",
    "    return pop, logbook, hof"
   ]
  },
  {
   "cell_type": "code",
   "execution_count": 39,
   "metadata": {
    "collapsed": false
   },
   "outputs": [
    {
     "name": "stdout",
     "output_type": "stream",
     "text": [
      "gen\tnevals\tavg    \tmin    \tmax    \n",
      "0  \t50    \t192.637\t123.036\t268.771\n",
      "1  \t33    \t152.85 \t83.7074\t240.662\n",
      "2  \t28    \t120.209\t57.7354\t168.86 \n",
      "3  \t32    \t94.8442\t50.2961\t139.022\n",
      "4  \t34    \t76.086 \t24.8307\t124.632\n",
      "5  \t32    \t54.8815\t23.7115\t93.5301\n",
      "6  \t29    \t38.3624\t1.07925\t65.4817\n",
      "7  \t30    \t28.2505\t1.07925\t54.3489\n",
      "8  \t18    \t21.3152\t1      \t43.9615\n",
      "9  \t30    \t13.3758\t0      \t35.8685\n",
      "10 \t28    \t4.70306\t0      \t23.25  \n",
      "11 \t31    \t1.16539\t0      \t6.03983\n",
      "12 \t20    \t0.867743\t0      \t4      \n",
      "13 \t33    \t0.994871\t0      \t4.07925\n",
      "14 \t35    \t0.239021\t0      \t2      \n",
      "15 \t26    \t0.38317 \t0      \t4      \n",
      "16 \t38    \t0.36    \t0      \t3      \n",
      "17 \t31    \t0.3     \t0      \t3      \n",
      "18 \t28    \t0.26    \t0      \t4      \n",
      "19 \t30    \t0.36    \t0      \t3      \n",
      "20 \t38    \t0.36    \t0      \t3      \n",
      "21 \t26    \t0.58    \t0      \t5      \n",
      "22 \t30    \t0.32    \t0      \t5      \n",
      "23 \t34    \t0.38    \t0      \t4      \n",
      "24 \t28    \t0.42    \t0      \t4      \n",
      "25 \t30    \t0.58    \t0      \t4      \n",
      "26 \t33    \t0.34    \t0      \t4      \n",
      "27 \t36    \t0.38    \t0      \t4      \n",
      "28 \t26    \t0.5     \t0      \t3      \n",
      "29 \t38    \t0.7     \t0      \t5      \n",
      "30 \t37    \t0.3     \t0      \t3      \n",
      "31 \t28    \t0.26    \t0      \t5      \n",
      "32 \t32    \t0.26    \t0      \t3      \n",
      "33 \t30    \t0.14    \t0      \t2      \n",
      "34 \t24    \t0.26    \t0      \t4      \n",
      "35 \t35    \t0.3     \t0      \t4      \n",
      "36 \t34    \t0.36    \t0      \t4      \n",
      "37 \t34    \t0.64    \t0      \t4      \n",
      "38 \t23    \t0.36    \t0      \t4      \n",
      "39 \t31    \t0.38    \t0      \t4      \n",
      "40 \t27    \t0.3     \t0      \t3      \n",
      "41 \t32    \t0.24    \t0      \t3      \n",
      "42 \t27    \t0.38    \t0      \t4      \n",
      "43 \t27    \t0.46    \t0      \t4      \n",
      "44 \t32    \t0.32    \t0      \t3      \n",
      "45 \t33    \t0.5     \t0      \t6      \n",
      "46 \t31    \t0.38    \t0      \t6      \n",
      "47 \t23    \t0.46    \t0      \t4      \n",
      "48 \t28    \t0.58    \t0      \t4      \n",
      "49 \t27    \t0.3     \t0      \t5      \n",
      "50 \t32    \t0.7     \t0      \t5      \n",
      "Best individual is: [0.0, 0.0, 0.0, 0.0, 0.0, 0.0, 0.0, 0.0, 0.0, 0.0]\n",
      "with fitness: (0.0,)\n"
     ]
    },
    {
     "data": {
      "image/png": "[encoded data removed]",
      "text/html": [
       "\n",
       "\n",
       "<style>\n",
       "\n",
       "</style>\n",
       "\n",
       "<div id=\"fig_el2432043916956407238234121\"></div>\n",
       "<script>\n",
       "function mpld3_load_lib(url, callback){\n",
       "  var s = document.createElement('script');\n",
       "  s.src = url;\n",
       "  s.async = true;\n",
       "  s.onreadystatechange = s.onload = callback;\n",
       "  s.onerror = function(){console.warn(\"failed to load library \" + url);};\n",
       "  document.getElementsByTagName(\"head\")[0].appendChild(s);\n",
       "}\n",
       "\n",
       "if(typeof(mpld3) !== \"undefined\" && mpld3._mpld3IsLoaded){\n",
       "   // already loaded: just create the figure\n",
       "   !function(mpld3){\n",
       "       \n",
       "       mpld3.draw_figure(\"fig_el2432043916956407238234121\", {\"id\": \"el243204391695640\", \"axes\": [{\"images\": [], \"xlim\": [0.0, 50.0], \"lines\": [{\"id\": \"el243204393126880\", \"data\": \"data01\", \"color\": \"#0000FF\", \"coordinates\": \"data\", \"alpha\": 1, \"xindex\": 0, \"dasharray\": \"10,0\", \"zorder\": 2, \"yindex\": 1, \"linewidth\": 1.0}, {\"id\": \"el243204393127552\", \"data\": \"data01\", \"color\": \"#007F00\", \"coordinates\": \"data\", \"alpha\": 1, \"xindex\": 0, \"dasharray\": \"10,0\", \"zorder\": 2, \"yindex\": 2, \"linewidth\": 1.0}, {\"id\": \"el243204393165880\", \"data\": \"data01\", \"color\": \"#FF0000\", \"coordinates\": \"data\", \"alpha\": 1, \"xindex\": 0, \"dasharray\": \"10,0\", \"zorder\": 2, \"yindex\": 3, \"linewidth\": 1.0}, {\"id\": \"el243204393190232\", \"data\": \"data02\", \"color\": \"#0000FF\", \"coordinates\": \"axes\", \"alpha\": 1, \"xindex\": 0, \"dasharray\": \"10,0\", \"zorder\": 1000002.0, \"yindex\": 1, \"linewidth\": 1.0}, {\"id\": \"el243204393192080\", \"data\": \"data02\", \"color\": \"#007F00\", \"coordinates\": \"axes\", \"alpha\": 1, \"xindex\": 0, \"dasharray\": \"10,0\", \"zorder\": 1000002.0, \"yindex\": 2, \"linewidth\": 1.0}, {\"id\": \"el243204393210600\", \"data\": \"data02\", \"color\": \"#FF0000\", \"coordinates\": \"axes\", \"alpha\": 1, \"xindex\": 0, \"dasharray\": \"10,0\", \"zorder\": 1000002.0, \"yindex\": 3, \"linewidth\": 1.0}], \"sharex\": [], \"zoomable\": true, \"markers\": [], \"id\": \"el243204391730872\", \"axesbgalpha\": null, \"bbox\": [0.125, 0.125, 0.775, 0.775], \"collections\": [], \"paths\": [{\"alpha\": 1, \"edgecolor\": \"#000000\", \"coordinates\": \"axes\", \"edgewidth\": 1.0, \"dasharray\": \"10,0\", \"id\": \"el243204393168344\", \"data\": \"data03\", \"pathcodes\": [\"M\", \"L\", \"L\", \"L\", \"Z\"], \"xindex\": 0, \"zorder\": 1000001.0, \"yindex\": 1, \"facecolor\": \"#FFFFFF\"}], \"axesbg\": \"#FFFFFF\", \"axes\": [{\"tickvalues\": null, \"tickformat\": null, \"fontsize\": 10.0, \"position\": \"bottom\", \"nticks\": 6, \"grid\": {\"gridOn\": false}, \"scale\": \"linear\"}, {\"tickvalues\": null, \"tickformat\": null, \"fontsize\": 10.0, \"position\": \"left\", \"nticks\": 7, \"grid\": {\"gridOn\": false}, \"scale\": \"linear\"}], \"ylim\": [0.0, 300.0], \"yscale\": \"linear\", \"sharey\": [], \"texts\": [{\"text\": \"Generation\", \"alpha\": 1, \"coordinates\": \"axes\", \"h_anchor\": \"middle\", \"v_baseline\": \"hanging\", \"rotation\": -0.0, \"id\": \"el243204391732616\", \"fontsize\": 10.0, \"color\": \"#000000\", \"position\": [0.5, -0.08064516129032258], \"zorder\": 3}, {\"text\": \"Fitness\", \"alpha\": 1, \"coordinates\": \"axes\", \"h_anchor\": \"middle\", \"v_baseline\": \"auto\", \"rotation\": -90.0, \"id\": \"el243204392748592\", \"fontsize\": 10.0, \"color\": \"#000000\", \"position\": [-0.0799731182795699, 0.5], \"zorder\": 3}, {\"text\": \"None\", \"alpha\": 1, \"coordinates\": \"axes\", \"h_anchor\": \"start\", \"v_baseline\": \"auto\", \"rotation\": -0.0, \"id\": \"el243204393212000\", \"fontsize\": 10.0, \"color\": \"#000000\", \"position\": [-0.16129032258064518, -0.16129032258064516], \"zorder\": 1000003.0}, {\"text\": \"average\", \"alpha\": 1, \"coordinates\": \"axes\", \"h_anchor\": \"start\", \"v_baseline\": \"auto\", \"rotation\": -0.0, \"id\": \"el243204393168848\", \"fontsize\": 12.0, \"color\": \"#000000\", \"position\": [0.792044690860215, 0.2190860215053764], \"zorder\": 1000003.0}, {\"text\": \"minimum\", \"alpha\": 1, \"coordinates\": \"axes\", \"h_anchor\": \"start\", \"v_baseline\": \"auto\", \"rotation\": -0.0, \"id\": \"el243204393191296\", \"fontsize\": 12.0, \"color\": \"#000000\", \"position\": [0.792044690860215, 0.13978494623655915], \"zorder\": 1000003.0}, {\"text\": \"maximum\", \"alpha\": 1, \"coordinates\": \"axes\", \"h_anchor\": \"start\", \"v_baseline\": \"auto\", \"rotation\": -0.0, \"id\": \"el243204393193368\", \"fontsize\": 12.0, \"color\": \"#000000\", \"position\": [0.792044690860215, 0.060483870967741965], \"zorder\": 1000003.0}], \"xdomain\": [0.0, 50.0], \"xscale\": \"linear\", \"ydomain\": [0.0, 300.0]}], \"height\": 320.0, \"plugins\": [{\"type\": \"reset\"}, {\"button\": true, \"enabled\": false, \"type\": \"zoom\"}, {\"button\": true, \"enabled\": false, \"type\": \"boxzoom\"}], \"width\": 480.0, \"data\": {\"data03\": [[0.6773493503584229, 0.02688172043010756], [0.9820788530465949, 0.02688172043010756], [0.9820788530465949, 0.28091397849462363], [0.6773493503584229, 0.28091397849462363]], \"data01\": [[0.0, 192.63675184672465, 123.03599638382542, 268.7707785077713], [1.0, 152.84961184910776, 83.70735632563488, 240.66195537138987], [2.0, 120.20928177342033, 57.73542765826226, 168.85989787937524], [3.0, 94.84421592732646, 50.29607985793054, 139.02213320273236], [4.0, 76.0859924063795, 24.830719119567647, 124.6324197429957], [5.0, 54.881497931678375, 23.71146613271243, 93.53009011459136], [6.0, 38.36244907256388, 1.0792529868552236, 65.48166403809176], [7.0, 28.250454546106518, 1.0792529868552236, 54.348879063354815], [8.0, 21.315209951852793, 1.0, 43.96146613271243], [9.0, 13.375833113625522, 0.0, 35.86852802491015], [10.0, 4.703063888600242, 0.0, 23.25], [11.0, 1.165385702468432, 0.0, 6.0398327157172815], [12.0, 0.8677426698451217, 0.0, 4.0], [13.0, 0.9948713142162984, 0.0, 4.079252986855224], [14.0, 0.23902071684525367, 0.0, 2.0], [15.0, 0.3831701194742089, 0.0, 4.0], [16.0, 0.36, 0.0, 3.0], [17.0, 0.3, 0.0, 3.0], [18.0, 0.26, 0.0, 4.0], [19.0, 0.36, 0.0, 3.0], [20.0, 0.36, 0.0, 3.0], [21.0, 0.58, 0.0, 5.0], [22.0, 0.32, 0.0, 5.0], [23.0, 0.38, 0.0, 4.0], [24.0, 0.42, 0.0, 4.0], [25.0, 0.58, 0.0, 4.0], [26.0, 0.34, 0.0, 4.0], [27.0, 0.38, 0.0, 4.0], [28.0, 0.5, 0.0, 3.0], [29.0, 0.7, 0.0, 5.0], [30.0, 0.3, 0.0, 3.0], [31.0, 0.26, 0.0, 5.0], [32.0, 0.26, 0.0, 3.0], [33.0, 0.14, 0.0, 2.0], [34.0, 0.26, 0.0, 4.0], [35.0, 0.3, 0.0, 4.0], [36.0, 0.36, 0.0, 4.0], [37.0, 0.64, 0.0, 4.0], [38.0, 0.36, 0.0, 4.0], [39.0, 0.38, 0.0, 4.0], [40.0, 0.3, 0.0, 3.0], [41.0, 0.24, 0.0, 3.0], [42.0, 0.38, 0.0, 4.0], [43.0, 0.46, 0.0, 4.0], [44.0, 0.32, 0.0, 3.0], [45.0, 0.5, 0.0, 6.0], [46.0, 0.38, 0.0, 6.0], [47.0, 0.46, 0.0, 4.0], [48.0, 0.58, 0.0, 4.0], [49.0, 0.3, 0.0, 5.0], [50.0, 0.7, 0.0, 5.0]], \"data02\": [[0.7024389560931898, 0.23790322580645168, 0.15860215053763443, 0.07930107526881723], [0.7526181675627239, 0.23790322580645168, 0.15860215053763443, 0.07930107526881723]]}});\n",
       "   }(mpld3);\n",
       "}else if(typeof define === \"function\" && define.amd){\n",
       "   // require.js is available: use it to load d3/mpld3\n",
       "   require.config({paths: {d3: \"https://mpld3.github.io/js/d3.v3.min\"}});\n",
       "   require([\"d3\"], function(d3){\n",
       "      window.d3 = d3;\n",
       "      mpld3_load_lib(\"https://mpld3.github.io/js/mpld3.v0.2.js\", function(){\n",
       "         \n",
       "         mpld3.draw_figure(\"fig_el2432043916956407238234121\", {\"id\": \"el243204391695640\", \"axes\": [{\"images\": [], \"xlim\": [0.0, 50.0], \"lines\": [{\"id\": \"el243204393126880\", \"data\": \"data01\", \"color\": \"#0000FF\", \"coordinates\": \"data\", \"alpha\": 1, \"xindex\": 0, \"dasharray\": \"10,0\", \"zorder\": 2, \"yindex\": 1, \"linewidth\": 1.0}, {\"id\": \"el243204393127552\", \"data\": \"data01\", \"color\": \"#007F00\", \"coordinates\": \"data\", \"alpha\": 1, \"xindex\": 0, \"dasharray\": \"10,0\", \"zorder\": 2, \"yindex\": 2, \"linewidth\": 1.0}, {\"id\": \"el243204393165880\", \"data\": \"data01\", \"color\": \"#FF0000\", \"coordinates\": \"data\", \"alpha\": 1, \"xindex\": 0, \"dasharray\": \"10,0\", \"zorder\": 2, \"yindex\": 3, \"linewidth\": 1.0}, {\"id\": \"el243204393190232\", \"data\": \"data02\", \"color\": \"#0000FF\", \"coordinates\": \"axes\", \"alpha\": 1, \"xindex\": 0, \"dasharray\": \"10,0\", \"zorder\": 1000002.0, \"yindex\": 1, \"linewidth\": 1.0}, {\"id\": \"el243204393192080\", \"data\": \"data02\", \"color\": \"#007F00\", \"coordinates\": \"axes\", \"alpha\": 1, \"xindex\": 0, \"dasharray\": \"10,0\", \"zorder\": 1000002.0, \"yindex\": 2, \"linewidth\": 1.0}, {\"id\": \"el243204393210600\", \"data\": \"data02\", \"color\": \"#FF0000\", \"coordinates\": \"axes\", \"alpha\": 1, \"xindex\": 0, \"dasharray\": \"10,0\", \"zorder\": 1000002.0, \"yindex\": 3, \"linewidth\": 1.0}], \"sharex\": [], \"zoomable\": true, \"markers\": [], \"id\": \"el243204391730872\", \"axesbgalpha\": null, \"bbox\": [0.125, 0.125, 0.775, 0.775], \"collections\": [], \"paths\": [{\"alpha\": 1, \"edgecolor\": \"#000000\", \"coordinates\": \"axes\", \"edgewidth\": 1.0, \"dasharray\": \"10,0\", \"id\": \"el243204393168344\", \"data\": \"data03\", \"pathcodes\": [\"M\", \"L\", \"L\", \"L\", \"Z\"], \"xindex\": 0, \"zorder\": 1000001.0, \"yindex\": 1, \"facecolor\": \"#FFFFFF\"}], \"axesbg\": \"#FFFFFF\", \"axes\": [{\"tickvalues\": null, \"tickformat\": null, \"fontsize\": 10.0, \"position\": \"bottom\", \"nticks\": 6, \"grid\": {\"gridOn\": false}, \"scale\": \"linear\"}, {\"tickvalues\": null, \"tickformat\": null, \"fontsize\": 10.0, \"position\": \"left\", \"nticks\": 7, \"grid\": {\"gridOn\": false}, \"scale\": \"linear\"}], \"ylim\": [0.0, 300.0], \"yscale\": \"linear\", \"sharey\": [], \"texts\": [{\"text\": \"Generation\", \"alpha\": 1, \"coordinates\": \"axes\", \"h_anchor\": \"middle\", \"v_baseline\": \"hanging\", \"rotation\": -0.0, \"id\": \"el243204391732616\", \"fontsize\": 10.0, \"color\": \"#000000\", \"position\": [0.5, -0.08064516129032258], \"zorder\": 3}, {\"text\": \"Fitness\", \"alpha\": 1, \"coordinates\": \"axes\", \"h_anchor\": \"middle\", \"v_baseline\": \"auto\", \"rotation\": -90.0, \"id\": \"el243204392748592\", \"fontsize\": 10.0, \"color\": \"#000000\", \"position\": [-0.0799731182795699, 0.5], \"zorder\": 3}, {\"text\": \"None\", \"alpha\": 1, \"coordinates\": \"axes\", \"h_anchor\": \"start\", \"v_baseline\": \"auto\", \"rotation\": -0.0, \"id\": \"el243204393212000\", \"fontsize\": 10.0, \"color\": \"#000000\", \"position\": [-0.16129032258064518, -0.16129032258064516], \"zorder\": 1000003.0}, {\"text\": \"average\", \"alpha\": 1, \"coordinates\": \"axes\", \"h_anchor\": \"start\", \"v_baseline\": \"auto\", \"rotation\": -0.0, \"id\": \"el243204393168848\", \"fontsize\": 12.0, \"color\": \"#000000\", \"position\": [0.792044690860215, 0.2190860215053764], \"zorder\": 1000003.0}, {\"text\": \"minimum\", \"alpha\": 1, \"coordinates\": \"axes\", \"h_anchor\": \"start\", \"v_baseline\": \"auto\", \"rotation\": -0.0, \"id\": \"el243204393191296\", \"fontsize\": 12.0, \"color\": \"#000000\", \"position\": [0.792044690860215, 0.13978494623655915], \"zorder\": 1000003.0}, {\"text\": \"maximum\", \"alpha\": 1, \"coordinates\": \"axes\", \"h_anchor\": \"start\", \"v_baseline\": \"auto\", \"rotation\": -0.0, \"id\": \"el243204393193368\", \"fontsize\": 12.0, \"color\": \"#000000\", \"position\": [0.792044690860215, 0.060483870967741965], \"zorder\": 1000003.0}], \"xdomain\": [0.0, 50.0], \"xscale\": \"linear\", \"ydomain\": [0.0, 300.0]}], \"height\": 320.0, \"plugins\": [{\"type\": \"reset\"}, {\"button\": true, \"enabled\": false, \"type\": \"zoom\"}, {\"button\": true, \"enabled\": false, \"type\": \"boxzoom\"}], \"width\": 480.0, \"data\": {\"data03\": [[0.6773493503584229, 0.02688172043010756], [0.9820788530465949, 0.02688172043010756], [0.9820788530465949, 0.28091397849462363], [0.6773493503584229, 0.28091397849462363]], \"data01\": [[0.0, 192.63675184672465, 123.03599638382542, 268.7707785077713], [1.0, 152.84961184910776, 83.70735632563488, 240.66195537138987], [2.0, 120.20928177342033, 57.73542765826226, 168.85989787937524], [3.0, 94.84421592732646, 50.29607985793054, 139.02213320273236], [4.0, 76.0859924063795, 24.830719119567647, 124.6324197429957], [5.0, 54.881497931678375, 23.71146613271243, 93.53009011459136], [6.0, 38.36244907256388, 1.0792529868552236, 65.48166403809176], [7.0, 28.250454546106518, 1.0792529868552236, 54.348879063354815], [8.0, 21.315209951852793, 1.0, 43.96146613271243], [9.0, 13.375833113625522, 0.0, 35.86852802491015], [10.0, 4.703063888600242, 0.0, 23.25], [11.0, 1.165385702468432, 0.0, 6.0398327157172815], [12.0, 0.8677426698451217, 0.0, 4.0], [13.0, 0.9948713142162984, 0.0, 4.079252986855224], [14.0, 0.23902071684525367, 0.0, 2.0], [15.0, 0.3831701194742089, 0.0, 4.0], [16.0, 0.36, 0.0, 3.0], [17.0, 0.3, 0.0, 3.0], [18.0, 0.26, 0.0, 4.0], [19.0, 0.36, 0.0, 3.0], [20.0, 0.36, 0.0, 3.0], [21.0, 0.58, 0.0, 5.0], [22.0, 0.32, 0.0, 5.0], [23.0, 0.38, 0.0, 4.0], [24.0, 0.42, 0.0, 4.0], [25.0, 0.58, 0.0, 4.0], [26.0, 0.34, 0.0, 4.0], [27.0, 0.38, 0.0, 4.0], [28.0, 0.5, 0.0, 3.0], [29.0, 0.7, 0.0, 5.0], [30.0, 0.3, 0.0, 3.0], [31.0, 0.26, 0.0, 5.0], [32.0, 0.26, 0.0, 3.0], [33.0, 0.14, 0.0, 2.0], [34.0, 0.26, 0.0, 4.0], [35.0, 0.3, 0.0, 4.0], [36.0, 0.36, 0.0, 4.0], [37.0, 0.64, 0.0, 4.0], [38.0, 0.36, 0.0, 4.0], [39.0, 0.38, 0.0, 4.0], [40.0, 0.3, 0.0, 3.0], [41.0, 0.24, 0.0, 3.0], [42.0, 0.38, 0.0, 4.0], [43.0, 0.46, 0.0, 4.0], [44.0, 0.32, 0.0, 3.0], [45.0, 0.5, 0.0, 6.0], [46.0, 0.38, 0.0, 6.0], [47.0, 0.46, 0.0, 4.0], [48.0, 0.58, 0.0, 4.0], [49.0, 0.3, 0.0, 5.0], [50.0, 0.7, 0.0, 5.0]], \"data02\": [[0.7024389560931898, 0.23790322580645168, 0.15860215053763443, 0.07930107526881723], [0.7526181675627239, 0.23790322580645168, 0.15860215053763443, 0.07930107526881723]]}});\n",
       "      });\n",
       "    });\n",
       "}else{\n",
       "    // require.js not available: dynamically load d3 & mpld3\n",
       "    mpld3_load_lib(\"https://mpld3.github.io/js/d3.v3.min.js\", function(){\n",
       "         mpld3_load_lib(\"https://mpld3.github.io/js/mpld3.v0.2.js\", function(){\n",
       "                 \n",
       "                 mpld3.draw_figure(\"fig_el2432043916956407238234121\", {\"id\": \"el243204391695640\", \"axes\": [{\"images\": [], \"xlim\": [0.0, 50.0], \"lines\": [{\"id\": \"el243204393126880\", \"data\": \"data01\", \"color\": \"#0000FF\", \"coordinates\": \"data\", \"alpha\": 1, \"xindex\": 0, \"dasharray\": \"10,0\", \"zorder\": 2, \"yindex\": 1, \"linewidth\": 1.0}, {\"id\": \"el243204393127552\", \"data\": \"data01\", \"color\": \"#007F00\", \"coordinates\": \"data\", \"alpha\": 1, \"xindex\": 0, \"dasharray\": \"10,0\", \"zorder\": 2, \"yindex\": 2, \"linewidth\": 1.0}, {\"id\": \"el243204393165880\", \"data\": \"data01\", \"color\": \"#FF0000\", \"coordinates\": \"data\", \"alpha\": 1, \"xindex\": 0, \"dasharray\": \"10,0\", \"zorder\": 2, \"yindex\": 3, \"linewidth\": 1.0}, {\"id\": \"el243204393190232\", \"data\": \"data02\", \"color\": \"#0000FF\", \"coordinates\": \"axes\", \"alpha\": 1, \"xindex\": 0, \"dasharray\": \"10,0\", \"zorder\": 1000002.0, \"yindex\": 1, \"linewidth\": 1.0}, {\"id\": \"el243204393192080\", \"data\": \"data02\", \"color\": \"#007F00\", \"coordinates\": \"axes\", \"alpha\": 1, \"xindex\": 0, \"dasharray\": \"10,0\", \"zorder\": 1000002.0, \"yindex\": 2, \"linewidth\": 1.0}, {\"id\": \"el243204393210600\", \"data\": \"data02\", \"color\": \"#FF0000\", \"coordinates\": \"axes\", \"alpha\": 1, \"xindex\": 0, \"dasharray\": \"10,0\", \"zorder\": 1000002.0, \"yindex\": 3, \"linewidth\": 1.0}], \"sharex\": [], \"zoomable\": true, \"markers\": [], \"id\": \"el243204391730872\", \"axesbgalpha\": null, \"bbox\": [0.125, 0.125, 0.775, 0.775], \"collections\": [], \"paths\": [{\"alpha\": 1, \"edgecolor\": \"#000000\", \"coordinates\": \"axes\", \"edgewidth\": 1.0, \"dasharray\": \"10,0\", \"id\": \"el243204393168344\", \"data\": \"data03\", \"pathcodes\": [\"M\", \"L\", \"L\", \"L\", \"Z\"], \"xindex\": 0, \"zorder\": 1000001.0, \"yindex\": 1, \"facecolor\": \"#FFFFFF\"}], \"axesbg\": \"#FFFFFF\", \"axes\": [{\"tickvalues\": null, \"tickformat\": null, \"fontsize\": 10.0, \"position\": \"bottom\", \"nticks\": 6, \"grid\": {\"gridOn\": false}, \"scale\": \"linear\"}, {\"tickvalues\": null, \"tickformat\": null, \"fontsize\": 10.0, \"position\": \"left\", \"nticks\": 7, \"grid\": {\"gridOn\": false}, \"scale\": \"linear\"}], \"ylim\": [0.0, 300.0], \"yscale\": \"linear\", \"sharey\": [], \"texts\": [{\"text\": \"Generation\", \"alpha\": 1, \"coordinates\": \"axes\", \"h_anchor\": \"middle\", \"v_baseline\": \"hanging\", \"rotation\": -0.0, \"id\": \"el243204391732616\", \"fontsize\": 10.0, \"color\": \"#000000\", \"position\": [0.5, -0.08064516129032258], \"zorder\": 3}, {\"text\": \"Fitness\", \"alpha\": 1, \"coordinates\": \"axes\", \"h_anchor\": \"middle\", \"v_baseline\": \"auto\", \"rotation\": -90.0, \"id\": \"el243204392748592\", \"fontsize\": 10.0, \"color\": \"#000000\", \"position\": [-0.0799731182795699, 0.5], \"zorder\": 3}, {\"text\": \"None\", \"alpha\": 1, \"coordinates\": \"axes\", \"h_anchor\": \"start\", \"v_baseline\": \"auto\", \"rotation\": -0.0, \"id\": \"el243204393212000\", \"fontsize\": 10.0, \"color\": \"#000000\", \"position\": [-0.16129032258064518, -0.16129032258064516], \"zorder\": 1000003.0}, {\"text\": \"average\", \"alpha\": 1, \"coordinates\": \"axes\", \"h_anchor\": \"start\", \"v_baseline\": \"auto\", \"rotation\": -0.0, \"id\": \"el243204393168848\", \"fontsize\": 12.0, \"color\": \"#000000\", \"position\": [0.792044690860215, 0.2190860215053764], \"zorder\": 1000003.0}, {\"text\": \"minimum\", \"alpha\": 1, \"coordinates\": \"axes\", \"h_anchor\": \"start\", \"v_baseline\": \"auto\", \"rotation\": -0.0, \"id\": \"el243204393191296\", \"fontsize\": 12.0, \"color\": \"#000000\", \"position\": [0.792044690860215, 0.13978494623655915], \"zorder\": 1000003.0}, {\"text\": \"maximum\", \"alpha\": 1, \"coordinates\": \"axes\", \"h_anchor\": \"start\", \"v_baseline\": \"auto\", \"rotation\": -0.0, \"id\": \"el243204393193368\", \"fontsize\": 12.0, \"color\": \"#000000\", \"position\": [0.792044690860215, 0.060483870967741965], \"zorder\": 1000003.0}], \"xdomain\": [0.0, 50.0], \"xscale\": \"linear\", \"ydomain\": [0.0, 300.0]}], \"height\": 320.0, \"plugins\": [{\"type\": \"reset\"}, {\"button\": true, \"enabled\": false, \"type\": \"zoom\"}, {\"button\": true, \"enabled\": false, \"type\": \"boxzoom\"}], \"width\": 480.0, \"data\": {\"data03\": [[0.6773493503584229, 0.02688172043010756], [0.9820788530465949, 0.02688172043010756], [0.9820788530465949, 0.28091397849462363], [0.6773493503584229, 0.28091397849462363]], \"data01\": [[0.0, 192.63675184672465, 123.03599638382542, 268.7707785077713], [1.0, 152.84961184910776, 83.70735632563488, 240.66195537138987], [2.0, 120.20928177342033, 57.73542765826226, 168.85989787937524], [3.0, 94.84421592732646, 50.29607985793054, 139.02213320273236], [4.0, 76.0859924063795, 24.830719119567647, 124.6324197429957], [5.0, 54.881497931678375, 23.71146613271243, 93.53009011459136], [6.0, 38.36244907256388, 1.0792529868552236, 65.48166403809176], [7.0, 28.250454546106518, 1.0792529868552236, 54.348879063354815], [8.0, 21.315209951852793, 1.0, 43.96146613271243], [9.0, 13.375833113625522, 0.0, 35.86852802491015], [10.0, 4.703063888600242, 0.0, 23.25], [11.0, 1.165385702468432, 0.0, 6.0398327157172815], [12.0, 0.8677426698451217, 0.0, 4.0], [13.0, 0.9948713142162984, 0.0, 4.079252986855224], [14.0, 0.23902071684525367, 0.0, 2.0], [15.0, 0.3831701194742089, 0.0, 4.0], [16.0, 0.36, 0.0, 3.0], [17.0, 0.3, 0.0, 3.0], [18.0, 0.26, 0.0, 4.0], [19.0, 0.36, 0.0, 3.0], [20.0, 0.36, 0.0, 3.0], [21.0, 0.58, 0.0, 5.0], [22.0, 0.32, 0.0, 5.0], [23.0, 0.38, 0.0, 4.0], [24.0, 0.42, 0.0, 4.0], [25.0, 0.58, 0.0, 4.0], [26.0, 0.34, 0.0, 4.0], [27.0, 0.38, 0.0, 4.0], [28.0, 0.5, 0.0, 3.0], [29.0, 0.7, 0.0, 5.0], [30.0, 0.3, 0.0, 3.0], [31.0, 0.26, 0.0, 5.0], [32.0, 0.26, 0.0, 3.0], [33.0, 0.14, 0.0, 2.0], [34.0, 0.26, 0.0, 4.0], [35.0, 0.3, 0.0, 4.0], [36.0, 0.36, 0.0, 4.0], [37.0, 0.64, 0.0, 4.0], [38.0, 0.36, 0.0, 4.0], [39.0, 0.38, 0.0, 4.0], [40.0, 0.3, 0.0, 3.0], [41.0, 0.24, 0.0, 3.0], [42.0, 0.38, 0.0, 4.0], [43.0, 0.46, 0.0, 4.0], [44.0, 0.32, 0.0, 3.0], [45.0, 0.5, 0.0, 6.0], [46.0, 0.38, 0.0, 6.0], [47.0, 0.46, 0.0, 4.0], [48.0, 0.58, 0.0, 4.0], [49.0, 0.3, 0.0, 5.0], [50.0, 0.7, 0.0, 5.0]], \"data02\": [[0.7024389560931898, 0.23790322580645168, 0.15860215053763443, 0.07930107526881723], [0.7526181675627239, 0.23790322580645168, 0.15860215053763443, 0.07930107526881723]]}});\n",
       "            })\n",
       "         });\n",
       "}\n",
       "</script>"
      ],
      "text/plain": [
       "<matplotlib.figure.Figure at 0x105c3f518>"
      ]
     },
     "metadata": {},
     "output_type": "display_data"
    }
   ],
   "source": [
    "if __name__ == \"__main__\":\n",
    "    pop, log, hof = main()\n",
    "    print(\"Best individual is: %s\\nwith fitness: %s\" % (hof[0], hof[0].fitness))\n",
    "    gen, avg, min_, max_ = log.select(\"gen\", \"avg\", \"min\", \"max\")\n",
    "    plt.plot(gen, avg, label=\"average\")\n",
    "    plt.plot(gen, min_, label=\"minimum\")\n",
    "    plt.plot(gen, max_, label=\"maximum\")\n",
    "    plt.xlabel(\"Generation\")\n",
    "    plt.ylabel(\"Fitness\")\n",
    "    plt.legend(loc=\"lower right\")"
   ]
  },
  {
   "cell_type": "code",
   "execution_count": null,
   "metadata": {
    "collapsed": true
   },
   "outputs": [],
   "source": []
  }
 ],
 "metadata": {
  "kernelspec": {
   "display_name": "Python 3",
   "language": "python",
   "name": "python3"
  },
  "language_info": {
   "codemirror_mode": {
    "name": "ipython",
    "version": 3
   },
   "file_extension": ".py",
   "mimetype": "text/x-python",
   "name": "python",
   "nbconvert_exporter": "python",
   "pygments_lexer": "ipython3",
   "version": "3.4.3"
  }
 },
 "nbformat": 4,
 "nbformat_minor": 0
}
