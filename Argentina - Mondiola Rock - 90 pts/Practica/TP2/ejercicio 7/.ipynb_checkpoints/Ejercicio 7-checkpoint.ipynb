{
 "cells": [
  {
   "cell_type": "markdown",
   "metadata": {},
   "source": [
    "# Ejercicio 7\n",
    "Un ladrón intenta decidir que cosas llevarse tras haber conseguido entrar a una tienda de electrodomésticos. El problema es que debe elegir entre 10 electrodomésticos, todos de distinto precio y peso, pero solo trajo 2 bolsas para llevarlos, con 51 y 78 kilogramos de capacidad. Como son productos que están en exposición, solo hay uno de cada tipo y, por lo tanto, no podría llevarse dos o más productos iguales.\n",
    "Describa un método que le ayude a este malhechor a elegir la combinación óptima de productos (o una que esté lo más cercano posible a la óptima), de forma de obtener la mayor ganancia y no excederse de la capacidad de sus bolsas.\n",
    "Detalle y justi que todas las decisiones tomadas con respecto al método, parámetros empleados, representación, etc. Implemente el método propuesto y úselo para encontrar e informar la mejor solución que pueda obtener.\n",
    "El precio (en pesos) y el peso (en kilogramos) de cada producto se encuentra disponible en el archivo 'ladron.py'.\n",
    "Para asegurarse de haber obtenido resultados consistentes, realice 10 ejecuciones independientes e informe el mejor resultado encontrado en cada ejecución junto con su evaluación y la cantidad de generaciones que se necesitaron para obtenerlo."
   ]
  },
  {
   "cell_type": "code",
   "execution_count": 1,
   "metadata": {
    "collapsed": true
   },
   "outputs": [],
   "source": [
    "import numpy as np\n",
    "import matplotlib.pyplot as plt\n",
    "from matplotlib import pylab\n",
    "import mpld3\n",
    "\n",
    "%matplotlib inline\n",
    "mpld3.enable_notebook()\n",
    "\n",
    "from busqueda_local import hill_climb\n",
    "from deap import base, creator, tools, algorithms"
   ]
  },
  {
   "cell_type": "code",
   "execution_count": 3,
   "metadata": {
    "collapsed": true
   },
   "outputs": [],
   "source": [
    "# -*- coding: utf-8 -*-\n",
    "\"\"\"\n",
    "Ejercicio 7: Ayudando al ladrón\n",
    "\"\"\"\n",
    "from numpy import array\n",
    "import random\n",
    "# El peso en kilogramos de cada uno de los productos\n",
    "pesos   = array([ 9.0, 4.5, 11.5, 10.0, 29.5, 30.5, 35.0, 37.5, 38.0, 15.0 ])\n",
    "\n",
    "# El precio en pesos de cada uno de los productos\n",
    "precios = array([ 780, 350,  890,  360,  940,  750,  740,  790,  800,  160 ])\n",
    "\n",
    "# Las capacidades en kilogramos de cada una de las bolsas\n",
    "bolsas  = array([ 51, 78 ])"
   ]
  },
  {
   "cell_type": "code",
   "execution_count": 4,
   "metadata": {
    "collapsed": false
   },
   "outputs": [],
   "source": [
    "items = {}\n",
    "for i in range(pesos.shape[0]):\n",
    "    items[i] = (pesos[i],precios[i])\n",
    "MAX_ITEM=10\n",
    "MAX_WEIGHT=[bolsas[0],bolsas[1]]"
   ]
  },
  {
   "cell_type": "code",
   "execution_count": 66,
   "metadata": {
    "collapsed": false
   },
   "outputs": [
    {
     "data": {
      "text/plain": [
       "220.5"
      ]
     },
     "execution_count": 66,
     "metadata": {},
     "output_type": "execute_result"
    }
   ],
   "source": [
    "sum(pesos)"
   ]
  },
  {
   "cell_type": "code",
   "execution_count": 5,
   "metadata": {
    "collapsed": false,
    "scrolled": true
   },
   "outputs": [
    {
     "data": {
      "text/plain": [
       "{0: (9.0, 780),\n",
       " 1: (4.5, 350),\n",
       " 2: (11.5, 890),\n",
       " 3: (10.0, 360),\n",
       " 4: (29.5, 940),\n",
       " 5: (30.5, 750),\n",
       " 6: (35.0, 740),\n",
       " 7: (37.5, 790),\n",
       " 8: (38.0, 800),\n",
       " 9: (15.0, 160)}"
      ]
     },
     "execution_count": 5,
     "metadata": {},
     "output_type": "execute_result"
    }
   ],
   "source": [
    "items"
   ]
  },
  {
   "cell_type": "markdown",
   "metadata": {},
   "source": [
    "# Para 1 Mochila"
   ]
  },
  {
   "cell_type": "code",
   "execution_count": 67,
   "metadata": {
    "collapsed": true
   },
   "outputs": [],
   "source": [
    "creator.create(\"Fitness1\", base.Fitness, weights=(-sum(pesos), sum(precios)))\n",
    "creator.create(\"Individual1\", set, fitness=creator.Fitness1)"
   ]
  },
  {
   "cell_type": "code",
   "execution_count": 68,
   "metadata": {
    "collapsed": false
   },
   "outputs": [],
   "source": [
    "toolbox = base.Toolbox()\n",
    "toolbox.register(\"attr_item\", random.randrange, 10)\n",
    "toolbox.register(\"individual1Bag\", tools.initRepeat, creator.Individual1, toolbox.attr_item, 1)\n",
    "toolbox.register(\"population1Bag\", tools.initRepeat, list, toolbox.individual1Bag)"
   ]
  },
  {
   "cell_type": "code",
   "execution_count": 69,
   "metadata": {
    "collapsed": true
   },
   "outputs": [],
   "source": [
    "def evaluar1Mochila(individual):\n",
    "    peso = 0.0\n",
    "    valor = 0.0\n",
    "    for item in individual:\n",
    "        valor += items[item][1]\n",
    "        peso += items[item][0]\n",
    "    if len(individual) > MAX_ITEM or peso > MAX_WEIGHT[0]:\n",
    "        return 10000, 0             \n",
    "    return peso, valor"
   ]
  },
  {
   "cell_type": "code",
   "execution_count": 70,
   "metadata": {
    "collapsed": true
   },
   "outputs": [],
   "source": [
    "def mutSet1Bag(individual):\n",
    "    \"\"\"Mutation that pops or add an element.\"\"\"\n",
    "    if random.random() < 0.5:\n",
    "        if len(individual) > 0:     # We cannot pop from an empty set\n",
    "            individual.remove(random.choice(sorted(tuple(individual))))\n",
    "    else:\n",
    "        individual.add(random.randrange(MAX_ITEM))\n",
    "    return individual,"
   ]
  },
  {
   "cell_type": "code",
   "execution_count": 71,
   "metadata": {
    "collapsed": true
   },
   "outputs": [],
   "source": [
    "def cxSet1Bag(ind1, ind2):\n",
    "    \"\"\"Apply a crossover operation on input sets. The first child is the\n",
    "    intersection of the two sets, the second child is the difference of the\n",
    "    two sets.\n",
    "    \"\"\"\n",
    "    temp = set(ind1)                # Used in order to keep type\n",
    "    ind1 &= ind2                    # Intersection (inplace)\n",
    "    ind2 ^= temp                    # Symmetric Difference (inplace)\n",
    "    return ind1, ind2"
   ]
  },
  {
   "cell_type": "code",
   "execution_count": 72,
   "metadata": {
    "collapsed": true
   },
   "outputs": [],
   "source": [
    "toolbox.register(\"evaluate\", evaluar1Mochila)\n",
    "toolbox.register(\"mate\", cxSet1Bag)\n",
    "toolbox.register(\"mutate\", mutSet1Bag)\n",
    "toolbox.register(\"select\", tools.selNSGA2)"
   ]
  },
  {
   "cell_type": "code",
   "execution_count": 46,
   "metadata": {
    "collapsed": true
   },
   "outputs": [],
   "source": [
    "def vida1Mochila():\n",
    "    NGEN = 0\n",
    "    MU = 100\n",
    "    LAMBDA = 100\n",
    "    CXPB = 0.7\n",
    "    MUTPB = 0.2\n",
    "    \n",
    "    pop = toolbox.population1Bag(n=MU)\n",
    "    hof = tools.ParetoFront()\n",
    "    stats = tools.Statistics(lambda ind: ind.fitness.values)\n",
    "    stats.register(\"avg\", np.mean, axis=0)\n",
    "    stats.register(\"max\", np.max, axis=0)    \n",
    "    algorithms.eaMuPlusLambda(pop, toolbox, MU, LAMBDA, CXPB, MUTPB, NGEN, stats,\n",
    "                              halloffame=hof)\n",
    "    \n",
    "    return pop, stats, hof"
   ]
  },
  {
   "cell_type": "code",
   "execution_count": 47,
   "metadata": {
    "collapsed": false,
    "scrolled": false
   },
   "outputs": [
    {
     "ename": "AttributeError",
     "evalue": "'Toolbox' object has no attribute 'population1Bag'",
     "output_type": "error",
     "traceback": [
      "\u001b[0;31m---------------------------------------------------------------------------\u001b[0m",
      "\u001b[0;31mAttributeError\u001b[0m                            Traceback (most recent call last)",
      "\u001b[0;32m<ipython-input-47-60006b6a8352>\u001b[0m in \u001b[0;36m<module>\u001b[0;34m()\u001b[0m\n\u001b[0;32m----> 1\u001b[0;31m \u001b[0mp\u001b[0m\u001b[0;34m,\u001b[0m \u001b[0ms\u001b[0m\u001b[0;34m,\u001b[0m \u001b[0mh\u001b[0m \u001b[0;34m=\u001b[0m \u001b[0mvida1Mochila\u001b[0m\u001b[0;34m(\u001b[0m\u001b[0;34m)\u001b[0m\u001b[0;34m\u001b[0m\u001b[0m\n\u001b[0m\u001b[1;32m      2\u001b[0m \u001b[0mprint\u001b[0m\u001b[0;34m(\u001b[0m\u001b[0mh\u001b[0m\u001b[0;34m)\u001b[0m\u001b[0;34m\u001b[0m\u001b[0m\n",
      "\u001b[0;32m<ipython-input-46-17eee56198e8>\u001b[0m in \u001b[0;36mvida1Mochila\u001b[0;34m()\u001b[0m\n\u001b[1;32m      6\u001b[0m     \u001b[0mMUTPB\u001b[0m \u001b[0;34m=\u001b[0m \u001b[0;36m0.2\u001b[0m\u001b[0;34m\u001b[0m\u001b[0m\n\u001b[1;32m      7\u001b[0m \u001b[0;34m\u001b[0m\u001b[0m\n\u001b[0;32m----> 8\u001b[0;31m     \u001b[0mpop\u001b[0m \u001b[0;34m=\u001b[0m \u001b[0mtoolbox\u001b[0m\u001b[0;34m.\u001b[0m\u001b[0mpopulation1Bag\u001b[0m\u001b[0;34m(\u001b[0m\u001b[0mn\u001b[0m\u001b[0;34m=\u001b[0m\u001b[0mMU\u001b[0m\u001b[0;34m)\u001b[0m\u001b[0;34m\u001b[0m\u001b[0m\n\u001b[0m\u001b[1;32m      9\u001b[0m     \u001b[0mhof\u001b[0m \u001b[0;34m=\u001b[0m \u001b[0mtools\u001b[0m\u001b[0;34m.\u001b[0m\u001b[0mParetoFront\u001b[0m\u001b[0;34m(\u001b[0m\u001b[0;34m)\u001b[0m\u001b[0;34m\u001b[0m\u001b[0m\n\u001b[1;32m     10\u001b[0m     \u001b[0mstats\u001b[0m \u001b[0;34m=\u001b[0m \u001b[0mtools\u001b[0m\u001b[0;34m.\u001b[0m\u001b[0mStatistics\u001b[0m\u001b[0;34m(\u001b[0m\u001b[0;32mlambda\u001b[0m \u001b[0mind\u001b[0m\u001b[0;34m:\u001b[0m \u001b[0mind\u001b[0m\u001b[0;34m.\u001b[0m\u001b[0mfitness\u001b[0m\u001b[0;34m.\u001b[0m\u001b[0mvalues\u001b[0m\u001b[0;34m)\u001b[0m\u001b[0;34m\u001b[0m\u001b[0m\n",
      "\u001b[0;31mAttributeError\u001b[0m: 'Toolbox' object has no attribute 'population1Bag'"
     ]
    }
   ],
   "source": [
    "p, s, h = vida1Mochila()\n",
    "print(h)"
   ]
  },
  {
   "cell_type": "markdown",
   "metadata": {},
   "source": [
    "# Para 2 mochilas"
   ]
  },
  {
   "cell_type": "code",
   "execution_count": 215,
   "metadata": {
    "collapsed": true
   },
   "outputs": [],
   "source": [
    "creator.create(\"Fitness\", base.Fitness, weights=(-1.0, 1.0))\n",
    "creator.create(\"Individual\", list, fitness=creator.Fitness)"
   ]
  },
  {
   "cell_type": "code",
   "execution_count": 216,
   "metadata": {
    "collapsed": false,
    "scrolled": false
   },
   "outputs": [
    {
     "data": {
      "text/plain": [
       "{0: (9.0, 780),\n",
       " 1: (4.5, 350),\n",
       " 2: (11.5, 890),\n",
       " 3: (10.0, 360),\n",
       " 4: (29.5, 940),\n",
       " 5: (30.5, 750),\n",
       " 6: (35.0, 740),\n",
       " 7: (37.5, 790),\n",
       " 8: (38.0, 800),\n",
       " 9: (15.0, 160)}"
      ]
     },
     "execution_count": 216,
     "metadata": {},
     "output_type": "execute_result"
    }
   ],
   "source": [
    "items"
   ]
  },
  {
   "cell_type": "code",
   "execution_count": 217,
   "metadata": {
    "collapsed": true
   },
   "outputs": [],
   "source": [
    "def crearMochila():\n",
    "    return {random.randrange(MAX_ITEM)}    "
   ]
  },
  {
   "cell_type": "code",
   "execution_count": 218,
   "metadata": {
    "collapsed": true
   },
   "outputs": [],
   "source": [
    "toolbox = base.Toolbox()\n",
    "toolbox.register(\"individual\", tools.initRepeat, creator.Individual, crearMochila, 2)\n",
    "toolbox.register(\"population\", tools.initRepeat, list, toolbox.individual)"
   ]
  },
  {
   "cell_type": "code",
   "execution_count": 219,
   "metadata": {
    "collapsed": false
   },
   "outputs": [],
   "source": [
    "def eval2Knapsack(individual):\n",
    "    peso = 0.0\n",
    "    valor = 0.0\n",
    "    for i in range(2):\n",
    "        for item in individual[i]:\n",
    "            valor += items[item][1]\n",
    "            peso += items[item][0]\n",
    "        if len(individual[i]) > MAX_ITEM or peso > MAX_WEIGHT[i]:\n",
    "            return 10000, -10000             # Asegurar que no haya sobrepeso\n",
    "    if individual[0] != {} and individual[1] != {}:\n",
    "        if individual[0].intersection(individual[1]) != set(): \n",
    "            return 10000, -100000  # Asegurar items no repetidos\n",
    "    elif individual[0] == set() and individual[1] == set():\n",
    "            return 10000, -100000  # No me queiro ir con las mochilas vacias\n",
    "    return peso, valor"
   ]
  },
  {
   "cell_type": "code",
   "execution_count": 220,
   "metadata": {
    "collapsed": false
   },
   "outputs": [
    {
     "data": {
      "text/plain": [
       "(64.5, 3320.0)"
      ]
     },
     "execution_count": 220,
     "metadata": {},
     "output_type": "execute_result"
    }
   ],
   "source": [
    "a = [{0,2,3},{1,4}]\n",
    "eval2Knapsack(a)"
   ]
  },
  {
   "cell_type": "code",
   "execution_count": 221,
   "metadata": {
    "collapsed": true
   },
   "outputs": [],
   "source": [
    "def mutSet2Bags(individual):\n",
    "    \"\"\"Mutation that pops or add an element.\"\"\"\n",
    "    for i in range(2):\n",
    "        if random.random() < 0.5:\n",
    "            if len(individual[i]) > 0:     \n",
    "                individual[i].remove(random.choice(sorted(tuple(individual[i]))))\n",
    "        else:\n",
    "            individual[i].add(random.randrange(MAX_ITEM))\n",
    "    return individual,"
   ]
  },
  {
   "cell_type": "code",
   "execution_count": 222,
   "metadata": {
    "collapsed": true
   },
   "outputs": [],
   "source": [
    "def cxSet2Bags(ind1, ind2):\n",
    "    \"\"\"Apply a crossover operation on input sets. The first child is the\n",
    "    intersection of the two sets, the second child is the difference of the\n",
    "    two sets.\n",
    "    \"\"\"\n",
    "    for i in range(2):\n",
    "        temp = set(ind1[i])                # Used in order to keep type\n",
    "        ind1[i] &= ind2[i]                    # Intersection (inplace)\n",
    "        ind2[i] ^= temp                    # Symmetric Difference (inplace)\n",
    "    return ind1, ind2"
   ]
  },
  {
   "cell_type": "code",
   "execution_count": 223,
   "metadata": {
    "collapsed": true
   },
   "outputs": [],
   "source": [
    "toolbox.register(\"evaluate\", eval2Knapsack)\n",
    "toolbox.register(\"mate\", cxSet2Bags)\n",
    "toolbox.register(\"mutate\", mutSet2Bags)\n",
    "toolbox.register(\"select\", tools.selNSGA2)"
   ]
  },
  {
   "cell_type": "code",
   "execution_count": 290,
   "metadata": {
    "collapsed": true
   },
   "outputs": [],
   "source": [
    "def main():\n",
    "    GENERACIONES = 20\n",
    "    POBLACION = 10\n",
    "    LAMBDA = 80\n",
    "    CXPB = 0.7\n",
    "    MUTPB = 0.3\n",
    "    \n",
    "    pop = toolbox.population(n=POBLACION)\n",
    "    hof = tools.HallOfFame(10)\n",
    "    stats = tools.Statistics(lambda ind: ind.fitness.values)\n",
    "    stats.register(\"avg\", np.mean, axis=0)\n",
    "    stats.register(\"max\", np.max, axis=0)    \n",
    "    algorithms.eaMuPlusLambda(pop, toolbox, POBLACION, LAMBDA, CXPB, MUTPB, GENERACIONES, stats,\n",
    "                              halloffame=hof)\n",
    "    \n",
    "    return pop, stats, hof"
   ]
  },
  {
   "cell_type": "code",
   "execution_count": 296,
   "metadata": {
    "collapsed": false,
    "scrolled": false
   },
   "outputs": [
    {
     "name": "stdout",
     "output_type": "stream",
     "text": [
      "gen\tnevals\tavg              \tmax              \n",
      "0  \t10    \t[   45.3  1275. ]\t[   72.5  1680. ]\n",
      "1  \t80    \t[   25.9  1040. ]\t[   75.5  1850. ]\n",
      "2  \t80    \t[   18.5  1013. ]\t[   51.  2190.]  \n",
      "3  \t80    \t[   30.35  1572.  ]\t[   73.5  2820. ]\n",
      "4  \t80    \t[   24.4  1367. ]  \t[   73.5  2820. ]\n",
      "5  \t80    \t[   27.05  1599.  ]\t[   54.5  2960. ]\n",
      "6  \t80    \t[   31.65  1796.  ]\t[   64.5  3320. ]\n",
      "7  \t80    \t[   29.8  1847. ]  \t[   64.5  3320. ]\n",
      "8  \t80    \t[   35.35  2101.  ]\t[   64.5  3320. ]\n",
      "9  \t80    \t[   33.55  1953.  ]\t[   64.5  3320. ]\n",
      "10 \t80    \t[   31.4  1828. ]  \t[   64.5  3320. ]\n",
      "11 \t80    \t[   30.6  1859. ]  \t[   64.5  3320. ]\n",
      "12 \t80    \t[   30.95  1793.  ]\t[   64.5  3320. ]\n",
      "13 \t80    \t[   29.35  1812.  ]\t[   64.5  3320. ]\n",
      "14 \t80    \t[   24.25  1442.  ]\t[   64.5  3320. ]\n",
      "15 \t80    \t[   28.2  1723. ]  \t[   64.5  3320. ]\n",
      "16 \t80    \t[   25.7  1521. ]  \t[   64.5  3320. ]\n",
      "17 \t80    \t[   34.45  2039.  ]\t[   64.5  3320. ]\n",
      "18 \t80    \t[   34.45  2039.  ]\t[   64.5  3320. ]\n",
      "19 \t80    \t[   29.35  1812.  ]\t[   64.5  3320. ]\n",
      "20 \t80    \t[   33.45  1987.  ]\t[   64.5  3320. ]\n",
      "\n",
      "MEJOR:\n",
      "Mochila 1:  {1}       Mochila 2: {0, 2, 3, 4} \n",
      "   Peso y Valor:  (64.5, 3320.0)\n"
     ]
    }
   ],
   "source": [
    "pop, log, hof = main()\n",
    "x = [{},{}]\n",
    "while len(pop) > 0:\n",
    "    aux=pop.pop()\n",
    "    if aux[0] != set() and aux[1] != set():\n",
    "        if eval2Knapsack(aux) > eval2Knapsack(x):\n",
    "            x = aux\n",
    "print(\"\\nMEJOR:\\nMochila 1: \", x[0], \"      Mochila 2:\", x[1], \"\\n   Peso y Valor: \", eval2Knapsack(x))"
   ]
  },
  {
   "cell_type": "code",
   "execution_count": 278,
   "metadata": {
    "collapsed": true
   },
   "outputs": [],
   "source": [
    "mejormejor = [{1, 2},{0,3,4}]"
   ]
  },
  {
   "cell_type": "code",
   "execution_count": 279,
   "metadata": {
    "collapsed": false
   },
   "outputs": [
    {
     "data": {
      "text/plain": [
       "(64.5, 3320.0)"
      ]
     },
     "execution_count": 279,
     "metadata": {},
     "output_type": "execute_result"
    }
   ],
   "source": [
    "eval2Knapsack(mejormejor)"
   ]
  },
  {
   "cell_type": "code",
   "execution_count": 280,
   "metadata": {
    "collapsed": false
   },
   "outputs": [
    {
     "data": {
      "text/plain": [
       "True"
      ]
     },
     "execution_count": 280,
     "metadata": {},
     "output_type": "execute_result"
    }
   ],
   "source": [
    "eval2Knapsack(mejormejor) > eval2Knapsack([{},{}])"
   ]
  },
  {
   "cell_type": "code",
   "execution_count": null,
   "metadata": {
    "collapsed": true
   },
   "outputs": [],
   "source": []
  }
 ],
 "metadata": {
  "kernelspec": {
   "display_name": "Python 3",
   "language": "python",
   "name": "python3"
  },
  "language_info": {
   "codemirror_mode": {
    "name": "ipython",
    "version": 3
   },
   "file_extension": ".py",
   "mimetype": "text/x-python",
   "name": "python",
   "nbconvert_exporter": "python",
   "pygments_lexer": "ipython3",
   "version": "3.4.3"
  }
 },
 "nbformat": 4,
 "nbformat_minor": 0
}
